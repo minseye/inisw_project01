{
  "nbformat": 4,
  "nbformat_minor": 0,
  "metadata": {
    "colab": {
      "provenance": [],
      "gpuType": "T4",
      "machine_shape": "hm",
      "include_colab_link": true
    },
    "kernelspec": {
      "name": "python3",
      "display_name": "Python 3"
    },
    "language_info": {
      "name": "python"
    },
    "accelerator": "TPU",
    "gpuClass": "standard"
  },
  "cells": [
    {
      "cell_type": "markdown",
      "metadata": {
        "id": "view-in-github",
        "colab_type": "text"
      },
      "source": [
        "<a href=\"https://colab.research.google.com/github/minseye/inisw_project01/blob/main/vid2seq_training_test.ipynb\" target=\"_parent\"><img src=\"https://colab.research.google.com/assets/colab-badge.svg\" alt=\"Open In Colab\"/></a>"
      ]
    },
    {
      "cell_type": "markdown",
      "source": [],
      "metadata": {
        "id": "DpxNE1yVwwQF"
      }
    },
    {
      "cell_type": "code",
      "source": [
        "from google.colab import drive\n",
        "drive.mount('/content/drive')"
      ],
      "metadata": {
        "colab": {
          "base_uri": "https://localhost:8080/"
        },
        "id": "jxeg8Rfa6Zfz",
        "outputId": "9c39754d-f430-4b5e-8b69-0957d9d25ee8"
      },
      "execution_count": 1,
      "outputs": [
        {
          "output_type": "stream",
          "name": "stdout",
          "text": [
            "Mounted at /content/drive\n"
          ]
        }
      ]
    },
    {
      "cell_type": "code",
      "source": [
        "!pwd"
      ],
      "metadata": {
        "colab": {
          "base_uri": "https://localhost:8080/"
        },
        "id": "byGQ2nT46Wb_",
        "outputId": "15e47c6c-24aa-4ef1-8443-f2346b5e72e2"
      },
      "execution_count": 2,
      "outputs": [
        {
          "output_type": "stream",
          "name": "stdout",
          "text": [
            "/content\n"
          ]
        }
      ]
    },
    {
      "cell_type": "code",
      "source": [
        "cd ./drive/MyDrive/scenic"
      ],
      "metadata": {
        "colab": {
          "base_uri": "https://localhost:8080/"
        },
        "id": "MSYPTuwTrEJq",
        "outputId": "14ff7f2e-cd71-44c3-dae2-90a954c2468e"
      },
      "execution_count": 3,
      "outputs": [
        {
          "output_type": "stream",
          "name": "stdout",
          "text": [
            "/content/drive/MyDrive/scenic\n"
          ]
        }
      ]
    },
    {
      "cell_type": "code",
      "source": [
        "!pip install ."
      ],
      "metadata": {
        "colab": {
          "base_uri": "https://localhost:8080/",
          "height": 1000
        },
        "id": "D3CCE3sF-fgI",
        "outputId": "26047dad-44ee-4680-81a8-c59b7f847c58"
      },
      "execution_count": 4,
      "outputs": [
        {
          "output_type": "stream",
          "name": "stdout",
          "text": [
            "Looking in indexes: https://pypi.org/simple, https://us-python.pkg.dev/colab-wheels/public/simple/\n",
            "Processing /content/drive/MyDrive/scenic\n",
            "  Preparing metadata (setup.py) ... \u001b[?25l\u001b[?25hdone\n",
            "Collecting optax@ git+https://github.com/deepmind/optax.git@master (from scenic==0.0.1)\n",
            "  Cloning https://github.com/deepmind/optax.git (to revision master) to /tmp/pip-install-3ck0egsu/optax_4c665c9d9d224df6ab580d8c5a7a2bce\n",
            "  Running command git clone --filter=blob:none --quiet https://github.com/deepmind/optax.git /tmp/pip-install-3ck0egsu/optax_4c665c9d9d224df6ab580d8c5a7a2bce\n",
            "  Resolved https://github.com/deepmind/optax.git to commit 7155cf2f452cd4ccdd4ae21f33bd879360f8acc8\n",
            "  Installing build dependencies ... \u001b[?25l\u001b[?25hdone\n",
            "  Getting requirements to build wheel ... \u001b[?25l\u001b[?25hdone\n",
            "  Preparing metadata (pyproject.toml) ... \u001b[?25l\u001b[?25hdone\n",
            "Requirement already satisfied: absl-py>=1.0.0 in /usr/local/lib/python3.10/dist-packages (from scenic==0.0.1) (1.4.0)\n",
            "Requirement already satisfied: numpy>=1.12 in /usr/local/lib/python3.10/dist-packages (from scenic==0.0.1) (1.24.3)\n",
            "Collecting jax>=0.4.3 (from scenic==0.0.1)\n",
            "  Downloading jax-0.4.10.tar.gz (1.3 MB)\n",
            "\u001b[2K     \u001b[90m━━━━━━━━━━━━━━━━━━━━━━━━━━━━━━━━━━━━━━━━\u001b[0m \u001b[32m1.3/1.3 MB\u001b[0m \u001b[31m20.3 MB/s\u001b[0m eta \u001b[36m0:00:00\u001b[0m\n",
            "\u001b[?25h  Installing build dependencies ... \u001b[?25l\u001b[?25hdone\n",
            "  Getting requirements to build wheel ... \u001b[?25l\u001b[?25hdone\n",
            "  Preparing metadata (pyproject.toml) ... \u001b[?25l\u001b[?25hdone\n",
            "Collecting jaxlib>=0.4.3 (from scenic==0.0.1)\n",
            "  Downloading jaxlib-0.4.10-cp310-cp310-manylinux2014_x86_64.whl (69.9 MB)\n",
            "\u001b[2K     \u001b[90m━━━━━━━━━━━━━━━━━━━━━━━━━━━━━━━━━━━━━━━━\u001b[0m \u001b[32m69.9/69.9 MB\u001b[0m \u001b[31m26.9 MB/s\u001b[0m eta \u001b[36m0:00:00\u001b[0m\n",
            "\u001b[?25hRequirement already satisfied: flax>=0.4.0 in /usr/local/lib/python3.10/dist-packages (from scenic==0.0.1) (0.6.9)\n",
            "Collecting ml-collections>=0.1.1 (from scenic==0.0.1)\n",
            "  Downloading ml_collections-0.1.1.tar.gz (77 kB)\n",
            "\u001b[2K     \u001b[90m━━━━━━━━━━━━━━━━━━━━━━━━━━━━━━━━━━━━━━━━\u001b[0m \u001b[32m77.9/77.9 kB\u001b[0m \u001b[31m11.2 MB/s\u001b[0m eta \u001b[36m0:00:00\u001b[0m\n",
            "\u001b[?25h  Preparing metadata (setup.py) ... \u001b[?25l\u001b[?25hdone\n",
            "Requirement already satisfied: tensorflow>=2.7 in /usr/local/lib/python3.10/dist-packages (from scenic==0.0.1) (2.12.0)\n",
            "Collecting tensorflow-addons>=0.15.0 (from scenic==0.0.1)\n",
            "  Downloading tensorflow_addons-0.20.0-cp310-cp310-manylinux_2_17_x86_64.manylinux2014_x86_64.whl (591 kB)\n",
            "\u001b[2K     \u001b[90m━━━━━━━━━━━━━━━━━━━━━━━━━━━━━━━━━━━━━━\u001b[0m \u001b[32m591.0/591.0 kB\u001b[0m \u001b[31m56.3 MB/s\u001b[0m eta \u001b[36m0:00:00\u001b[0m\n",
            "\u001b[?25hCollecting immutabledict>=2.2.1 (from scenic==0.0.1)\n",
            "  Downloading immutabledict-2.2.4-py3-none-any.whl (4.1 kB)\n",
            "Collecting clu>=0.0.6 (from scenic==0.0.1)\n",
            "  Downloading clu-0.0.9-py3-none-any.whl (98 kB)\n",
            "\u001b[2K     \u001b[90m━━━━━━━━━━━━━━━━━━━━━━━━━━━━━━━━━━━━━━━━\u001b[0m \u001b[32m98.2/98.2 kB\u001b[0m \u001b[31m14.0 MB/s\u001b[0m eta \u001b[36m0:00:00\u001b[0m\n",
            "\u001b[?25hRequirement already satisfied: tensorflow-datasets in /usr/local/lib/python3.10/dist-packages (from scenic==0.0.1) (4.9.2)\n",
            "Requirement already satisfied: etils[epath] in /usr/local/lib/python3.10/dist-packages (from clu>=0.0.6->scenic==0.0.1) (1.2.0)\n",
            "Requirement already satisfied: packaging in /usr/local/lib/python3.10/dist-packages (from clu>=0.0.6->scenic==0.0.1) (23.1)\n",
            "Requirement already satisfied: typing-extensions in /usr/local/lib/python3.10/dist-packages (from clu>=0.0.6->scenic==0.0.1) (4.6.0)\n",
            "Requirement already satisfied: wrapt in /usr/local/lib/python3.10/dist-packages (from clu>=0.0.6->scenic==0.0.1) (1.14.1)\n",
            "Requirement already satisfied: msgpack in /usr/local/lib/python3.10/dist-packages (from flax>=0.4.0->scenic==0.0.1) (1.0.5)\n",
            "Requirement already satisfied: orbax-checkpoint in /usr/local/lib/python3.10/dist-packages (from flax>=0.4.0->scenic==0.0.1) (0.2.1)\n",
            "Requirement already satisfied: tensorstore in /usr/local/lib/python3.10/dist-packages (from flax>=0.4.0->scenic==0.0.1) (0.1.36)\n",
            "Requirement already satisfied: rich>=11.1 in /usr/local/lib/python3.10/dist-packages (from flax>=0.4.0->scenic==0.0.1) (13.3.4)\n",
            "Requirement already satisfied: PyYAML>=5.4.1 in /usr/local/lib/python3.10/dist-packages (from flax>=0.4.0->scenic==0.0.1) (6.0)\n",
            "Requirement already satisfied: ml-dtypes>=0.1.0 in /usr/local/lib/python3.10/dist-packages (from jax>=0.4.3->scenic==0.0.1) (0.1.0)\n",
            "Requirement already satisfied: opt-einsum in /usr/local/lib/python3.10/dist-packages (from jax>=0.4.3->scenic==0.0.1) (3.3.0)\n",
            "Requirement already satisfied: scipy>=1.7 in /usr/local/lib/python3.10/dist-packages (from jax>=0.4.3->scenic==0.0.1) (1.10.1)\n",
            "Requirement already satisfied: six in /usr/local/lib/python3.10/dist-packages (from ml-collections>=0.1.1->scenic==0.0.1) (1.16.0)\n",
            "Requirement already satisfied: contextlib2 in /usr/local/lib/python3.10/dist-packages (from ml-collections>=0.1.1->scenic==0.0.1) (0.6.0.post1)\n",
            "Requirement already satisfied: astunparse>=1.6.0 in /usr/local/lib/python3.10/dist-packages (from tensorflow>=2.7->scenic==0.0.1) (1.6.3)\n",
            "Requirement already satisfied: flatbuffers>=2.0 in /usr/local/lib/python3.10/dist-packages (from tensorflow>=2.7->scenic==0.0.1) (23.3.3)\n",
            "Requirement already satisfied: gast<=0.4.0,>=0.2.1 in /usr/local/lib/python3.10/dist-packages (from tensorflow>=2.7->scenic==0.0.1) (0.4.0)\n",
            "Requirement already satisfied: google-pasta>=0.1.1 in /usr/local/lib/python3.10/dist-packages (from tensorflow>=2.7->scenic==0.0.1) (0.2.0)\n",
            "Requirement already satisfied: grpcio<2.0,>=1.24.3 in /usr/local/lib/python3.10/dist-packages (from tensorflow>=2.7->scenic==0.0.1) (1.54.0)\n",
            "Requirement already satisfied: h5py>=2.9.0 in /usr/local/lib/python3.10/dist-packages (from tensorflow>=2.7->scenic==0.0.1) (3.8.0)\n",
            "Requirement already satisfied: keras<2.13,>=2.12.0 in /usr/local/lib/python3.10/dist-packages (from tensorflow>=2.7->scenic==0.0.1) (2.12.0)\n",
            "Requirement already satisfied: libclang>=13.0.0 in /usr/local/lib/python3.10/dist-packages (from tensorflow>=2.7->scenic==0.0.1) (16.0.0)\n",
            "Collecting numpy>=1.12 (from scenic==0.0.1)\n",
            "  Downloading numpy-1.23.5-cp310-cp310-manylinux_2_17_x86_64.manylinux2014_x86_64.whl (17.1 MB)\n",
            "\u001b[2K     \u001b[90m━━━━━━━━━━━━━━━━━━━━━━━━━━━━━━━━━━━━━━━━\u001b[0m \u001b[32m17.1/17.1 MB\u001b[0m \u001b[31m93.4 MB/s\u001b[0m eta \u001b[36m0:00:00\u001b[0m\n",
            "\u001b[?25hRequirement already satisfied: protobuf!=4.21.0,!=4.21.1,!=4.21.2,!=4.21.3,!=4.21.4,!=4.21.5,<5.0.0dev,>=3.20.3 in /usr/local/lib/python3.10/dist-packages (from tensorflow>=2.7->scenic==0.0.1) (3.20.3)\n",
            "Requirement already satisfied: setuptools in /usr/local/lib/python3.10/dist-packages (from tensorflow>=2.7->scenic==0.0.1) (67.7.2)\n",
            "Requirement already satisfied: tensorboard<2.13,>=2.12 in /usr/local/lib/python3.10/dist-packages (from tensorflow>=2.7->scenic==0.0.1) (2.12.2)\n",
            "Requirement already satisfied: tensorflow-estimator<2.13,>=2.12.0 in /usr/local/lib/python3.10/dist-packages (from tensorflow>=2.7->scenic==0.0.1) (2.12.0)\n",
            "Requirement already satisfied: termcolor>=1.1.0 in /usr/local/lib/python3.10/dist-packages (from tensorflow>=2.7->scenic==0.0.1) (2.3.0)\n",
            "Requirement already satisfied: tensorflow-io-gcs-filesystem>=0.23.1 in /usr/local/lib/python3.10/dist-packages (from tensorflow>=2.7->scenic==0.0.1) (0.32.0)\n",
            "Collecting typeguard<3.0.0,>=2.7 (from tensorflow-addons>=0.15.0->scenic==0.0.1)\n",
            "  Downloading typeguard-2.13.3-py3-none-any.whl (17 kB)\n",
            "Requirement already satisfied: chex>=0.1.5 in /usr/local/lib/python3.10/dist-packages (from optax@ git+https://github.com/deepmind/optax.git@master->scenic==0.0.1) (0.1.7)\n",
            "Requirement already satisfied: array-record in /usr/local/lib/python3.10/dist-packages (from tensorflow-datasets->scenic==0.0.1) (0.2.0)\n",
            "Requirement already satisfied: click in /usr/local/lib/python3.10/dist-packages (from tensorflow-datasets->scenic==0.0.1) (8.1.3)\n",
            "Requirement already satisfied: dm-tree in /usr/local/lib/python3.10/dist-packages (from tensorflow-datasets->scenic==0.0.1) (0.1.8)\n",
            "Requirement already satisfied: promise in /usr/local/lib/python3.10/dist-packages (from tensorflow-datasets->scenic==0.0.1) (2.3)\n",
            "Requirement already satisfied: psutil in /usr/local/lib/python3.10/dist-packages (from tensorflow-datasets->scenic==0.0.1) (5.9.5)\n",
            "Requirement already satisfied: requests>=2.19.0 in /usr/local/lib/python3.10/dist-packages (from tensorflow-datasets->scenic==0.0.1) (2.27.1)\n",
            "Requirement already satisfied: tensorflow-metadata in /usr/local/lib/python3.10/dist-packages (from tensorflow-datasets->scenic==0.0.1) (1.13.1)\n",
            "Requirement already satisfied: toml in /usr/local/lib/python3.10/dist-packages (from tensorflow-datasets->scenic==0.0.1) (0.10.2)\n",
            "Requirement already satisfied: tqdm in /usr/local/lib/python3.10/dist-packages (from tensorflow-datasets->scenic==0.0.1) (4.65.0)\n",
            "Requirement already satisfied: wheel<1.0,>=0.23.0 in /usr/local/lib/python3.10/dist-packages (from astunparse>=1.6.0->tensorflow>=2.7->scenic==0.0.1) (0.40.0)\n",
            "Requirement already satisfied: toolz>=0.9.0 in /usr/local/lib/python3.10/dist-packages (from chex>=0.1.5->optax@ git+https://github.com/deepmind/optax.git@master->scenic==0.0.1) (0.12.0)\n",
            "Requirement already satisfied: importlib_resources in /usr/local/lib/python3.10/dist-packages (from etils[epath]->clu>=0.0.6->scenic==0.0.1) (5.12.0)\n",
            "Requirement already satisfied: zipp in /usr/local/lib/python3.10/dist-packages (from etils[epath]->clu>=0.0.6->scenic==0.0.1) (3.15.0)\n",
            "Requirement already satisfied: urllib3<1.27,>=1.21.1 in /usr/local/lib/python3.10/dist-packages (from requests>=2.19.0->tensorflow-datasets->scenic==0.0.1) (1.26.15)\n",
            "Requirement already satisfied: certifi>=2017.4.17 in /usr/local/lib/python3.10/dist-packages (from requests>=2.19.0->tensorflow-datasets->scenic==0.0.1) (2022.12.7)\n",
            "Requirement already satisfied: charset-normalizer~=2.0.0 in /usr/local/lib/python3.10/dist-packages (from requests>=2.19.0->tensorflow-datasets->scenic==0.0.1) (2.0.12)\n",
            "Requirement already satisfied: idna<4,>=2.5 in /usr/local/lib/python3.10/dist-packages (from requests>=2.19.0->tensorflow-datasets->scenic==0.0.1) (3.4)\n",
            "Requirement already satisfied: markdown-it-py<3.0.0,>=2.2.0 in /usr/local/lib/python3.10/dist-packages (from rich>=11.1->flax>=0.4.0->scenic==0.0.1) (2.2.0)\n",
            "Requirement already satisfied: pygments<3.0.0,>=2.13.0 in /usr/local/lib/python3.10/dist-packages (from rich>=11.1->flax>=0.4.0->scenic==0.0.1) (2.14.0)\n",
            "Requirement already satisfied: google-auth<3,>=1.6.3 in /usr/local/lib/python3.10/dist-packages (from tensorboard<2.13,>=2.12->tensorflow>=2.7->scenic==0.0.1) (2.17.3)\n",
            "Requirement already satisfied: google-auth-oauthlib<1.1,>=0.5 in /usr/local/lib/python3.10/dist-packages (from tensorboard<2.13,>=2.12->tensorflow>=2.7->scenic==0.0.1) (1.0.0)\n",
            "Requirement already satisfied: markdown>=2.6.8 in /usr/local/lib/python3.10/dist-packages (from tensorboard<2.13,>=2.12->tensorflow>=2.7->scenic==0.0.1) (3.4.3)\n",
            "Requirement already satisfied: tensorboard-data-server<0.8.0,>=0.7.0 in /usr/local/lib/python3.10/dist-packages (from tensorboard<2.13,>=2.12->tensorflow>=2.7->scenic==0.0.1) (0.7.0)\n",
            "Requirement already satisfied: tensorboard-plugin-wit>=1.6.0 in /usr/local/lib/python3.10/dist-packages (from tensorboard<2.13,>=2.12->tensorflow>=2.7->scenic==0.0.1) (1.8.1)\n",
            "Requirement already satisfied: werkzeug>=1.0.1 in /usr/local/lib/python3.10/dist-packages (from tensorboard<2.13,>=2.12->tensorflow>=2.7->scenic==0.0.1) (2.3.0)\n",
            "Requirement already satisfied: cached_property in /usr/local/lib/python3.10/dist-packages (from orbax-checkpoint->flax>=0.4.0->scenic==0.0.1) (1.5.2)\n",
            "Requirement already satisfied: nest_asyncio in /usr/local/lib/python3.10/dist-packages (from orbax-checkpoint->flax>=0.4.0->scenic==0.0.1) (1.5.6)\n",
            "Requirement already satisfied: googleapis-common-protos<2,>=1.52.0 in /usr/local/lib/python3.10/dist-packages (from tensorflow-metadata->tensorflow-datasets->scenic==0.0.1) (1.59.0)\n",
            "Requirement already satisfied: cachetools<6.0,>=2.0.0 in /usr/local/lib/python3.10/dist-packages (from google-auth<3,>=1.6.3->tensorboard<2.13,>=2.12->tensorflow>=2.7->scenic==0.0.1) (5.3.0)\n",
            "Requirement already satisfied: pyasn1-modules>=0.2.1 in /usr/local/lib/python3.10/dist-packages (from google-auth<3,>=1.6.3->tensorboard<2.13,>=2.12->tensorflow>=2.7->scenic==0.0.1) (0.3.0)\n",
            "Requirement already satisfied: rsa<5,>=3.1.4 in /usr/local/lib/python3.10/dist-packages (from google-auth<3,>=1.6.3->tensorboard<2.13,>=2.12->tensorflow>=2.7->scenic==0.0.1) (4.9)\n",
            "Requirement already satisfied: requests-oauthlib>=0.7.0 in /usr/local/lib/python3.10/dist-packages (from google-auth-oauthlib<1.1,>=0.5->tensorboard<2.13,>=2.12->tensorflow>=2.7->scenic==0.0.1) (1.3.1)\n",
            "Requirement already satisfied: mdurl~=0.1 in /usr/local/lib/python3.10/dist-packages (from markdown-it-py<3.0.0,>=2.2.0->rich>=11.1->flax>=0.4.0->scenic==0.0.1) (0.1.2)\n",
            "Requirement already satisfied: MarkupSafe>=2.1.1 in /usr/local/lib/python3.10/dist-packages (from werkzeug>=1.0.1->tensorboard<2.13,>=2.12->tensorflow>=2.7->scenic==0.0.1) (2.1.2)\n",
            "Requirement already satisfied: pyasn1<0.6.0,>=0.4.6 in /usr/local/lib/python3.10/dist-packages (from pyasn1-modules>=0.2.1->google-auth<3,>=1.6.3->tensorboard<2.13,>=2.12->tensorflow>=2.7->scenic==0.0.1) (0.5.0)\n",
            "Requirement already satisfied: oauthlib>=3.0.0 in /usr/local/lib/python3.10/dist-packages (from requests-oauthlib>=0.7.0->google-auth-oauthlib<1.1,>=0.5->tensorboard<2.13,>=2.12->tensorflow>=2.7->scenic==0.0.1) (3.2.2)\n",
            "Building wheels for collected packages: scenic, jax, ml-collections\n",
            "  Building wheel for scenic (setup.py) ... \u001b[?25l\u001b[?25hdone\n",
            "  Created wheel for scenic: filename=scenic-0.0.1-py3-none-any.whl size=1123587 sha256=7a26a17db028dea8fd46b68790ebe154621461365e65a5da730d09012ad10265\n",
            "  Stored in directory: /tmp/pip-ephem-wheel-cache-rh2bbqx4/wheels/ed/ef/fa/2d548fdaa502def655c68cdb121c9ace4f9dc7d38d65ece268\n",
            "  Building wheel for jax (pyproject.toml) ... \u001b[?25l\u001b[?25hdone\n",
            "  Created wheel for jax: filename=jax-0.4.10-py3-none-any.whl size=1480503 sha256=f50e804dc06084f49a499999a385b2b23d7c481db165c73da742270cff161944\n",
            "  Stored in directory: /root/.cache/pip/wheels/2f/04/51/ebc9c5225f0a0df1e56c231c1f4c9b7afd3e024ebb492eed99\n",
            "  Building wheel for ml-collections (setup.py) ... \u001b[?25l\u001b[?25hdone\n",
            "  Created wheel for ml-collections: filename=ml_collections-0.1.1-py3-none-any.whl size=94506 sha256=8beb07c91ebd012ac83224eea035ddfb4f260bacc6a84128ededb3cec889dd1a\n",
            "  Stored in directory: /root/.cache/pip/wheels/7b/89/c9/a9b87790789e94aadcfc393c283e3ecd5ab916aed0a31be8fe\n",
            "Successfully built scenic jax ml-collections\n",
            "Installing collected packages: typeguard, numpy, ml-collections, immutabledict, tensorflow-addons, jaxlib, jax, clu, scenic\n",
            "  Attempting uninstall: numpy\n",
            "    Found existing installation: numpy 1.24.3\n",
            "    Uninstalling numpy-1.24.3:\n",
            "      Successfully uninstalled numpy-1.24.3\n",
            "  Attempting uninstall: jaxlib\n",
            "    Found existing installation: jaxlib 0.3.25\n",
            "    Uninstalling jaxlib-0.3.25:\n",
            "      Successfully uninstalled jaxlib-0.3.25\n",
            "  Attempting uninstall: jax\n",
            "    Found existing installation: jax 0.3.25\n",
            "    Uninstalling jax-0.3.25:\n",
            "      Successfully uninstalled jax-0.3.25\n",
            "Successfully installed clu-0.0.9 immutabledict-2.2.4 jax-0.4.10 jaxlib-0.4.10 ml-collections-0.1.1 numpy-1.23.5 scenic-0.0.1 tensorflow-addons-0.20.0 typeguard-2.13.3\n"
          ]
        },
        {
          "output_type": "display_data",
          "data": {
            "application/vnd.colab-display-data+json": {
              "pip_warning": {
                "packages": [
                  "numpy"
                ]
              }
            }
          },
          "metadata": {}
        }
      ]
    },
    {
      "cell_type": "code",
      "source": [
        "cd ./scenic/projects/t5/t5x"
      ],
      "metadata": {
        "colab": {
          "base_uri": "https://localhost:8080/"
        },
        "id": "8UaG_RySmkBm",
        "outputId": "4701d7c8-97f3-4beb-d113-fb7bf1fbf596"
      },
      "execution_count": 5,
      "outputs": [
        {
          "output_type": "stream",
          "name": "stdout",
          "text": [
            "/content/drive/MyDrive/scenic/scenic/projects/t5/t5x\n"
          ]
        }
      ]
    },
    {
      "cell_type": "code",
      "source": [
        "!pip install ."
      ],
      "metadata": {
        "colab": {
          "base_uri": "https://localhost:8080/"
        },
        "id": "woOIChPYmsY9",
        "outputId": "d742360c-8e65-4d22-c25a-e0c77ecd651c"
      },
      "execution_count": 6,
      "outputs": [
        {
          "output_type": "stream",
          "name": "stdout",
          "text": [
            "Looking in indexes: https://pypi.org/simple, https://us-python.pkg.dev/colab-wheels/public/simple/\n",
            "Processing /content/drive/MyDrive/scenic/scenic/projects/t5/t5x\n",
            "  Preparing metadata (setup.py) ... \u001b[?25l\u001b[?25hdone\n",
            "Collecting clu@ git+https://github.com/google/CommonLoopUtils#egg=clu (from t5x==0.0.0)\n",
            "  Cloning https://github.com/google/CommonLoopUtils to /tmp/pip-install-su9rhsv9/clu_7b458a503e5c4b7f992113f447bb5a1c\n",
            "  Running command git clone --filter=blob:none --quiet https://github.com/google/CommonLoopUtils /tmp/pip-install-su9rhsv9/clu_7b458a503e5c4b7f992113f447bb5a1c\n",
            "  Resolved https://github.com/google/CommonLoopUtils to commit 46adc8e9b5840e5a47432235c7bb351393b3025e\n",
            "  Preparing metadata (setup.py) ... \u001b[?25l\u001b[?25hdone\n",
            "Collecting flax@ git+https://github.com/google/flax#egg=flax (from t5x==0.0.0)\n",
            "  Cloning https://github.com/google/flax to /tmp/pip-install-su9rhsv9/flax_07574f37350f4bd1a541d2727d95cea1\n",
            "  Running command git clone --filter=blob:none --quiet https://github.com/google/flax /tmp/pip-install-su9rhsv9/flax_07574f37350f4bd1a541d2727d95cea1\n",
            "  Resolved https://github.com/google/flax to commit 380fef6db994b55f217df9421924a667fc829d56\n",
            "  Installing build dependencies ... \u001b[?25l\u001b[?25hdone\n",
            "  Getting requirements to build wheel ... \u001b[?25l\u001b[?25hdone\n",
            "  Installing backend dependencies ... \u001b[?25l\u001b[?25hdone\n",
            "  Preparing metadata (pyproject.toml) ... \u001b[?25l\u001b[?25hdone\n",
            "Collecting optax@ git+https://github.com/deepmind/optax#egg=optax (from t5x==0.0.0)\n",
            "  Cloning https://github.com/deepmind/optax to /tmp/pip-install-su9rhsv9/optax_1f53b21da120431f9f9983d0cd0ed368\n",
            "  Running command git clone --filter=blob:none --quiet https://github.com/deepmind/optax /tmp/pip-install-su9rhsv9/optax_1f53b21da120431f9f9983d0cd0ed368\n",
            "  Resolved https://github.com/deepmind/optax to commit 7155cf2f452cd4ccdd4ae21f33bd879360f8acc8\n",
            "  Installing build dependencies ... \u001b[?25l\u001b[?25hdone\n",
            "  Getting requirements to build wheel ... \u001b[?25l\u001b[?25hdone\n",
            "  Preparing metadata (pyproject.toml) ... \u001b[?25l\u001b[?25hdone\n",
            "Collecting seqio@ git+https://github.com/google/seqio#egg=seqio (from t5x==0.0.0)\n",
            "  Cloning https://github.com/google/seqio to /tmp/pip-install-su9rhsv9/seqio_83975ade0cc84765979843e5f1b92dc4\n",
            "  Running command git clone --filter=blob:none --quiet https://github.com/google/seqio /tmp/pip-install-su9rhsv9/seqio_83975ade0cc84765979843e5f1b92dc4\n",
            "  Resolved https://github.com/google/seqio to commit 6e76e6eb7b43f2c272c4d07911da1bde5ab5ab0b\n",
            "  Preparing metadata (setup.py) ... \u001b[?25l\u001b[?25hdone\n",
            "Requirement already satisfied: absl-py in /usr/local/lib/python3.10/dist-packages (from t5x==0.0.0) (1.4.0)\n",
            "Requirement already satisfied: cached_property in /usr/local/lib/python3.10/dist-packages (from t5x==0.0.0) (1.5.2)\n",
            "Collecting fiddle>=0.2.5 (from t5x==0.0.0)\n",
            "  Downloading fiddle-0.2.6-py3-none-any.whl (338 kB)\n",
            "\u001b[2K     \u001b[90m━━━━━━━━━━━━━━━━━━━━━━━━━━━━━━━━━━━━━━━\u001b[0m \u001b[32m338.2/338.2 kB\u001b[0m \u001b[31m7.5 MB/s\u001b[0m eta \u001b[36m0:00:00\u001b[0m\n",
            "\u001b[?25hRequirement already satisfied: gin-config in /usr/local/lib/python3.10/dist-packages (from t5x==0.0.0) (0.5.0)\n",
            "Requirement already satisfied: jax>=0.4.10 in /usr/local/lib/python3.10/dist-packages (from t5x==0.0.0) (0.4.10)\n",
            "Requirement already satisfied: jaxlib>=0.4.10 in /usr/local/lib/python3.10/dist-packages (from t5x==0.0.0) (0.4.10)\n",
            "Collecting jestimator (from t5x==0.0.0)\n",
            "  Downloading jestimator-0.3.3-py3-none-any.whl (15 kB)\n",
            "Requirement already satisfied: numpy in /usr/local/lib/python3.10/dist-packages (from t5x==0.0.0) (1.23.5)\n",
            "Requirement already satisfied: orbax-checkpoint in /usr/local/lib/python3.10/dist-packages (from t5x==0.0.0) (0.2.1)\n",
            "Collecting tensorflow-cpu (from t5x==0.0.0)\n",
            "  Downloading tensorflow_cpu-2.12.0-cp310-cp310-manylinux_2_17_x86_64.manylinux2014_x86_64.whl (231.8 MB)\n",
            "\u001b[2K     \u001b[90m━━━━━━━━━━━━━━━━━━━━━━━━━━━━━━━━━━━━━━━\u001b[0m \u001b[32m231.8/231.8 MB\u001b[0m \u001b[31m4.2 MB/s\u001b[0m eta \u001b[36m0:00:00\u001b[0m\n",
            "\u001b[?25hRequirement already satisfied: tensorstore>=0.1.20 in /usr/local/lib/python3.10/dist-packages (from t5x==0.0.0) (0.1.36)\n",
            "Requirement already satisfied: protobuf==3.20.3 in /usr/local/lib/python3.10/dist-packages (from t5x==0.0.0) (3.20.3)\n",
            "Requirement already satisfied: graphviz in /usr/local/lib/python3.10/dist-packages (from fiddle>=0.2.5->t5x==0.0.0) (0.20.1)\n",
            "Collecting libcst (from fiddle>=0.2.5->t5x==0.0.0)\n",
            "  Downloading libcst-0.4.9-cp310-cp310-manylinux_2_17_x86_64.manylinux2014_x86_64.whl (2.8 MB)\n",
            "\u001b[2K     \u001b[90m━━━━━━━━━━━━━━━━━━━━━━━━━━━━━━━━━━━━━━━━\u001b[0m \u001b[32m2.8/2.8 MB\u001b[0m \u001b[31m97.2 MB/s\u001b[0m eta \u001b[36m0:00:00\u001b[0m\n",
            "\u001b[?25hRequirement already satisfied: typing-extensions in /usr/local/lib/python3.10/dist-packages (from fiddle>=0.2.5->t5x==0.0.0) (4.6.0)\n",
            "Requirement already satisfied: ml-dtypes>=0.1.0 in /usr/local/lib/python3.10/dist-packages (from jax>=0.4.10->t5x==0.0.0) (0.1.0)\n",
            "Requirement already satisfied: opt-einsum in /usr/local/lib/python3.10/dist-packages (from jax>=0.4.10->t5x==0.0.0) (3.3.0)\n",
            "Requirement already satisfied: scipy>=1.7 in /usr/local/lib/python3.10/dist-packages (from jax>=0.4.10->t5x==0.0.0) (1.10.1)\n",
            "Requirement already satisfied: etils[epath] in /usr/local/lib/python3.10/dist-packages (from clu@ git+https://github.com/google/CommonLoopUtils#egg=clu->t5x==0.0.0) (1.2.0)\n",
            "Requirement already satisfied: ml_collections in /usr/local/lib/python3.10/dist-packages (from clu@ git+https://github.com/google/CommonLoopUtils#egg=clu->t5x==0.0.0) (0.1.1)\n",
            "Requirement already satisfied: packaging in /usr/local/lib/python3.10/dist-packages (from clu@ git+https://github.com/google/CommonLoopUtils#egg=clu->t5x==0.0.0) (23.1)\n",
            "Requirement already satisfied: wrapt in /usr/local/lib/python3.10/dist-packages (from clu@ git+https://github.com/google/CommonLoopUtils#egg=clu->t5x==0.0.0) (1.14.1)\n",
            "Requirement already satisfied: msgpack in /usr/local/lib/python3.10/dist-packages (from flax@ git+https://github.com/google/flax#egg=flax->t5x==0.0.0) (1.0.5)\n",
            "Requirement already satisfied: rich>=11.1 in /usr/local/lib/python3.10/dist-packages (from flax@ git+https://github.com/google/flax#egg=flax->t5x==0.0.0) (13.3.4)\n",
            "Requirement already satisfied: PyYAML>=5.4.1 in /usr/local/lib/python3.10/dist-packages (from flax@ git+https://github.com/google/flax#egg=flax->t5x==0.0.0) (6.0)\n",
            "Requirement already satisfied: chex>=0.1.5 in /usr/local/lib/python3.10/dist-packages (from optax@ git+https://github.com/deepmind/optax#egg=optax->t5x==0.0.0) (0.1.7)\n",
            "Requirement already satisfied: importlib_resources in /usr/local/lib/python3.10/dist-packages (from orbax-checkpoint->t5x==0.0.0) (5.12.0)\n",
            "Requirement already satisfied: nest_asyncio in /usr/local/lib/python3.10/dist-packages (from orbax-checkpoint->t5x==0.0.0) (1.5.6)\n",
            "Requirement already satisfied: editdistance in /usr/local/lib/python3.10/dist-packages (from seqio@ git+https://github.com/google/seqio#egg=seqio->t5x==0.0.0) (0.6.2)\n",
            "Collecting pyglove (from seqio@ git+https://github.com/google/seqio#egg=seqio->t5x==0.0.0)\n",
            "  Downloading pyglove-0.3.0-py3-none-any.whl (505 kB)\n",
            "\u001b[2K     \u001b[90m━━━━━━━━━━━━━━━━━━━━━━━━━━━━━━━━━━━━━━\u001b[0m \u001b[32m505.6/505.6 kB\u001b[0m \u001b[31m46.9 MB/s\u001b[0m eta \u001b[36m0:00:00\u001b[0m\n",
            "\u001b[?25hCollecting sentencepiece (from seqio@ git+https://github.com/google/seqio#egg=seqio->t5x==0.0.0)\n",
            "  Downloading sentencepiece-0.1.99-cp310-cp310-manylinux_2_17_x86_64.manylinux2014_x86_64.whl (1.3 MB)\n",
            "\u001b[2K     \u001b[90m━━━━━━━━━━━━━━━━━━━━━━━━━━━━━━━━━━━━━━━━\u001b[0m \u001b[32m1.3/1.3 MB\u001b[0m \u001b[31m73.9 MB/s\u001b[0m eta \u001b[36m0:00:00\u001b[0m\n",
            "\u001b[?25hCollecting tensorflow-text (from seqio@ git+https://github.com/google/seqio#egg=seqio->t5x==0.0.0)\n",
            "  Downloading tensorflow_text-2.12.1-cp310-cp310-manylinux_2_17_x86_64.manylinux2014_x86_64.whl (6.0 MB)\n",
            "\u001b[2K     \u001b[90m━━━━━━━━━━━━━━━━━━━━━━━━━━━━━━━━━━━━━━━━\u001b[0m \u001b[32m6.0/6.0 MB\u001b[0m \u001b[31m106.8 MB/s\u001b[0m eta \u001b[36m0:00:00\u001b[0m\n",
            "\u001b[?25hCollecting tfds-nightly (from seqio@ git+https://github.com/google/seqio#egg=seqio->t5x==0.0.0)\n",
            "  Downloading tfds_nightly-4.9.2.dev202305230044-py3-none-any.whl (5.4 MB)\n",
            "\u001b[2K     \u001b[90m━━━━━━━━━━━━━━━━━━━━━━━━━━━━━━━━━━━━━━━━\u001b[0m \u001b[32m5.4/5.4 MB\u001b[0m \u001b[31m41.7 MB/s\u001b[0m eta \u001b[36m0:00:00\u001b[0m\n",
            "\u001b[?25hRequirement already satisfied: astunparse>=1.6.0 in /usr/local/lib/python3.10/dist-packages (from tensorflow-cpu->t5x==0.0.0) (1.6.3)\n",
            "Requirement already satisfied: flatbuffers>=2.0 in /usr/local/lib/python3.10/dist-packages (from tensorflow-cpu->t5x==0.0.0) (23.3.3)\n",
            "Requirement already satisfied: gast<=0.4.0,>=0.2.1 in /usr/local/lib/python3.10/dist-packages (from tensorflow-cpu->t5x==0.0.0) (0.4.0)\n",
            "Requirement already satisfied: google-pasta>=0.1.1 in /usr/local/lib/python3.10/dist-packages (from tensorflow-cpu->t5x==0.0.0) (0.2.0)\n",
            "Requirement already satisfied: grpcio<2.0,>=1.24.3 in /usr/local/lib/python3.10/dist-packages (from tensorflow-cpu->t5x==0.0.0) (1.54.0)\n",
            "Requirement already satisfied: h5py>=2.9.0 in /usr/local/lib/python3.10/dist-packages (from tensorflow-cpu->t5x==0.0.0) (3.8.0)\n",
            "Requirement already satisfied: keras<2.13,>=2.12.0 in /usr/local/lib/python3.10/dist-packages (from tensorflow-cpu->t5x==0.0.0) (2.12.0)\n",
            "Requirement already satisfied: libclang>=13.0.0 in /usr/local/lib/python3.10/dist-packages (from tensorflow-cpu->t5x==0.0.0) (16.0.0)\n",
            "Requirement already satisfied: setuptools in /usr/local/lib/python3.10/dist-packages (from tensorflow-cpu->t5x==0.0.0) (67.7.2)\n",
            "Requirement already satisfied: six>=1.12.0 in /usr/local/lib/python3.10/dist-packages (from tensorflow-cpu->t5x==0.0.0) (1.16.0)\n",
            "Requirement already satisfied: tensorboard<2.13,>=2.12 in /usr/local/lib/python3.10/dist-packages (from tensorflow-cpu->t5x==0.0.0) (2.12.2)\n",
            "Requirement already satisfied: tensorflow-estimator<2.13,>=2.12.0 in /usr/local/lib/python3.10/dist-packages (from tensorflow-cpu->t5x==0.0.0) (2.12.0)\n",
            "Requirement already satisfied: termcolor>=1.1.0 in /usr/local/lib/python3.10/dist-packages (from tensorflow-cpu->t5x==0.0.0) (2.3.0)\n",
            "Requirement already satisfied: tensorflow-io-gcs-filesystem>=0.23.1 in /usr/local/lib/python3.10/dist-packages (from tensorflow-cpu->t5x==0.0.0) (0.32.0)\n",
            "Requirement already satisfied: wheel<1.0,>=0.23.0 in /usr/local/lib/python3.10/dist-packages (from astunparse>=1.6.0->tensorflow-cpu->t5x==0.0.0) (0.40.0)\n",
            "Requirement already satisfied: dm-tree>=0.1.5 in /usr/local/lib/python3.10/dist-packages (from chex>=0.1.5->optax@ git+https://github.com/deepmind/optax#egg=optax->t5x==0.0.0) (0.1.8)\n",
            "Requirement already satisfied: toolz>=0.9.0 in /usr/local/lib/python3.10/dist-packages (from chex>=0.1.5->optax@ git+https://github.com/deepmind/optax#egg=optax->t5x==0.0.0) (0.12.0)\n",
            "Requirement already satisfied: markdown-it-py<3.0.0,>=2.2.0 in /usr/local/lib/python3.10/dist-packages (from rich>=11.1->flax@ git+https://github.com/google/flax#egg=flax->t5x==0.0.0) (2.2.0)\n",
            "Requirement already satisfied: pygments<3.0.0,>=2.13.0 in /usr/local/lib/python3.10/dist-packages (from rich>=11.1->flax@ git+https://github.com/google/flax#egg=flax->t5x==0.0.0) (2.14.0)\n",
            "Requirement already satisfied: google-auth<3,>=1.6.3 in /usr/local/lib/python3.10/dist-packages (from tensorboard<2.13,>=2.12->tensorflow-cpu->t5x==0.0.0) (2.17.3)\n",
            "Requirement already satisfied: google-auth-oauthlib<1.1,>=0.5 in /usr/local/lib/python3.10/dist-packages (from tensorboard<2.13,>=2.12->tensorflow-cpu->t5x==0.0.0) (1.0.0)\n",
            "Requirement already satisfied: markdown>=2.6.8 in /usr/local/lib/python3.10/dist-packages (from tensorboard<2.13,>=2.12->tensorflow-cpu->t5x==0.0.0) (3.4.3)\n",
            "Requirement already satisfied: requests<3,>=2.21.0 in /usr/local/lib/python3.10/dist-packages (from tensorboard<2.13,>=2.12->tensorflow-cpu->t5x==0.0.0) (2.27.1)\n",
            "Requirement already satisfied: tensorboard-data-server<0.8.0,>=0.7.0 in /usr/local/lib/python3.10/dist-packages (from tensorboard<2.13,>=2.12->tensorflow-cpu->t5x==0.0.0) (0.7.0)\n",
            "Requirement already satisfied: tensorboard-plugin-wit>=1.6.0 in /usr/local/lib/python3.10/dist-packages (from tensorboard<2.13,>=2.12->tensorflow-cpu->t5x==0.0.0) (1.8.1)\n",
            "Requirement already satisfied: werkzeug>=1.0.1 in /usr/local/lib/python3.10/dist-packages (from tensorboard<2.13,>=2.12->tensorflow-cpu->t5x==0.0.0) (2.3.0)\n",
            "Requirement already satisfied: zipp in /usr/local/lib/python3.10/dist-packages (from etils[epath]->clu@ git+https://github.com/google/CommonLoopUtils#egg=clu->t5x==0.0.0) (3.15.0)\n",
            "Collecting typing-inspect>=0.4.0 (from libcst->fiddle>=0.2.5->t5x==0.0.0)\n",
            "  Downloading typing_inspect-0.8.0-py3-none-any.whl (8.7 kB)\n",
            "Requirement already satisfied: contextlib2 in /usr/local/lib/python3.10/dist-packages (from ml_collections->clu@ git+https://github.com/google/CommonLoopUtils#egg=clu->t5x==0.0.0) (0.6.0.post1)\n",
            "Requirement already satisfied: tensorflow-hub>=0.8.0 in /usr/local/lib/python3.10/dist-packages (from tensorflow-text->seqio@ git+https://github.com/google/seqio#egg=seqio->t5x==0.0.0) (0.13.0)\n",
            "Requirement already satisfied: tensorflow<2.13,>=2.12.0 in /usr/local/lib/python3.10/dist-packages (from tensorflow-text->seqio@ git+https://github.com/google/seqio#egg=seqio->t5x==0.0.0) (2.12.0)\n",
            "Requirement already satisfied: array-record in /usr/local/lib/python3.10/dist-packages (from tfds-nightly->seqio@ git+https://github.com/google/seqio#egg=seqio->t5x==0.0.0) (0.2.0)\n",
            "Requirement already satisfied: click in /usr/local/lib/python3.10/dist-packages (from tfds-nightly->seqio@ git+https://github.com/google/seqio#egg=seqio->t5x==0.0.0) (8.1.3)\n",
            "Requirement already satisfied: promise in /usr/local/lib/python3.10/dist-packages (from tfds-nightly->seqio@ git+https://github.com/google/seqio#egg=seqio->t5x==0.0.0) (2.3)\n",
            "Requirement already satisfied: psutil in /usr/local/lib/python3.10/dist-packages (from tfds-nightly->seqio@ git+https://github.com/google/seqio#egg=seqio->t5x==0.0.0) (5.9.5)\n",
            "Requirement already satisfied: tensorflow-metadata in /usr/local/lib/python3.10/dist-packages (from tfds-nightly->seqio@ git+https://github.com/google/seqio#egg=seqio->t5x==0.0.0) (1.13.1)\n",
            "Requirement already satisfied: toml in /usr/local/lib/python3.10/dist-packages (from tfds-nightly->seqio@ git+https://github.com/google/seqio#egg=seqio->t5x==0.0.0) (0.10.2)\n",
            "Requirement already satisfied: tqdm in /usr/local/lib/python3.10/dist-packages (from tfds-nightly->seqio@ git+https://github.com/google/seqio#egg=seqio->t5x==0.0.0) (4.65.0)\n",
            "Requirement already satisfied: cachetools<6.0,>=2.0.0 in /usr/local/lib/python3.10/dist-packages (from google-auth<3,>=1.6.3->tensorboard<2.13,>=2.12->tensorflow-cpu->t5x==0.0.0) (5.3.0)\n",
            "Requirement already satisfied: pyasn1-modules>=0.2.1 in /usr/local/lib/python3.10/dist-packages (from google-auth<3,>=1.6.3->tensorboard<2.13,>=2.12->tensorflow-cpu->t5x==0.0.0) (0.3.0)\n",
            "Requirement already satisfied: rsa<5,>=3.1.4 in /usr/local/lib/python3.10/dist-packages (from google-auth<3,>=1.6.3->tensorboard<2.13,>=2.12->tensorflow-cpu->t5x==0.0.0) (4.9)\n",
            "Requirement already satisfied: requests-oauthlib>=0.7.0 in /usr/local/lib/python3.10/dist-packages (from google-auth-oauthlib<1.1,>=0.5->tensorboard<2.13,>=2.12->tensorflow-cpu->t5x==0.0.0) (1.3.1)\n",
            "Requirement already satisfied: mdurl~=0.1 in /usr/local/lib/python3.10/dist-packages (from markdown-it-py<3.0.0,>=2.2.0->rich>=11.1->flax@ git+https://github.com/google/flax#egg=flax->t5x==0.0.0) (0.1.2)\n",
            "Requirement already satisfied: urllib3<1.27,>=1.21.1 in /usr/local/lib/python3.10/dist-packages (from requests<3,>=2.21.0->tensorboard<2.13,>=2.12->tensorflow-cpu->t5x==0.0.0) (1.26.15)\n",
            "Requirement already satisfied: certifi>=2017.4.17 in /usr/local/lib/python3.10/dist-packages (from requests<3,>=2.21.0->tensorboard<2.13,>=2.12->tensorflow-cpu->t5x==0.0.0) (2022.12.7)\n",
            "Requirement already satisfied: charset-normalizer~=2.0.0 in /usr/local/lib/python3.10/dist-packages (from requests<3,>=2.21.0->tensorboard<2.13,>=2.12->tensorflow-cpu->t5x==0.0.0) (2.0.12)\n",
            "Requirement already satisfied: idna<4,>=2.5 in /usr/local/lib/python3.10/dist-packages (from requests<3,>=2.21.0->tensorboard<2.13,>=2.12->tensorflow-cpu->t5x==0.0.0) (3.4)\n",
            "Collecting mypy-extensions>=0.3.0 (from typing-inspect>=0.4.0->libcst->fiddle>=0.2.5->t5x==0.0.0)\n",
            "  Downloading mypy_extensions-1.0.0-py3-none-any.whl (4.7 kB)\n",
            "Requirement already satisfied: MarkupSafe>=2.1.1 in /usr/local/lib/python3.10/dist-packages (from werkzeug>=1.0.1->tensorboard<2.13,>=2.12->tensorflow-cpu->t5x==0.0.0) (2.1.2)\n",
            "Requirement already satisfied: googleapis-common-protos<2,>=1.52.0 in /usr/local/lib/python3.10/dist-packages (from tensorflow-metadata->tfds-nightly->seqio@ git+https://github.com/google/seqio#egg=seqio->t5x==0.0.0) (1.59.0)\n",
            "Requirement already satisfied: pyasn1<0.6.0,>=0.4.6 in /usr/local/lib/python3.10/dist-packages (from pyasn1-modules>=0.2.1->google-auth<3,>=1.6.3->tensorboard<2.13,>=2.12->tensorflow-cpu->t5x==0.0.0) (0.5.0)\n",
            "Requirement already satisfied: oauthlib>=3.0.0 in /usr/local/lib/python3.10/dist-packages (from requests-oauthlib>=0.7.0->google-auth-oauthlib<1.1,>=0.5->tensorboard<2.13,>=2.12->tensorflow-cpu->t5x==0.0.0) (3.2.2)\n",
            "Building wheels for collected packages: t5x, flax, seqio\n",
            "  Building wheel for t5x (setup.py) ... \u001b[?25l\u001b[?25hdone\n",
            "  Created wheel for t5x: filename=t5x-0.0.0-py3-none-any.whl size=521730 sha256=fd7ee5245ac21ef69d366f87c4b6d290655d982b4ab68a26877e44131d751e87\n",
            "  Stored in directory: /tmp/pip-ephem-wheel-cache-nrfeixgf/wheels/7c/dd/d2/272939df9f5817daf0687c31889cd71ed08b43c36fd6f396ee\n",
            "  Building wheel for flax (pyproject.toml) ... \u001b[?25l\u001b[?25hdone\n",
            "  Created wheel for flax: filename=flax-0.6.10-py3-none-any.whl size=226120 sha256=3b50b1577c119b73381d414c3f91df2f2fa5ec6f86a50e13ff7a552ea2077a45\n",
            "  Stored in directory: /tmp/pip-ephem-wheel-cache-nrfeixgf/wheels/c2/b5/6c/e10d1bcdb3a30e0ffa048cf3a43762bb6f93c8262a27dd9a5d\n",
            "  Building wheel for seqio (setup.py) ... \u001b[?25l\u001b[?25hdone\n",
            "  Created wheel for seqio: filename=seqio-0.0.15-py3-none-any.whl size=342488 sha256=a6d461edfaa958f41ca8a0f078c655d8282075ef79311c9d520e6e1dc2c9ebf5\n",
            "  Stored in directory: /tmp/pip-ephem-wheel-cache-nrfeixgf/wheels/f3/82/f4/d9062a177e9f3274845c1f495e749c4f943f963ab5ca5836c0\n",
            "Successfully built t5x flax seqio\n",
            "Installing collected packages: sentencepiece, pyglove, mypy-extensions, typing-inspect, libcst, tfds-nightly, fiddle, tensorflow-cpu, flax, tensorflow-text, jestimator, seqio, t5x\n",
            "  Attempting uninstall: flax\n",
            "    Found existing installation: flax 0.6.9\n",
            "    Uninstalling flax-0.6.9:\n",
            "      Successfully uninstalled flax-0.6.9\n",
            "Successfully installed fiddle-0.2.6 flax-0.6.10 jestimator-0.3.3 libcst-0.4.9 mypy-extensions-1.0.0 pyglove-0.3.0 sentencepiece-0.1.99 seqio-0.0.15 t5x-0.0.0 tensorflow-cpu-2.12.0 tensorflow-text-2.12.1 tfds-nightly-4.9.2.dev202305230044 typing-inspect-0.8.0\n"
          ]
        }
      ]
    },
    {
      "cell_type": "code",
      "source": [
        "# import ml_collections\n",
        "# print(ml_collections.__file__)"
      ],
      "metadata": {
        "id": "c1rlfM0HdSF-"
      },
      "execution_count": 7,
      "outputs": []
    },
    {
      "cell_type": "code",
      "source": [
        "# import flax\n",
        "# print(flax.__file__)"
      ],
      "metadata": {
        "id": "1rtktgZKp6Wp"
      },
      "execution_count": 8,
      "outputs": []
    },
    {
      "cell_type": "code",
      "source": [
        "!pwd"
      ],
      "metadata": {
        "colab": {
          "base_uri": "https://localhost:8080/"
        },
        "id": "-Yv_71jpmihd",
        "outputId": "5b7a5eb1-d36a-402a-97d8-fd3dcd331168"
      },
      "execution_count": 9,
      "outputs": [
        {
          "output_type": "stream",
          "name": "stdout",
          "text": [
            "/content/drive/MyDrive/scenic/scenic/projects/t5/t5x\n"
          ]
        }
      ]
    },
    {
      "cell_type": "code",
      "source": [
        "cd /content/drive/MyDrive/scenic"
      ],
      "metadata": {
        "colab": {
          "base_uri": "https://localhost:8080/"
        },
        "id": "13whThZfKhAz",
        "outputId": "bb5189c8-ff4e-4a02-e972-aca3b348ae7b"
      },
      "execution_count": 10,
      "outputs": [
        {
          "output_type": "stream",
          "name": "stdout",
          "text": [
            "/content/drive/MyDrive/scenic\n"
          ]
        }
      ]
    },
    {
      "cell_type": "code",
      "source": [
        "!pip install -r scenic/projects/vid2seq/requirements.txt"
      ],
      "metadata": {
        "id": "u_P2M96CwmiT",
        "colab": {
          "base_uri": "https://localhost:8080/"
        },
        "outputId": "0a9a57b0-3122-4d3b-875f-1c4ecc1f82ed"
      },
      "execution_count": 11,
      "outputs": [
        {
          "output_type": "stream",
          "name": "stdout",
          "text": [
            "Looking in indexes: https://pypi.org/simple, https://us-python.pkg.dev/colab-wheels/public/simple/\n",
            "Collecting dmvr@ git+https://github.com/deepmind/dmvr.git (from -r scenic/projects/vid2seq/requirements.txt (line 1))\n",
            "  Cloning https://github.com/deepmind/dmvr.git to /tmp/pip-install-a9f1lbk3/dmvr_49d730ad4d38468a8e2c8ca371871c62\n",
            "  Running command git clone --filter=blob:none --quiet https://github.com/deepmind/dmvr.git /tmp/pip-install-a9f1lbk3/dmvr_49d730ad4d38468a8e2c8ca371871c62\n",
            "  Resolved https://github.com/deepmind/dmvr.git to commit 77ccedaa084d29239eaeafddb0b2e83843b613a1\n",
            "  Preparing metadata (setup.py) ... \u001b[?25l\u001b[?25hdone\n",
            "Requirement already satisfied: gin-config in /usr/local/lib/python3.10/dist-packages (from -r scenic/projects/vid2seq/requirements.txt (line 2)) (0.5.0)\n",
            "Collecting t5 (from -r scenic/projects/vid2seq/requirements.txt (line 3))\n",
            "  Downloading t5-0.9.4-py2.py3-none-any.whl (164 kB)\n",
            "\u001b[2K     \u001b[90m━━━━━━━━━━━━━━━━━━━━━━━━━━━━━━━━━━━━━━━\u001b[0m \u001b[32m164.5/164.5 kB\u001b[0m \u001b[31m5.0 MB/s\u001b[0m eta \u001b[36m0:00:00\u001b[0m\n",
            "\u001b[?25hRequirement already satisfied: t5x in /usr/local/lib/python3.10/dist-packages (from -r scenic/projects/vid2seq/requirements.txt (line 4)) (0.0.0)\n",
            "Requirement already satisfied: six in /usr/local/lib/python3.10/dist-packages (from -r scenic/projects/vid2seq/requirements.txt (line 5)) (1.16.0)\n",
            "Collecting flax==0.5 (from -r scenic/projects/vid2seq/requirements.txt (line 6))\n",
            "  Downloading flax-0.5.0-py3-none-any.whl (190 kB)\n",
            "\u001b[2K     \u001b[90m━━━━━━━━━━━━━━━━━━━━━━━━━━━━━━━━━━━━━━\u001b[0m \u001b[32m190.2/190.2 kB\u001b[0m \u001b[31m11.1 MB/s\u001b[0m eta \u001b[36m0:00:00\u001b[0m\n",
            "\u001b[?25hRequirement already satisfied: numpy>=1.12 in /usr/local/lib/python3.10/dist-packages (from flax==0.5->-r scenic/projects/vid2seq/requirements.txt (line 6)) (1.23.5)\n",
            "Requirement already satisfied: jax>=0.3 in /usr/local/lib/python3.10/dist-packages (from flax==0.5->-r scenic/projects/vid2seq/requirements.txt (line 6)) (0.4.10)\n",
            "Requirement already satisfied: matplotlib in /usr/local/lib/python3.10/dist-packages (from flax==0.5->-r scenic/projects/vid2seq/requirements.txt (line 6)) (3.7.1)\n",
            "Requirement already satisfied: msgpack in /usr/local/lib/python3.10/dist-packages (from flax==0.5->-r scenic/projects/vid2seq/requirements.txt (line 6)) (1.0.5)\n",
            "Requirement already satisfied: optax in /usr/local/lib/python3.10/dist-packages (from flax==0.5->-r scenic/projects/vid2seq/requirements.txt (line 6)) (0.1.5)\n",
            "Requirement already satisfied: typing-extensions>=4.1.1 in /usr/local/lib/python3.10/dist-packages (from flax==0.5->-r scenic/projects/vid2seq/requirements.txt (line 6)) (4.6.0)\n",
            "Requirement already satisfied: absl-py in /usr/local/lib/python3.10/dist-packages (from dmvr@ git+https://github.com/deepmind/dmvr.git->-r scenic/projects/vid2seq/requirements.txt (line 1)) (1.4.0)\n",
            "Requirement already satisfied: sentencepiece in /usr/local/lib/python3.10/dist-packages (from dmvr@ git+https://github.com/deepmind/dmvr.git->-r scenic/projects/vid2seq/requirements.txt (line 1)) (0.1.99)\n",
            "Requirement already satisfied: tensorflow>=2.0.0 in /usr/local/lib/python3.10/dist-packages (from dmvr@ git+https://github.com/deepmind/dmvr.git->-r scenic/projects/vid2seq/requirements.txt (line 1)) (2.12.0)\n",
            "Requirement already satisfied: tensorflow_text>=2.0.0 in /usr/local/lib/python3.10/dist-packages (from dmvr@ git+https://github.com/deepmind/dmvr.git->-r scenic/projects/vid2seq/requirements.txt (line 1)) (2.12.1)\n",
            "Requirement already satisfied: babel in /usr/local/lib/python3.10/dist-packages (from t5->-r scenic/projects/vid2seq/requirements.txt (line 3)) (2.12.1)\n",
            "Requirement already satisfied: editdistance in /usr/local/lib/python3.10/dist-packages (from t5->-r scenic/projects/vid2seq/requirements.txt (line 3)) (0.6.2)\n",
            "Requirement already satisfied: immutabledict in /usr/local/lib/python3.10/dist-packages (from t5->-r scenic/projects/vid2seq/requirements.txt (line 3)) (2.2.4)\n",
            "Collecting mesh-tensorflow[transformer]>=0.1.13 (from t5->-r scenic/projects/vid2seq/requirements.txt (line 3))\n",
            "  Downloading mesh_tensorflow-0.1.21-py3-none-any.whl (385 kB)\n",
            "\u001b[2K     \u001b[90m━━━━━━━━━━━━━━━━━━━━━━━━━━━━━━━━━━━━━━\u001b[0m \u001b[32m385.2/385.2 kB\u001b[0m \u001b[31m23.0 MB/s\u001b[0m eta \u001b[36m0:00:00\u001b[0m\n",
            "\u001b[?25hRequirement already satisfied: nltk in /usr/local/lib/python3.10/dist-packages (from t5->-r scenic/projects/vid2seq/requirements.txt (line 3)) (3.8.1)\n",
            "Requirement already satisfied: pandas in /usr/local/lib/python3.10/dist-packages (from t5->-r scenic/projects/vid2seq/requirements.txt (line 3)) (1.5.3)\n",
            "Collecting rouge-score>=0.1.2 (from t5->-r scenic/projects/vid2seq/requirements.txt (line 3))\n",
            "  Downloading rouge_score-0.1.2.tar.gz (17 kB)\n",
            "  Preparing metadata (setup.py) ... \u001b[?25l\u001b[?25hdone\n",
            "Collecting sacrebleu (from t5->-r scenic/projects/vid2seq/requirements.txt (line 3))\n",
            "  Downloading sacrebleu-2.3.1-py3-none-any.whl (118 kB)\n",
            "\u001b[2K     \u001b[90m━━━━━━━━━━━━━━━━━━━━━━━━━━━━━━━━━━━━━━\u001b[0m \u001b[32m118.9/118.9 kB\u001b[0m \u001b[31m15.4 MB/s\u001b[0m eta \u001b[36m0:00:00\u001b[0m\n",
            "\u001b[?25hRequirement already satisfied: scikit-learn in /usr/local/lib/python3.10/dist-packages (from t5->-r scenic/projects/vid2seq/requirements.txt (line 3)) (1.2.2)\n",
            "Requirement already satisfied: scipy in /usr/local/lib/python3.10/dist-packages (from t5->-r scenic/projects/vid2seq/requirements.txt (line 3)) (1.10.1)\n",
            "Collecting seqio-nightly (from t5->-r scenic/projects/vid2seq/requirements.txt (line 3))\n",
            "  Downloading seqio_nightly-0.0.15.dev20230522-py3-none-any.whl (342 kB)\n",
            "\u001b[2K     \u001b[90m━━━━━━━━━━━━━━━━━━━━━━━━━━━━━━━━━━━━━━\u001b[0m \u001b[32m342.8/342.8 kB\u001b[0m \u001b[31m35.9 MB/s\u001b[0m eta \u001b[36m0:00:00\u001b[0m\n",
            "\u001b[?25hRequirement already satisfied: tfds-nightly in /usr/local/lib/python3.10/dist-packages (from t5->-r scenic/projects/vid2seq/requirements.txt (line 3)) (4.9.2.dev202305230044)\n",
            "Collecting transformers>=2.7.0 (from t5->-r scenic/projects/vid2seq/requirements.txt (line 3))\n",
            "  Downloading transformers-4.29.2-py3-none-any.whl (7.1 MB)\n",
            "\u001b[2K     \u001b[90m━━━━━━━━━━━━━━━━━━━━━━━━━━━━━━━━━━━━━━━━\u001b[0m \u001b[32m7.1/7.1 MB\u001b[0m \u001b[31m89.9 MB/s\u001b[0m eta \u001b[36m0:00:00\u001b[0m\n",
            "\u001b[?25hCollecting clu@ git+https://github.com/google/CommonLoopUtils#egg=clu (from t5x->-r scenic/projects/vid2seq/requirements.txt (line 4))\n",
            "  Cloning https://github.com/google/CommonLoopUtils to /tmp/pip-install-a9f1lbk3/clu_62418f557bad4a51bb4fb9963f9c041c\n",
            "  Running command git clone --filter=blob:none --quiet https://github.com/google/CommonLoopUtils /tmp/pip-install-a9f1lbk3/clu_62418f557bad4a51bb4fb9963f9c041c\n",
            "  Resolved https://github.com/google/CommonLoopUtils to commit 46adc8e9b5840e5a47432235c7bb351393b3025e\n",
            "  Preparing metadata (setup.py) ... \u001b[?25l\u001b[?25hdone\n",
            "Collecting flax@ git+https://github.com/google/flax#egg=flax (from t5x->-r scenic/projects/vid2seq/requirements.txt (line 4))\n",
            "  Cloning https://github.com/google/flax to /tmp/pip-install-a9f1lbk3/flax_e89652f698694db884bd5f9b1675e7cb\n",
            "  Running command git clone --filter=blob:none --quiet https://github.com/google/flax /tmp/pip-install-a9f1lbk3/flax_e89652f698694db884bd5f9b1675e7cb\n",
            "  Resolved https://github.com/google/flax to commit 380fef6db994b55f217df9421924a667fc829d56\n",
            "  Installing build dependencies ... \u001b[?25l\u001b[?25hdone\n",
            "  Getting requirements to build wheel ... \u001b[?25l\u001b[?25hdone\n",
            "  Installing backend dependencies ... \u001b[?25l\u001b[?25hdone\n",
            "  Preparing metadata (pyproject.toml) ... \u001b[?25l\u001b[?25hdone\n",
            "Collecting optax@ git+https://github.com/deepmind/optax#egg=optax (from t5x->-r scenic/projects/vid2seq/requirements.txt (line 4))\n",
            "  Cloning https://github.com/deepmind/optax to /tmp/pip-install-a9f1lbk3/optax_5141403a8564420bbe6b991df60e9b51\n",
            "  Running command git clone --filter=blob:none --quiet https://github.com/deepmind/optax /tmp/pip-install-a9f1lbk3/optax_5141403a8564420bbe6b991df60e9b51\n",
            "  Resolved https://github.com/deepmind/optax to commit 7155cf2f452cd4ccdd4ae21f33bd879360f8acc8\n",
            "  Installing build dependencies ... \u001b[?25l\u001b[?25hdone\n",
            "  Getting requirements to build wheel ... \u001b[?25l\u001b[?25hdone\n",
            "  Preparing metadata (pyproject.toml) ... \u001b[?25l\u001b[?25hdone\n",
            "Collecting seqio@ git+https://github.com/google/seqio#egg=seqio (from t5x->-r scenic/projects/vid2seq/requirements.txt (line 4))\n",
            "  Cloning https://github.com/google/seqio to /tmp/pip-install-a9f1lbk3/seqio_bd43c33a48544294b8fb34f3b049bddb\n",
            "  Running command git clone --filter=blob:none --quiet https://github.com/google/seqio /tmp/pip-install-a9f1lbk3/seqio_bd43c33a48544294b8fb34f3b049bddb\n",
            "  Resolved https://github.com/google/seqio to commit 6e76e6eb7b43f2c272c4d07911da1bde5ab5ab0b\n",
            "  Preparing metadata (setup.py) ... \u001b[?25l\u001b[?25hdone\n",
            "Requirement already satisfied: cached-property in /usr/local/lib/python3.10/dist-packages (from t5x->-r scenic/projects/vid2seq/requirements.txt (line 4)) (1.5.2)\n",
            "INFO: pip is looking at multiple versions of t5x to determine which version is compatible with other requirements. This could take a while.\n",
            "\u001b[31mERROR: Cannot install flax==0.5 and t5x==0.0.0 because these package versions have conflicting dependencies.\u001b[0m\u001b[31m\n",
            "\u001b[0m\n",
            "The conflict is caused by:\n",
            "    The user requested flax==0.5\n",
            "    t5x 0.0.0 depends on flax 0.6.10 (from git+https://github.com/google/flax#egg=flax)\n",
            "\n",
            "To fix this you could try to:\n",
            "1. loosen the range of package versions you've specified\n",
            "2. remove package versions to allow pip attempt to solve the dependency conflict\n",
            "\n",
            "\u001b[31mERROR: ResolutionImpossible: for help visit https://pip.pypa.io/en/latest/topics/dependency-resolution/#dealing-with-dependency-conflicts\u001b[0m\u001b[31m\n",
            "\u001b[0m"
          ]
        }
      ]
    },
    {
      "cell_type": "code",
      "source": [
        "#!git clone https://github.com/google-research/t5x.git"
      ],
      "metadata": {
        "id": "Rr3Azmz07jwv"
      },
      "execution_count": 12,
      "outputs": []
    },
    {
      "cell_type": "code",
      "source": [
        "!pip uninstall flax\n",
        "!pip install flax==0.5"
      ],
      "metadata": {
        "colab": {
          "base_uri": "https://localhost:8080/"
        },
        "id": "u97T5CNYm3ne",
        "outputId": "d6579133-c5c0-45e8-f40a-5b083dad7039"
      },
      "execution_count": 13,
      "outputs": [
        {
          "output_type": "stream",
          "name": "stdout",
          "text": [
            "Found existing installation: flax 0.6.10\n",
            "Uninstalling flax-0.6.10:\n",
            "  Would remove:\n",
            "    /usr/local/lib/python3.10/dist-packages/flax-0.6.10.dist-info/*\n",
            "    /usr/local/lib/python3.10/dist-packages/flax/*\n",
            "Proceed (Y/n)? y\n",
            "  Successfully uninstalled flax-0.6.10\n",
            "Looking in indexes: https://pypi.org/simple, https://us-python.pkg.dev/colab-wheels/public/simple/\n",
            "Collecting flax==0.5\n",
            "  Using cached flax-0.5.0-py3-none-any.whl (190 kB)\n",
            "Requirement already satisfied: numpy>=1.12 in /usr/local/lib/python3.10/dist-packages (from flax==0.5) (1.23.5)\n",
            "Requirement already satisfied: jax>=0.3 in /usr/local/lib/python3.10/dist-packages (from flax==0.5) (0.4.10)\n",
            "Requirement already satisfied: matplotlib in /usr/local/lib/python3.10/dist-packages (from flax==0.5) (3.7.1)\n",
            "Requirement already satisfied: msgpack in /usr/local/lib/python3.10/dist-packages (from flax==0.5) (1.0.5)\n",
            "Requirement already satisfied: optax in /usr/local/lib/python3.10/dist-packages (from flax==0.5) (0.1.5)\n",
            "Requirement already satisfied: typing-extensions>=4.1.1 in /usr/local/lib/python3.10/dist-packages (from flax==0.5) (4.6.0)\n",
            "Requirement already satisfied: ml-dtypes>=0.1.0 in /usr/local/lib/python3.10/dist-packages (from jax>=0.3->flax==0.5) (0.1.0)\n",
            "Requirement already satisfied: opt-einsum in /usr/local/lib/python3.10/dist-packages (from jax>=0.3->flax==0.5) (3.3.0)\n",
            "Requirement already satisfied: scipy>=1.7 in /usr/local/lib/python3.10/dist-packages (from jax>=0.3->flax==0.5) (1.10.1)\n",
            "Requirement already satisfied: contourpy>=1.0.1 in /usr/local/lib/python3.10/dist-packages (from matplotlib->flax==0.5) (1.0.7)\n",
            "Requirement already satisfied: cycler>=0.10 in /usr/local/lib/python3.10/dist-packages (from matplotlib->flax==0.5) (0.11.0)\n",
            "Requirement already satisfied: fonttools>=4.22.0 in /usr/local/lib/python3.10/dist-packages (from matplotlib->flax==0.5) (4.39.3)\n",
            "Requirement already satisfied: kiwisolver>=1.0.1 in /usr/local/lib/python3.10/dist-packages (from matplotlib->flax==0.5) (1.4.4)\n",
            "Requirement already satisfied: packaging>=20.0 in /usr/local/lib/python3.10/dist-packages (from matplotlib->flax==0.5) (23.1)\n",
            "Requirement already satisfied: pillow>=6.2.0 in /usr/local/lib/python3.10/dist-packages (from matplotlib->flax==0.5) (8.4.0)\n",
            "Requirement already satisfied: pyparsing>=2.3.1 in /usr/local/lib/python3.10/dist-packages (from matplotlib->flax==0.5) (3.0.9)\n",
            "Requirement already satisfied: python-dateutil>=2.7 in /usr/local/lib/python3.10/dist-packages (from matplotlib->flax==0.5) (2.8.2)\n",
            "Requirement already satisfied: absl-py>=0.7.1 in /usr/local/lib/python3.10/dist-packages (from optax->flax==0.5) (1.4.0)\n",
            "Requirement already satisfied: chex>=0.1.5 in /usr/local/lib/python3.10/dist-packages (from optax->flax==0.5) (0.1.7)\n",
            "Requirement already satisfied: jaxlib>=0.1.37 in /usr/local/lib/python3.10/dist-packages (from optax->flax==0.5) (0.4.10)\n",
            "Requirement already satisfied: dm-tree>=0.1.5 in /usr/local/lib/python3.10/dist-packages (from chex>=0.1.5->optax->flax==0.5) (0.1.8)\n",
            "Requirement already satisfied: toolz>=0.9.0 in /usr/local/lib/python3.10/dist-packages (from chex>=0.1.5->optax->flax==0.5) (0.12.0)\n",
            "Requirement already satisfied: six>=1.5 in /usr/local/lib/python3.10/dist-packages (from python-dateutil>=2.7->matplotlib->flax==0.5) (1.16.0)\n",
            "Installing collected packages: flax\n",
            "Successfully installed flax-0.5.0\n"
          ]
        }
      ]
    },
    {
      "cell_type": "code",
      "source": [
        "import t5x\n",
        "print(t5x.__version__)"
      ],
      "metadata": {
        "colab": {
          "base_uri": "https://localhost:8080/"
        },
        "id": "z3gTx7svKUIS",
        "outputId": "fc230799-e820-48bc-9e63-7ae5e4224208"
      },
      "execution_count": 14,
      "outputs": [
        {
          "output_type": "stream",
          "name": "stderr",
          "text": [
            "/usr/local/lib/python3.10/dist-packages/flax/struct.py:133: FutureWarning: jax.tree_util.register_keypaths is deprecated, and will be removed in a future release. Please use `register_pytree_with_keys()` instead.\n",
            "  jax.tree_util.register_keypaths(data_clz, keypaths)\n",
            "/usr/local/lib/python3.10/dist-packages/flax/struct.py:133: FutureWarning: jax.tree_util.register_keypaths is deprecated, and will be removed in a future release. Please use `register_pytree_with_keys()` instead.\n",
            "  jax.tree_util.register_keypaths(data_clz, keypaths)\n",
            "/usr/local/lib/python3.10/dist-packages/flax/struct.py:133: FutureWarning: jax.tree_util.register_keypaths is deprecated, and will be removed in a future release. Please use `register_pytree_with_keys()` instead.\n",
            "  jax.tree_util.register_keypaths(data_clz, keypaths)\n",
            "/usr/local/lib/python3.10/dist-packages/flax/struct.py:133: FutureWarning: jax.tree_util.register_keypaths is deprecated, and will be removed in a future release. Please use `register_pytree_with_keys()` instead.\n",
            "  jax.tree_util.register_keypaths(data_clz, keypaths)\n"
          ]
        },
        {
          "output_type": "stream",
          "name": "stdout",
          "text": [
            "0.0.0\n"
          ]
        }
      ]
    },
    {
      "cell_type": "code",
      "source": [
        "import flax\n",
        "print(flax.__version__)"
      ],
      "metadata": {
        "colab": {
          "base_uri": "https://localhost:8080/"
        },
        "id": "ZGKme_7qJYWk",
        "outputId": "9dad04d7-41e4-4647-cbed-862599f33c75"
      },
      "execution_count": 15,
      "outputs": [
        {
          "output_type": "stream",
          "name": "stdout",
          "text": [
            "0.5.0\n"
          ]
        }
      ]
    },
    {
      "cell_type": "code",
      "source": [
        "!pip install t5"
      ],
      "metadata": {
        "colab": {
          "base_uri": "https://localhost:8080/",
          "height": 1000
        },
        "id": "SVi57pntjmNE",
        "outputId": "3dd463e6-e529-4520-81f3-4674e6255655"
      },
      "execution_count": 16,
      "outputs": [
        {
          "output_type": "stream",
          "name": "stdout",
          "text": [
            "Looking in indexes: https://pypi.org/simple, https://us-python.pkg.dev/colab-wheels/public/simple/\n",
            "Collecting t5\n",
            "  Using cached t5-0.9.4-py2.py3-none-any.whl (164 kB)\n",
            "Requirement already satisfied: absl-py in /usr/local/lib/python3.10/dist-packages (from t5) (1.4.0)\n",
            "Requirement already satisfied: babel in /usr/local/lib/python3.10/dist-packages (from t5) (2.12.1)\n",
            "Requirement already satisfied: editdistance in /usr/local/lib/python3.10/dist-packages (from t5) (0.6.2)\n",
            "Requirement already satisfied: immutabledict in /usr/local/lib/python3.10/dist-packages (from t5) (2.2.4)\n",
            "Requirement already satisfied: gin-config in /usr/local/lib/python3.10/dist-packages (from t5) (0.5.0)\n",
            "Collecting mesh-tensorflow[transformer]>=0.1.13 (from t5)\n",
            "  Using cached mesh_tensorflow-0.1.21-py3-none-any.whl (385 kB)\n",
            "Requirement already satisfied: nltk in /usr/local/lib/python3.10/dist-packages (from t5) (3.8.1)\n",
            "Requirement already satisfied: numpy in /usr/local/lib/python3.10/dist-packages (from t5) (1.23.5)\n",
            "Requirement already satisfied: pandas in /usr/local/lib/python3.10/dist-packages (from t5) (1.5.3)\n",
            "Collecting rouge-score>=0.1.2 (from t5)\n",
            "  Using cached rouge_score-0.1.2.tar.gz (17 kB)\n",
            "  Preparing metadata (setup.py) ... \u001b[?25l\u001b[?25hdone\n",
            "Collecting sacrebleu (from t5)\n",
            "  Using cached sacrebleu-2.3.1-py3-none-any.whl (118 kB)\n",
            "Requirement already satisfied: scikit-learn in /usr/local/lib/python3.10/dist-packages (from t5) (1.2.2)\n",
            "Requirement already satisfied: scipy in /usr/local/lib/python3.10/dist-packages (from t5) (1.10.1)\n",
            "Requirement already satisfied: sentencepiece in /usr/local/lib/python3.10/dist-packages (from t5) (0.1.99)\n",
            "Collecting seqio-nightly (from t5)\n",
            "  Using cached seqio_nightly-0.0.15.dev20230522-py3-none-any.whl (342 kB)\n",
            "Requirement already satisfied: six>=1.14 in /usr/local/lib/python3.10/dist-packages (from t5) (1.16.0)\n",
            "Requirement already satisfied: tfds-nightly in /usr/local/lib/python3.10/dist-packages (from t5) (4.9.2.dev202305230044)\n",
            "Collecting transformers>=2.7.0 (from t5)\n",
            "  Using cached transformers-4.29.2-py3-none-any.whl (7.1 MB)\n",
            "Requirement already satisfied: future in /usr/local/lib/python3.10/dist-packages (from mesh-tensorflow[transformer]>=0.1.13->t5) (0.18.3)\n",
            "Requirement already satisfied: tensorflow-datasets in /usr/local/lib/python3.10/dist-packages (from mesh-tensorflow[transformer]>=0.1.13->t5) (4.9.2)\n",
            "Requirement already satisfied: filelock in /usr/local/lib/python3.10/dist-packages (from transformers>=2.7.0->t5) (3.12.0)\n",
            "Collecting huggingface-hub<1.0,>=0.14.1 (from transformers>=2.7.0->t5)\n",
            "  Downloading huggingface_hub-0.14.1-py3-none-any.whl (224 kB)\n",
            "\u001b[2K     \u001b[90m━━━━━━━━━━━━━━━━━━━━━━━━━━━━━━━━━━━━━━━\u001b[0m \u001b[32m224.5/224.5 kB\u001b[0m \u001b[31m5.5 MB/s\u001b[0m eta \u001b[36m0:00:00\u001b[0m\n",
            "\u001b[?25hRequirement already satisfied: packaging>=20.0 in /usr/local/lib/python3.10/dist-packages (from transformers>=2.7.0->t5) (23.1)\n",
            "Requirement already satisfied: pyyaml>=5.1 in /usr/local/lib/python3.10/dist-packages (from transformers>=2.7.0->t5) (6.0)\n",
            "Requirement already satisfied: regex!=2019.12.17 in /usr/local/lib/python3.10/dist-packages (from transformers>=2.7.0->t5) (2022.10.31)\n",
            "Requirement already satisfied: requests in /usr/local/lib/python3.10/dist-packages (from transformers>=2.7.0->t5) (2.27.1)\n",
            "Collecting tokenizers!=0.11.3,<0.14,>=0.11.1 (from transformers>=2.7.0->t5)\n",
            "  Downloading tokenizers-0.13.3-cp310-cp310-manylinux_2_17_x86_64.manylinux2014_x86_64.whl (7.8 MB)\n",
            "\u001b[2K     \u001b[90m━━━━━━━━━━━━━━━━━━━━━━━━━━━━━━━━━━━━━━━━\u001b[0m \u001b[32m7.8/7.8 MB\u001b[0m \u001b[31m82.7 MB/s\u001b[0m eta \u001b[36m0:00:00\u001b[0m\n",
            "\u001b[?25hRequirement already satisfied: tqdm>=4.27 in /usr/local/lib/python3.10/dist-packages (from transformers>=2.7.0->t5) (4.65.0)\n",
            "Requirement already satisfied: click in /usr/local/lib/python3.10/dist-packages (from nltk->t5) (8.1.3)\n",
            "Requirement already satisfied: joblib in /usr/local/lib/python3.10/dist-packages (from nltk->t5) (1.2.0)\n",
            "Requirement already satisfied: python-dateutil>=2.8.1 in /usr/local/lib/python3.10/dist-packages (from pandas->t5) (2.8.2)\n",
            "Requirement already satisfied: pytz>=2020.1 in /usr/local/lib/python3.10/dist-packages (from pandas->t5) (2022.7.1)\n",
            "Collecting portalocker (from sacrebleu->t5)\n",
            "  Downloading portalocker-2.7.0-py2.py3-none-any.whl (15 kB)\n",
            "Requirement already satisfied: tabulate>=0.8.9 in /usr/local/lib/python3.10/dist-packages (from sacrebleu->t5) (0.8.10)\n",
            "Collecting colorama (from sacrebleu->t5)\n",
            "  Downloading colorama-0.4.6-py2.py3-none-any.whl (25 kB)\n",
            "Requirement already satisfied: lxml in /usr/local/lib/python3.10/dist-packages (from sacrebleu->t5) (4.9.2)\n",
            "Requirement already satisfied: threadpoolctl>=2.0.0 in /usr/local/lib/python3.10/dist-packages (from scikit-learn->t5) (3.1.0)\n",
            "Requirement already satisfied: clu in /usr/local/lib/python3.10/dist-packages (from seqio-nightly->t5) (0.0.9)\n",
            "Requirement already satisfied: jax in /usr/local/lib/python3.10/dist-packages (from seqio-nightly->t5) (0.4.10)\n",
            "Requirement already satisfied: jaxlib in /usr/local/lib/python3.10/dist-packages (from seqio-nightly->t5) (0.4.10)\n",
            "Requirement already satisfied: pyglove in /usr/local/lib/python3.10/dist-packages (from seqio-nightly->t5) (0.3.0)\n",
            "Requirement already satisfied: tensorflow-text in /usr/local/lib/python3.10/dist-packages (from seqio-nightly->t5) (2.12.1)\n",
            "Requirement already satisfied: protobuf==3.20.3 in /usr/local/lib/python3.10/dist-packages (from seqio-nightly->t5) (3.20.3)\n",
            "Requirement already satisfied: array-record in /usr/local/lib/python3.10/dist-packages (from tfds-nightly->t5) (0.2.0)\n",
            "Requirement already satisfied: dm-tree in /usr/local/lib/python3.10/dist-packages (from tfds-nightly->t5) (0.1.8)\n",
            "Requirement already satisfied: etils[enp,epath]>=0.9.0 in /usr/local/lib/python3.10/dist-packages (from tfds-nightly->t5) (1.2.0)\n",
            "Requirement already satisfied: promise in /usr/local/lib/python3.10/dist-packages (from tfds-nightly->t5) (2.3)\n",
            "Requirement already satisfied: psutil in /usr/local/lib/python3.10/dist-packages (from tfds-nightly->t5) (5.9.5)\n",
            "Requirement already satisfied: tensorflow-metadata in /usr/local/lib/python3.10/dist-packages (from tfds-nightly->t5) (1.13.1)\n",
            "Requirement already satisfied: termcolor in /usr/local/lib/python3.10/dist-packages (from tfds-nightly->t5) (2.3.0)\n",
            "Requirement already satisfied: toml in /usr/local/lib/python3.10/dist-packages (from tfds-nightly->t5) (0.10.2)\n",
            "Requirement already satisfied: wrapt in /usr/local/lib/python3.10/dist-packages (from tfds-nightly->t5) (1.14.1)\n",
            "Requirement already satisfied: importlib_resources in /usr/local/lib/python3.10/dist-packages (from etils[enp,epath]>=0.9.0->tfds-nightly->t5) (5.12.0)\n",
            "Requirement already satisfied: typing_extensions in /usr/local/lib/python3.10/dist-packages (from etils[enp,epath]>=0.9.0->tfds-nightly->t5) (4.6.0)\n",
            "Requirement already satisfied: zipp in /usr/local/lib/python3.10/dist-packages (from etils[enp,epath]>=0.9.0->tfds-nightly->t5) (3.15.0)\n",
            "Requirement already satisfied: fsspec in /usr/local/lib/python3.10/dist-packages (from huggingface-hub<1.0,>=0.14.1->transformers>=2.7.0->t5) (2023.4.0)\n",
            "Requirement already satisfied: urllib3<1.27,>=1.21.1 in /usr/local/lib/python3.10/dist-packages (from requests->transformers>=2.7.0->t5) (1.26.15)\n",
            "Requirement already satisfied: certifi>=2017.4.17 in /usr/local/lib/python3.10/dist-packages (from requests->transformers>=2.7.0->t5) (2022.12.7)\n",
            "Requirement already satisfied: charset-normalizer~=2.0.0 in /usr/local/lib/python3.10/dist-packages (from requests->transformers>=2.7.0->t5) (2.0.12)\n",
            "Requirement already satisfied: idna<4,>=2.5 in /usr/local/lib/python3.10/dist-packages (from requests->transformers>=2.7.0->t5) (3.4)\n",
            "Requirement already satisfied: flax in /usr/local/lib/python3.10/dist-packages (from clu->seqio-nightly->t5) (0.5.0)\n",
            "Requirement already satisfied: ml-collections in /usr/local/lib/python3.10/dist-packages (from clu->seqio-nightly->t5) (0.1.1)\n",
            "Requirement already satisfied: ml-dtypes>=0.1.0 in /usr/local/lib/python3.10/dist-packages (from jax->seqio-nightly->t5) (0.1.0)\n",
            "Requirement already satisfied: opt-einsum in /usr/local/lib/python3.10/dist-packages (from jax->seqio-nightly->t5) (3.3.0)\n",
            "Requirement already satisfied: googleapis-common-protos<2,>=1.52.0 in /usr/local/lib/python3.10/dist-packages (from tensorflow-metadata->tfds-nightly->t5) (1.59.0)\n",
            "Requirement already satisfied: tensorflow-hub>=0.8.0 in /usr/local/lib/python3.10/dist-packages (from tensorflow-text->seqio-nightly->t5) (0.13.0)\n",
            "Requirement already satisfied: tensorflow<2.13,>=2.12.0 in /usr/local/lib/python3.10/dist-packages (from tensorflow-text->seqio-nightly->t5) (2.12.0)\n",
            "Requirement already satisfied: astunparse>=1.6.0 in /usr/local/lib/python3.10/dist-packages (from tensorflow<2.13,>=2.12.0->tensorflow-text->seqio-nightly->t5) (1.6.3)\n",
            "Requirement already satisfied: flatbuffers>=2.0 in /usr/local/lib/python3.10/dist-packages (from tensorflow<2.13,>=2.12.0->tensorflow-text->seqio-nightly->t5) (23.3.3)\n",
            "Requirement already satisfied: gast<=0.4.0,>=0.2.1 in /usr/local/lib/python3.10/dist-packages (from tensorflow<2.13,>=2.12.0->tensorflow-text->seqio-nightly->t5) (0.4.0)\n",
            "Requirement already satisfied: google-pasta>=0.1.1 in /usr/local/lib/python3.10/dist-packages (from tensorflow<2.13,>=2.12.0->tensorflow-text->seqio-nightly->t5) (0.2.0)\n",
            "Requirement already satisfied: grpcio<2.0,>=1.24.3 in /usr/local/lib/python3.10/dist-packages (from tensorflow<2.13,>=2.12.0->tensorflow-text->seqio-nightly->t5) (1.54.0)\n",
            "Requirement already satisfied: h5py>=2.9.0 in /usr/local/lib/python3.10/dist-packages (from tensorflow<2.13,>=2.12.0->tensorflow-text->seqio-nightly->t5) (3.8.0)\n",
            "Requirement already satisfied: keras<2.13,>=2.12.0 in /usr/local/lib/python3.10/dist-packages (from tensorflow<2.13,>=2.12.0->tensorflow-text->seqio-nightly->t5) (2.12.0)\n",
            "Requirement already satisfied: libclang>=13.0.0 in /usr/local/lib/python3.10/dist-packages (from tensorflow<2.13,>=2.12.0->tensorflow-text->seqio-nightly->t5) (16.0.0)\n",
            "Requirement already satisfied: setuptools in /usr/local/lib/python3.10/dist-packages (from tensorflow<2.13,>=2.12.0->tensorflow-text->seqio-nightly->t5) (67.7.2)\n",
            "Requirement already satisfied: tensorboard<2.13,>=2.12 in /usr/local/lib/python3.10/dist-packages (from tensorflow<2.13,>=2.12.0->tensorflow-text->seqio-nightly->t5) (2.12.2)\n",
            "Requirement already satisfied: tensorflow-estimator<2.13,>=2.12.0 in /usr/local/lib/python3.10/dist-packages (from tensorflow<2.13,>=2.12.0->tensorflow-text->seqio-nightly->t5) (2.12.0)\n",
            "Requirement already satisfied: tensorflow-io-gcs-filesystem>=0.23.1 in /usr/local/lib/python3.10/dist-packages (from tensorflow<2.13,>=2.12.0->tensorflow-text->seqio-nightly->t5) (0.32.0)\n",
            "Requirement already satisfied: matplotlib in /usr/local/lib/python3.10/dist-packages (from flax->clu->seqio-nightly->t5) (3.7.1)\n",
            "Requirement already satisfied: msgpack in /usr/local/lib/python3.10/dist-packages (from flax->clu->seqio-nightly->t5) (1.0.5)\n",
            "Requirement already satisfied: optax in /usr/local/lib/python3.10/dist-packages (from flax->clu->seqio-nightly->t5) (0.1.5)\n",
            "Requirement already satisfied: contextlib2 in /usr/local/lib/python3.10/dist-packages (from ml-collections->clu->seqio-nightly->t5) (0.6.0.post1)\n",
            "Requirement already satisfied: wheel<1.0,>=0.23.0 in /usr/local/lib/python3.10/dist-packages (from astunparse>=1.6.0->tensorflow<2.13,>=2.12.0->tensorflow-text->seqio-nightly->t5) (0.40.0)\n",
            "Requirement already satisfied: google-auth<3,>=1.6.3 in /usr/local/lib/python3.10/dist-packages (from tensorboard<2.13,>=2.12->tensorflow<2.13,>=2.12.0->tensorflow-text->seqio-nightly->t5) (2.17.3)\n",
            "Requirement already satisfied: google-auth-oauthlib<1.1,>=0.5 in /usr/local/lib/python3.10/dist-packages (from tensorboard<2.13,>=2.12->tensorflow<2.13,>=2.12.0->tensorflow-text->seqio-nightly->t5) (1.0.0)\n",
            "Requirement already satisfied: markdown>=2.6.8 in /usr/local/lib/python3.10/dist-packages (from tensorboard<2.13,>=2.12->tensorflow<2.13,>=2.12.0->tensorflow-text->seqio-nightly->t5) (3.4.3)\n",
            "Requirement already satisfied: tensorboard-data-server<0.8.0,>=0.7.0 in /usr/local/lib/python3.10/dist-packages (from tensorboard<2.13,>=2.12->tensorflow<2.13,>=2.12.0->tensorflow-text->seqio-nightly->t5) (0.7.0)\n",
            "Requirement already satisfied: tensorboard-plugin-wit>=1.6.0 in /usr/local/lib/python3.10/dist-packages (from tensorboard<2.13,>=2.12->tensorflow<2.13,>=2.12.0->tensorflow-text->seqio-nightly->t5) (1.8.1)\n",
            "Requirement already satisfied: werkzeug>=1.0.1 in /usr/local/lib/python3.10/dist-packages (from tensorboard<2.13,>=2.12->tensorflow<2.13,>=2.12.0->tensorflow-text->seqio-nightly->t5) (2.3.0)\n",
            "Requirement already satisfied: contourpy>=1.0.1 in /usr/local/lib/python3.10/dist-packages (from matplotlib->flax->clu->seqio-nightly->t5) (1.0.7)\n",
            "Requirement already satisfied: cycler>=0.10 in /usr/local/lib/python3.10/dist-packages (from matplotlib->flax->clu->seqio-nightly->t5) (0.11.0)\n",
            "Requirement already satisfied: fonttools>=4.22.0 in /usr/local/lib/python3.10/dist-packages (from matplotlib->flax->clu->seqio-nightly->t5) (4.39.3)\n",
            "Requirement already satisfied: kiwisolver>=1.0.1 in /usr/local/lib/python3.10/dist-packages (from matplotlib->flax->clu->seqio-nightly->t5) (1.4.4)\n",
            "Requirement already satisfied: pillow>=6.2.0 in /usr/local/lib/python3.10/dist-packages (from matplotlib->flax->clu->seqio-nightly->t5) (8.4.0)\n",
            "Requirement already satisfied: pyparsing>=2.3.1 in /usr/local/lib/python3.10/dist-packages (from matplotlib->flax->clu->seqio-nightly->t5) (3.0.9)\n",
            "Requirement already satisfied: chex>=0.1.5 in /usr/local/lib/python3.10/dist-packages (from optax->flax->clu->seqio-nightly->t5) (0.1.7)\n",
            "Requirement already satisfied: toolz>=0.9.0 in /usr/local/lib/python3.10/dist-packages (from chex>=0.1.5->optax->flax->clu->seqio-nightly->t5) (0.12.0)\n",
            "Requirement already satisfied: cachetools<6.0,>=2.0.0 in /usr/local/lib/python3.10/dist-packages (from google-auth<3,>=1.6.3->tensorboard<2.13,>=2.12->tensorflow<2.13,>=2.12.0->tensorflow-text->seqio-nightly->t5) (5.3.0)\n",
            "Requirement already satisfied: pyasn1-modules>=0.2.1 in /usr/local/lib/python3.10/dist-packages (from google-auth<3,>=1.6.3->tensorboard<2.13,>=2.12->tensorflow<2.13,>=2.12.0->tensorflow-text->seqio-nightly->t5) (0.3.0)\n",
            "Requirement already satisfied: rsa<5,>=3.1.4 in /usr/local/lib/python3.10/dist-packages (from google-auth<3,>=1.6.3->tensorboard<2.13,>=2.12->tensorflow<2.13,>=2.12.0->tensorflow-text->seqio-nightly->t5) (4.9)\n",
            "Requirement already satisfied: requests-oauthlib>=0.7.0 in /usr/local/lib/python3.10/dist-packages (from google-auth-oauthlib<1.1,>=0.5->tensorboard<2.13,>=2.12->tensorflow<2.13,>=2.12.0->tensorflow-text->seqio-nightly->t5) (1.3.1)\n",
            "Requirement already satisfied: MarkupSafe>=2.1.1 in /usr/local/lib/python3.10/dist-packages (from werkzeug>=1.0.1->tensorboard<2.13,>=2.12->tensorflow<2.13,>=2.12.0->tensorflow-text->seqio-nightly->t5) (2.1.2)\n",
            "Requirement already satisfied: pyasn1<0.6.0,>=0.4.6 in /usr/local/lib/python3.10/dist-packages (from pyasn1-modules>=0.2.1->google-auth<3,>=1.6.3->tensorboard<2.13,>=2.12->tensorflow<2.13,>=2.12.0->tensorflow-text->seqio-nightly->t5) (0.5.0)\n",
            "Requirement already satisfied: oauthlib>=3.0.0 in /usr/local/lib/python3.10/dist-packages (from requests-oauthlib>=0.7.0->google-auth-oauthlib<1.1,>=0.5->tensorboard<2.13,>=2.12->tensorflow<2.13,>=2.12.0->tensorflow-text->seqio-nightly->t5) (3.2.2)\n",
            "Building wheels for collected packages: rouge-score\n",
            "  Building wheel for rouge-score (setup.py) ... \u001b[?25l\u001b[?25hdone\n",
            "  Created wheel for rouge-score: filename=rouge_score-0.1.2-py3-none-any.whl size=24934 sha256=e9f106bf99e84af33dc4d57afba684bd724c1b9a46163b27d53ecc3631b164d4\n",
            "  Stored in directory: /root/.cache/pip/wheels/5f/dd/89/461065a73be61a532ff8599a28e9beef17985c9e9c31e541b4\n",
            "Successfully built rouge-score\n",
            "Installing collected packages: tokenizers, portalocker, mesh-tensorflow, colorama, sacrebleu, rouge-score, huggingface-hub, transformers, seqio-nightly, t5\n",
            "Successfully installed colorama-0.4.6 huggingface-hub-0.14.1 mesh-tensorflow-0.1.21 portalocker-2.7.0 rouge-score-0.1.2 sacrebleu-2.3.1 seqio-nightly-0.0.15.dev20230522 t5-0.9.4 tokenizers-0.13.3 transformers-4.29.2\n"
          ]
        },
        {
          "output_type": "display_data",
          "data": {
            "application/vnd.colab-display-data+json": {
              "pip_warning": {
                "packages": [
                  "seqio"
                ]
              }
            }
          },
          "metadata": {}
        }
      ]
    },
    {
      "cell_type": "code",
      "source": [
        "!pip install -U -q \"tf-models-official\""
      ],
      "metadata": {
        "colab": {
          "base_uri": "https://localhost:8080/"
        },
        "id": "NXB0EoJ4QAw0",
        "outputId": "f57be168-6a91-4992-f2b7-80b3e0a8a530"
      },
      "execution_count": 17,
      "outputs": [
        {
          "output_type": "stream",
          "name": "stdout",
          "text": [
            "\u001b[2K     \u001b[90m━━━━━━━━━━━━━━━━━━━━━━━━━━━━━━━━━━━━━━━━\u001b[0m \u001b[32m2.6/2.6 MB\u001b[0m \u001b[31m32.7 MB/s\u001b[0m eta \u001b[36m0:00:00\u001b[0m\n",
            "\u001b[2K     \u001b[90m━━━━━━━━━━━━━━━━━━━━━━━━━━━━━━━━━━━━━━\u001b[0m \u001b[32m175.1/175.1 kB\u001b[0m \u001b[31m19.6 MB/s\u001b[0m eta \u001b[36m0:00:00\u001b[0m\n",
            "\u001b[?25h  Installing build dependencies ... \u001b[?25l\u001b[?25hdone\n",
            "  Getting requirements to build wheel ... \u001b[?25l\u001b[?25hdone\n",
            "  Preparing metadata (pyproject.toml) ... \u001b[?25l\u001b[?25hdone\n",
            "\u001b[2K     \u001b[90m━━━━━━━━━━━━━━━━━━━━━━━━━━━━━━━━━━━━━━━━\u001b[0m \u001b[32m43.6/43.6 kB\u001b[0m \u001b[31m5.7 MB/s\u001b[0m eta \u001b[36m0:00:00\u001b[0m\n",
            "\u001b[?25h  Preparing metadata (setup.py) ... \u001b[?25l\u001b[?25hdone\n",
            "\u001b[2K     \u001b[90m━━━━━━━━━━━━━━━━━━━━━━━━━━━━━━━━━━━━━━\u001b[0m \u001b[32m240.6/240.6 kB\u001b[0m \u001b[31m26.2 MB/s\u001b[0m eta \u001b[36m0:00:00\u001b[0m\n",
            "\u001b[?25h  Building wheel for pyyaml (pyproject.toml) ... \u001b[?25l\u001b[?25hdone\n",
            "  Building wheel for seqeval (setup.py) ... \u001b[?25l\u001b[?25hdone\n"
          ]
        }
      ]
    },
    {
      "cell_type": "code",
      "source": [
        "#!pip uninstall simclr"
      ],
      "metadata": {
        "id": "ESNxpubtpi-E"
      },
      "execution_count": 18,
      "outputs": []
    },
    {
      "cell_type": "code",
      "source": [
        "#!pip uninstall t5\n",
        "#!pip install t5"
      ],
      "metadata": {
        "id": "ZVfTIL6bpX3D"
      },
      "execution_count": 19,
      "outputs": []
    },
    {
      "cell_type": "code",
      "source": [
        "!pip install immutabledict"
      ],
      "metadata": {
        "colab": {
          "base_uri": "https://localhost:8080/"
        },
        "id": "-XyZ1dRAns0i",
        "outputId": "447bdc24-a723-45f2-aaae-ef25a78cb765"
      },
      "execution_count": 20,
      "outputs": [
        {
          "output_type": "stream",
          "name": "stdout",
          "text": [
            "Looking in indexes: https://pypi.org/simple, https://us-python.pkg.dev/colab-wheels/public/simple/\n",
            "Requirement already satisfied: immutabledict in /usr/local/lib/python3.10/dist-packages (2.2.4)\n"
          ]
        }
      ]
    },
    {
      "cell_type": "code",
      "source": [
        "!pip install git+https://github.com/deepmind/dmvr.git"
      ],
      "metadata": {
        "colab": {
          "base_uri": "https://localhost:8080/"
        },
        "id": "tMeX-kjQn0T4",
        "outputId": "7128ab41-3df8-46ff-82c9-9f4602861686"
      },
      "execution_count": 21,
      "outputs": [
        {
          "output_type": "stream",
          "name": "stdout",
          "text": [
            "Looking in indexes: https://pypi.org/simple, https://us-python.pkg.dev/colab-wheels/public/simple/\n",
            "Collecting git+https://github.com/deepmind/dmvr.git\n",
            "  Cloning https://github.com/deepmind/dmvr.git to /tmp/pip-req-build-a24f8p9m\n",
            "  Running command git clone --filter=blob:none --quiet https://github.com/deepmind/dmvr.git /tmp/pip-req-build-a24f8p9m\n",
            "  Resolved https://github.com/deepmind/dmvr.git to commit 77ccedaa084d29239eaeafddb0b2e83843b613a1\n",
            "  Preparing metadata (setup.py) ... \u001b[?25l\u001b[?25hdone\n",
            "Requirement already satisfied: absl-py in /usr/local/lib/python3.10/dist-packages (from dmvr==0.0.1) (1.4.0)\n",
            "Requirement already satisfied: sentencepiece in /usr/local/lib/python3.10/dist-packages (from dmvr==0.0.1) (0.1.99)\n",
            "Requirement already satisfied: tensorflow>=2.0.0 in /usr/local/lib/python3.10/dist-packages (from dmvr==0.0.1) (2.12.0)\n",
            "Requirement already satisfied: tensorflow_text>=2.0.0 in /usr/local/lib/python3.10/dist-packages (from dmvr==0.0.1) (2.12.1)\n",
            "Requirement already satisfied: astunparse>=1.6.0 in /usr/local/lib/python3.10/dist-packages (from tensorflow>=2.0.0->dmvr==0.0.1) (1.6.3)\n",
            "Requirement already satisfied: flatbuffers>=2.0 in /usr/local/lib/python3.10/dist-packages (from tensorflow>=2.0.0->dmvr==0.0.1) (23.3.3)\n",
            "Requirement already satisfied: gast<=0.4.0,>=0.2.1 in /usr/local/lib/python3.10/dist-packages (from tensorflow>=2.0.0->dmvr==0.0.1) (0.4.0)\n",
            "Requirement already satisfied: google-pasta>=0.1.1 in /usr/local/lib/python3.10/dist-packages (from tensorflow>=2.0.0->dmvr==0.0.1) (0.2.0)\n",
            "Requirement already satisfied: grpcio<2.0,>=1.24.3 in /usr/local/lib/python3.10/dist-packages (from tensorflow>=2.0.0->dmvr==0.0.1) (1.54.0)\n",
            "Requirement already satisfied: h5py>=2.9.0 in /usr/local/lib/python3.10/dist-packages (from tensorflow>=2.0.0->dmvr==0.0.1) (3.8.0)\n",
            "Requirement already satisfied: jax>=0.3.15 in /usr/local/lib/python3.10/dist-packages (from tensorflow>=2.0.0->dmvr==0.0.1) (0.4.10)\n",
            "Requirement already satisfied: keras<2.13,>=2.12.0 in /usr/local/lib/python3.10/dist-packages (from tensorflow>=2.0.0->dmvr==0.0.1) (2.12.0)\n",
            "Requirement already satisfied: libclang>=13.0.0 in /usr/local/lib/python3.10/dist-packages (from tensorflow>=2.0.0->dmvr==0.0.1) (16.0.0)\n",
            "Requirement already satisfied: numpy<1.24,>=1.22 in /usr/local/lib/python3.10/dist-packages (from tensorflow>=2.0.0->dmvr==0.0.1) (1.23.5)\n",
            "Requirement already satisfied: opt-einsum>=2.3.2 in /usr/local/lib/python3.10/dist-packages (from tensorflow>=2.0.0->dmvr==0.0.1) (3.3.0)\n",
            "Requirement already satisfied: packaging in /usr/local/lib/python3.10/dist-packages (from tensorflow>=2.0.0->dmvr==0.0.1) (23.1)\n",
            "Requirement already satisfied: protobuf!=4.21.0,!=4.21.1,!=4.21.2,!=4.21.3,!=4.21.4,!=4.21.5,<5.0.0dev,>=3.20.3 in /usr/local/lib/python3.10/dist-packages (from tensorflow>=2.0.0->dmvr==0.0.1) (3.20.3)\n",
            "Requirement already satisfied: setuptools in /usr/local/lib/python3.10/dist-packages (from tensorflow>=2.0.0->dmvr==0.0.1) (67.7.2)\n",
            "Requirement already satisfied: six>=1.12.0 in /usr/local/lib/python3.10/dist-packages (from tensorflow>=2.0.0->dmvr==0.0.1) (1.16.0)\n",
            "Requirement already satisfied: tensorboard<2.13,>=2.12 in /usr/local/lib/python3.10/dist-packages (from tensorflow>=2.0.0->dmvr==0.0.1) (2.12.2)\n",
            "Requirement already satisfied: tensorflow-estimator<2.13,>=2.12.0 in /usr/local/lib/python3.10/dist-packages (from tensorflow>=2.0.0->dmvr==0.0.1) (2.12.0)\n",
            "Requirement already satisfied: termcolor>=1.1.0 in /usr/local/lib/python3.10/dist-packages (from tensorflow>=2.0.0->dmvr==0.0.1) (2.3.0)\n",
            "Requirement already satisfied: typing-extensions>=3.6.6 in /usr/local/lib/python3.10/dist-packages (from tensorflow>=2.0.0->dmvr==0.0.1) (4.6.0)\n",
            "Requirement already satisfied: wrapt<1.15,>=1.11.0 in /usr/local/lib/python3.10/dist-packages (from tensorflow>=2.0.0->dmvr==0.0.1) (1.14.1)\n",
            "Requirement already satisfied: tensorflow-io-gcs-filesystem>=0.23.1 in /usr/local/lib/python3.10/dist-packages (from tensorflow>=2.0.0->dmvr==0.0.1) (0.32.0)\n",
            "Requirement already satisfied: tensorflow-hub>=0.8.0 in /usr/local/lib/python3.10/dist-packages (from tensorflow_text>=2.0.0->dmvr==0.0.1) (0.13.0)\n",
            "Requirement already satisfied: wheel<1.0,>=0.23.0 in /usr/local/lib/python3.10/dist-packages (from astunparse>=1.6.0->tensorflow>=2.0.0->dmvr==0.0.1) (0.40.0)\n",
            "Requirement already satisfied: ml-dtypes>=0.1.0 in /usr/local/lib/python3.10/dist-packages (from jax>=0.3.15->tensorflow>=2.0.0->dmvr==0.0.1) (0.1.0)\n",
            "Requirement already satisfied: scipy>=1.7 in /usr/local/lib/python3.10/dist-packages (from jax>=0.3.15->tensorflow>=2.0.0->dmvr==0.0.1) (1.10.1)\n",
            "Requirement already satisfied: google-auth<3,>=1.6.3 in /usr/local/lib/python3.10/dist-packages (from tensorboard<2.13,>=2.12->tensorflow>=2.0.0->dmvr==0.0.1) (2.17.3)\n",
            "Requirement already satisfied: google-auth-oauthlib<1.1,>=0.5 in /usr/local/lib/python3.10/dist-packages (from tensorboard<2.13,>=2.12->tensorflow>=2.0.0->dmvr==0.0.1) (1.0.0)\n",
            "Requirement already satisfied: markdown>=2.6.8 in /usr/local/lib/python3.10/dist-packages (from tensorboard<2.13,>=2.12->tensorflow>=2.0.0->dmvr==0.0.1) (3.4.3)\n",
            "Requirement already satisfied: requests<3,>=2.21.0 in /usr/local/lib/python3.10/dist-packages (from tensorboard<2.13,>=2.12->tensorflow>=2.0.0->dmvr==0.0.1) (2.27.1)\n",
            "Requirement already satisfied: tensorboard-data-server<0.8.0,>=0.7.0 in /usr/local/lib/python3.10/dist-packages (from tensorboard<2.13,>=2.12->tensorflow>=2.0.0->dmvr==0.0.1) (0.7.0)\n",
            "Requirement already satisfied: tensorboard-plugin-wit>=1.6.0 in /usr/local/lib/python3.10/dist-packages (from tensorboard<2.13,>=2.12->tensorflow>=2.0.0->dmvr==0.0.1) (1.8.1)\n",
            "Requirement already satisfied: werkzeug>=1.0.1 in /usr/local/lib/python3.10/dist-packages (from tensorboard<2.13,>=2.12->tensorflow>=2.0.0->dmvr==0.0.1) (2.3.0)\n",
            "Requirement already satisfied: cachetools<6.0,>=2.0.0 in /usr/local/lib/python3.10/dist-packages (from google-auth<3,>=1.6.3->tensorboard<2.13,>=2.12->tensorflow>=2.0.0->dmvr==0.0.1) (5.3.0)\n",
            "Requirement already satisfied: pyasn1-modules>=0.2.1 in /usr/local/lib/python3.10/dist-packages (from google-auth<3,>=1.6.3->tensorboard<2.13,>=2.12->tensorflow>=2.0.0->dmvr==0.0.1) (0.3.0)\n",
            "Requirement already satisfied: rsa<5,>=3.1.4 in /usr/local/lib/python3.10/dist-packages (from google-auth<3,>=1.6.3->tensorboard<2.13,>=2.12->tensorflow>=2.0.0->dmvr==0.0.1) (4.9)\n",
            "Requirement already satisfied: requests-oauthlib>=0.7.0 in /usr/local/lib/python3.10/dist-packages (from google-auth-oauthlib<1.1,>=0.5->tensorboard<2.13,>=2.12->tensorflow>=2.0.0->dmvr==0.0.1) (1.3.1)\n",
            "Requirement already satisfied: urllib3<1.27,>=1.21.1 in /usr/local/lib/python3.10/dist-packages (from requests<3,>=2.21.0->tensorboard<2.13,>=2.12->tensorflow>=2.0.0->dmvr==0.0.1) (1.26.15)\n",
            "Requirement already satisfied: certifi>=2017.4.17 in /usr/local/lib/python3.10/dist-packages (from requests<3,>=2.21.0->tensorboard<2.13,>=2.12->tensorflow>=2.0.0->dmvr==0.0.1) (2022.12.7)\n",
            "Requirement already satisfied: charset-normalizer~=2.0.0 in /usr/local/lib/python3.10/dist-packages (from requests<3,>=2.21.0->tensorboard<2.13,>=2.12->tensorflow>=2.0.0->dmvr==0.0.1) (2.0.12)\n",
            "Requirement already satisfied: idna<4,>=2.5 in /usr/local/lib/python3.10/dist-packages (from requests<3,>=2.21.0->tensorboard<2.13,>=2.12->tensorflow>=2.0.0->dmvr==0.0.1) (3.4)\n",
            "Requirement already satisfied: MarkupSafe>=2.1.1 in /usr/local/lib/python3.10/dist-packages (from werkzeug>=1.0.1->tensorboard<2.13,>=2.12->tensorflow>=2.0.0->dmvr==0.0.1) (2.1.2)\n",
            "Requirement already satisfied: pyasn1<0.6.0,>=0.4.6 in /usr/local/lib/python3.10/dist-packages (from pyasn1-modules>=0.2.1->google-auth<3,>=1.6.3->tensorboard<2.13,>=2.12->tensorflow>=2.0.0->dmvr==0.0.1) (0.5.0)\n",
            "Requirement already satisfied: oauthlib>=3.0.0 in /usr/local/lib/python3.10/dist-packages (from requests-oauthlib>=0.7.0->google-auth-oauthlib<1.1,>=0.5->tensorboard<2.13,>=2.12->tensorflow>=2.0.0->dmvr==0.0.1) (3.2.2)\n",
            "Building wheels for collected packages: dmvr\n",
            "  Building wheel for dmvr (setup.py) ... \u001b[?25l\u001b[?25hdone\n",
            "  Created wheel for dmvr: filename=dmvr-0.0.1-py3-none-any.whl size=68061 sha256=1df24019ad93be6f38c3f03dbed7834cd8fe63e086692f2720cc84ac7f7871f8\n",
            "  Stored in directory: /tmp/pip-ephem-wheel-cache-9iufg5ek/wheels/64/fe/17/fef3f809691e275f145c69bd3f845174d4f9a30d588b544ad7\n",
            "Successfully built dmvr\n",
            "Installing collected packages: dmvr\n",
            "Successfully installed dmvr-0.0.1\n"
          ]
        }
      ]
    },
    {
      "cell_type": "code",
      "source": [
        "!pip install git+https://github.com/openai/CLIP.git"
      ],
      "metadata": {
        "colab": {
          "base_uri": "https://localhost:8080/"
        },
        "id": "N8GDZdMV_KYl",
        "outputId": "73354626-a721-400b-b155-35f64f749bc6"
      },
      "execution_count": 22,
      "outputs": [
        {
          "output_type": "stream",
          "name": "stdout",
          "text": [
            "Looking in indexes: https://pypi.org/simple, https://us-python.pkg.dev/colab-wheels/public/simple/\n",
            "Collecting git+https://github.com/openai/CLIP.git\n",
            "  Cloning https://github.com/openai/CLIP.git to /tmp/pip-req-build-u6vqslb0\n",
            "  Running command git clone --filter=blob:none --quiet https://github.com/openai/CLIP.git /tmp/pip-req-build-u6vqslb0\n",
            "  Resolved https://github.com/openai/CLIP.git to commit a9b1bf5920416aaeaec965c25dd9e8f98c864f16\n",
            "  Preparing metadata (setup.py) ... \u001b[?25l\u001b[?25hdone\n",
            "Collecting ftfy (from clip==1.0)\n",
            "  Downloading ftfy-6.1.1-py3-none-any.whl (53 kB)\n",
            "\u001b[2K     \u001b[90m━━━━━━━━━━━━━━━━━━━━━━━━━━━━━━━━━━━━━━━━\u001b[0m \u001b[32m53.1/53.1 kB\u001b[0m \u001b[31m3.1 MB/s\u001b[0m eta \u001b[36m0:00:00\u001b[0m\n",
            "\u001b[?25hRequirement already satisfied: regex in /usr/local/lib/python3.10/dist-packages (from clip==1.0) (2022.10.31)\n",
            "Requirement already satisfied: tqdm in /usr/local/lib/python3.10/dist-packages (from clip==1.0) (4.65.0)\n",
            "Requirement already satisfied: torch in /usr/local/lib/python3.10/dist-packages (from clip==1.0) (2.0.1+cu118)\n",
            "Requirement already satisfied: torchvision in /usr/local/lib/python3.10/dist-packages (from clip==1.0) (0.15.2+cu118)\n",
            "Requirement already satisfied: wcwidth>=0.2.5 in /usr/local/lib/python3.10/dist-packages (from ftfy->clip==1.0) (0.2.6)\n",
            "Requirement already satisfied: filelock in /usr/local/lib/python3.10/dist-packages (from torch->clip==1.0) (3.12.0)\n",
            "Requirement already satisfied: typing-extensions in /usr/local/lib/python3.10/dist-packages (from torch->clip==1.0) (4.6.0)\n",
            "Requirement already satisfied: sympy in /usr/local/lib/python3.10/dist-packages (from torch->clip==1.0) (1.11.1)\n",
            "Requirement already satisfied: networkx in /usr/local/lib/python3.10/dist-packages (from torch->clip==1.0) (3.1)\n",
            "Requirement already satisfied: jinja2 in /usr/local/lib/python3.10/dist-packages (from torch->clip==1.0) (3.1.2)\n",
            "Requirement already satisfied: triton==2.0.0 in /usr/local/lib/python3.10/dist-packages (from torch->clip==1.0) (2.0.0)\n",
            "Requirement already satisfied: cmake in /usr/local/lib/python3.10/dist-packages (from triton==2.0.0->torch->clip==1.0) (3.25.2)\n",
            "Requirement already satisfied: lit in /usr/local/lib/python3.10/dist-packages (from triton==2.0.0->torch->clip==1.0) (16.0.5)\n",
            "Requirement already satisfied: numpy in /usr/local/lib/python3.10/dist-packages (from torchvision->clip==1.0) (1.23.5)\n",
            "Requirement already satisfied: requests in /usr/local/lib/python3.10/dist-packages (from torchvision->clip==1.0) (2.27.1)\n",
            "Requirement already satisfied: pillow!=8.3.*,>=5.3.0 in /usr/local/lib/python3.10/dist-packages (from torchvision->clip==1.0) (8.4.0)\n",
            "Requirement already satisfied: MarkupSafe>=2.0 in /usr/local/lib/python3.10/dist-packages (from jinja2->torch->clip==1.0) (2.1.2)\n",
            "Requirement already satisfied: urllib3<1.27,>=1.21.1 in /usr/local/lib/python3.10/dist-packages (from requests->torchvision->clip==1.0) (1.26.15)\n",
            "Requirement already satisfied: certifi>=2017.4.17 in /usr/local/lib/python3.10/dist-packages (from requests->torchvision->clip==1.0) (2022.12.7)\n",
            "Requirement already satisfied: charset-normalizer~=2.0.0 in /usr/local/lib/python3.10/dist-packages (from requests->torchvision->clip==1.0) (2.0.12)\n",
            "Requirement already satisfied: idna<4,>=2.5 in /usr/local/lib/python3.10/dist-packages (from requests->torchvision->clip==1.0) (3.4)\n",
            "Requirement already satisfied: mpmath>=0.19 in /usr/local/lib/python3.10/dist-packages (from sympy->torch->clip==1.0) (1.3.0)\n",
            "Building wheels for collected packages: clip\n",
            "  Building wheel for clip (setup.py) ... \u001b[?25l\u001b[?25hdone\n",
            "  Created wheel for clip: filename=clip-1.0-py3-none-any.whl size=1369370 sha256=1a6b6a061b0a9f21a33627887aeb9cb7ca0a4927c4cd947a622c487f0c916ae3\n",
            "  Stored in directory: /tmp/pip-ephem-wheel-cache-w0wz60in/wheels/da/2b/4c/d6691fa9597aac8bb85d2ac13b112deb897d5b50f5ad9a37e4\n",
            "Successfully built clip\n",
            "Installing collected packages: ftfy, clip\n",
            "Successfully installed clip-1.0 ftfy-6.1.1\n"
          ]
        }
      ]
    },
    {
      "cell_type": "code",
      "source": [
        "!pwd"
      ],
      "metadata": {
        "colab": {
          "base_uri": "https://localhost:8080/"
        },
        "id": "EVlHd7YEnkdE",
        "outputId": "9221841c-c102-4288-ede3-b72185e43ff1"
      },
      "execution_count": 23,
      "outputs": [
        {
          "output_type": "stream",
          "name": "stdout",
          "text": [
            "/content/drive/MyDrive/scenic\n"
          ]
        }
      ]
    },
    {
      "cell_type": "code",
      "source": [
        "cd /content/drive/MyDrive/scenic"
      ],
      "metadata": {
        "colab": {
          "base_uri": "https://localhost:8080/"
        },
        "id": "SR5SD4CMnm_6",
        "outputId": "573f283d-4572-46a3-b20f-f9b5bd747938"
      },
      "execution_count": 24,
      "outputs": [
        {
          "output_type": "stream",
          "name": "stdout",
          "text": [
            "/content/drive/MyDrive/scenic\n"
          ]
        }
      ]
    },
    {
      "cell_type": "code",
      "source": [
        "!python -m scenic.projects.vid2seq.main \\\n",
        "  --config=scenic/projects/vid2seq/configs/youcook2.py \\\n",
        "  --workdir=vid2seq_base/"
      ],
      "metadata": {
        "colab": {
          "base_uri": "https://localhost:8080/"
        },
        "id": "wg3idsyC7ub4",
        "outputId": "51c2418e-d5a6-4da4-f797-aa0da9b2f76c"
      },
      "execution_count": 25,
      "outputs": [
        {
          "output_type": "stream",
          "name": "stdout",
          "text": [
            "/usr/local/lib/python3.10/dist-packages/flax/struct.py:133: FutureWarning: jax.tree_util.register_keypaths is deprecated, and will be removed in a future release. Please use `register_pytree_with_keys()` instead.\n",
            "  jax.tree_util.register_keypaths(data_clz, keypaths)\n",
            "/usr/local/lib/python3.10/dist-packages/flax/struct.py:133: FutureWarning: jax.tree_util.register_keypaths is deprecated, and will be removed in a future release. Please use `register_pytree_with_keys()` instead.\n",
            "  jax.tree_util.register_keypaths(data_clz, keypaths)\n",
            "/usr/local/lib/python3.10/dist-packages/flax/struct.py:133: FutureWarning: jax.tree_util.register_keypaths is deprecated, and will be removed in a future release. Please use `register_pytree_with_keys()` instead.\n",
            "  jax.tree_util.register_keypaths(data_clz, keypaths)\n",
            "/usr/local/lib/python3.10/dist-packages/flax/struct.py:133: FutureWarning: jax.tree_util.register_keypaths is deprecated, and will be removed in a future release. Please use `register_pytree_with_keys()` instead.\n",
            "  jax.tree_util.register_keypaths(data_clz, keypaths)\n",
            "/usr/local/lib/python3.10/dist-packages/flax/struct.py:133: FutureWarning: jax.tree_util.register_keypaths is deprecated, and will be removed in a future release. Please use `register_pytree_with_keys()` instead.\n",
            "  jax.tree_util.register_keypaths(data_clz, keypaths)\n",
            "I0523 06:00:47.500068 140516894226240 xla_bridge.py:455] Unable to initialize backend 'cuda': module 'jaxlib.xla_extension' has no attribute 'GpuAllocatorConfig'\n",
            "I0523 06:00:47.500306 140516894226240 xla_bridge.py:455] Unable to initialize backend 'rocm': module 'jaxlib.xla_extension' has no attribute 'GpuAllocatorConfig'\n",
            "I0523 06:00:47.501274 140516894226240 xla_bridge.py:455] Unable to initialize backend 'tpu': INVALID_ARGUMENT: TpuPlatform is not available.\n",
            "I0523 06:00:47.501401 140516894226240 xla_bridge.py:455] Unable to initialize backend 'plugin': xla_extension has no attributes named get_plugin_device_client. Compile TensorFlow with //tensorflow/compiler/xla/python:enable_plugin_device set to true (defaults to false) to enable this.\n",
            "W0523 06:00:47.501492 140516894226240 xla_bridge.py:463] No GPU/TPU found, falling back to CPU. (Set TF_CPP_MIN_LOG_LEVEL=0 and rerun for more info.)\n",
            "I0523 06:00:47.501607 140516894226240 app.py:84] JAX host: 0 / 1\n",
            "I0523 06:00:47.501684 140516894226240 app.py:85] JAX devices: [CpuDevice(id=0)]\n",
            "I0523 06:00:47.502090 140516894226240 local.py:45] Setting task status: host_id: 0, host_count: 1\n",
            "I0523 06:00:47.502389 140516894226240 local.py:50] Created artifact Workdir of type ArtifactType.DIRECTORY and value vid2seq_base/.\n",
            "I0523 06:00:47.529297 140516894226240 app.py:96] RNG: [0 0]\n",
            "I0523 06:00:47.679133 140516894226240 dense_video_captioning_tfrecord_dataset.py:553] device_count: 1\n",
            "I0523 06:00:47.679681 140516894226240 dense_video_captioning_tfrecord_dataset.py:554] num_hosts : 1\n",
            "I0523 06:00:47.679753 140516894226240 dense_video_captioning_tfrecord_dataset.py:555] host_id : 0\n",
            "I0523 06:00:47.680571 140516894226240 dense_video_captioning_tfrecord_dataset.py:583] local_batch_size of youcook : 32\n",
            "I0523 06:00:47.680680 140516894226240 dense_video_captioning_tfrecord_dataset.py:584] device_batch_size of youcook : 32\n",
            "I0523 06:00:47.682645 140516894226240 dense_video_captioning_tfrecord_dataset.py:445] Loading split train\n",
            "I0523 06:00:48.113457 140516894226240 dense_video_captioning_tfrecord_dataset.py:321] Preprocessing graph: [FunctionDescription(fn_name='text_indices_tokenization', fn=<function add_text_with_timestamps.<locals>.<lambda> at 0x7fcae823e710>, feature_name=None, stateful=False), FunctionDescription(fn_name='asr_indices_tokenization', fn=<function add_text_with_timestamps.<locals>.<lambda> at 0x7fcae823e830>, feature_name=None, stateful=False), FunctionDescription(fn_name='text_indices_timify', fn=<function add_text_with_timestamps.<locals>.add_timestamp at 0x7fcae823e950>, feature_name=None, stateful=False), FunctionDescription(fn_name='text_indices_reshape', fn=<function add_text_with_timestamps.<locals>.<lambda> at 0x7fcae823eef0>, feature_name='text_indices', stateful=False), FunctionDescription(fn_name='text_indices_unpad', fn=<function add_text_with_timestamps.<locals>.<lambda> at 0x7fcae823f640>, feature_name='text_indices', stateful=False), FunctionDescription(fn_name='text_indices_uneos', fn=<function add_text_with_timestamps.<locals>.<lambda> at 0x7fcae823f2e0>, feature_name='text_indices', stateful=False), FunctionDescription(fn_name='text_indices_corrupt', fn=<function add_text_with_timestamps.<locals>.corruption at 0x7fcae823f370>, feature_name=None, stateful=False), FunctionDescription(fn_name='text_indices_repad', fn=<function add_text_with_timestamps.<locals>.<lambda> at 0x7fcae823f490>, feature_name='text_indices', stateful=False), FunctionDescription(fn_name='asr_indices_reshape', fn=<function add_text_with_timestamps.<locals>.<lambda> at 0x7fcae823f5b0>, feature_name='asr_indices', stateful=False), FunctionDescription(fn_name='asr_indices_unpad', fn=<function add_text_with_timestamps.<locals>.<lambda> at 0x7fcae823f6d0>, feature_name='asr_indices', stateful=False), FunctionDescription(fn_name='asr_indices_uneos', fn=<function add_text_with_timestamps.<locals>.<lambda> at 0x7fcae823f760>, feature_name='asr_indices', stateful=False), FunctionDescription(fn_name='asr_indices_repad', fn=<function add_text_with_timestamps.<locals>.<lambda> at 0x7fcae823f7f0>, feature_name='asr_indices', stateful=False)]\n",
            "I0523 06:00:48.113696 140516894226240 dense_video_captioning_tfrecord_dataset.py:323] Postprocessing graph: []\n",
            "I0523 06:00:54.898421 140516894226240 video_dataset.py:487] Dataset created successfully\n",
            "W0523 06:00:54.898593 140516894226240 options.py:599] options.experimental_threading is deprecated. Use options.threading instead.\n",
            "I0523 06:00:55.856425 140516894226240 dense_video_captioning_tfrecord_dataset.py:445] Loading split validation\n",
            "I0523 06:00:55.909777 140516894226240 dense_video_captioning_tfrecord_dataset.py:321] Preprocessing graph: [FunctionDescription(fn_name='text_indices_tokenization', fn=<function add_text_with_timestamps.<locals>.<lambda> at 0x7fcae82bc4c0>, feature_name=None, stateful=False), FunctionDescription(fn_name='asr_indices_tokenization', fn=<function add_text_with_timestamps.<locals>.<lambda> at 0x7fcae82bcd30>, feature_name=None, stateful=False), FunctionDescription(fn_name='text_indices_timify', fn=<function add_text_with_timestamps.<locals>.add_timestamp at 0x7fcae82bfc70>, feature_name=None, stateful=False), FunctionDescription(fn_name='text_indices_reshape', fn=<function add_text_with_timestamps.<locals>.<lambda> at 0x7fcae82bdf30>, feature_name='text_indices', stateful=False), FunctionDescription(fn_name='text_indices_unpad', fn=<function add_text_with_timestamps.<locals>.<lambda> at 0x7fcae82bd480>, feature_name='text_indices', stateful=False), FunctionDescription(fn_name='text_indices_uneos', fn=<function add_text_with_timestamps.<locals>.<lambda> at 0x7fcae82bee60>, feature_name='text_indices', stateful=False), FunctionDescription(fn_name='text_indices_corrupt', fn=<function add_text_with_timestamps.<locals>.corruption at 0x7fcae81f88b0>, feature_name=None, stateful=False), FunctionDescription(fn_name='text_indices_repad', fn=<function add_text_with_timestamps.<locals>.<lambda> at 0x7fcae81fad40>, feature_name='text_indices', stateful=False), FunctionDescription(fn_name='asr_indices_reshape', fn=<function add_text_with_timestamps.<locals>.<lambda> at 0x7fcae81f8b80>, feature_name='asr_indices', stateful=False), FunctionDescription(fn_name='asr_indices_unpad', fn=<function add_text_with_timestamps.<locals>.<lambda> at 0x7fcae81f91b0>, feature_name='asr_indices', stateful=False), FunctionDescription(fn_name='asr_indices_uneos', fn=<function add_text_with_timestamps.<locals>.<lambda> at 0x7fcae81f9f30>, feature_name='asr_indices', stateful=False), FunctionDescription(fn_name='asr_indices_repad', fn=<function add_text_with_timestamps.<locals>.<lambda> at 0x7fcae81fb5b0>, feature_name='asr_indices', stateful=False)]\n",
            "I0523 06:00:55.910028 140516894226240 dense_video_captioning_tfrecord_dataset.py:323] Postprocessing graph: []\n",
            "I0523 06:00:58.115365 140516894226240 video_dataset.py:487] Dataset created successfully\n",
            "W0523 06:00:58.116945 140516894226240 options.py:599] options.experimental_threading is deprecated. Use options.threading instead.\n",
            "I0523 06:00:59.057463 140516894226240 dense_video_captioning_tfrecord_dataset.py:542] Dataset metadata:\n",
            "{'num_train_examples': 1333, 'num_eval_examples': {'validation': 457}, 'encoder_input_dtype': <class 'jax.numpy.float32'>, 'encoder_input_text_dtype': <class 'jax.numpy.int32'>, 'decoder_input_shape': {'decoder_input_tokens': (-1, 256), 'decoder_target_tokens': (-1, 256)}, 'decoder_input_dtype': <class 'jax.numpy.int32'>, 'encoder_input_shape': {'features': (-1, 100, 768), 'text': (-1, 1000)}}\n",
            "/usr/local/lib/python3.10/dist-packages/jax/_src/xla_bridge.py:658: UserWarning: jax.host_id has been renamed to jax.process_index. This alias will eventually be removed; please update your code.\n",
            "  warnings.warn(\n",
            "I0523 06:00:59.078055 140516894226240 trainer.py:451] Modality features is present for this dataset\n",
            "I0523 06:00:59.078193 140516894226240 trainer.py:451] Modality text is present for this dataset\n",
            "/usr/local/lib/python3.10/dist-packages/flax/core/lift.py:112: FutureWarning: jax.tree_flatten is deprecated, and will be removed in a future release. Use jax.tree_util.tree_flatten instead.\n",
            "  scopes, treedef = jax.tree_flatten(scope_tree)\n",
            "/usr/local/lib/python3.10/dist-packages/flax/linen/transforms.py:247: FutureWarning: jax.tree_leaves is deprecated, and will be removed in a future release. Use jax.tree_util.tree_leaves instead.\n",
            "  jax.tree_leaves(tree)))\n",
            "/usr/local/lib/python3.10/dist-packages/flax/core/scope.py:740: FutureWarning: jax.tree_leaves is deprecated, and will be removed in a future release. Use jax.tree_util.tree_leaves instead.\n",
            "  abs_value_flat = jax.tree_leaves(abs_value)\n",
            "/usr/local/lib/python3.10/dist-packages/flax/core/scope.py:741: FutureWarning: jax.tree_leaves is deprecated, and will be removed in a future release. Use jax.tree_util.tree_leaves instead.\n",
            "  value_flat = jax.tree_leaves(value)\n",
            "I0523 06:03:32.729245 140516894226240 parameter_overview.py:264] \n",
            "+------------------------------------------------------------------------------------+---------------+------------+-----------+----------+\n",
            "| Name                                                                               | Shape         | Size       | Mean      | Std      |\n",
            "+------------------------------------------------------------------------------------+---------------+------------+-----------+----------+\n",
            "| encoder/video_encoder/encoder_module/encoder_norm/scale                            | (768,)        | 768        | 1.0       | 0.0      |\n",
            "| encoder/video_encoder/encoder_module/layers_0/attention/key/kernel                 | (768, 768)    | 589,824    | 5.84e-05  | 0.0361   |\n",
            "| encoder/video_encoder/encoder_module/layers_0/attention/out/kernel                 | (768, 768)    | 589,824    | -1.49e-05 | 0.0361   |\n",
            "| encoder/video_encoder/encoder_module/layers_0/attention/query/kernel               | (768, 768)    | 589,824    | 1.02e-06  | 0.00451  |\n",
            "| encoder/video_encoder/encoder_module/layers_0/attention/value/kernel               | (768, 768)    | 589,824    | -1.75e-05 | 0.0361   |\n",
            "| encoder/video_encoder/encoder_module/layers_0/mlp/wi_0/kernel                      | (768, 2048)   | 1,572,864  | -6.09e-06 | 0.0361   |\n",
            "| encoder/video_encoder/encoder_module/layers_0/mlp/wi_1/kernel                      | (768, 2048)   | 1,572,864  | -3.83e-05 | 0.0361   |\n",
            "| encoder/video_encoder/encoder_module/layers_0/mlp/wo/kernel                        | (2048, 768)   | 1,572,864  | 1.53e-05  | 0.0221   |\n",
            "| encoder/video_encoder/encoder_module/layers_0/pre_attention_layer_norm/scale       | (768,)        | 768        | 1.0       | 0.0      |\n",
            "| encoder/video_encoder/encoder_module/layers_0/pre_mlp_layer_norm/scale             | (768,)        | 768        | 1.0       | 0.0      |\n",
            "| encoder/video_encoder/encoder_module/layers_1/attention/key/kernel                 | (768, 768)    | 589,824    | -1.92e-05 | 0.0361   |\n",
            "| encoder/video_encoder/encoder_module/layers_1/attention/out/kernel                 | (768, 768)    | 589,824    | -1.66e-05 | 0.0361   |\n",
            "| encoder/video_encoder/encoder_module/layers_1/attention/query/kernel               | (768, 768)    | 589,824    | 2.93e-06  | 0.00451  |\n",
            "| encoder/video_encoder/encoder_module/layers_1/attention/value/kernel               | (768, 768)    | 589,824    | -2.89e-05 | 0.036    |\n",
            "| encoder/video_encoder/encoder_module/layers_1/mlp/wi_0/kernel                      | (768, 2048)   | 1,572,864  | -1.72e-05 | 0.0361   |\n",
            "| encoder/video_encoder/encoder_module/layers_1/mlp/wi_1/kernel                      | (768, 2048)   | 1,572,864  | 7.5e-06   | 0.0361   |\n",
            "| encoder/video_encoder/encoder_module/layers_1/mlp/wo/kernel                        | (2048, 768)   | 1,572,864  | -1.06e-05 | 0.0221   |\n",
            "| encoder/video_encoder/encoder_module/layers_1/pre_attention_layer_norm/scale       | (768,)        | 768        | 1.0       | 0.0      |\n",
            "| encoder/video_encoder/encoder_module/layers_1/pre_mlp_layer_norm/scale             | (768,)        | 768        | 1.0       | 0.0      |\n",
            "| encoder/video_encoder/encoder_module/layers_10/attention/key/kernel                | (768, 768)    | 589,824    | 5.19e-05  | 0.0361   |\n",
            "| encoder/video_encoder/encoder_module/layers_10/attention/out/kernel                | (768, 768)    | 589,824    | -1.72e-05 | 0.0361   |\n",
            "| encoder/video_encoder/encoder_module/layers_10/attention/query/kernel              | (768, 768)    | 589,824    | 2.26e-06  | 0.00451  |\n",
            "| encoder/video_encoder/encoder_module/layers_10/attention/value/kernel              | (768, 768)    | 589,824    | 3.43e-05  | 0.0361   |\n",
            "| encoder/video_encoder/encoder_module/layers_10/mlp/wi_0/kernel                     | (768, 2048)   | 1,572,864  | -3.63e-05 | 0.0361   |\n",
            "| encoder/video_encoder/encoder_module/layers_10/mlp/wi_1/kernel                     | (768, 2048)   | 1,572,864  | -2.42e-05 | 0.0361   |\n",
            "| encoder/video_encoder/encoder_module/layers_10/mlp/wo/kernel                       | (2048, 768)   | 1,572,864  | -2.35e-06 | 0.0221   |\n",
            "| encoder/video_encoder/encoder_module/layers_10/pre_attention_layer_norm/scale      | (768,)        | 768        | 1.0       | 0.0      |\n",
            "| encoder/video_encoder/encoder_module/layers_10/pre_mlp_layer_norm/scale            | (768,)        | 768        | 1.0       | 0.0      |\n",
            "| encoder/video_encoder/encoder_module/layers_11/attention/key/kernel                | (768, 768)    | 589,824    | 6.81e-05  | 0.0361   |\n",
            "| encoder/video_encoder/encoder_module/layers_11/attention/out/kernel                | (768, 768)    | 589,824    | -7.35e-07 | 0.0361   |\n",
            "| encoder/video_encoder/encoder_module/layers_11/attention/query/kernel              | (768, 768)    | 589,824    | -1.09e-05 | 0.0045   |\n",
            "| encoder/video_encoder/encoder_module/layers_11/attention/value/kernel              | (768, 768)    | 589,824    | 8.87e-06  | 0.0361   |\n",
            "| encoder/video_encoder/encoder_module/layers_11/mlp/wi_0/kernel                     | (768, 2048)   | 1,572,864  | 1.57e-05  | 0.0361   |\n",
            "| encoder/video_encoder/encoder_module/layers_11/mlp/wi_1/kernel                     | (768, 2048)   | 1,572,864  | -1.68e-05 | 0.0361   |\n",
            "| encoder/video_encoder/encoder_module/layers_11/mlp/wo/kernel                       | (2048, 768)   | 1,572,864  | 1.51e-05  | 0.0221   |\n",
            "| encoder/video_encoder/encoder_module/layers_11/pre_attention_layer_norm/scale      | (768,)        | 768        | 1.0       | 0.0      |\n",
            "| encoder/video_encoder/encoder_module/layers_11/pre_mlp_layer_norm/scale            | (768,)        | 768        | 1.0       | 0.0      |\n",
            "| encoder/video_encoder/encoder_module/layers_2/attention/key/kernel                 | (768, 768)    | 589,824    | 9.63e-06  | 0.036    |\n",
            "| encoder/video_encoder/encoder_module/layers_2/attention/out/kernel                 | (768, 768)    | 589,824    | 2.41e-06  | 0.036    |\n",
            "| encoder/video_encoder/encoder_module/layers_2/attention/query/kernel               | (768, 768)    | 589,824    | -7.69e-06 | 0.00451  |\n",
            "| encoder/video_encoder/encoder_module/layers_2/attention/value/kernel               | (768, 768)    | 589,824    | 2.56e-05  | 0.0361   |\n",
            "| encoder/video_encoder/encoder_module/layers_2/mlp/wi_0/kernel                      | (768, 2048)   | 1,572,864  | 5.77e-06  | 0.0361   |\n",
            "| encoder/video_encoder/encoder_module/layers_2/mlp/wi_1/kernel                      | (768, 2048)   | 1,572,864  | -2.75e-05 | 0.0361   |\n",
            "| encoder/video_encoder/encoder_module/layers_2/mlp/wo/kernel                        | (2048, 768)   | 1,572,864  | -2.02e-05 | 0.0221   |\n",
            "| encoder/video_encoder/encoder_module/layers_2/pre_attention_layer_norm/scale       | (768,)        | 768        | 1.0       | 0.0      |\n",
            "| encoder/video_encoder/encoder_module/layers_2/pre_mlp_layer_norm/scale             | (768,)        | 768        | 1.0       | 0.0      |\n",
            "| encoder/video_encoder/encoder_module/layers_3/attention/key/kernel                 | (768, 768)    | 589,824    | -3.15e-05 | 0.036    |\n",
            "| encoder/video_encoder/encoder_module/layers_3/attention/out/kernel                 | (768, 768)    | 589,824    | 9.08e-05  | 0.0361   |\n",
            "| encoder/video_encoder/encoder_module/layers_3/attention/query/kernel               | (768, 768)    | 589,824    | -5.29e-08 | 0.0045   |\n",
            "| encoder/video_encoder/encoder_module/layers_3/attention/value/kernel               | (768, 768)    | 589,824    | 0.000106  | 0.0361   |\n",
            "| encoder/video_encoder/encoder_module/layers_3/mlp/wi_0/kernel                      | (768, 2048)   | 1,572,864  | -1.45e-05 | 0.0361   |\n",
            "| encoder/video_encoder/encoder_module/layers_3/mlp/wi_1/kernel                      | (768, 2048)   | 1,572,864  | -2.46e-05 | 0.0361   |\n",
            "| encoder/video_encoder/encoder_module/layers_3/mlp/wo/kernel                        | (2048, 768)   | 1,572,864  | 1.62e-05  | 0.0221   |\n",
            "| encoder/video_encoder/encoder_module/layers_3/pre_attention_layer_norm/scale       | (768,)        | 768        | 1.0       | 0.0      |\n",
            "| encoder/video_encoder/encoder_module/layers_3/pre_mlp_layer_norm/scale             | (768,)        | 768        | 1.0       | 0.0      |\n",
            "| encoder/video_encoder/encoder_module/layers_4/attention/key/kernel                 | (768, 768)    | 589,824    | 5.63e-05  | 0.0361   |\n",
            "| encoder/video_encoder/encoder_module/layers_4/attention/out/kernel                 | (768, 768)    | 589,824    | 4.95e-05  | 0.0362   |\n",
            "| encoder/video_encoder/encoder_module/layers_4/attention/query/kernel               | (768, 768)    | 589,824    | 3.92e-06  | 0.0045   |\n",
            "| encoder/video_encoder/encoder_module/layers_4/attention/value/kernel               | (768, 768)    | 589,824    | 3.22e-05  | 0.0361   |\n",
            "| encoder/video_encoder/encoder_module/layers_4/mlp/wi_0/kernel                      | (768, 2048)   | 1,572,864  | 3.32e-05  | 0.0361   |\n",
            "| encoder/video_encoder/encoder_module/layers_4/mlp/wi_1/kernel                      | (768, 2048)   | 1,572,864  | 5.56e-05  | 0.0361   |\n",
            "| encoder/video_encoder/encoder_module/layers_4/mlp/wo/kernel                        | (2048, 768)   | 1,572,864  | 2.86e-05  | 0.0221   |\n",
            "| encoder/video_encoder/encoder_module/layers_4/pre_attention_layer_norm/scale       | (768,)        | 768        | 1.0       | 0.0      |\n",
            "| encoder/video_encoder/encoder_module/layers_4/pre_mlp_layer_norm/scale             | (768,)        | 768        | 1.0       | 0.0      |\n",
            "| encoder/video_encoder/encoder_module/layers_5/attention/key/kernel                 | (768, 768)    | 589,824    | -2.27e-05 | 0.0361   |\n",
            "| encoder/video_encoder/encoder_module/layers_5/attention/out/kernel                 | (768, 768)    | 589,824    | -1.91e-05 | 0.0361   |\n",
            "| encoder/video_encoder/encoder_module/layers_5/attention/query/kernel               | (768, 768)    | 589,824    | -1.81e-06 | 0.00451  |\n",
            "| encoder/video_encoder/encoder_module/layers_5/attention/value/kernel               | (768, 768)    | 589,824    | 3.34e-06  | 0.0361   |\n",
            "| encoder/video_encoder/encoder_module/layers_5/mlp/wi_0/kernel                      | (768, 2048)   | 1,572,864  | -4.16e-05 | 0.0361   |\n",
            "| encoder/video_encoder/encoder_module/layers_5/mlp/wi_1/kernel                      | (768, 2048)   | 1,572,864  | -4.13e-05 | 0.0361   |\n",
            "| encoder/video_encoder/encoder_module/layers_5/mlp/wo/kernel                        | (2048, 768)   | 1,572,864  | -1.88e-05 | 0.0221   |\n",
            "| encoder/video_encoder/encoder_module/layers_5/pre_attention_layer_norm/scale       | (768,)        | 768        | 1.0       | 0.0      |\n",
            "| encoder/video_encoder/encoder_module/layers_5/pre_mlp_layer_norm/scale             | (768,)        | 768        | 1.0       | 0.0      |\n",
            "| encoder/video_encoder/encoder_module/layers_6/attention/key/kernel                 | (768, 768)    | 589,824    | 2.23e-05  | 0.036    |\n",
            "| encoder/video_encoder/encoder_module/layers_6/attention/out/kernel                 | (768, 768)    | 589,824    | 6e-05     | 0.0361   |\n",
            "| encoder/video_encoder/encoder_module/layers_6/attention/query/kernel               | (768, 768)    | 589,824    | 4.8e-06   | 0.00451  |\n",
            "| encoder/video_encoder/encoder_module/layers_6/attention/value/kernel               | (768, 768)    | 589,824    | -1.61e-05 | 0.0361   |\n",
            "I0523 06:03:32.787630 140516894226240 parameter_overview.py:264] \n",
            "| encoder/video_encoder/encoder_module/layers_6/mlp/wi_0/kernel                      | (768, 2048)   | 1,572,864  | -5.63e-06 | 0.0361   |\n",
            "| encoder/video_encoder/encoder_module/layers_6/mlp/wi_1/kernel                      | (768, 2048)   | 1,572,864  | -4.8e-06  | 0.0361   |\n",
            "| encoder/video_encoder/encoder_module/layers_6/mlp/wo/kernel                        | (2048, 768)   | 1,572,864  | 1.03e-05  | 0.0221   |\n",
            "| encoder/video_encoder/encoder_module/layers_6/pre_attention_layer_norm/scale       | (768,)        | 768        | 1.0       | 0.0      |\n",
            "| encoder/video_encoder/encoder_module/layers_6/pre_mlp_layer_norm/scale             | (768,)        | 768        | 1.0       | 0.0      |\n",
            "| encoder/video_encoder/encoder_module/layers_7/attention/key/kernel                 | (768, 768)    | 589,824    | -1.29e-05 | 0.0361   |\n",
            "| encoder/video_encoder/encoder_module/layers_7/attention/out/kernel                 | (768, 768)    | 589,824    | -1.6e-05  | 0.036    |\n",
            "| encoder/video_encoder/encoder_module/layers_7/attention/query/kernel               | (768, 768)    | 589,824    | 3.32e-07  | 0.00452  |\n",
            "| encoder/video_encoder/encoder_module/layers_7/attention/value/kernel               | (768, 768)    | 589,824    | -0.000101 | 0.0361   |\n",
            "| encoder/video_encoder/encoder_module/layers_7/mlp/wi_0/kernel                      | (768, 2048)   | 1,572,864  | -1.56e-05 | 0.0361   |\n",
            "| encoder/video_encoder/encoder_module/layers_7/mlp/wi_1/kernel                      | (768, 2048)   | 1,572,864  | 1.87e-05  | 0.0361   |\n",
            "| encoder/video_encoder/encoder_module/layers_7/mlp/wo/kernel                        | (2048, 768)   | 1,572,864  | -1.16e-05 | 0.0221   |\n",
            "| encoder/video_encoder/encoder_module/layers_7/pre_attention_layer_norm/scale       | (768,)        | 768        | 1.0       | 0.0      |\n",
            "| encoder/video_encoder/encoder_module/layers_7/pre_mlp_layer_norm/scale             | (768,)        | 768        | 1.0       | 0.0      |\n",
            "| encoder/video_encoder/encoder_module/layers_8/attention/key/kernel                 | (768, 768)    | 589,824    | 5.56e-05  | 0.0361   |\n",
            "| encoder/video_encoder/encoder_module/layers_8/attention/out/kernel                 | (768, 768)    | 589,824    | 2.31e-05  | 0.0361   |\n",
            "| encoder/video_encoder/encoder_module/layers_8/attention/query/kernel               | (768, 768)    | 589,824    | 2.73e-06  | 0.00451  |\n",
            "| encoder/video_encoder/encoder_module/layers_8/attention/value/kernel               | (768, 768)    | 589,824    | 1.92e-06  | 0.0361   |\n",
            "| encoder/video_encoder/encoder_module/layers_8/mlp/wi_0/kernel                      | (768, 2048)   | 1,572,864  | 2.88e-05  | 0.0361   |\n",
            "| encoder/video_encoder/encoder_module/layers_8/mlp/wi_1/kernel                      | (768, 2048)   | 1,572,864  | -1.88e-05 | 0.0361   |\n",
            "| encoder/video_encoder/encoder_module/layers_8/mlp/wo/kernel                        | (2048, 768)   | 1,572,864  | 3.47e-05  | 0.0221   |\n",
            "| encoder/video_encoder/encoder_module/layers_8/pre_attention_layer_norm/scale       | (768,)        | 768        | 1.0       | 0.0      |\n",
            "| encoder/video_encoder/encoder_module/layers_8/pre_mlp_layer_norm/scale             | (768,)        | 768        | 1.0       | 0.0      |\n",
            "| encoder/video_encoder/encoder_module/layers_9/attention/key/kernel                 | (768, 768)    | 589,824    | 1.19e-05  | 0.0361   |\n",
            "| encoder/video_encoder/encoder_module/layers_9/attention/out/kernel                 | (768, 768)    | 589,824    | 3.79e-06  | 0.036    |\n",
            "| encoder/video_encoder/encoder_module/layers_9/attention/query/kernel               | (768, 768)    | 589,824    | 4.13e-06  | 0.00451  |\n",
            "| encoder/video_encoder/encoder_module/layers_9/attention/value/kernel               | (768, 768)    | 589,824    | -1.37e-05 | 0.0361   |\n",
            "| encoder/video_encoder/encoder_module/layers_9/mlp/wi_0/kernel                      | (768, 2048)   | 1,572,864  | 3.27e-06  | 0.0361   |\n",
            "| encoder/video_encoder/encoder_module/layers_9/mlp/wi_1/kernel                      | (768, 2048)   | 1,572,864  | 1.56e-05  | 0.0361   |\n",
            "| encoder/video_encoder/encoder_module/layers_9/mlp/wo/kernel                        | (2048, 768)   | 1,572,864  | -6.92e-06 | 0.0221   |\n",
            "| encoder/video_encoder/encoder_module/layers_9/pre_attention_layer_norm/scale       | (768,)        | 768        | 1.0       | 0.0      |\n",
            "| encoder/video_encoder/encoder_module/layers_9/pre_mlp_layer_norm/scale             | (768,)        | 768        | 1.0       | 0.0      |\n",
            "| encoder/video_encoder/encoder_module/relpos_bias/rel_embedding                     | (12, 32)      | 384        | -0.00778  | 0.22     |\n",
            "| encoder/visual_encoder/encoder_norm/bias                                           | (768,)        | 768        | 0.0       | 0.0      |\n",
            "| encoder/visual_encoder/encoder_norm/scale                                          | (768,)        | 768        | 1.0       | 0.0      |\n",
            "| encoder/visual_encoder/encoderblock_0/LayerNorm_0/bias                             | (768,)        | 768        | 0.0       | 0.0      |\n",
            "| encoder/visual_encoder/encoderblock_0/LayerNorm_0/scale                            | (768,)        | 768        | 1.0       | 0.0      |\n",
            "| encoder/visual_encoder/encoderblock_0/LayerNorm_1/bias                             | (768,)        | 768        | 0.0       | 0.0      |\n",
            "| encoder/visual_encoder/encoderblock_0/LayerNorm_1/scale                            | (768,)        | 768        | 1.0       | 0.0      |\n",
            "| encoder/visual_encoder/encoderblock_0/MlpBlock_0/Dense_0/bias                      | (2048,)       | 2,048      | -3.01e-08 | 1.04e-06 |\n",
            "| encoder/visual_encoder/encoderblock_0/MlpBlock_0/Dense_0/kernel                    | (768, 2048)   | 1,572,864  | 3.64e-06  | 0.0267   |\n",
            "| encoder/visual_encoder/encoderblock_0/MlpBlock_0/Dense_1/bias                      | (768,)        | 768        | -2.56e-08 | 9.97e-07 |\n",
            "| encoder/visual_encoder/encoderblock_0/MlpBlock_0/Dense_1/kernel                    | (2048, 768)   | 1,572,864  | -2.91e-05 | 0.0266   |\n",
            "| encoder/visual_encoder/encoderblock_0/MultiHeadDotProductAttention_0/key/bias      | (12, 64)      | 768        | 0.0       | 0.0      |\n",
            "| encoder/visual_encoder/encoderblock_0/MultiHeadDotProductAttention_0/key/kernel    | (768, 12, 64) | 589,824    | 2.29e-05  | 0.0361   |\n",
            "| encoder/visual_encoder/encoderblock_0/MultiHeadDotProductAttention_0/out/bias      | (768,)        | 768        | 0.0       | 0.0      |\n",
            "| encoder/visual_encoder/encoderblock_0/MultiHeadDotProductAttention_0/out/kernel    | (12, 64, 768) | 589,824    | -8.1e-06  | 0.0361   |\n",
            "| encoder/visual_encoder/encoderblock_0/MultiHeadDotProductAttention_0/query/bias    | (12, 64)      | 768        | 0.0       | 0.0      |\n",
            "| encoder/visual_encoder/encoderblock_0/MultiHeadDotProductAttention_0/query/kernel  | (768, 12, 64) | 589,824    | 6.75e-05  | 0.0361   |\n",
            "| encoder/visual_encoder/encoderblock_0/MultiHeadDotProductAttention_0/value/bias    | (12, 64)      | 768        | 0.0       | 0.0      |\n",
            "| encoder/visual_encoder/encoderblock_0/MultiHeadDotProductAttention_0/value/kernel  | (768, 12, 64) | 589,824    | 4.05e-05  | 0.0361   |\n",
            "| encoder/visual_encoder/encoderblock_1/LayerNorm_0/bias                             | (768,)        | 768        | 0.0       | 0.0      |\n",
            "| encoder/visual_encoder/encoderblock_1/LayerNorm_0/scale                            | (768,)        | 768        | 1.0       | 0.0      |\n",
            "| encoder/visual_encoder/encoderblock_1/LayerNorm_1/bias                             | (768,)        | 768        | 0.0       | 0.0      |\n",
            "| encoder/visual_encoder/encoderblock_1/LayerNorm_1/scale                            | (768,)        | 768        | 1.0       | 0.0      |\n",
            "| encoder/visual_encoder/encoderblock_1/MlpBlock_0/Dense_0/bias                      | (2048,)       | 2,048      | 2.02e-08  | 1e-06    |\n",
            "| encoder/visual_encoder/encoderblock_1/MlpBlock_0/Dense_0/kernel                    | (768, 2048)   | 1,572,864  | -1.23e-05 | 0.0266   |\n",
            "| encoder/visual_encoder/encoderblock_1/MlpBlock_0/Dense_1/bias                      | (768,)        | 768        | -2.38e-08 | 9.52e-07 |\n",
            "| encoder/visual_encoder/encoderblock_1/MlpBlock_0/Dense_1/kernel                    | (2048, 768)   | 1,572,864  | 1.56e-05  | 0.0267   |\n",
            "| encoder/visual_encoder/encoderblock_1/MultiHeadDotProductAttention_0/key/bias      | (12, 64)      | 768        | 0.0       | 0.0      |\n",
            "| encoder/visual_encoder/encoderblock_1/MultiHeadDotProductAttention_0/key/kernel    | (768, 12, 64) | 589,824    | -6.08e-05 | 0.0361   |\n",
            "| encoder/visual_encoder/encoderblock_1/MultiHeadDotProductAttention_0/out/bias      | (768,)        | 768        | 0.0       | 0.0      |\n",
            "| encoder/visual_encoder/encoderblock_1/MultiHeadDotProductAttention_0/out/kernel    | (12, 64, 768) | 589,824    | -3.69e-05 | 0.0361   |\n",
            "| encoder/visual_encoder/encoderblock_1/MultiHeadDotProductAttention_0/query/bias    | (12, 64)      | 768        | 0.0       | 0.0      |\n",
            "| encoder/visual_encoder/encoderblock_1/MultiHeadDotProductAttention_0/query/kernel  | (768, 12, 64) | 589,824    | -9.09e-05 | 0.0361   |\n",
            "| encoder/visual_encoder/encoderblock_1/MultiHeadDotProductAttention_0/value/bias    | (12, 64)      | 768        | 0.0       | 0.0      |\n",
            "| encoder/visual_encoder/encoderblock_1/MultiHeadDotProductAttention_0/value/kernel  | (768, 12, 64) | 589,824    | 7.24e-05  | 0.0361   |\n",
            "| encoder/visual_encoder/encoderblock_10/LayerNorm_0/bias                            | (768,)        | 768        | 0.0       | 0.0      |\n",
            "| encoder/visual_encoder/encoderblock_10/LayerNorm_0/scale                           | (768,)        | 768        | 1.0       | 0.0      |\n",
            "| encoder/visual_encoder/encoderblock_10/LayerNorm_1/bias                            | (768,)        | 768        | 0.0       | 0.0      |\n",
            "| encoder/visual_encoder/encoderblock_10/LayerNorm_1/scale                           | (768,)        | 768        | 1.0       | 0.0      |\n",
            "| encoder/visual_encoder/encoderblock_10/MlpBlock_0/Dense_0/bias                     | (2048,)       | 2,048      | -4.42e-08 | 1.01e-06 |\n",
            "| encoder/visual_encoder/encoderblock_10/MlpBlock_0/Dense_0/kernel                   | (768, 2048)   | 1,572,864  | 4.57e-06  | 0.0267   |\n",
            "| encoder/visual_encoder/encoderblock_10/MlpBlock_0/Dense_1/bias                     | (768,)        | 768        | 3.25e-08  | 1.03e-06 |\n",
            "| encoder/visual_encoder/encoderblock_10/MlpBlock_0/Dense_1/kernel                   | (2048, 768)   | 1,572,864  | 9.23e-06  | 0.0267   |\n",
            "| encoder/visual_encoder/encoderblock_10/MultiHeadDotProductAttention_0/key/bias     | (12, 64)      | 768        | 0.0       | 0.0      |\n",
            "| encoder/visual_encoder/encoderblock_10/MultiHeadDotProductAttention_0/key/kernel   | (768, 12, 64) | 589,824    | 3.49e-06  | 0.0361   |\n",
            "| encoder/visual_encoder/encoderblock_10/MultiHeadDotProductAttention_0/out/bias     | (768,)        | 768        | 0.0       | 0.0      |\n",
            "| encoder/visual_encoder/encoderblock_10/MultiHeadDotProductAttention_0/out/kernel   | (12, 64, 768) | 589,824    | -5.33e-05 | 0.0361   |\n",
            "| encoder/visual_encoder/encoderblock_10/MultiHeadDotProductAttention_0/query/bias   | (12, 64)      | 768        | 0.0       | 0.0      |\n",
            "I0523 06:03:32.788756 140516894226240 parameter_overview.py:264] \n",
            "| encoder/visual_encoder/encoderblock_10/MultiHeadDotProductAttention_0/query/kernel | (768, 12, 64) | 589,824    | 2.96e-05  | 0.0361   |\n",
            "| encoder/visual_encoder/encoderblock_10/MultiHeadDotProductAttention_0/value/bias   | (12, 64)      | 768        | 0.0       | 0.0      |\n",
            "| encoder/visual_encoder/encoderblock_10/MultiHeadDotProductAttention_0/value/kernel | (768, 12, 64) | 589,824    | -7.61e-06 | 0.0361   |\n",
            "| encoder/visual_encoder/encoderblock_11/LayerNorm_0/bias                            | (768,)        | 768        | 0.0       | 0.0      |\n",
            "| encoder/visual_encoder/encoderblock_11/LayerNorm_0/scale                           | (768,)        | 768        | 1.0       | 0.0      |\n",
            "| encoder/visual_encoder/encoderblock_11/LayerNorm_1/bias                            | (768,)        | 768        | 0.0       | 0.0      |\n",
            "| encoder/visual_encoder/encoderblock_11/LayerNorm_1/scale                           | (768,)        | 768        | 1.0       | 0.0      |\n",
            "| encoder/visual_encoder/encoderblock_11/MlpBlock_0/Dense_0/bias                     | (2048,)       | 2,048      | -7.49e-09 | 1.04e-06 |\n",
            "| encoder/visual_encoder/encoderblock_11/MlpBlock_0/Dense_0/kernel                   | (768, 2048)   | 1,572,864  | 2.75e-05  | 0.0266   |\n",
            "| encoder/visual_encoder/encoderblock_11/MlpBlock_0/Dense_1/bias                     | (768,)        | 768        | -8.03e-08 | 1.09e-06 |\n",
            "| encoder/visual_encoder/encoderblock_11/MlpBlock_0/Dense_1/kernel                   | (2048, 768)   | 1,572,864  | 1.49e-05  | 0.0266   |\n",
            "| encoder/visual_encoder/encoderblock_11/MultiHeadDotProductAttention_0/key/bias     | (12, 64)      | 768        | 0.0       | 0.0      |\n",
            "| encoder/visual_encoder/encoderblock_11/MultiHeadDotProductAttention_0/key/kernel   | (768, 12, 64) | 589,824    | 9e-05     | 0.0361   |\n",
            "| encoder/visual_encoder/encoderblock_11/MultiHeadDotProductAttention_0/out/bias     | (768,)        | 768        | 0.0       | 0.0      |\n",
            "| encoder/visual_encoder/encoderblock_11/MultiHeadDotProductAttention_0/out/kernel   | (12, 64, 768) | 589,824    | -3.67e-06 | 0.036    |\n",
            "| encoder/visual_encoder/encoderblock_11/MultiHeadDotProductAttention_0/query/bias   | (12, 64)      | 768        | 0.0       | 0.0      |\n",
            "| encoder/visual_encoder/encoderblock_11/MultiHeadDotProductAttention_0/query/kernel | (768, 12, 64) | 589,824    | 4.45e-05  | 0.0361   |\n",
            "| encoder/visual_encoder/encoderblock_11/MultiHeadDotProductAttention_0/value/bias   | (12, 64)      | 768        | 0.0       | 0.0      |\n",
            "| encoder/visual_encoder/encoderblock_11/MultiHeadDotProductAttention_0/value/kernel | (768, 12, 64) | 589,824    | 5.84e-05  | 0.0361   |\n",
            "| encoder/visual_encoder/encoderblock_2/LayerNorm_0/bias                             | (768,)        | 768        | 0.0       | 0.0      |\n",
            "| encoder/visual_encoder/encoderblock_2/LayerNorm_0/scale                            | (768,)        | 768        | 1.0       | 0.0      |\n",
            "| encoder/visual_encoder/encoderblock_2/LayerNorm_1/bias                             | (768,)        | 768        | 0.0       | 0.0      |\n",
            "| encoder/visual_encoder/encoderblock_2/LayerNorm_1/scale                            | (768,)        | 768        | 1.0       | 0.0      |\n",
            "| encoder/visual_encoder/encoderblock_2/MlpBlock_0/Dense_0/bias                      | (2048,)       | 2,048      | 1.58e-08  | 1.01e-06 |\n",
            "| encoder/visual_encoder/encoderblock_2/MlpBlock_0/Dense_0/kernel                    | (768, 2048)   | 1,572,864  | -9.28e-06 | 0.0267   |\n",
            "| encoder/visual_encoder/encoderblock_2/MlpBlock_0/Dense_1/bias                      | (768,)        | 768        | -3.46e-08 | 1.02e-06 |\n",
            "| encoder/visual_encoder/encoderblock_2/MlpBlock_0/Dense_1/kernel                    | (2048, 768)   | 1,572,864  | -2.35e-05 | 0.0266   |\n",
            "| encoder/visual_encoder/encoderblock_2/MultiHeadDotProductAttention_0/key/bias      | (12, 64)      | 768        | 0.0       | 0.0      |\n",
            "| encoder/visual_encoder/encoderblock_2/MultiHeadDotProductAttention_0/key/kernel    | (768, 12, 64) | 589,824    | -9.81e-05 | 0.0361   |\n",
            "| encoder/visual_encoder/encoderblock_2/MultiHeadDotProductAttention_0/out/bias      | (768,)        | 768        | 0.0       | 0.0      |\n",
            "| encoder/visual_encoder/encoderblock_2/MultiHeadDotProductAttention_0/out/kernel    | (12, 64, 768) | 589,824    | 4.83e-05  | 0.0361   |\n",
            "| encoder/visual_encoder/encoderblock_2/MultiHeadDotProductAttention_0/query/bias    | (12, 64)      | 768        | 0.0       | 0.0      |\n",
            "| encoder/visual_encoder/encoderblock_2/MultiHeadDotProductAttention_0/query/kernel  | (768, 12, 64) | 589,824    | 0.000113  | 0.0361   |\n",
            "| encoder/visual_encoder/encoderblock_2/MultiHeadDotProductAttention_0/value/bias    | (12, 64)      | 768        | 0.0       | 0.0      |\n",
            "| encoder/visual_encoder/encoderblock_2/MultiHeadDotProductAttention_0/value/kernel  | (768, 12, 64) | 589,824    | -4.81e-05 | 0.0361   |\n",
            "| encoder/visual_encoder/encoderblock_3/LayerNorm_0/bias                             | (768,)        | 768        | 0.0       | 0.0      |\n",
            "| encoder/visual_encoder/encoderblock_3/LayerNorm_0/scale                            | (768,)        | 768        | 1.0       | 0.0      |\n",
            "| encoder/visual_encoder/encoderblock_3/LayerNorm_1/bias                             | (768,)        | 768        | 0.0       | 0.0      |\n",
            "| encoder/visual_encoder/encoderblock_3/LayerNorm_1/scale                            | (768,)        | 768        | 1.0       | 0.0      |\n",
            "| encoder/visual_encoder/encoderblock_3/MlpBlock_0/Dense_0/bias                      | (2048,)       | 2,048      | 1.27e-08  | 9.83e-07 |\n",
            "| encoder/visual_encoder/encoderblock_3/MlpBlock_0/Dense_0/kernel                    | (768, 2048)   | 1,572,864  | 2.4e-05   | 0.0266   |\n",
            "| encoder/visual_encoder/encoderblock_3/MlpBlock_0/Dense_1/bias                      | (768,)        | 768        | -5.66e-08 | 1.02e-06 |\n",
            "| encoder/visual_encoder/encoderblock_3/MlpBlock_0/Dense_1/kernel                    | (2048, 768)   | 1,572,864  | -2.21e-05 | 0.0266   |\n",
            "| encoder/visual_encoder/encoderblock_3/MultiHeadDotProductAttention_0/key/bias      | (12, 64)      | 768        | 0.0       | 0.0      |\n",
            "| encoder/visual_encoder/encoderblock_3/MultiHeadDotProductAttention_0/key/kernel    | (768, 12, 64) | 589,824    | -8.66e-05 | 0.0361   |\n",
            "| encoder/visual_encoder/encoderblock_3/MultiHeadDotProductAttention_0/out/bias      | (768,)        | 768        | 0.0       | 0.0      |\n",
            "| encoder/visual_encoder/encoderblock_3/MultiHeadDotProductAttention_0/out/kernel    | (12, 64, 768) | 589,824    | -2.21e-06 | 0.0361   |\n",
            "| encoder/visual_encoder/encoderblock_3/MultiHeadDotProductAttention_0/query/bias    | (12, 64)      | 768        | 0.0       | 0.0      |\n",
            "| encoder/visual_encoder/encoderblock_3/MultiHeadDotProductAttention_0/query/kernel  | (768, 12, 64) | 589,824    | -2.82e-05 | 0.0361   |\n",
            "| encoder/visual_encoder/encoderblock_3/MultiHeadDotProductAttention_0/value/bias    | (12, 64)      | 768        | 0.0       | 0.0      |\n",
            "| encoder/visual_encoder/encoderblock_3/MultiHeadDotProductAttention_0/value/kernel  | (768, 12, 64) | 589,824    | 4.92e-05  | 0.0361   |\n",
            "| encoder/visual_encoder/encoderblock_4/LayerNorm_0/bias                             | (768,)        | 768        | 0.0       | 0.0      |\n",
            "| encoder/visual_encoder/encoderblock_4/LayerNorm_0/scale                            | (768,)        | 768        | 1.0       | 0.0      |\n",
            "| encoder/visual_encoder/encoderblock_4/LayerNorm_1/bias                             | (768,)        | 768        | 0.0       | 0.0      |\n",
            "| encoder/visual_encoder/encoderblock_4/LayerNorm_1/scale                            | (768,)        | 768        | 1.0       | 0.0      |\n",
            "| encoder/visual_encoder/encoderblock_4/MlpBlock_0/Dense_0/bias                      | (2048,)       | 2,048      | 2.46e-08  | 9.87e-07 |\n",
            "| encoder/visual_encoder/encoderblock_4/MlpBlock_0/Dense_0/kernel                    | (768, 2048)   | 1,572,864  | -7.66e-06 | 0.0267   |\n",
            "| encoder/visual_encoder/encoderblock_4/MlpBlock_0/Dense_1/bias                      | (768,)        | 768        | 1.17e-08  | 1.01e-06 |\n",
            "| encoder/visual_encoder/encoderblock_4/MlpBlock_0/Dense_1/kernel                    | (2048, 768)   | 1,572,864  | -7.72e-06 | 0.0266   |\n",
            "| encoder/visual_encoder/encoderblock_4/MultiHeadDotProductAttention_0/key/bias      | (12, 64)      | 768        | 0.0       | 0.0      |\n",
            "| encoder/visual_encoder/encoderblock_4/MultiHeadDotProductAttention_0/key/kernel    | (768, 12, 64) | 589,824    | -8.35e-05 | 0.0361   |\n",
            "| encoder/visual_encoder/encoderblock_4/MultiHeadDotProductAttention_0/out/bias      | (768,)        | 768        | 0.0       | 0.0      |\n",
            "| encoder/visual_encoder/encoderblock_4/MultiHeadDotProductAttention_0/out/kernel    | (12, 64, 768) | 589,824    | 2.6e-05   | 0.0361   |\n",
            "| encoder/visual_encoder/encoderblock_4/MultiHeadDotProductAttention_0/query/bias    | (12, 64)      | 768        | 0.0       | 0.0      |\n",
            "| encoder/visual_encoder/encoderblock_4/MultiHeadDotProductAttention_0/query/kernel  | (768, 12, 64) | 589,824    | -3.11e-05 | 0.0361   |\n",
            "| encoder/visual_encoder/encoderblock_4/MultiHeadDotProductAttention_0/value/bias    | (12, 64)      | 768        | 0.0       | 0.0      |\n",
            "| encoder/visual_encoder/encoderblock_4/MultiHeadDotProductAttention_0/value/kernel  | (768, 12, 64) | 589,824    | -5.49e-06 | 0.0361   |\n",
            "| encoder/visual_encoder/encoderblock_5/LayerNorm_0/bias                             | (768,)        | 768        | 0.0       | 0.0      |\n",
            "| encoder/visual_encoder/encoderblock_5/LayerNorm_0/scale                            | (768,)        | 768        | 1.0       | 0.0      |\n",
            "| encoder/visual_encoder/encoderblock_5/LayerNorm_1/bias                             | (768,)        | 768        | 0.0       | 0.0      |\n",
            "| encoder/visual_encoder/encoderblock_5/LayerNorm_1/scale                            | (768,)        | 768        | 1.0       | 0.0      |\n",
            "| encoder/visual_encoder/encoderblock_5/MlpBlock_0/Dense_0/bias                      | (2048,)       | 2,048      | -1.98e-09 | 1.01e-06 |\n",
            "| encoder/visual_encoder/encoderblock_5/MlpBlock_0/Dense_0/kernel                    | (768, 2048)   | 1,572,864  | 2.02e-05  | 0.0267   |\n",
            "| encoder/visual_encoder/encoderblock_5/MlpBlock_0/Dense_1/bias                      | (768,)        | 768        | -3.28e-08 | 9.56e-07 |\n",
            "| encoder/visual_encoder/encoderblock_5/MlpBlock_0/Dense_1/kernel                    | (2048, 768)   | 1,572,864  | 9.81e-08  | 0.0267   |\n",
            "| encoder/visual_encoder/encoderblock_5/MultiHeadDotProductAttention_0/key/bias      | (12, 64)      | 768        | 0.0       | 0.0      |\n",
            "| encoder/visual_encoder/encoderblock_5/MultiHeadDotProductAttention_0/key/kernel    | (768, 12, 64) | 589,824    | 2.37e-05  | 0.0361   |\n",
            "| encoder/visual_encoder/encoderblock_5/MultiHeadDotProductAttention_0/out/bias      | (768,)        | 768        | 0.0       | 0.0      |\n",
            "| encoder/visual_encoder/encoderblock_5/MultiHeadDotProductAttention_0/out/kernel    | (12, 64, 768) | 589,824    | -2.1e-05  | 0.0361   |\n",
            "| encoder/visual_encoder/encoderblock_5/MultiHeadDotProductAttention_0/query/bias    | (12, 64)      | 768        | 0.0       | 0.0      |\n",
            "I0523 06:03:32.788970 140516894226240 parameter_overview.py:264] \n",
            "| encoder/visual_encoder/encoderblock_5/MultiHeadDotProductAttention_0/query/kernel  | (768, 12, 64) | 589,824    | -3.66e-05 | 0.0361   |\n",
            "| encoder/visual_encoder/encoderblock_5/MultiHeadDotProductAttention_0/value/bias    | (12, 64)      | 768        | 0.0       | 0.0      |\n",
            "| encoder/visual_encoder/encoderblock_5/MultiHeadDotProductAttention_0/value/kernel  | (768, 12, 64) | 589,824    | -9.4e-06  | 0.0361   |\n",
            "| encoder/visual_encoder/encoderblock_6/LayerNorm_0/bias                             | (768,)        | 768        | 0.0       | 0.0      |\n",
            "| encoder/visual_encoder/encoderblock_6/LayerNorm_0/scale                            | (768,)        | 768        | 1.0       | 0.0      |\n",
            "| encoder/visual_encoder/encoderblock_6/LayerNorm_1/bias                             | (768,)        | 768        | 0.0       | 0.0      |\n",
            "| encoder/visual_encoder/encoderblock_6/LayerNorm_1/scale                            | (768,)        | 768        | 1.0       | 0.0      |\n",
            "| encoder/visual_encoder/encoderblock_6/MlpBlock_0/Dense_0/bias                      | (2048,)       | 2,048      | -8.96e-09 | 9.78e-07 |\n",
            "| encoder/visual_encoder/encoderblock_6/MlpBlock_0/Dense_0/kernel                    | (768, 2048)   | 1,572,864  | -5.9e-06  | 0.0266   |\n",
            "| encoder/visual_encoder/encoderblock_6/MlpBlock_0/Dense_1/bias                      | (768,)        | 768        | -3.49e-08 | 9.75e-07 |\n",
            "| encoder/visual_encoder/encoderblock_6/MlpBlock_0/Dense_1/kernel                    | (2048, 768)   | 1,572,864  | -2.03e-05 | 0.0267   |\n",
            "| encoder/visual_encoder/encoderblock_6/MultiHeadDotProductAttention_0/key/bias      | (12, 64)      | 768        | 0.0       | 0.0      |\n",
            "| encoder/visual_encoder/encoderblock_6/MultiHeadDotProductAttention_0/key/kernel    | (768, 12, 64) | 589,824    | -3.28e-06 | 0.0361   |\n",
            "| encoder/visual_encoder/encoderblock_6/MultiHeadDotProductAttention_0/out/bias      | (768,)        | 768        | 0.0       | 0.0      |\n",
            "| encoder/visual_encoder/encoderblock_6/MultiHeadDotProductAttention_0/out/kernel    | (12, 64, 768) | 589,824    | 3.69e-05  | 0.0361   |\n",
            "| encoder/visual_encoder/encoderblock_6/MultiHeadDotProductAttention_0/query/bias    | (12, 64)      | 768        | 0.0       | 0.0      |\n",
            "| encoder/visual_encoder/encoderblock_6/MultiHeadDotProductAttention_0/query/kernel  | (768, 12, 64) | 589,824    | 0.000108  | 0.0361   |\n",
            "| encoder/visual_encoder/encoderblock_6/MultiHeadDotProductAttention_0/value/bias    | (12, 64)      | 768        | 0.0       | 0.0      |\n",
            "| encoder/visual_encoder/encoderblock_6/MultiHeadDotProductAttention_0/value/kernel  | (768, 12, 64) | 589,824    | -3.6e-05  | 0.0361   |\n",
            "| encoder/visual_encoder/encoderblock_7/LayerNorm_0/bias                             | (768,)        | 768        | 0.0       | 0.0      |\n",
            "| encoder/visual_encoder/encoderblock_7/LayerNorm_0/scale                            | (768,)        | 768        | 1.0       | 0.0      |\n",
            "| encoder/visual_encoder/encoderblock_7/LayerNorm_1/bias                             | (768,)        | 768        | 0.0       | 0.0      |\n",
            "| encoder/visual_encoder/encoderblock_7/LayerNorm_1/scale                            | (768,)        | 768        | 1.0       | 0.0      |\n",
            "| encoder/visual_encoder/encoderblock_7/MlpBlock_0/Dense_0/bias                      | (2048,)       | 2,048      | 1.23e-08  | 9.92e-07 |\n",
            "| encoder/visual_encoder/encoderblock_7/MlpBlock_0/Dense_0/kernel                    | (768, 2048)   | 1,572,864  | -3.11e-05 | 0.0266   |\n",
            "| encoder/visual_encoder/encoderblock_7/MlpBlock_0/Dense_1/bias                      | (768,)        | 768        | -8.27e-08 | 9.72e-07 |\n",
            "| encoder/visual_encoder/encoderblock_7/MlpBlock_0/Dense_1/kernel                    | (2048, 768)   | 1,572,864  | -2.21e-05 | 0.0266   |\n",
            "| encoder/visual_encoder/encoderblock_7/MultiHeadDotProductAttention_0/key/bias      | (12, 64)      | 768        | 0.0       | 0.0      |\n",
            "| encoder/visual_encoder/encoderblock_7/MultiHeadDotProductAttention_0/key/kernel    | (768, 12, 64) | 589,824    | -7.57e-06 | 0.0361   |\n",
            "| encoder/visual_encoder/encoderblock_7/MultiHeadDotProductAttention_0/out/bias      | (768,)        | 768        | 0.0       | 0.0      |\n",
            "| encoder/visual_encoder/encoderblock_7/MultiHeadDotProductAttention_0/out/kernel    | (12, 64, 768) | 589,824    | -3.65e-05 | 0.0361   |\n",
            "| encoder/visual_encoder/encoderblock_7/MultiHeadDotProductAttention_0/query/bias    | (12, 64)      | 768        | 0.0       | 0.0      |\n",
            "| encoder/visual_encoder/encoderblock_7/MultiHeadDotProductAttention_0/query/kernel  | (768, 12, 64) | 589,824    | -5.25e-05 | 0.0361   |\n",
            "| encoder/visual_encoder/encoderblock_7/MultiHeadDotProductAttention_0/value/bias    | (12, 64)      | 768        | 0.0       | 0.0      |\n",
            "| encoder/visual_encoder/encoderblock_7/MultiHeadDotProductAttention_0/value/kernel  | (768, 12, 64) | 589,824    | 2.13e-06  | 0.0361   |\n",
            "| encoder/visual_encoder/encoderblock_8/LayerNorm_0/bias                             | (768,)        | 768        | 0.0       | 0.0      |\n",
            "| encoder/visual_encoder/encoderblock_8/LayerNorm_0/scale                            | (768,)        | 768        | 1.0       | 0.0      |\n",
            "| encoder/visual_encoder/encoderblock_8/LayerNorm_1/bias                             | (768,)        | 768        | 0.0       | 0.0      |\n",
            "| encoder/visual_encoder/encoderblock_8/LayerNorm_1/scale                            | (768,)        | 768        | 1.0       | 0.0      |\n",
            "| encoder/visual_encoder/encoderblock_8/MlpBlock_0/Dense_0/bias                      | (2048,)       | 2,048      | 1.54e-09  | 1.02e-06 |\n",
            "| encoder/visual_encoder/encoderblock_8/MlpBlock_0/Dense_0/kernel                    | (768, 2048)   | 1,572,864  | 9.6e-06   | 0.0267   |\n",
            "| encoder/visual_encoder/encoderblock_8/MlpBlock_0/Dense_1/bias                      | (768,)        | 768        | 1.84e-08  | 1.03e-06 |\n",
            "| encoder/visual_encoder/encoderblock_8/MlpBlock_0/Dense_1/kernel                    | (2048, 768)   | 1,572,864  | 1.37e-05  | 0.0266   |\n",
            "| encoder/visual_encoder/encoderblock_8/MultiHeadDotProductAttention_0/key/bias      | (12, 64)      | 768        | 0.0       | 0.0      |\n",
            "| encoder/visual_encoder/encoderblock_8/MultiHeadDotProductAttention_0/key/kernel    | (768, 12, 64) | 589,824    | -6.71e-05 | 0.0361   |\n",
            "| encoder/visual_encoder/encoderblock_8/MultiHeadDotProductAttention_0/out/bias      | (768,)        | 768        | 0.0       | 0.0      |\n",
            "| encoder/visual_encoder/encoderblock_8/MultiHeadDotProductAttention_0/out/kernel    | (12, 64, 768) | 589,824    | 8.63e-05  | 0.0361   |\n",
            "| encoder/visual_encoder/encoderblock_8/MultiHeadDotProductAttention_0/query/bias    | (12, 64)      | 768        | 0.0       | 0.0      |\n",
            "| encoder/visual_encoder/encoderblock_8/MultiHeadDotProductAttention_0/query/kernel  | (768, 12, 64) | 589,824    | 4.02e-05  | 0.0361   |\n",
            "| encoder/visual_encoder/encoderblock_8/MultiHeadDotProductAttention_0/value/bias    | (12, 64)      | 768        | 0.0       | 0.0      |\n",
            "| encoder/visual_encoder/encoderblock_8/MultiHeadDotProductAttention_0/value/kernel  | (768, 12, 64) | 589,824    | 4.15e-06  | 0.0361   |\n",
            "| encoder/visual_encoder/encoderblock_9/LayerNorm_0/bias                             | (768,)        | 768        | 0.0       | 0.0      |\n",
            "| encoder/visual_encoder/encoderblock_9/LayerNorm_0/scale                            | (768,)        | 768        | 1.0       | 0.0      |\n",
            "| encoder/visual_encoder/encoderblock_9/LayerNorm_1/bias                             | (768,)        | 768        | 0.0       | 0.0      |\n",
            "| encoder/visual_encoder/encoderblock_9/LayerNorm_1/scale                            | (768,)        | 768        | 1.0       | 0.0      |\n",
            "| encoder/visual_encoder/encoderblock_9/MlpBlock_0/Dense_0/bias                      | (2048,)       | 2,048      | -3.99e-09 | 9.85e-07 |\n",
            "| encoder/visual_encoder/encoderblock_9/MlpBlock_0/Dense_0/kernel                    | (768, 2048)   | 1,572,864  | 1.29e-05  | 0.0267   |\n",
            "| encoder/visual_encoder/encoderblock_9/MlpBlock_0/Dense_1/bias                      | (768,)        | 768        | -3.91e-08 | 9.71e-07 |\n",
            "| encoder/visual_encoder/encoderblock_9/MlpBlock_0/Dense_1/kernel                    | (2048, 768)   | 1,572,864  | 1.11e-05  | 0.0267   |\n",
            "| encoder/visual_encoder/encoderblock_9/MultiHeadDotProductAttention_0/key/bias      | (12, 64)      | 768        | 0.0       | 0.0      |\n",
            "| encoder/visual_encoder/encoderblock_9/MultiHeadDotProductAttention_0/key/kernel    | (768, 12, 64) | 589,824    | 1.44e-05  | 0.0361   |\n",
            "| encoder/visual_encoder/encoderblock_9/MultiHeadDotProductAttention_0/out/bias      | (768,)        | 768        | 0.0       | 0.0      |\n",
            "| encoder/visual_encoder/encoderblock_9/MultiHeadDotProductAttention_0/out/kernel    | (12, 64, 768) | 589,824    | 3.3e-05   | 0.0361   |\n",
            "| encoder/visual_encoder/encoderblock_9/MultiHeadDotProductAttention_0/query/bias    | (12, 64)      | 768        | 0.0       | 0.0      |\n",
            "| encoder/visual_encoder/encoderblock_9/MultiHeadDotProductAttention_0/query/kernel  | (768, 12, 64) | 589,824    | 4.92e-05  | 0.0361   |\n",
            "| encoder/visual_encoder/encoderblock_9/MultiHeadDotProductAttention_0/value/bias    | (12, 64)      | 768        | 0.0       | 0.0      |\n",
            "| encoder/visual_encoder/encoderblock_9/MultiHeadDotProductAttention_0/value/kernel  | (768, 12, 64) | 589,824    | 1.1e-05   | 0.0361   |\n",
            "| encoder/visual_encoder/posembed_input/pos_embedding                                | (1, 100, 768) | 76,800     | 8.68e-05  | 0.02     |\n",
            "| shared_decoder_token_embedder/embedding                                            | (32228, 768)  | 24,751,104 | 6.63e-05  | 1.0      |\n",
            "| text_decoder/decoder_module/decoder_norm/scale                                     | (768,)        | 768        | 1.0       | 0.0      |\n",
            "| text_decoder/decoder_module/layers_0/encoder_decoder_attention/key/kernel          | (768, 768)    | 589,824    | -5.41e-05 | 0.0361   |\n",
            "| text_decoder/decoder_module/layers_0/encoder_decoder_attention/out/kernel          | (768, 768)    | 589,824    | -1.74e-05 | 0.036    |\n",
            "| text_decoder/decoder_module/layers_0/encoder_decoder_attention/query/kernel        | (768, 768)    | 589,824    | -2.52e-06 | 0.00451  |\n",
            "| text_decoder/decoder_module/layers_0/encoder_decoder_attention/value/kernel        | (768, 768)    | 589,824    | 3.47e-05  | 0.0361   |\n",
            "| text_decoder/decoder_module/layers_0/mlp/wi_0/kernel                               | (768, 2048)   | 1,572,864  | 5.23e-05  | 0.0361   |\n",
            "| text_decoder/decoder_module/layers_0/mlp/wi_1/kernel                               | (768, 2048)   | 1,572,864  | -4.13e-05 | 0.0361   |\n",
            "| text_decoder/decoder_module/layers_0/mlp/wo/kernel                                 | (2048, 768)   | 1,572,864  | -2.63e-05 | 0.0221   |\n",
            "| text_decoder/decoder_module/layers_0/pre_cross_attention_layer_norm/scale          | (768,)        | 768        | 1.0       | 0.0      |\n",
            "| text_decoder/decoder_module/layers_0/pre_mlp_layer_norm/scale                      | (768,)        | 768        | 1.0       | 0.0      |\n",
            "| text_decoder/decoder_module/layers_0/pre_self_attention_layer_norm/scale           | (768,)        | 768        | 1.0       | 0.0      |\n",
            "I0523 06:03:32.789127 140516894226240 parameter_overview.py:264] \n",
            "| text_decoder/decoder_module/layers_0/self_attention/key/kernel                     | (768, 768)    | 589,824    | -2.59e-05 | 0.0361   |\n",
            "| text_decoder/decoder_module/layers_0/self_attention/out/kernel                     | (768, 768)    | 589,824    | 9.23e-05  | 0.0361   |\n",
            "| text_decoder/decoder_module/layers_0/self_attention/query/kernel                   | (768, 768)    | 589,824    | -7.7e-07  | 0.00451  |\n",
            "| text_decoder/decoder_module/layers_0/self_attention/value/kernel                   | (768, 768)    | 589,824    | 1.75e-05  | 0.0362   |\n",
            "| text_decoder/decoder_module/layers_1/encoder_decoder_attention/key/kernel          | (768, 768)    | 589,824    | -1.13e-05 | 0.0361   |\n",
            "| text_decoder/decoder_module/layers_1/encoder_decoder_attention/out/kernel          | (768, 768)    | 589,824    | -7.6e-05  | 0.0361   |\n",
            "| text_decoder/decoder_module/layers_1/encoder_decoder_attention/query/kernel        | (768, 768)    | 589,824    | -5.22e-06 | 0.00451  |\n",
            "| text_decoder/decoder_module/layers_1/encoder_decoder_attention/value/kernel        | (768, 768)    | 589,824    | 9.09e-05  | 0.0361   |\n",
            "| text_decoder/decoder_module/layers_1/mlp/wi_0/kernel                               | (768, 2048)   | 1,572,864  | 2.96e-05  | 0.0361   |\n",
            "| text_decoder/decoder_module/layers_1/mlp/wi_1/kernel                               | (768, 2048)   | 1,572,864  | -2e-05    | 0.0361   |\n",
            "| text_decoder/decoder_module/layers_1/mlp/wo/kernel                                 | (2048, 768)   | 1,572,864  | -2.21e-05 | 0.0221   |\n",
            "| text_decoder/decoder_module/layers_1/pre_cross_attention_layer_norm/scale          | (768,)        | 768        | 1.0       | 0.0      |\n",
            "| text_decoder/decoder_module/layers_1/pre_mlp_layer_norm/scale                      | (768,)        | 768        | 1.0       | 0.0      |\n",
            "| text_decoder/decoder_module/layers_1/pre_self_attention_layer_norm/scale           | (768,)        | 768        | 1.0       | 0.0      |\n",
            "| text_decoder/decoder_module/layers_1/self_attention/key/kernel                     | (768, 768)    | 589,824    | 4.96e-06  | 0.0361   |\n",
            "| text_decoder/decoder_module/layers_1/self_attention/out/kernel                     | (768, 768)    | 589,824    | 6.33e-05  | 0.0361   |\n",
            "| text_decoder/decoder_module/layers_1/self_attention/query/kernel                   | (768, 768)    | 589,824    | -7.21e-06 | 0.00451  |\n",
            "| text_decoder/decoder_module/layers_1/self_attention/value/kernel                   | (768, 768)    | 589,824    | -2.92e-05 | 0.036    |\n",
            "| text_decoder/decoder_module/layers_10/encoder_decoder_attention/key/kernel         | (768, 768)    | 589,824    | -2.89e-05 | 0.0361   |\n",
            "| text_decoder/decoder_module/layers_10/encoder_decoder_attention/out/kernel         | (768, 768)    | 589,824    | 2.78e-05  | 0.0361   |\n",
            "| text_decoder/decoder_module/layers_10/encoder_decoder_attention/query/kernel       | (768, 768)    | 589,824    | -3.99e-06 | 0.00451  |\n",
            "| text_decoder/decoder_module/layers_10/encoder_decoder_attention/value/kernel       | (768, 768)    | 589,824    | -6.6e-05  | 0.0361   |\n",
            "| text_decoder/decoder_module/layers_10/mlp/wi_0/kernel                              | (768, 2048)   | 1,572,864  | -3.01e-06 | 0.0361   |\n",
            "| text_decoder/decoder_module/layers_10/mlp/wi_1/kernel                              | (768, 2048)   | 1,572,864  | 8.32e-07  | 0.0361   |\n",
            "| text_decoder/decoder_module/layers_10/mlp/wo/kernel                                | (2048, 768)   | 1,572,864  | 3.96e-05  | 0.0221   |\n",
            "| text_decoder/decoder_module/layers_10/pre_cross_attention_layer_norm/scale         | (768,)        | 768        | 1.0       | 0.0      |\n",
            "| text_decoder/decoder_module/layers_10/pre_mlp_layer_norm/scale                     | (768,)        | 768        | 1.0       | 0.0      |\n",
            "| text_decoder/decoder_module/layers_10/pre_self_attention_layer_norm/scale          | (768,)        | 768        | 1.0       | 0.0      |\n",
            "| text_decoder/decoder_module/layers_10/self_attention/key/kernel                    | (768, 768)    | 589,824    | 9.29e-06  | 0.0361   |\n",
            "| text_decoder/decoder_module/layers_10/self_attention/out/kernel                    | (768, 768)    | 589,824    | 4.11e-05  | 0.0361   |\n",
            "| text_decoder/decoder_module/layers_10/self_attention/query/kernel                  | (768, 768)    | 589,824    | 4.68e-07  | 0.00451  |\n",
            "| text_decoder/decoder_module/layers_10/self_attention/value/kernel                  | (768, 768)    | 589,824    | -2.08e-05 | 0.0361   |\n",
            "| text_decoder/decoder_module/layers_11/encoder_decoder_attention/key/kernel         | (768, 768)    | 589,824    | -6.29e-05 | 0.0362   |\n",
            "| text_decoder/decoder_module/layers_11/encoder_decoder_attention/out/kernel         | (768, 768)    | 589,824    | -3.18e-06 | 0.0361   |\n",
            "| text_decoder/decoder_module/layers_11/encoder_decoder_attention/query/kernel       | (768, 768)    | 589,824    | 4.15e-07  | 0.0045   |\n",
            "| text_decoder/decoder_module/layers_11/encoder_decoder_attention/value/kernel       | (768, 768)    | 589,824    | -5.62e-05 | 0.0361   |\n",
            "| text_decoder/decoder_module/layers_11/mlp/wi_0/kernel                              | (768, 2048)   | 1,572,864  | 8.45e-05  | 0.0361   |\n",
            "| text_decoder/decoder_module/layers_11/mlp/wi_1/kernel                              | (768, 2048)   | 1,572,864  | 1.44e-05  | 0.0361   |\n",
            "| text_decoder/decoder_module/layers_11/mlp/wo/kernel                                | (2048, 768)   | 1,572,864  | 6.94e-06  | 0.0221   |\n",
            "| text_decoder/decoder_module/layers_11/pre_cross_attention_layer_norm/scale         | (768,)        | 768        | 1.0       | 0.0      |\n",
            "| text_decoder/decoder_module/layers_11/pre_mlp_layer_norm/scale                     | (768,)        | 768        | 1.0       | 0.0      |\n",
            "| text_decoder/decoder_module/layers_11/pre_self_attention_layer_norm/scale          | (768,)        | 768        | 1.0       | 0.0      |\n",
            "| text_decoder/decoder_module/layers_11/self_attention/key/kernel                    | (768, 768)    | 589,824    | -4.19e-06 | 0.0361   |\n",
            "| text_decoder/decoder_module/layers_11/self_attention/out/kernel                    | (768, 768)    | 589,824    | 1.13e-05  | 0.036    |\n",
            "| text_decoder/decoder_module/layers_11/self_attention/query/kernel                  | (768, 768)    | 589,824    | -7.07e-06 | 0.0045   |\n",
            "| text_decoder/decoder_module/layers_11/self_attention/value/kernel                  | (768, 768)    | 589,824    | 3.63e-05  | 0.0361   |\n",
            "| text_decoder/decoder_module/layers_2/encoder_decoder_attention/key/kernel          | (768, 768)    | 589,824    | 3.84e-05  | 0.0361   |\n",
            "| text_decoder/decoder_module/layers_2/encoder_decoder_attention/out/kernel          | (768, 768)    | 589,824    | -1.68e-05 | 0.0361   |\n",
            "| text_decoder/decoder_module/layers_2/encoder_decoder_attention/query/kernel        | (768, 768)    | 589,824    | -5.18e-07 | 0.00451  |\n",
            "| text_decoder/decoder_module/layers_2/encoder_decoder_attention/value/kernel        | (768, 768)    | 589,824    | 1.95e-05  | 0.0361   |\n",
            "| text_decoder/decoder_module/layers_2/mlp/wi_0/kernel                               | (768, 2048)   | 1,572,864  | -1.69e-05 | 0.0361   |\n",
            "| text_decoder/decoder_module/layers_2/mlp/wi_1/kernel                               | (768, 2048)   | 1,572,864  | -7.09e-06 | 0.0361   |\n",
            "| text_decoder/decoder_module/layers_2/mlp/wo/kernel                                 | (2048, 768)   | 1,572,864  | -3.02e-05 | 0.0221   |\n",
            "| text_decoder/decoder_module/layers_2/pre_cross_attention_layer_norm/scale          | (768,)        | 768        | 1.0       | 0.0      |\n",
            "| text_decoder/decoder_module/layers_2/pre_mlp_layer_norm/scale                      | (768,)        | 768        | 1.0       | 0.0      |\n",
            "| text_decoder/decoder_module/layers_2/pre_self_attention_layer_norm/scale           | (768,)        | 768        | 1.0       | 0.0      |\n",
            "| text_decoder/decoder_module/layers_2/self_attention/key/kernel                     | (768, 768)    | 589,824    | 1.36e-05  | 0.0361   |\n",
            "| text_decoder/decoder_module/layers_2/self_attention/out/kernel                     | (768, 768)    | 589,824    | 2.18e-05  | 0.0361   |\n",
            "| text_decoder/decoder_module/layers_2/self_attention/query/kernel                   | (768, 768)    | 589,824    | 2.93e-06  | 0.00451  |\n",
            "| text_decoder/decoder_module/layers_2/self_attention/value/kernel                   | (768, 768)    | 589,824    | 1.95e-05  | 0.0361   |\n",
            "| text_decoder/decoder_module/layers_3/encoder_decoder_attention/key/kernel          | (768, 768)    | 589,824    | 4.23e-05  | 0.0361   |\n",
            "| text_decoder/decoder_module/layers_3/encoder_decoder_attention/out/kernel          | (768, 768)    | 589,824    | 4.55e-05  | 0.0361   |\n",
            "| text_decoder/decoder_module/layers_3/encoder_decoder_attention/query/kernel        | (768, 768)    | 589,824    | 4.53e-06  | 0.0045   |\n",
            "| text_decoder/decoder_module/layers_3/encoder_decoder_attention/value/kernel        | (768, 768)    | 589,824    | 1.24e-06  | 0.036    |\n",
            "| text_decoder/decoder_module/layers_3/mlp/wi_0/kernel                               | (768, 2048)   | 1,572,864  | 2.89e-05  | 0.0361   |\n",
            "| text_decoder/decoder_module/layers_3/mlp/wi_1/kernel                               | (768, 2048)   | 1,572,864  | 3.42e-05  | 0.0361   |\n",
            "| text_decoder/decoder_module/layers_3/mlp/wo/kernel                                 | (2048, 768)   | 1,572,864  | 2.05e-05  | 0.0221   |\n",
            "| text_decoder/decoder_module/layers_3/pre_cross_attention_layer_norm/scale          | (768,)        | 768        | 1.0       | 0.0      |\n",
            "| text_decoder/decoder_module/layers_3/pre_mlp_layer_norm/scale                      | (768,)        | 768        | 1.0       | 0.0      |\n",
            "| text_decoder/decoder_module/layers_3/pre_self_attention_layer_norm/scale           | (768,)        | 768        | 1.0       | 0.0      |\n",
            "| text_decoder/decoder_module/layers_3/self_attention/key/kernel                     | (768, 768)    | 589,824    | 4.29e-05  | 0.0361   |\n",
            "| text_decoder/decoder_module/layers_3/self_attention/out/kernel                     | (768, 768)    | 589,824    | -7.93e-05 | 0.0361   |\n",
            "| text_decoder/decoder_module/layers_3/self_attention/query/kernel                   | (768, 768)    | 589,824    | -3.8e-06  | 0.00451  |\n",
            "| text_decoder/decoder_module/layers_3/self_attention/value/kernel                   | (768, 768)    | 589,824    | -9.11e-05 | 0.0361   |\n",
            "| text_decoder/decoder_module/layers_4/encoder_decoder_attention/key/kernel          | (768, 768)    | 589,824    | 1.24e-06  | 0.036    |\n",
            "| text_decoder/decoder_module/layers_4/encoder_decoder_attention/out/kernel          | (768, 768)    | 589,824    | -3.27e-05 | 0.0361   |\n",
            "| text_decoder/decoder_module/layers_4/encoder_decoder_attention/query/kernel        | (768, 768)    | 589,824    | -2.36e-07 | 0.00451  |\n",
            "| text_decoder/decoder_module/layers_4/encoder_decoder_attention/value/kernel        | (768, 768)    | 589,824    | -5.7e-06  | 0.0361   |\n",
            "| text_decoder/decoder_module/layers_4/mlp/wi_0/kernel                               | (768, 2048)   | 1,572,864  | -5.89e-05 | 0.0361   |\n",
            "| text_decoder/decoder_module/layers_4/mlp/wi_1/kernel                               | (768, 2048)   | 1,572,864  | -2.89e-05 | 0.0361   |\n",
            "I0523 06:03:32.789486 140516894226240 parameter_overview.py:264] \n",
            "| text_decoder/decoder_module/layers_4/mlp/wo/kernel                                 | (2048, 768)   | 1,572,864  | -1.52e-05 | 0.0221   |\n",
            "| text_decoder/decoder_module/layers_4/pre_cross_attention_layer_norm/scale          | (768,)        | 768        | 1.0       | 0.0      |\n",
            "| text_decoder/decoder_module/layers_4/pre_mlp_layer_norm/scale                      | (768,)        | 768        | 1.0       | 0.0      |\n",
            "| text_decoder/decoder_module/layers_4/pre_self_attention_layer_norm/scale           | (768,)        | 768        | 1.0       | 0.0      |\n",
            "| text_decoder/decoder_module/layers_4/self_attention/key/kernel                     | (768, 768)    | 589,824    | -4.59e-05 | 0.0361   |\n",
            "| text_decoder/decoder_module/layers_4/self_attention/out/kernel                     | (768, 768)    | 589,824    | 1.8e-05   | 0.0361   |\n",
            "| text_decoder/decoder_module/layers_4/self_attention/query/kernel                   | (768, 768)    | 589,824    | 6.23e-06  | 0.00451  |\n",
            "| text_decoder/decoder_module/layers_4/self_attention/value/kernel                   | (768, 768)    | 589,824    | 3.86e-05  | 0.036    |\n",
            "| text_decoder/decoder_module/layers_5/encoder_decoder_attention/key/kernel          | (768, 768)    | 589,824    | 1.02e-05  | 0.0361   |\n",
            "| text_decoder/decoder_module/layers_5/encoder_decoder_attention/out/kernel          | (768, 768)    | 589,824    | 4.14e-06  | 0.0361   |\n",
            "| text_decoder/decoder_module/layers_5/encoder_decoder_attention/query/kernel        | (768, 768)    | 589,824    | -6.55e-06 | 0.00451  |\n",
            "| text_decoder/decoder_module/layers_5/encoder_decoder_attention/value/kernel        | (768, 768)    | 589,824    | 2.77e-05  | 0.0361   |\n",
            "| text_decoder/decoder_module/layers_5/mlp/wi_0/kernel                               | (768, 2048)   | 1,572,864  | 3.16e-05  | 0.0361   |\n",
            "| text_decoder/decoder_module/layers_5/mlp/wi_1/kernel                               | (768, 2048)   | 1,572,864  | 3.28e-05  | 0.0361   |\n",
            "| text_decoder/decoder_module/layers_5/mlp/wo/kernel                                 | (2048, 768)   | 1,572,864  | -8.27e-06 | 0.0221   |\n",
            "| text_decoder/decoder_module/layers_5/pre_cross_attention_layer_norm/scale          | (768,)        | 768        | 1.0       | 0.0      |\n",
            "| text_decoder/decoder_module/layers_5/pre_mlp_layer_norm/scale                      | (768,)        | 768        | 1.0       | 0.0      |\n",
            "| text_decoder/decoder_module/layers_5/pre_self_attention_layer_norm/scale           | (768,)        | 768        | 1.0       | 0.0      |\n",
            "| text_decoder/decoder_module/layers_5/self_attention/key/kernel                     | (768, 768)    | 589,824    | 5.66e-06  | 0.0361   |\n",
            "| text_decoder/decoder_module/layers_5/self_attention/out/kernel                     | (768, 768)    | 589,824    | -8.33e-06 | 0.036    |\n",
            "| text_decoder/decoder_module/layers_5/self_attention/query/kernel                   | (768, 768)    | 589,824    | 6.49e-06  | 0.00451  |\n",
            "| text_decoder/decoder_module/layers_5/self_attention/value/kernel                   | (768, 768)    | 589,824    | -2.96e-05 | 0.036    |\n",
            "| text_decoder/decoder_module/layers_6/encoder_decoder_attention/key/kernel          | (768, 768)    | 589,824    | 2.19e-05  | 0.0361   |\n",
            "| text_decoder/decoder_module/layers_6/encoder_decoder_attention/out/kernel          | (768, 768)    | 589,824    | 2.32e-05  | 0.0361   |\n",
            "| text_decoder/decoder_module/layers_6/encoder_decoder_attention/query/kernel        | (768, 768)    | 589,824    | 6.85e-07  | 0.00451  |\n",
            "| text_decoder/decoder_module/layers_6/encoder_decoder_attention/value/kernel        | (768, 768)    | 589,824    | -9.27e-05 | 0.0361   |\n",
            "| text_decoder/decoder_module/layers_6/mlp/wi_0/kernel                               | (768, 2048)   | 1,572,864  | 2.41e-07  | 0.0361   |\n",
            "| text_decoder/decoder_module/layers_6/mlp/wi_1/kernel                               | (768, 2048)   | 1,572,864  | -3.35e-05 | 0.0361   |\n",
            "| text_decoder/decoder_module/layers_6/mlp/wo/kernel                                 | (2048, 768)   | 1,572,864  | 9.25e-06  | 0.0221   |\n",
            "| text_decoder/decoder_module/layers_6/pre_cross_attention_layer_norm/scale          | (768,)        | 768        | 1.0       | 0.0      |\n",
            "| text_decoder/decoder_module/layers_6/pre_mlp_layer_norm/scale                      | (768,)        | 768        | 1.0       | 0.0      |\n",
            "| text_decoder/decoder_module/layers_6/pre_self_attention_layer_norm/scale           | (768,)        | 768        | 1.0       | 0.0      |\n",
            "| text_decoder/decoder_module/layers_6/self_attention/key/kernel                     | (768, 768)    | 589,824    | -0.000107 | 0.0361   |\n",
            "| text_decoder/decoder_module/layers_6/self_attention/out/kernel                     | (768, 768)    | 589,824    | -4.05e-05 | 0.036    |\n",
            "| text_decoder/decoder_module/layers_6/self_attention/query/kernel                   | (768, 768)    | 589,824    | 1.07e-06  | 0.00451  |\n",
            "| text_decoder/decoder_module/layers_6/self_attention/value/kernel                   | (768, 768)    | 589,824    | -9.88e-05 | 0.0361   |\n",
            "| text_decoder/decoder_module/layers_7/encoder_decoder_attention/key/kernel          | (768, 768)    | 589,824    | -6.73e-06 | 0.0361   |\n",
            "| text_decoder/decoder_module/layers_7/encoder_decoder_attention/out/kernel          | (768, 768)    | 589,824    | 2.16e-05  | 0.0361   |\n",
            "| text_decoder/decoder_module/layers_7/encoder_decoder_attention/query/kernel        | (768, 768)    | 589,824    | -3.8e-06  | 0.00451  |\n",
            "| text_decoder/decoder_module/layers_7/encoder_decoder_attention/value/kernel        | (768, 768)    | 589,824    | -3.64e-05 | 0.0361   |\n",
            "| text_decoder/decoder_module/layers_7/mlp/wi_0/kernel                               | (768, 2048)   | 1,572,864  | -5.12e-05 | 0.036    |\n",
            "| text_decoder/decoder_module/layers_7/mlp/wi_1/kernel                               | (768, 2048)   | 1,572,864  | 2.58e-05  | 0.0361   |\n",
            "| text_decoder/decoder_module/layers_7/mlp/wo/kernel                                 | (2048, 768)   | 1,572,864  | 2.66e-05  | 0.0221   |\n",
            "| text_decoder/decoder_module/layers_7/pre_cross_attention_layer_norm/scale          | (768,)        | 768        | 1.0       | 0.0      |\n",
            "| text_decoder/decoder_module/layers_7/pre_mlp_layer_norm/scale                      | (768,)        | 768        | 1.0       | 0.0      |\n",
            "| text_decoder/decoder_module/layers_7/pre_self_attention_layer_norm/scale           | (768,)        | 768        | 1.0       | 0.0      |\n",
            "| text_decoder/decoder_module/layers_7/self_attention/key/kernel                     | (768, 768)    | 589,824    | -3.36e-05 | 0.0361   |\n",
            "| text_decoder/decoder_module/layers_7/self_attention/out/kernel                     | (768, 768)    | 589,824    | -4.06e-06 | 0.0361   |\n",
            "| text_decoder/decoder_module/layers_7/self_attention/query/kernel                   | (768, 768)    | 589,824    | 2.57e-06  | 0.00451  |\n",
            "| text_decoder/decoder_module/layers_7/self_attention/value/kernel                   | (768, 768)    | 589,824    | -5.04e-05 | 0.0361   |\n",
            "| text_decoder/decoder_module/layers_8/encoder_decoder_attention/key/kernel          | (768, 768)    | 589,824    | -5.86e-05 | 0.0361   |\n",
            "| text_decoder/decoder_module/layers_8/encoder_decoder_attention/out/kernel          | (768, 768)    | 589,824    | 8.7e-05   | 0.0361   |\n",
            "| text_decoder/decoder_module/layers_8/encoder_decoder_attention/query/kernel        | (768, 768)    | 589,824    | 4.05e-06  | 0.00451  |\n",
            "| text_decoder/decoder_module/layers_8/encoder_decoder_attention/value/kernel        | (768, 768)    | 589,824    | 1.72e-05  | 0.0361   |\n",
            "| text_decoder/decoder_module/layers_8/mlp/wi_0/kernel                               | (768, 2048)   | 1,572,864  | 2.38e-05  | 0.0361   |\n",
            "| text_decoder/decoder_module/layers_8/mlp/wi_1/kernel                               | (768, 2048)   | 1,572,864  | -3.87e-06 | 0.0361   |\n",
            "| text_decoder/decoder_module/layers_8/mlp/wo/kernel                                 | (2048, 768)   | 1,572,864  | -1.99e-05 | 0.0221   |\n",
            "| text_decoder/decoder_module/layers_8/pre_cross_attention_layer_norm/scale          | (768,)        | 768        | 1.0       | 0.0      |\n",
            "| text_decoder/decoder_module/layers_8/pre_mlp_layer_norm/scale                      | (768,)        | 768        | 1.0       | 0.0      |\n",
            "| text_decoder/decoder_module/layers_8/pre_self_attention_layer_norm/scale           | (768,)        | 768        | 1.0       | 0.0      |\n",
            "| text_decoder/decoder_module/layers_8/self_attention/key/kernel                     | (768, 768)    | 589,824    | -7.23e-06 | 0.0361   |\n",
            "| text_decoder/decoder_module/layers_8/self_attention/out/kernel                     | (768, 768)    | 589,824    | -3.23e-05 | 0.0361   |\n",
            "| text_decoder/decoder_module/layers_8/self_attention/query/kernel                   | (768, 768)    | 589,824    | 1.59e-06  | 0.00451  |\n",
            "| text_decoder/decoder_module/layers_8/self_attention/value/kernel                   | (768, 768)    | 589,824    | -7.55e-05 | 0.0361   |\n",
            "| text_decoder/decoder_module/layers_9/encoder_decoder_attention/key/kernel          | (768, 768)    | 589,824    | 5.3e-05   | 0.0361   |\n",
            "| text_decoder/decoder_module/layers_9/encoder_decoder_attention/out/kernel          | (768, 768)    | 589,824    | -1.64e-05 | 0.0361   |\n",
            "| text_decoder/decoder_module/layers_9/encoder_decoder_attention/query/kernel        | (768, 768)    | 589,824    | -3.64e-06 | 0.00452  |\n",
            "| text_decoder/decoder_module/layers_9/encoder_decoder_attention/value/kernel        | (768, 768)    | 589,824    | -3.78e-06 | 0.0361   |\n",
            "| text_decoder/decoder_module/layers_9/mlp/wi_0/kernel                               | (768, 2048)   | 1,572,864  | -4.92e-05 | 0.0361   |\n",
            "| text_decoder/decoder_module/layers_9/mlp/wi_1/kernel                               | (768, 2048)   | 1,572,864  | 2.65e-05  | 0.0361   |\n",
            "| text_decoder/decoder_module/layers_9/mlp/wo/kernel                                 | (2048, 768)   | 1,572,864  | 1.83e-07  | 0.0221   |\n",
            "| text_decoder/decoder_module/layers_9/pre_cross_attention_layer_norm/scale          | (768,)        | 768        | 1.0       | 0.0      |\n",
            "| text_decoder/decoder_module/layers_9/pre_mlp_layer_norm/scale                      | (768,)        | 768        | 1.0       | 0.0      |\n",
            "| text_decoder/decoder_module/layers_9/pre_self_attention_layer_norm/scale           | (768,)        | 768        | 1.0       | 0.0      |\n",
            "| text_decoder/decoder_module/layers_9/self_attention/key/kernel                     | (768, 768)    | 589,824    | 3.16e-05  | 0.0361   |\n",
            "| text_decoder/decoder_module/layers_9/self_attention/out/kernel                     | (768, 768)    | 589,824    | -9.23e-06 | 0.0361   |\n",
            "| text_decoder/decoder_module/layers_9/self_attention/query/kernel                   | (768, 768)    | 589,824    | 1.42e-05  | 0.00451  |\n",
            "| text_decoder/decoder_module/layers_9/self_attention/value/kernel                   | (768, 768)    | 589,824    | -4.93e-05 | 0.0361   |\n",
            "| text_decoder/decoder_module/logits_dense/kernel                                    | (768, 32228)  | 24,751,104 | -1.04e-05 | 0.0361   |\n",
            "| text_decoder/decoder_module/relpos_bias/rel_embedding                              | (12, 32)      | 384        | 0.0017    | 0.219    |\n",
            "I0523 06:03:32.790015 140516894226240 parameter_overview.py:264] \n",
            "+------------------------------------------------------------------------------------+---------------+------------+-----------+----------+\n",
            "Total: 313,977,600\n",
            "I0523 06:03:32.791759 140516894226240 debug_utils.py:73] Total params: 313977600\n",
            "I0523 06:03:33.914893 140516894226240 trainer.py:472] The model has 313977600 params, uses -1 gflops\n",
            "/usr/local/lib/python3.10/dist-packages/flax/optim/base.py:49: DeprecationWarning: Use `optax` instead of `flax.optim`. Refer to the update guide https://flax.readthedocs.io/en/latest/howtos/optax_update_guide.html for detailed instructions.\n",
            "  warnings.warn(\n",
            "I0523 06:03:39.939348 140516894226240 trainer.py:492] Continuing training from the checkpoint\n",
            "I0523 06:03:39.945494 140516894226240 checkpoints.py:253] Restoring checkpoint from vid2seq_base/checkpoint_yt-temporal-1b\n",
            "I0523 06:04:12.984984 140516894226240 trainer.py:963] Number of processes is 1\n",
            "I0523 06:04:13.047985 140516894226240 trainer.py:987] Start training from step 200001\n"
          ]
        }
      ]
    },
    {
      "cell_type": "code",
      "source": [
        "# 자바 설치 관련 이슈 (런타임 초기화, 하드웨어 가속기 설정 None)"
      ],
      "metadata": {
        "id": "bibLv5nRAWo2"
      },
      "execution_count": null,
      "outputs": []
    },
    {
      "cell_type": "code",
      "source": [
        "!pwd"
      ],
      "metadata": {
        "colab": {
          "base_uri": "https://localhost:8080/"
        },
        "id": "yHuKyfb8Vrvg",
        "outputId": "5e63ac8a-8ad5-4d0a-fea9-37ba3f7caf23"
      },
      "execution_count": null,
      "outputs": [
        {
          "output_type": "stream",
          "name": "stdout",
          "text": [
            "/content\n"
          ]
        }
      ]
    },
    {
      "cell_type": "code",
      "source": [
        "#!apt-get install -y openjdk-11-jdk-headless"
      ],
      "metadata": {
        "colab": {
          "base_uri": "https://localhost:8080/"
        },
        "id": "F4ileVwWVaT7",
        "outputId": "d7c98b34-b931-407a-d279-1ec3abbf95b6"
      },
      "execution_count": null,
      "outputs": [
        {
          "output_type": "stream",
          "name": "stdout",
          "text": [
            "Reading package lists... Done\n",
            "Building dependency tree       \n",
            "Reading state information... Done\n",
            "openjdk-11-jdk-headless is already the newest version (11.0.19+7~us1-0ubuntu1~20.04.1).\n",
            "0 upgraded, 0 newly installed, 0 to remove and 24 not upgraded.\n"
          ]
        }
      ]
    },
    {
      "cell_type": "code",
      "source": [
        "# import os\n",
        "# os.environ['JAVA_HOME'] = '/usr/lib/jvm/java-11-openjdk-amd64'"
      ],
      "metadata": {
        "colab": {
          "base_uri": "https://localhost:8080/",
          "height": 312
        },
        "id": "gr_ceu8UWBEO",
        "outputId": "147aa3f7-dafa-4130-9dfa-659d878ae99c"
      },
      "execution_count": null,
      "outputs": [
        {
          "output_type": "error",
          "ename": "KeyError",
          "evalue": "ignored",
          "traceback": [
            "\u001b[0;31m---------------------------------------------------------------------------\u001b[0m",
            "\u001b[0;31mKeyError\u001b[0m                                  Traceback (most recent call last)",
            "\u001b[0;32m<ipython-input-3-71cc7a288b83>\u001b[0m in \u001b[0;36m<cell line: 2>\u001b[0;34m()\u001b[0m\n\u001b[1;32m      1\u001b[0m \u001b[0;32mimport\u001b[0m \u001b[0mos\u001b[0m\u001b[0;34m\u001b[0m\u001b[0;34m\u001b[0m\u001b[0m\n\u001b[0;32m----> 2\u001b[0;31m \u001b[0mos\u001b[0m\u001b[0;34m.\u001b[0m\u001b[0menviron\u001b[0m\u001b[0;34m[\u001b[0m\u001b[0;34m'JAVA_HOME'\u001b[0m\u001b[0;34m]\u001b[0m \u001b[0;31m#= '/usr/lib/jvm/java-11-openjdk-amd64'\u001b[0m\u001b[0;34m\u001b[0m\u001b[0;34m\u001b[0m\u001b[0m\n\u001b[0m",
            "\u001b[0;32m/usr/lib/python3.10/os.py\u001b[0m in \u001b[0;36m__getitem__\u001b[0;34m(self, key)\u001b[0m\n\u001b[1;32m    678\u001b[0m         \u001b[0;32mexcept\u001b[0m \u001b[0mKeyError\u001b[0m\u001b[0;34m:\u001b[0m\u001b[0;34m\u001b[0m\u001b[0;34m\u001b[0m\u001b[0m\n\u001b[1;32m    679\u001b[0m             \u001b[0;31m# raise KeyError with the original key value\u001b[0m\u001b[0;34m\u001b[0m\u001b[0;34m\u001b[0m\u001b[0m\n\u001b[0;32m--> 680\u001b[0;31m             \u001b[0;32mraise\u001b[0m \u001b[0mKeyError\u001b[0m\u001b[0;34m(\u001b[0m\u001b[0mkey\u001b[0m\u001b[0;34m)\u001b[0m \u001b[0;32mfrom\u001b[0m \u001b[0;32mNone\u001b[0m\u001b[0;34m\u001b[0m\u001b[0;34m\u001b[0m\u001b[0m\n\u001b[0m\u001b[1;32m    681\u001b[0m         \u001b[0;32mreturn\u001b[0m \u001b[0mself\u001b[0m\u001b[0;34m.\u001b[0m\u001b[0mdecodevalue\u001b[0m\u001b[0;34m(\u001b[0m\u001b[0mvalue\u001b[0m\u001b[0;34m)\u001b[0m\u001b[0;34m\u001b[0m\u001b[0;34m\u001b[0m\u001b[0m\n\u001b[1;32m    682\u001b[0m \u001b[0;34m\u001b[0m\u001b[0m\n",
            "\u001b[0;31mKeyError\u001b[0m: 'JAVA_HOME'"
          ]
        }
      ]
    },
    {
      "cell_type": "code",
      "source": [
        "import os       #importing os to set environment variable\n",
        "def install_java():\n",
        "  !apt-get install -y openjdk-11-jdk-headless -qq > /dev/null      #install openjdk\n",
        "  os.environ['JAVA_HOME'] = '/usr/lib/jvm/java-11-openjdk-amd64'     #set environment variable\n",
        "  !java -version       #check java version\n",
        "install_java()"
      ],
      "metadata": {
        "colab": {
          "base_uri": "https://localhost:8080/"
        },
        "id": "2z6rQXx5X8AM",
        "outputId": "4e7b04e0-346a-4bf9-a123-438527352559"
      },
      "execution_count": null,
      "outputs": [
        {
          "output_type": "stream",
          "name": "stdout",
          "text": [
            "openjdk version \"11.0.19\" 2023-04-18\n",
            "OpenJDK Runtime Environment (build 11.0.19+7-post-Ubuntu-0ubuntu120.04.1)\n",
            "OpenJDK 64-Bit Server VM (build 11.0.19+7-post-Ubuntu-0ubuntu120.04.1, mixed mode, sharing)\n"
          ]
        }
      ]
    },
    {
      "cell_type": "code",
      "source": [
        "# FOLDERNAME = '/content/drive/MyDrive/scenic/scenic/projects/vid2seq'\n",
        "\n",
        "# assert FOLDERNAME is not None, \"[!] Enter the foldername.\"\n",
        "\n",
        "# %cd /content/drive/MyDrive/\n",
        "# %ls\n",
        "# %cp -r $FOLDERNAME ../../\n",
        "# %cd ../../"
      ],
      "metadata": {
        "colab": {
          "base_uri": "https://localhost:8080/"
        },
        "id": "CTTG03FHa86I",
        "outputId": "98ec996e-cea5-4e97-b450-b39663a061e5"
      },
      "execution_count": null,
      "outputs": [
        {
          "output_type": "stream",
          "name": "stdout",
          "text": [
            "/content/drive/MyDrive\n",
            " 02_sample.txt               \u001b[0m\u001b[01;34m대학\u001b[0m/\n",
            "'1반 3팀 랜딩페이지.gsite'  '서비스 이용 의향에 대한 설문조사.gform'\n",
            " \u001b[01;34mcheckpoint_1000000\u001b[0m/        '언어와문명 기말 레포트.docx'\n",
            " \u001b[01;34mClassroom\u001b[0m/                 '예금 가입 여부 예측 프로젝트_이민재.gdoc'\n",
            "\u001b[01;34m'Colab Notebooks'\u001b[0m/          '인사윤 독서토론 ppt.pdf'\n",
            " \u001b[01;34mPDVC\u001b[0m/                      '인사윤 독서토론 ppt.pptx'\n",
            " \u001b[01;34mscenic\u001b[0m/                     프로젝트.gsite\n",
            " \u001b[01;34m기타\u001b[0m/\n",
            "/content\n"
          ]
        }
      ]
    },
    {
      "cell_type": "code",
      "source": [
        "# with open('content/drive/MyDrive/scenic/scenic/projects/vid2seq/main.py', 'w') as f:\n",
        "#   f.write(''.join(open(files).readlines()))"
      ],
      "metadata": {
        "colab": {
          "base_uri": "https://localhost:8080/",
          "height": 240
        },
        "id": "bIOTFLLSa-cm",
        "outputId": "14fd5507-1d7a-4316-e210-df9c60d756b3"
      },
      "execution_count": null,
      "outputs": [
        {
          "output_type": "error",
          "ename": "FileNotFoundError",
          "evalue": "ignored",
          "traceback": [
            "\u001b[0;31m---------------------------------------------------------------------------\u001b[0m",
            "\u001b[0;31mFileNotFoundError\u001b[0m                         Traceback (most recent call last)",
            "\u001b[0;32m<ipython-input-16-4e0358dd45be>\u001b[0m in \u001b[0;36m<cell line: 5>\u001b[0;34m()\u001b[0m\n\u001b[1;32m      4\u001b[0m \u001b[0;34m\u001b[0m\u001b[0m\n\u001b[1;32m      5\u001b[0m \u001b[0;32mfor\u001b[0m \u001b[0mfiles\u001b[0m \u001b[0;32min\u001b[0m \u001b[0mFILES_TO_SAVE\u001b[0m\u001b[0;34m:\u001b[0m\u001b[0;34m\u001b[0m\u001b[0;34m\u001b[0m\u001b[0m\n\u001b[0;32m----> 6\u001b[0;31m   \u001b[0;32mwith\u001b[0m \u001b[0mopen\u001b[0m\u001b[0;34m(\u001b[0m\u001b[0mos\u001b[0m\u001b[0;34m.\u001b[0m\u001b[0mpath\u001b[0m\u001b[0;34m.\u001b[0m\u001b[0mjoin\u001b[0m\u001b[0;34m(\u001b[0m\u001b[0mFOLDER_TO_SAVE\u001b[0m\u001b[0;34m,\u001b[0m \u001b[0;34m'/'\u001b[0m\u001b[0;34m.\u001b[0m\u001b[0mjoin\u001b[0m\u001b[0;34m(\u001b[0m\u001b[0mfiles\u001b[0m\u001b[0;34m.\u001b[0m\u001b[0msplit\u001b[0m\u001b[0;34m(\u001b[0m\u001b[0;34m'/'\u001b[0m\u001b[0;34m)\u001b[0m\u001b[0;34m[\u001b[0m\u001b[0;36m1\u001b[0m\u001b[0;34m:\u001b[0m\u001b[0;34m]\u001b[0m\u001b[0;34m)\u001b[0m\u001b[0;34m)\u001b[0m\u001b[0;34m,\u001b[0m \u001b[0;34m'w'\u001b[0m\u001b[0;34m)\u001b[0m \u001b[0;32mas\u001b[0m \u001b[0mf\u001b[0m\u001b[0;34m:\u001b[0m\u001b[0;34m\u001b[0m\u001b[0;34m\u001b[0m\u001b[0m\n\u001b[0m\u001b[1;32m      7\u001b[0m     \u001b[0mf\u001b[0m\u001b[0;34m.\u001b[0m\u001b[0mwrite\u001b[0m\u001b[0;34m(\u001b[0m\u001b[0;34m''\u001b[0m\u001b[0;34m.\u001b[0m\u001b[0mjoin\u001b[0m\u001b[0;34m(\u001b[0m\u001b[0mopen\u001b[0m\u001b[0;34m(\u001b[0m\u001b[0mfiles\u001b[0m\u001b[0;34m)\u001b[0m\u001b[0;34m.\u001b[0m\u001b[0mreadlines\u001b[0m\u001b[0;34m(\u001b[0m\u001b[0;34m)\u001b[0m\u001b[0;34m)\u001b[0m\u001b[0;34m)\u001b[0m\u001b[0;34m\u001b[0m\u001b[0;34m\u001b[0m\u001b[0m\n",
            "\u001b[0;31mFileNotFoundError\u001b[0m: [Errno 2] No such file or directory: '/content/drive/MyDrive/scenic/scenic/projects/vid2seq/content/drive/MyDrive/scenic/scenic/projects/vid2seq/main.py'"
          ]
        }
      ]
    },
    {
      "cell_type": "code",
      "source": [],
      "metadata": {
        "id": "UHDJ-qhUciHF"
      },
      "execution_count": null,
      "outputs": []
    }
  ]
}