{
  "nbformat": 4,
  "nbformat_minor": 0,
  "metadata": {
    "colab": {
      "provenance": [],
      "gpuType": "T4",
      "mount_file_id": "1IcmlQ6bLNiEHEMnuVeRPvEyS_aekR6BG",
      "authorship_tag": "ABX9TyPrbd/HLNaocnEr3+9BIBmC",
      "include_colab_link": true
    },
    "kernelspec": {
      "name": "python3",
      "display_name": "Python 3"
    },
    "language_info": {
      "name": "python"
    },
    "accelerator": "TPU",
    "gpuClass": "standard"
  },
  "cells": [
    {
      "cell_type": "markdown",
      "metadata": {
        "id": "view-in-github",
        "colab_type": "text"
      },
      "source": [
        "<a href=\"https://colab.research.google.com/github/minseye/inisw_project01_/blob/main/vid2seq.ipynb\" target=\"_parent\"><img src=\"https://colab.research.google.com/assets/colab-badge.svg\" alt=\"Open In Colab\"/></a>"
      ]
    },
    {
      "cell_type": "markdown",
      "source": [],
      "metadata": {
        "id": "DpxNE1yVwwQF"
      }
    },
    {
      "cell_type": "code",
      "source": [
        "!pwd"
      ],
      "metadata": {
        "colab": {
          "base_uri": "https://localhost:8080/"
        },
        "id": "byGQ2nT46Wb_",
        "outputId": "0b4208ab-7d81-44e5-af01-421c692d5b9e"
      },
      "execution_count": 1,
      "outputs": [
        {
          "output_type": "stream",
          "name": "stdout",
          "text": [
            "/content\n"
          ]
        }
      ]
    },
    {
      "cell_type": "code",
      "source": [
        "cd ./drive/MyDrive/scenic"
      ],
      "metadata": {
        "colab": {
          "base_uri": "https://localhost:8080/"
        },
        "id": "MSYPTuwTrEJq",
        "outputId": "f8298c5c-56ab-4e59-ec79-b14cf84f09ca"
      },
      "execution_count": 2,
      "outputs": [
        {
          "output_type": "stream",
          "name": "stdout",
          "text": [
            "/content/drive/MyDrive/scenic\n"
          ]
        }
      ]
    },
    {
      "cell_type": "code",
      "source": [
        "!pip install ."
      ],
      "metadata": {
        "colab": {
          "base_uri": "https://localhost:8080/",
          "height": 1000
        },
        "id": "D3CCE3sF-fgI",
        "outputId": "bec11025-9598-4364-c01d-381814367f1d"
      },
      "execution_count": 4,
      "outputs": [
        {
          "output_type": "stream",
          "name": "stdout",
          "text": [
            "Looking in indexes: https://pypi.org/simple, https://us-python.pkg.dev/colab-wheels/public/simple/\n",
            "Processing /content/drive/MyDrive/scenic\n",
            "  Preparing metadata (setup.py) ... \u001b[?25l\u001b[?25hdone\n",
            "Collecting optax@ git+https://github.com/deepmind/optax.git@master (from scenic==0.0.1)\n",
            "  Cloning https://github.com/deepmind/optax.git (to revision master) to /tmp/pip-install-zhi244e6/optax_7102fc20d8334093816c14f34ea3f19d\n",
            "  Running command git clone --filter=blob:none --quiet https://github.com/deepmind/optax.git /tmp/pip-install-zhi244e6/optax_7102fc20d8334093816c14f34ea3f19d\n",
            "  Resolved https://github.com/deepmind/optax.git to commit 7155cf2f452cd4ccdd4ae21f33bd879360f8acc8\n",
            "  Installing build dependencies ... \u001b[?25l\u001b[?25hdone\n",
            "  Getting requirements to build wheel ... \u001b[?25l\u001b[?25hdone\n",
            "  Preparing metadata (pyproject.toml) ... \u001b[?25l\u001b[?25hdone\n",
            "Requirement already satisfied: absl-py>=1.0.0 in /usr/local/lib/python3.10/dist-packages (from scenic==0.0.1) (1.4.0)\n",
            "Requirement already satisfied: numpy>=1.12 in /usr/local/lib/python3.10/dist-packages (from scenic==0.0.1) (1.24.3)\n",
            "Collecting jax>=0.4.3 (from scenic==0.0.1)\n",
            "  Downloading jax-0.4.10.tar.gz (1.3 MB)\n",
            "\u001b[2K     \u001b[90m━━━━━━━━━━━━━━━━━━━━━━━━━━━━━━━━━━━━━━━━\u001b[0m \u001b[32m1.3/1.3 MB\u001b[0m \u001b[31m19.6 MB/s\u001b[0m eta \u001b[36m0:00:00\u001b[0m\n",
            "\u001b[?25h  Installing build dependencies ... \u001b[?25l\u001b[?25hdone\n",
            "  Getting requirements to build wheel ... \u001b[?25l\u001b[?25hdone\n",
            "  Preparing metadata (pyproject.toml) ... \u001b[?25l\u001b[?25hdone\n",
            "Collecting jaxlib>=0.4.3 (from scenic==0.0.1)\n",
            "  Downloading jaxlib-0.4.10-cp310-cp310-manylinux2014_x86_64.whl (69.9 MB)\n",
            "\u001b[2K     \u001b[90m━━━━━━━━━━━━━━━━━━━━━━━━━━━━━━━━━━━━━━━━\u001b[0m \u001b[32m69.9/69.9 MB\u001b[0m \u001b[31m6.3 MB/s\u001b[0m eta \u001b[36m0:00:00\u001b[0m\n",
            "\u001b[?25hRequirement already satisfied: flax>=0.4.0 in /usr/local/lib/python3.10/dist-packages (from scenic==0.0.1) (0.6.9)\n",
            "Collecting ml-collections>=0.1.1 (from scenic==0.0.1)\n",
            "  Downloading ml_collections-0.1.1.tar.gz (77 kB)\n",
            "\u001b[2K     \u001b[90m━━━━━━━━━━━━━━━━━━━━━━━━━━━━━━━━━━━━━━━━\u001b[0m \u001b[32m77.9/77.9 kB\u001b[0m \u001b[31m6.8 MB/s\u001b[0m eta \u001b[36m0:00:00\u001b[0m\n",
            "\u001b[?25h  Preparing metadata (setup.py) ... \u001b[?25l\u001b[?25hdone\n",
            "Requirement already satisfied: tensorflow>=2.7 in /usr/local/lib/python3.10/dist-packages (from scenic==0.0.1) (2.12.0)\n",
            "Collecting tensorflow-addons>=0.15.0 (from scenic==0.0.1)\n",
            "  Downloading tensorflow_addons-0.20.0-cp310-cp310-manylinux_2_17_x86_64.manylinux2014_x86_64.whl (591 kB)\n",
            "\u001b[2K     \u001b[90m━━━━━━━━━━━━━━━━━━━━━━━━━━━━━━━━━━━━━━\u001b[0m \u001b[32m591.0/591.0 kB\u001b[0m \u001b[31m20.5 MB/s\u001b[0m eta \u001b[36m0:00:00\u001b[0m\n",
            "\u001b[?25hCollecting immutabledict>=2.2.1 (from scenic==0.0.1)\n",
            "  Downloading immutabledict-2.2.4-py3-none-any.whl (4.1 kB)\n",
            "Collecting clu>=0.0.6 (from scenic==0.0.1)\n",
            "  Downloading clu-0.0.9-py3-none-any.whl (98 kB)\n",
            "\u001b[2K     \u001b[90m━━━━━━━━━━━━━━━━━━━━━━━━━━━━━━━━━━━━━━━━\u001b[0m \u001b[32m98.2/98.2 kB\u001b[0m \u001b[31m8.9 MB/s\u001b[0m eta \u001b[36m0:00:00\u001b[0m\n",
            "\u001b[?25hRequirement already satisfied: tensorflow-datasets in /usr/local/lib/python3.10/dist-packages (from scenic==0.0.1) (4.9.2)\n",
            "Requirement already satisfied: etils[epath] in /usr/local/lib/python3.10/dist-packages (from clu>=0.0.6->scenic==0.0.1) (1.2.0)\n",
            "Requirement already satisfied: packaging in /usr/local/lib/python3.10/dist-packages (from clu>=0.0.6->scenic==0.0.1) (23.1)\n",
            "Requirement already satisfied: typing-extensions in /usr/local/lib/python3.10/dist-packages (from clu>=0.0.6->scenic==0.0.1) (4.6.0)\n",
            "Requirement already satisfied: wrapt in /usr/local/lib/python3.10/dist-packages (from clu>=0.0.6->scenic==0.0.1) (1.14.1)\n",
            "Requirement already satisfied: msgpack in /usr/local/lib/python3.10/dist-packages (from flax>=0.4.0->scenic==0.0.1) (1.0.5)\n",
            "Requirement already satisfied: orbax-checkpoint in /usr/local/lib/python3.10/dist-packages (from flax>=0.4.0->scenic==0.0.1) (0.2.1)\n",
            "Requirement already satisfied: tensorstore in /usr/local/lib/python3.10/dist-packages (from flax>=0.4.0->scenic==0.0.1) (0.1.36)\n",
            "Requirement already satisfied: rich>=11.1 in /usr/local/lib/python3.10/dist-packages (from flax>=0.4.0->scenic==0.0.1) (13.3.4)\n",
            "Requirement already satisfied: PyYAML>=5.4.1 in /usr/local/lib/python3.10/dist-packages (from flax>=0.4.0->scenic==0.0.1) (6.0)\n",
            "Requirement already satisfied: ml-dtypes>=0.1.0 in /usr/local/lib/python3.10/dist-packages (from jax>=0.4.3->scenic==0.0.1) (0.1.0)\n",
            "Requirement already satisfied: opt-einsum in /usr/local/lib/python3.10/dist-packages (from jax>=0.4.3->scenic==0.0.1) (3.3.0)\n",
            "Requirement already satisfied: scipy>=1.7 in /usr/local/lib/python3.10/dist-packages (from jax>=0.4.3->scenic==0.0.1) (1.10.1)\n",
            "Requirement already satisfied: six in /usr/local/lib/python3.10/dist-packages (from ml-collections>=0.1.1->scenic==0.0.1) (1.16.0)\n",
            "Requirement already satisfied: contextlib2 in /usr/local/lib/python3.10/dist-packages (from ml-collections>=0.1.1->scenic==0.0.1) (0.6.0.post1)\n",
            "Requirement already satisfied: astunparse>=1.6.0 in /usr/local/lib/python3.10/dist-packages (from tensorflow>=2.7->scenic==0.0.1) (1.6.3)\n",
            "Requirement already satisfied: flatbuffers>=2.0 in /usr/local/lib/python3.10/dist-packages (from tensorflow>=2.7->scenic==0.0.1) (23.3.3)\n",
            "Requirement already satisfied: gast<=0.4.0,>=0.2.1 in /usr/local/lib/python3.10/dist-packages (from tensorflow>=2.7->scenic==0.0.1) (0.4.0)\n",
            "Requirement already satisfied: google-pasta>=0.1.1 in /usr/local/lib/python3.10/dist-packages (from tensorflow>=2.7->scenic==0.0.1) (0.2.0)\n",
            "Requirement already satisfied: grpcio<2.0,>=1.24.3 in /usr/local/lib/python3.10/dist-packages (from tensorflow>=2.7->scenic==0.0.1) (1.54.0)\n",
            "Requirement already satisfied: h5py>=2.9.0 in /usr/local/lib/python3.10/dist-packages (from tensorflow>=2.7->scenic==0.0.1) (3.8.0)\n",
            "Requirement already satisfied: keras<2.13,>=2.12.0 in /usr/local/lib/python3.10/dist-packages (from tensorflow>=2.7->scenic==0.0.1) (2.12.0)\n",
            "Requirement already satisfied: libclang>=13.0.0 in /usr/local/lib/python3.10/dist-packages (from tensorflow>=2.7->scenic==0.0.1) (16.0.0)\n",
            "Collecting numpy>=1.12 (from scenic==0.0.1)\n",
            "  Downloading numpy-1.23.5-cp310-cp310-manylinux_2_17_x86_64.manylinux2014_x86_64.whl (17.1 MB)\n",
            "\u001b[2K     \u001b[90m━━━━━━━━━━━━━━━━━━━━━━━━━━━━━━━━━━━━━━━━\u001b[0m \u001b[32m17.1/17.1 MB\u001b[0m \u001b[31m42.5 MB/s\u001b[0m eta \u001b[36m0:00:00\u001b[0m\n",
            "\u001b[?25hRequirement already satisfied: protobuf!=4.21.0,!=4.21.1,!=4.21.2,!=4.21.3,!=4.21.4,!=4.21.5,<5.0.0dev,>=3.20.3 in /usr/local/lib/python3.10/dist-packages (from tensorflow>=2.7->scenic==0.0.1) (3.20.3)\n",
            "Requirement already satisfied: setuptools in /usr/local/lib/python3.10/dist-packages (from tensorflow>=2.7->scenic==0.0.1) (67.7.2)\n",
            "Requirement already satisfied: tensorboard<2.13,>=2.12 in /usr/local/lib/python3.10/dist-packages (from tensorflow>=2.7->scenic==0.0.1) (2.12.2)\n",
            "Requirement already satisfied: tensorflow-estimator<2.13,>=2.12.0 in /usr/local/lib/python3.10/dist-packages (from tensorflow>=2.7->scenic==0.0.1) (2.12.0)\n",
            "Requirement already satisfied: termcolor>=1.1.0 in /usr/local/lib/python3.10/dist-packages (from tensorflow>=2.7->scenic==0.0.1) (2.3.0)\n",
            "Requirement already satisfied: tensorflow-io-gcs-filesystem>=0.23.1 in /usr/local/lib/python3.10/dist-packages (from tensorflow>=2.7->scenic==0.0.1) (0.32.0)\n",
            "Collecting typeguard<3.0.0,>=2.7 (from tensorflow-addons>=0.15.0->scenic==0.0.1)\n",
            "  Downloading typeguard-2.13.3-py3-none-any.whl (17 kB)\n",
            "Requirement already satisfied: chex>=0.1.5 in /usr/local/lib/python3.10/dist-packages (from optax@ git+https://github.com/deepmind/optax.git@master->scenic==0.0.1) (0.1.7)\n",
            "Requirement already satisfied: array-record in /usr/local/lib/python3.10/dist-packages (from tensorflow-datasets->scenic==0.0.1) (0.2.0)\n",
            "Requirement already satisfied: click in /usr/local/lib/python3.10/dist-packages (from tensorflow-datasets->scenic==0.0.1) (8.1.3)\n",
            "Requirement already satisfied: dm-tree in /usr/local/lib/python3.10/dist-packages (from tensorflow-datasets->scenic==0.0.1) (0.1.8)\n",
            "Requirement already satisfied: promise in /usr/local/lib/python3.10/dist-packages (from tensorflow-datasets->scenic==0.0.1) (2.3)\n",
            "Requirement already satisfied: psutil in /usr/local/lib/python3.10/dist-packages (from tensorflow-datasets->scenic==0.0.1) (5.9.5)\n",
            "Requirement already satisfied: requests>=2.19.0 in /usr/local/lib/python3.10/dist-packages (from tensorflow-datasets->scenic==0.0.1) (2.27.1)\n",
            "Requirement already satisfied: tensorflow-metadata in /usr/local/lib/python3.10/dist-packages (from tensorflow-datasets->scenic==0.0.1) (1.13.1)\n",
            "Requirement already satisfied: toml in /usr/local/lib/python3.10/dist-packages (from tensorflow-datasets->scenic==0.0.1) (0.10.2)\n",
            "Requirement already satisfied: tqdm in /usr/local/lib/python3.10/dist-packages (from tensorflow-datasets->scenic==0.0.1) (4.65.0)\n",
            "Requirement already satisfied: wheel<1.0,>=0.23.0 in /usr/local/lib/python3.10/dist-packages (from astunparse>=1.6.0->tensorflow>=2.7->scenic==0.0.1) (0.40.0)\n",
            "Requirement already satisfied: toolz>=0.9.0 in /usr/local/lib/python3.10/dist-packages (from chex>=0.1.5->optax@ git+https://github.com/deepmind/optax.git@master->scenic==0.0.1) (0.12.0)\n",
            "Requirement already satisfied: importlib_resources in /usr/local/lib/python3.10/dist-packages (from etils[epath]->clu>=0.0.6->scenic==0.0.1) (5.12.0)\n",
            "Requirement already satisfied: zipp in /usr/local/lib/python3.10/dist-packages (from etils[epath]->clu>=0.0.6->scenic==0.0.1) (3.15.0)\n",
            "Requirement already satisfied: urllib3<1.27,>=1.21.1 in /usr/local/lib/python3.10/dist-packages (from requests>=2.19.0->tensorflow-datasets->scenic==0.0.1) (1.26.15)\n",
            "Requirement already satisfied: certifi>=2017.4.17 in /usr/local/lib/python3.10/dist-packages (from requests>=2.19.0->tensorflow-datasets->scenic==0.0.1) (2022.12.7)\n",
            "Requirement already satisfied: charset-normalizer~=2.0.0 in /usr/local/lib/python3.10/dist-packages (from requests>=2.19.0->tensorflow-datasets->scenic==0.0.1) (2.0.12)\n",
            "Requirement already satisfied: idna<4,>=2.5 in /usr/local/lib/python3.10/dist-packages (from requests>=2.19.0->tensorflow-datasets->scenic==0.0.1) (3.4)\n",
            "Requirement already satisfied: markdown-it-py<3.0.0,>=2.2.0 in /usr/local/lib/python3.10/dist-packages (from rich>=11.1->flax>=0.4.0->scenic==0.0.1) (2.2.0)\n",
            "Requirement already satisfied: pygments<3.0.0,>=2.13.0 in /usr/local/lib/python3.10/dist-packages (from rich>=11.1->flax>=0.4.0->scenic==0.0.1) (2.14.0)\n",
            "Requirement already satisfied: google-auth<3,>=1.6.3 in /usr/local/lib/python3.10/dist-packages (from tensorboard<2.13,>=2.12->tensorflow>=2.7->scenic==0.0.1) (2.17.3)\n",
            "Requirement already satisfied: google-auth-oauthlib<1.1,>=0.5 in /usr/local/lib/python3.10/dist-packages (from tensorboard<2.13,>=2.12->tensorflow>=2.7->scenic==0.0.1) (1.0.0)\n",
            "Requirement already satisfied: markdown>=2.6.8 in /usr/local/lib/python3.10/dist-packages (from tensorboard<2.13,>=2.12->tensorflow>=2.7->scenic==0.0.1) (3.4.3)\n",
            "Requirement already satisfied: tensorboard-data-server<0.8.0,>=0.7.0 in /usr/local/lib/python3.10/dist-packages (from tensorboard<2.13,>=2.12->tensorflow>=2.7->scenic==0.0.1) (0.7.0)\n",
            "Requirement already satisfied: tensorboard-plugin-wit>=1.6.0 in /usr/local/lib/python3.10/dist-packages (from tensorboard<2.13,>=2.12->tensorflow>=2.7->scenic==0.0.1) (1.8.1)\n",
            "Requirement already satisfied: werkzeug>=1.0.1 in /usr/local/lib/python3.10/dist-packages (from tensorboard<2.13,>=2.12->tensorflow>=2.7->scenic==0.0.1) (2.3.0)\n",
            "Requirement already satisfied: cached_property in /usr/local/lib/python3.10/dist-packages (from orbax-checkpoint->flax>=0.4.0->scenic==0.0.1) (1.5.2)\n",
            "Requirement already satisfied: nest_asyncio in /usr/local/lib/python3.10/dist-packages (from orbax-checkpoint->flax>=0.4.0->scenic==0.0.1) (1.5.6)\n",
            "Requirement already satisfied: googleapis-common-protos<2,>=1.52.0 in /usr/local/lib/python3.10/dist-packages (from tensorflow-metadata->tensorflow-datasets->scenic==0.0.1) (1.59.0)\n",
            "Requirement already satisfied: cachetools<6.0,>=2.0.0 in /usr/local/lib/python3.10/dist-packages (from google-auth<3,>=1.6.3->tensorboard<2.13,>=2.12->tensorflow>=2.7->scenic==0.0.1) (5.3.0)\n",
            "Requirement already satisfied: pyasn1-modules>=0.2.1 in /usr/local/lib/python3.10/dist-packages (from google-auth<3,>=1.6.3->tensorboard<2.13,>=2.12->tensorflow>=2.7->scenic==0.0.1) (0.3.0)\n",
            "Requirement already satisfied: rsa<5,>=3.1.4 in /usr/local/lib/python3.10/dist-packages (from google-auth<3,>=1.6.3->tensorboard<2.13,>=2.12->tensorflow>=2.7->scenic==0.0.1) (4.9)\n",
            "Requirement already satisfied: requests-oauthlib>=0.7.0 in /usr/local/lib/python3.10/dist-packages (from google-auth-oauthlib<1.1,>=0.5->tensorboard<2.13,>=2.12->tensorflow>=2.7->scenic==0.0.1) (1.3.1)\n",
            "Requirement already satisfied: mdurl~=0.1 in /usr/local/lib/python3.10/dist-packages (from markdown-it-py<3.0.0,>=2.2.0->rich>=11.1->flax>=0.4.0->scenic==0.0.1) (0.1.2)\n",
            "Requirement already satisfied: MarkupSafe>=2.1.1 in /usr/local/lib/python3.10/dist-packages (from werkzeug>=1.0.1->tensorboard<2.13,>=2.12->tensorflow>=2.7->scenic==0.0.1) (2.1.2)\n",
            "Requirement already satisfied: pyasn1<0.6.0,>=0.4.6 in /usr/local/lib/python3.10/dist-packages (from pyasn1-modules>=0.2.1->google-auth<3,>=1.6.3->tensorboard<2.13,>=2.12->tensorflow>=2.7->scenic==0.0.1) (0.5.0)\n",
            "Requirement already satisfied: oauthlib>=3.0.0 in /usr/local/lib/python3.10/dist-packages (from requests-oauthlib>=0.7.0->google-auth-oauthlib<1.1,>=0.5->tensorboard<2.13,>=2.12->tensorflow>=2.7->scenic==0.0.1) (3.2.2)\n",
            "Building wheels for collected packages: scenic, jax, ml-collections\n",
            "  Building wheel for scenic (setup.py) ... \u001b[?25l\u001b[?25hdone\n",
            "  Created wheel for scenic: filename=scenic-0.0.1-py3-none-any.whl size=1123587 sha256=976ef94c26f0dfd4916f051d9ff8a377fab8ccda5b3da4563a2ada984d87cc8b\n",
            "  Stored in directory: /tmp/pip-ephem-wheel-cache-wuy0kfxq/wheels/ed/ef/fa/2d548fdaa502def655c68cdb121c9ace4f9dc7d38d65ece268\n",
            "  Building wheel for jax (pyproject.toml) ... \u001b[?25l\u001b[?25hdone\n",
            "  Created wheel for jax: filename=jax-0.4.10-py3-none-any.whl size=1480503 sha256=b94b2b2e75e252ca42c8223cbaf030ff80d0e436cce4ec52daec813ae4bac896\n",
            "  Stored in directory: /root/.cache/pip/wheels/2f/04/51/ebc9c5225f0a0df1e56c231c1f4c9b7afd3e024ebb492eed99\n",
            "  Building wheel for ml-collections (setup.py) ... \u001b[?25l\u001b[?25hdone\n",
            "  Created wheel for ml-collections: filename=ml_collections-0.1.1-py3-none-any.whl size=94506 sha256=c1e593e352cdedf85d8a0530ab0a0dbd25b7c24d789b700422550039414a75e8\n",
            "  Stored in directory: /root/.cache/pip/wheels/7b/89/c9/a9b87790789e94aadcfc393c283e3ecd5ab916aed0a31be8fe\n",
            "Successfully built scenic jax ml-collections\n",
            "Installing collected packages: typeguard, numpy, ml-collections, immutabledict, tensorflow-addons, jaxlib, jax, clu, scenic\n",
            "  Attempting uninstall: numpy\n",
            "    Found existing installation: numpy 1.24.3\n",
            "    Uninstalling numpy-1.24.3:\n",
            "      Successfully uninstalled numpy-1.24.3\n",
            "  Attempting uninstall: jaxlib\n",
            "    Found existing installation: jaxlib 0.3.25\n",
            "    Uninstalling jaxlib-0.3.25:\n",
            "      Successfully uninstalled jaxlib-0.3.25\n",
            "  Attempting uninstall: jax\n",
            "    Found existing installation: jax 0.3.25\n",
            "    Uninstalling jax-0.3.25:\n",
            "      Successfully uninstalled jax-0.3.25\n",
            "Successfully installed clu-0.0.9 immutabledict-2.2.4 jax-0.4.10 jaxlib-0.4.10 ml-collections-0.1.1 numpy-1.23.5 scenic-0.0.1 tensorflow-addons-0.20.0 typeguard-2.13.3\n"
          ]
        },
        {
          "output_type": "display_data",
          "data": {
            "application/vnd.colab-display-data+json": {
              "pip_warning": {
                "packages": [
                  "numpy"
                ]
              }
            }
          },
          "metadata": {}
        }
      ]
    },
    {
      "cell_type": "code",
      "source": [
        "import ml_collections\n",
        "print(ml_collections.__file__)"
      ],
      "metadata": {
        "colab": {
          "base_uri": "https://localhost:8080/"
        },
        "id": "c1rlfM0HdSF-",
        "outputId": "1132e7af-e15f-4bc6-cd0d-34ad57387dd4"
      },
      "execution_count": 3,
      "outputs": [
        {
          "output_type": "stream",
          "name": "stdout",
          "text": [
            "/usr/local/lib/python3.10/dist-packages/ml_collections/__init__.py\n"
          ]
        }
      ]
    },
    {
      "cell_type": "code",
      "source": [
        "import flax\n",
        "print(flax.__file__)"
      ],
      "metadata": {
        "colab": {
          "base_uri": "https://localhost:8080/"
        },
        "id": "1rtktgZKp6Wp",
        "outputId": "66317dc9-2ff8-4101-c6ff-0d9afa359cc0"
      },
      "execution_count": 17,
      "outputs": [
        {
          "output_type": "stream",
          "name": "stdout",
          "text": [
            "/usr/local/lib/python3.10/dist-packages/flax/__init__.py\n"
          ]
        },
        {
          "output_type": "stream",
          "name": "stderr",
          "text": [
            "/usr/local/lib/python3.10/dist-packages/flax/struct.py:133: FutureWarning: jax.tree_util.register_keypaths is deprecated, and will be removed in a future release. Please use `register_pytree_with_keys()` instead.\n",
            "  jax.tree_util.register_keypaths(data_clz, keypaths)\n",
            "/usr/local/lib/python3.10/dist-packages/flax/struct.py:133: FutureWarning: jax.tree_util.register_keypaths is deprecated, and will be removed in a future release. Please use `register_pytree_with_keys()` instead.\n",
            "  jax.tree_util.register_keypaths(data_clz, keypaths)\n"
          ]
        }
      ]
    },
    {
      "cell_type": "code",
      "source": [
        "!pwd"
      ],
      "metadata": {
        "colab": {
          "base_uri": "https://localhost:8080/"
        },
        "id": "-Yv_71jpmihd",
        "outputId": "f2ad1f2c-d8c3-4b6d-f65d-52a60c6357b5"
      },
      "execution_count": 4,
      "outputs": [
        {
          "output_type": "stream",
          "name": "stdout",
          "text": [
            "/content/drive/MyDrive/scenic\n"
          ]
        }
      ]
    },
    {
      "cell_type": "code",
      "source": [
        "cd /content/drive/MyDrive/scenic"
      ],
      "metadata": {
        "colab": {
          "base_uri": "https://localhost:8080/"
        },
        "id": "13whThZfKhAz",
        "outputId": "ec9eccd2-386d-4029-8fb5-32d3cc08a636"
      },
      "execution_count": 7,
      "outputs": [
        {
          "output_type": "stream",
          "name": "stdout",
          "text": [
            "/content/drive/MyDrive/scenic\n"
          ]
        }
      ]
    },
    {
      "cell_type": "code",
      "source": [
        "!pip install -r scenic/projects/vid2seq/requirements.txt"
      ],
      "metadata": {
        "id": "u_P2M96CwmiT",
        "colab": {
          "base_uri": "https://localhost:8080/"
        },
        "outputId": "ce4e7af9-8a60-4358-bbaa-c38150ed09ab"
      },
      "execution_count": 8,
      "outputs": [
        {
          "output_type": "stream",
          "name": "stdout",
          "text": [
            "Looking in indexes: https://pypi.org/simple, https://us-python.pkg.dev/colab-wheels/public/simple/\n",
            "Collecting dmvr@ git+https://github.com/deepmind/dmvr.git (from -r scenic/projects/vid2seq/requirements.txt (line 1))\n",
            "  Cloning https://github.com/deepmind/dmvr.git to /tmp/pip-install-rzvg3bdz/dmvr_84a0e28673ef4a01b96361f7ae74ff10\n",
            "  Running command git clone --filter=blob:none --quiet https://github.com/deepmind/dmvr.git /tmp/pip-install-rzvg3bdz/dmvr_84a0e28673ef4a01b96361f7ae74ff10\n",
            "  Resolved https://github.com/deepmind/dmvr.git to commit 77ccedaa084d29239eaeafddb0b2e83843b613a1\n",
            "  Preparing metadata (setup.py) ... \u001b[?25l\u001b[?25hdone\n",
            "Requirement already satisfied: gin-config in /usr/local/lib/python3.10/dist-packages (from -r scenic/projects/vid2seq/requirements.txt (line 2)) (0.5.0)\n",
            "Collecting t5 (from -r scenic/projects/vid2seq/requirements.txt (line 3))\n",
            "  Downloading t5-0.9.4-py2.py3-none-any.whl (164 kB)\n",
            "\u001b[2K     \u001b[90m━━━━━━━━━━━━━━━━━━━━━━━━━━━━━━━━━━━━━━━\u001b[0m \u001b[32m164.5/164.5 kB\u001b[0m \u001b[31m4.1 MB/s\u001b[0m eta \u001b[36m0:00:00\u001b[0m\n",
            "\u001b[?25hRequirement already satisfied: t5x in /usr/local/lib/python3.10/dist-packages (from -r scenic/projects/vid2seq/requirements.txt (line 4)) (0.0.0)\n",
            "Requirement already satisfied: six in /usr/local/lib/python3.10/dist-packages (from -r scenic/projects/vid2seq/requirements.txt (line 5)) (1.16.0)\n",
            "Collecting flax==0.5 (from -r scenic/projects/vid2seq/requirements.txt (line 6))\n",
            "  Downloading flax-0.5.0-py3-none-any.whl (190 kB)\n",
            "\u001b[2K     \u001b[90m━━━━━━━━━━━━━━━━━━━━━━━━━━━━━━━━━━━━━━\u001b[0m \u001b[32m190.2/190.2 kB\u001b[0m \u001b[31m10.8 MB/s\u001b[0m eta \u001b[36m0:00:00\u001b[0m\n",
            "\u001b[?25hRequirement already satisfied: numpy>=1.12 in /usr/local/lib/python3.10/dist-packages (from flax==0.5->-r scenic/projects/vid2seq/requirements.txt (line 6)) (1.23.5)\n",
            "Requirement already satisfied: jax>=0.3 in /usr/local/lib/python3.10/dist-packages (from flax==0.5->-r scenic/projects/vid2seq/requirements.txt (line 6)) (0.4.10)\n",
            "Requirement already satisfied: matplotlib in /usr/local/lib/python3.10/dist-packages (from flax==0.5->-r scenic/projects/vid2seq/requirements.txt (line 6)) (3.7.1)\n",
            "Requirement already satisfied: msgpack in /usr/local/lib/python3.10/dist-packages (from flax==0.5->-r scenic/projects/vid2seq/requirements.txt (line 6)) (1.0.5)\n",
            "Requirement already satisfied: optax in /usr/local/lib/python3.10/dist-packages (from flax==0.5->-r scenic/projects/vid2seq/requirements.txt (line 6)) (0.1.5)\n",
            "Requirement already satisfied: typing-extensions>=4.1.1 in /usr/local/lib/python3.10/dist-packages (from flax==0.5->-r scenic/projects/vid2seq/requirements.txt (line 6)) (4.6.0)\n",
            "Requirement already satisfied: absl-py in /usr/local/lib/python3.10/dist-packages (from dmvr@ git+https://github.com/deepmind/dmvr.git->-r scenic/projects/vid2seq/requirements.txt (line 1)) (1.4.0)\n",
            "Requirement already satisfied: sentencepiece in /usr/local/lib/python3.10/dist-packages (from dmvr@ git+https://github.com/deepmind/dmvr.git->-r scenic/projects/vid2seq/requirements.txt (line 1)) (0.1.99)\n",
            "Requirement already satisfied: tensorflow>=2.0.0 in /usr/local/lib/python3.10/dist-packages (from dmvr@ git+https://github.com/deepmind/dmvr.git->-r scenic/projects/vid2seq/requirements.txt (line 1)) (2.12.0)\n",
            "Requirement already satisfied: tensorflow_text>=2.0.0 in /usr/local/lib/python3.10/dist-packages (from dmvr@ git+https://github.com/deepmind/dmvr.git->-r scenic/projects/vid2seq/requirements.txt (line 1)) (2.12.1)\n",
            "Requirement already satisfied: babel in /usr/local/lib/python3.10/dist-packages (from t5->-r scenic/projects/vid2seq/requirements.txt (line 3)) (2.12.1)\n",
            "Requirement already satisfied: editdistance in /usr/local/lib/python3.10/dist-packages (from t5->-r scenic/projects/vid2seq/requirements.txt (line 3)) (0.6.2)\n",
            "Requirement already satisfied: immutabledict in /usr/local/lib/python3.10/dist-packages (from t5->-r scenic/projects/vid2seq/requirements.txt (line 3)) (2.2.4)\n",
            "Collecting mesh-tensorflow[transformer]>=0.1.13 (from t5->-r scenic/projects/vid2seq/requirements.txt (line 3))\n",
            "  Downloading mesh_tensorflow-0.1.21-py3-none-any.whl (385 kB)\n",
            "\u001b[2K     \u001b[90m━━━━━━━━━━━━━━━━━━━━━━━━━━━━━━━━━━━━━━\u001b[0m \u001b[32m385.2/385.2 kB\u001b[0m \u001b[31m25.0 MB/s\u001b[0m eta \u001b[36m0:00:00\u001b[0m\n",
            "\u001b[?25hRequirement already satisfied: nltk in /usr/local/lib/python3.10/dist-packages (from t5->-r scenic/projects/vid2seq/requirements.txt (line 3)) (3.8.1)\n",
            "Requirement already satisfied: pandas in /usr/local/lib/python3.10/dist-packages (from t5->-r scenic/projects/vid2seq/requirements.txt (line 3)) (1.5.3)\n",
            "Collecting rouge-score>=0.1.2 (from t5->-r scenic/projects/vid2seq/requirements.txt (line 3))\n",
            "  Downloading rouge_score-0.1.2.tar.gz (17 kB)\n",
            "  Preparing metadata (setup.py) ... \u001b[?25l\u001b[?25hdone\n",
            "Collecting sacrebleu (from t5->-r scenic/projects/vid2seq/requirements.txt (line 3))\n",
            "  Downloading sacrebleu-2.3.1-py3-none-any.whl (118 kB)\n",
            "\u001b[2K     \u001b[90m━━━━━━━━━━━━━━━━━━━━━━━━━━━━━━━━━━━━━━\u001b[0m \u001b[32m118.9/118.9 kB\u001b[0m \u001b[31m10.8 MB/s\u001b[0m eta \u001b[36m0:00:00\u001b[0m\n",
            "\u001b[?25hRequirement already satisfied: scikit-learn in /usr/local/lib/python3.10/dist-packages (from t5->-r scenic/projects/vid2seq/requirements.txt (line 3)) (1.2.2)\n",
            "Requirement already satisfied: scipy in /usr/local/lib/python3.10/dist-packages (from t5->-r scenic/projects/vid2seq/requirements.txt (line 3)) (1.10.1)\n",
            "Collecting seqio-nightly (from t5->-r scenic/projects/vid2seq/requirements.txt (line 3))\n",
            "  Downloading seqio_nightly-0.0.15.dev20230522-py3-none-any.whl (342 kB)\n",
            "\u001b[2K     \u001b[90m━━━━━━━━━━━━━━━━━━━━━━━━━━━━━━━━━━━━━━\u001b[0m \u001b[32m342.8/342.8 kB\u001b[0m \u001b[31m25.1 MB/s\u001b[0m eta \u001b[36m0:00:00\u001b[0m\n",
            "\u001b[?25hRequirement already satisfied: tfds-nightly in /usr/local/lib/python3.10/dist-packages (from t5->-r scenic/projects/vid2seq/requirements.txt (line 3)) (4.9.2.dev202305230044)\n",
            "Collecting transformers>=2.7.0 (from t5->-r scenic/projects/vid2seq/requirements.txt (line 3))\n",
            "  Downloading transformers-4.29.2-py3-none-any.whl (7.1 MB)\n",
            "\u001b[2K     \u001b[90m━━━━━━━━━━━━━━━━━━━━━━━━━━━━━━━━━━━━━━━━\u001b[0m \u001b[32m7.1/7.1 MB\u001b[0m \u001b[31m48.2 MB/s\u001b[0m eta \u001b[36m0:00:00\u001b[0m\n",
            "\u001b[?25hCollecting clu@ git+https://github.com/google/CommonLoopUtils#egg=clu (from t5x->-r scenic/projects/vid2seq/requirements.txt (line 4))\n",
            "  Cloning https://github.com/google/CommonLoopUtils to /tmp/pip-install-rzvg3bdz/clu_59230476184e42eda00168475780ca07\n",
            "  Running command git clone --filter=blob:none --quiet https://github.com/google/CommonLoopUtils /tmp/pip-install-rzvg3bdz/clu_59230476184e42eda00168475780ca07\n",
            "  Resolved https://github.com/google/CommonLoopUtils to commit 46adc8e9b5840e5a47432235c7bb351393b3025e\n",
            "  Preparing metadata (setup.py) ... \u001b[?25l\u001b[?25hdone\n",
            "Collecting flax@ git+https://github.com/google/flax#egg=flax (from t5x->-r scenic/projects/vid2seq/requirements.txt (line 4))\n",
            "  Cloning https://github.com/google/flax to /tmp/pip-install-rzvg3bdz/flax_985a4758894a4b3096fae83b2e111e6d\n",
            "  Running command git clone --filter=blob:none --quiet https://github.com/google/flax /tmp/pip-install-rzvg3bdz/flax_985a4758894a4b3096fae83b2e111e6d\n",
            "  Resolved https://github.com/google/flax to commit 380fef6db994b55f217df9421924a667fc829d56\n",
            "  Installing build dependencies ... \u001b[?25l\u001b[?25hdone\n",
            "  Getting requirements to build wheel ... \u001b[?25l\u001b[?25hdone\n",
            "  Installing backend dependencies ... \u001b[?25l\u001b[?25hdone\n",
            "  Preparing metadata (pyproject.toml) ... \u001b[?25l\u001b[?25hdone\n",
            "Collecting optax@ git+https://github.com/deepmind/optax#egg=optax (from t5x->-r scenic/projects/vid2seq/requirements.txt (line 4))\n",
            "  Cloning https://github.com/deepmind/optax to /tmp/pip-install-rzvg3bdz/optax_cd53044c70a5439e9e9790910c25e472\n",
            "  Running command git clone --filter=blob:none --quiet https://github.com/deepmind/optax /tmp/pip-install-rzvg3bdz/optax_cd53044c70a5439e9e9790910c25e472\n",
            "  Resolved https://github.com/deepmind/optax to commit 7155cf2f452cd4ccdd4ae21f33bd879360f8acc8\n",
            "  Installing build dependencies ... \u001b[?25l\u001b[?25hdone\n",
            "  Getting requirements to build wheel ... \u001b[?25l\u001b[?25hdone\n",
            "  Preparing metadata (pyproject.toml) ... \u001b[?25l\u001b[?25hdone\n",
            "Collecting seqio@ git+https://github.com/google/seqio#egg=seqio (from t5x->-r scenic/projects/vid2seq/requirements.txt (line 4))\n",
            "  Cloning https://github.com/google/seqio to /tmp/pip-install-rzvg3bdz/seqio_ba462bc4a28e48dc8c087b0bd9dc35aa\n",
            "  Running command git clone --filter=blob:none --quiet https://github.com/google/seqio /tmp/pip-install-rzvg3bdz/seqio_ba462bc4a28e48dc8c087b0bd9dc35aa\n",
            "  Resolved https://github.com/google/seqio to commit 219613fa59a7915120890d49df42fb3a280b3cbb\n",
            "  Preparing metadata (setup.py) ... \u001b[?25l\u001b[?25hdone\n",
            "Requirement already satisfied: cached-property in /usr/local/lib/python3.10/dist-packages (from t5x->-r scenic/projects/vid2seq/requirements.txt (line 4)) (1.5.2)\n",
            "INFO: pip is looking at multiple versions of t5x to determine which version is compatible with other requirements. This could take a while.\n",
            "\u001b[31mERROR: Cannot install flax==0.5 and t5x==0.0.0 because these package versions have conflicting dependencies.\u001b[0m\u001b[31m\n",
            "\u001b[0m\n",
            "The conflict is caused by:\n",
            "    The user requested flax==0.5\n",
            "    t5x 0.0.0 depends on flax 0.6.10 (from git+https://github.com/google/flax#egg=flax)\n",
            "\n",
            "To fix this you could try to:\n",
            "1. loosen the range of package versions you've specified\n",
            "2. remove package versions to allow pip attempt to solve the dependency conflict\n",
            "\n",
            "\u001b[31mERROR: ResolutionImpossible: for help visit https://pip.pypa.io/en/latest/topics/dependency-resolution/#dealing-with-dependency-conflicts\u001b[0m\u001b[31m\n",
            "\u001b[0m"
          ]
        }
      ]
    },
    {
      "cell_type": "code",
      "source": [
        "cd ./scenic/projects/t5/t5x"
      ],
      "metadata": {
        "colab": {
          "base_uri": "https://localhost:8080/"
        },
        "id": "8UaG_RySmkBm",
        "outputId": "1d5ff929-9674-40b0-bd7d-41dc4fd825ad"
      },
      "execution_count": 5,
      "outputs": [
        {
          "output_type": "stream",
          "name": "stdout",
          "text": [
            "/content/drive/MyDrive/scenic/scenic/projects/t5/t5x\n"
          ]
        }
      ]
    },
    {
      "cell_type": "code",
      "source": [
        "!pip install ."
      ],
      "metadata": {
        "colab": {
          "base_uri": "https://localhost:8080/"
        },
        "id": "woOIChPYmsY9",
        "outputId": "bd6936cf-270e-4b1b-c6b3-66f5c0e65c86"
      },
      "execution_count": 6,
      "outputs": [
        {
          "output_type": "stream",
          "name": "stdout",
          "text": [
            "Looking in indexes: https://pypi.org/simple, https://us-python.pkg.dev/colab-wheels/public/simple/\n",
            "Processing /content/drive/MyDrive/scenic/scenic/projects/t5/t5x\n",
            "  Preparing metadata (setup.py) ... \u001b[?25l\u001b[?25hdone\n",
            "Collecting clu@ git+https://github.com/google/CommonLoopUtils#egg=clu (from t5x==0.0.0)\n",
            "  Cloning https://github.com/google/CommonLoopUtils to /tmp/pip-install-w30zhuf8/clu_8daef413da2b48678b07bdc52cfcd434\n",
            "  Running command git clone --filter=blob:none --quiet https://github.com/google/CommonLoopUtils /tmp/pip-install-w30zhuf8/clu_8daef413da2b48678b07bdc52cfcd434\n",
            "  Resolved https://github.com/google/CommonLoopUtils to commit 46adc8e9b5840e5a47432235c7bb351393b3025e\n",
            "  Preparing metadata (setup.py) ... \u001b[?25l\u001b[?25hdone\n",
            "Collecting flax@ git+https://github.com/google/flax#egg=flax (from t5x==0.0.0)\n",
            "  Cloning https://github.com/google/flax to /tmp/pip-install-w30zhuf8/flax_f21ac03133644dc8ac5bc62148ac636d\n",
            "  Running command git clone --filter=blob:none --quiet https://github.com/google/flax /tmp/pip-install-w30zhuf8/flax_f21ac03133644dc8ac5bc62148ac636d\n",
            "  Resolved https://github.com/google/flax to commit 380fef6db994b55f217df9421924a667fc829d56\n",
            "  Installing build dependencies ... \u001b[?25l\u001b[?25hdone\n",
            "  Getting requirements to build wheel ... \u001b[?25l\u001b[?25hdone\n",
            "  Installing backend dependencies ... \u001b[?25l\u001b[?25hdone\n",
            "  Preparing metadata (pyproject.toml) ... \u001b[?25l\u001b[?25hdone\n",
            "Collecting optax@ git+https://github.com/deepmind/optax#egg=optax (from t5x==0.0.0)\n",
            "  Cloning https://github.com/deepmind/optax to /tmp/pip-install-w30zhuf8/optax_b05bb9e96580481eae37591450d9aa7d\n",
            "  Running command git clone --filter=blob:none --quiet https://github.com/deepmind/optax /tmp/pip-install-w30zhuf8/optax_b05bb9e96580481eae37591450d9aa7d\n",
            "  Resolved https://github.com/deepmind/optax to commit 7155cf2f452cd4ccdd4ae21f33bd879360f8acc8\n",
            "  Installing build dependencies ... \u001b[?25l\u001b[?25hdone\n",
            "  Getting requirements to build wheel ... \u001b[?25l\u001b[?25hdone\n",
            "  Preparing metadata (pyproject.toml) ... \u001b[?25l\u001b[?25hdone\n",
            "Collecting seqio@ git+https://github.com/google/seqio#egg=seqio (from t5x==0.0.0)\n",
            "  Cloning https://github.com/google/seqio to /tmp/pip-install-w30zhuf8/seqio_fd12f00b04634c4e9ec9a9da0f930f41\n",
            "  Running command git clone --filter=blob:none --quiet https://github.com/google/seqio /tmp/pip-install-w30zhuf8/seqio_fd12f00b04634c4e9ec9a9da0f930f41\n",
            "  Resolved https://github.com/google/seqio to commit 219613fa59a7915120890d49df42fb3a280b3cbb\n",
            "  Preparing metadata (setup.py) ... \u001b[?25l\u001b[?25hdone\n",
            "Requirement already satisfied: absl-py in /usr/local/lib/python3.10/dist-packages (from t5x==0.0.0) (1.4.0)\n",
            "Requirement already satisfied: cached_property in /usr/local/lib/python3.10/dist-packages (from t5x==0.0.0) (1.5.2)\n",
            "Collecting fiddle>=0.2.5 (from t5x==0.0.0)\n",
            "  Downloading fiddle-0.2.6-py3-none-any.whl (338 kB)\n",
            "\u001b[2K     \u001b[90m━━━━━━━━━━━━━━━━━━━━━━━━━━━━━━━━━━━━━━━\u001b[0m \u001b[32m338.2/338.2 kB\u001b[0m \u001b[31m6.3 MB/s\u001b[0m eta \u001b[36m0:00:00\u001b[0m\n",
            "\u001b[?25hRequirement already satisfied: gin-config in /usr/local/lib/python3.10/dist-packages (from t5x==0.0.0) (0.5.0)\n",
            "Requirement already satisfied: jax>=0.4.10 in /usr/local/lib/python3.10/dist-packages (from t5x==0.0.0) (0.4.10)\n",
            "Requirement already satisfied: jaxlib>=0.4.10 in /usr/local/lib/python3.10/dist-packages (from t5x==0.0.0) (0.4.10)\n",
            "Collecting jestimator (from t5x==0.0.0)\n",
            "  Downloading jestimator-0.3.3-py3-none-any.whl (15 kB)\n",
            "Requirement already satisfied: numpy in /usr/local/lib/python3.10/dist-packages (from t5x==0.0.0) (1.23.5)\n",
            "Requirement already satisfied: orbax-checkpoint in /usr/local/lib/python3.10/dist-packages (from t5x==0.0.0) (0.2.1)\n",
            "Collecting tensorflow-cpu (from t5x==0.0.0)\n",
            "  Downloading tensorflow_cpu-2.12.0-cp310-cp310-manylinux_2_17_x86_64.manylinux2014_x86_64.whl (231.8 MB)\n",
            "\u001b[2K     \u001b[90m━━━━━━━━━━━━━━━━━━━━━━━━━━━━━━━━━━━━━━━\u001b[0m \u001b[32m231.8/231.8 MB\u001b[0m \u001b[31m2.9 MB/s\u001b[0m eta \u001b[36m0:00:00\u001b[0m\n",
            "\u001b[?25hRequirement already satisfied: tensorstore>=0.1.20 in /usr/local/lib/python3.10/dist-packages (from t5x==0.0.0) (0.1.36)\n",
            "Requirement already satisfied: protobuf==3.20.3 in /usr/local/lib/python3.10/dist-packages (from t5x==0.0.0) (3.20.3)\n",
            "Requirement already satisfied: graphviz in /usr/local/lib/python3.10/dist-packages (from fiddle>=0.2.5->t5x==0.0.0) (0.20.1)\n",
            "Collecting libcst (from fiddle>=0.2.5->t5x==0.0.0)\n",
            "  Downloading libcst-0.4.9-cp310-cp310-manylinux_2_17_x86_64.manylinux2014_x86_64.whl (2.8 MB)\n",
            "\u001b[2K     \u001b[90m━━━━━━━━━━━━━━━━━━━━━━━━━━━━━━━━━━━━━━━━\u001b[0m \u001b[32m2.8/2.8 MB\u001b[0m \u001b[31m33.1 MB/s\u001b[0m eta \u001b[36m0:00:00\u001b[0m\n",
            "\u001b[?25hRequirement already satisfied: typing-extensions in /usr/local/lib/python3.10/dist-packages (from fiddle>=0.2.5->t5x==0.0.0) (4.6.0)\n",
            "Requirement already satisfied: ml-dtypes>=0.1.0 in /usr/local/lib/python3.10/dist-packages (from jax>=0.4.10->t5x==0.0.0) (0.1.0)\n",
            "Requirement already satisfied: opt-einsum in /usr/local/lib/python3.10/dist-packages (from jax>=0.4.10->t5x==0.0.0) (3.3.0)\n",
            "Requirement already satisfied: scipy>=1.7 in /usr/local/lib/python3.10/dist-packages (from jax>=0.4.10->t5x==0.0.0) (1.10.1)\n",
            "Requirement already satisfied: etils[epath] in /usr/local/lib/python3.10/dist-packages (from clu@ git+https://github.com/google/CommonLoopUtils#egg=clu->t5x==0.0.0) (1.2.0)\n",
            "Requirement already satisfied: ml_collections in /usr/local/lib/python3.10/dist-packages (from clu@ git+https://github.com/google/CommonLoopUtils#egg=clu->t5x==0.0.0) (0.1.1)\n",
            "Requirement already satisfied: packaging in /usr/local/lib/python3.10/dist-packages (from clu@ git+https://github.com/google/CommonLoopUtils#egg=clu->t5x==0.0.0) (23.1)\n",
            "Requirement already satisfied: wrapt in /usr/local/lib/python3.10/dist-packages (from clu@ git+https://github.com/google/CommonLoopUtils#egg=clu->t5x==0.0.0) (1.14.1)\n",
            "Requirement already satisfied: msgpack in /usr/local/lib/python3.10/dist-packages (from flax@ git+https://github.com/google/flax#egg=flax->t5x==0.0.0) (1.0.5)\n",
            "Requirement already satisfied: rich>=11.1 in /usr/local/lib/python3.10/dist-packages (from flax@ git+https://github.com/google/flax#egg=flax->t5x==0.0.0) (13.3.4)\n",
            "Requirement already satisfied: PyYAML>=5.4.1 in /usr/local/lib/python3.10/dist-packages (from flax@ git+https://github.com/google/flax#egg=flax->t5x==0.0.0) (6.0)\n",
            "Requirement already satisfied: chex>=0.1.5 in /usr/local/lib/python3.10/dist-packages (from optax@ git+https://github.com/deepmind/optax#egg=optax->t5x==0.0.0) (0.1.7)\n",
            "Requirement already satisfied: importlib_resources in /usr/local/lib/python3.10/dist-packages (from orbax-checkpoint->t5x==0.0.0) (5.12.0)\n",
            "Requirement already satisfied: nest_asyncio in /usr/local/lib/python3.10/dist-packages (from orbax-checkpoint->t5x==0.0.0) (1.5.6)\n",
            "Requirement already satisfied: editdistance in /usr/local/lib/python3.10/dist-packages (from seqio@ git+https://github.com/google/seqio#egg=seqio->t5x==0.0.0) (0.6.2)\n",
            "Collecting pyglove (from seqio@ git+https://github.com/google/seqio#egg=seqio->t5x==0.0.0)\n",
            "  Downloading pyglove-0.3.0-py3-none-any.whl (505 kB)\n",
            "\u001b[2K     \u001b[90m━━━━━━━━━━━━━━━━━━━━━━━━━━━━━━━━━━━━━━\u001b[0m \u001b[32m505.6/505.6 kB\u001b[0m \u001b[31m40.0 MB/s\u001b[0m eta \u001b[36m0:00:00\u001b[0m\n",
            "\u001b[?25hCollecting sentencepiece (from seqio@ git+https://github.com/google/seqio#egg=seqio->t5x==0.0.0)\n",
            "  Downloading sentencepiece-0.1.99-cp310-cp310-manylinux_2_17_x86_64.manylinux2014_x86_64.whl (1.3 MB)\n",
            "\u001b[2K     \u001b[90m━━━━━━━━━━━━━━━━━━━━━━━━━━━━━━━━━━━━━━━━\u001b[0m \u001b[32m1.3/1.3 MB\u001b[0m \u001b[31m67.4 MB/s\u001b[0m eta \u001b[36m0:00:00\u001b[0m\n",
            "\u001b[?25hCollecting tensorflow-text (from seqio@ git+https://github.com/google/seqio#egg=seqio->t5x==0.0.0)\n",
            "  Downloading tensorflow_text-2.12.1-cp310-cp310-manylinux_2_17_x86_64.manylinux2014_x86_64.whl (6.0 MB)\n",
            "\u001b[2K     \u001b[90m━━━━━━━━━━━━━━━━━━━━━━━━━━━━━━━━━━━━━━━━\u001b[0m \u001b[32m6.0/6.0 MB\u001b[0m \u001b[31m75.8 MB/s\u001b[0m eta \u001b[36m0:00:00\u001b[0m\n",
            "\u001b[?25hCollecting tfds-nightly (from seqio@ git+https://github.com/google/seqio#egg=seqio->t5x==0.0.0)\n",
            "  Downloading tfds_nightly-4.9.2.dev202305230044-py3-none-any.whl (5.4 MB)\n",
            "\u001b[2K     \u001b[90m━━━━━━━━━━━━━━━━━━━━━━━━━━━━━━━━━━━━━━━━\u001b[0m \u001b[32m5.4/5.4 MB\u001b[0m \u001b[31m23.0 MB/s\u001b[0m eta \u001b[36m0:00:00\u001b[0m\n",
            "\u001b[?25hRequirement already satisfied: astunparse>=1.6.0 in /usr/local/lib/python3.10/dist-packages (from tensorflow-cpu->t5x==0.0.0) (1.6.3)\n",
            "Requirement already satisfied: flatbuffers>=2.0 in /usr/local/lib/python3.10/dist-packages (from tensorflow-cpu->t5x==0.0.0) (23.3.3)\n",
            "Requirement already satisfied: gast<=0.4.0,>=0.2.1 in /usr/local/lib/python3.10/dist-packages (from tensorflow-cpu->t5x==0.0.0) (0.4.0)\n",
            "Requirement already satisfied: google-pasta>=0.1.1 in /usr/local/lib/python3.10/dist-packages (from tensorflow-cpu->t5x==0.0.0) (0.2.0)\n",
            "Requirement already satisfied: grpcio<2.0,>=1.24.3 in /usr/local/lib/python3.10/dist-packages (from tensorflow-cpu->t5x==0.0.0) (1.54.0)\n",
            "Requirement already satisfied: h5py>=2.9.0 in /usr/local/lib/python3.10/dist-packages (from tensorflow-cpu->t5x==0.0.0) (3.8.0)\n",
            "Requirement already satisfied: keras<2.13,>=2.12.0 in /usr/local/lib/python3.10/dist-packages (from tensorflow-cpu->t5x==0.0.0) (2.12.0)\n",
            "Requirement already satisfied: libclang>=13.0.0 in /usr/local/lib/python3.10/dist-packages (from tensorflow-cpu->t5x==0.0.0) (16.0.0)\n",
            "Requirement already satisfied: setuptools in /usr/local/lib/python3.10/dist-packages (from tensorflow-cpu->t5x==0.0.0) (67.7.2)\n",
            "Requirement already satisfied: six>=1.12.0 in /usr/local/lib/python3.10/dist-packages (from tensorflow-cpu->t5x==0.0.0) (1.16.0)\n",
            "Requirement already satisfied: tensorboard<2.13,>=2.12 in /usr/local/lib/python3.10/dist-packages (from tensorflow-cpu->t5x==0.0.0) (2.12.2)\n",
            "Requirement already satisfied: tensorflow-estimator<2.13,>=2.12.0 in /usr/local/lib/python3.10/dist-packages (from tensorflow-cpu->t5x==0.0.0) (2.12.0)\n",
            "Requirement already satisfied: termcolor>=1.1.0 in /usr/local/lib/python3.10/dist-packages (from tensorflow-cpu->t5x==0.0.0) (2.3.0)\n",
            "Requirement already satisfied: tensorflow-io-gcs-filesystem>=0.23.1 in /usr/local/lib/python3.10/dist-packages (from tensorflow-cpu->t5x==0.0.0) (0.32.0)\n",
            "Requirement already satisfied: wheel<1.0,>=0.23.0 in /usr/local/lib/python3.10/dist-packages (from astunparse>=1.6.0->tensorflow-cpu->t5x==0.0.0) (0.40.0)\n",
            "Requirement already satisfied: dm-tree>=0.1.5 in /usr/local/lib/python3.10/dist-packages (from chex>=0.1.5->optax@ git+https://github.com/deepmind/optax#egg=optax->t5x==0.0.0) (0.1.8)\n",
            "Requirement already satisfied: toolz>=0.9.0 in /usr/local/lib/python3.10/dist-packages (from chex>=0.1.5->optax@ git+https://github.com/deepmind/optax#egg=optax->t5x==0.0.0) (0.12.0)\n",
            "Requirement already satisfied: markdown-it-py<3.0.0,>=2.2.0 in /usr/local/lib/python3.10/dist-packages (from rich>=11.1->flax@ git+https://github.com/google/flax#egg=flax->t5x==0.0.0) (2.2.0)\n",
            "Requirement already satisfied: pygments<3.0.0,>=2.13.0 in /usr/local/lib/python3.10/dist-packages (from rich>=11.1->flax@ git+https://github.com/google/flax#egg=flax->t5x==0.0.0) (2.14.0)\n",
            "Requirement already satisfied: google-auth<3,>=1.6.3 in /usr/local/lib/python3.10/dist-packages (from tensorboard<2.13,>=2.12->tensorflow-cpu->t5x==0.0.0) (2.17.3)\n",
            "Requirement already satisfied: google-auth-oauthlib<1.1,>=0.5 in /usr/local/lib/python3.10/dist-packages (from tensorboard<2.13,>=2.12->tensorflow-cpu->t5x==0.0.0) (1.0.0)\n",
            "Requirement already satisfied: markdown>=2.6.8 in /usr/local/lib/python3.10/dist-packages (from tensorboard<2.13,>=2.12->tensorflow-cpu->t5x==0.0.0) (3.4.3)\n",
            "Requirement already satisfied: requests<3,>=2.21.0 in /usr/local/lib/python3.10/dist-packages (from tensorboard<2.13,>=2.12->tensorflow-cpu->t5x==0.0.0) (2.27.1)\n",
            "Requirement already satisfied: tensorboard-data-server<0.8.0,>=0.7.0 in /usr/local/lib/python3.10/dist-packages (from tensorboard<2.13,>=2.12->tensorflow-cpu->t5x==0.0.0) (0.7.0)\n",
            "Requirement already satisfied: tensorboard-plugin-wit>=1.6.0 in /usr/local/lib/python3.10/dist-packages (from tensorboard<2.13,>=2.12->tensorflow-cpu->t5x==0.0.0) (1.8.1)\n",
            "Requirement already satisfied: werkzeug>=1.0.1 in /usr/local/lib/python3.10/dist-packages (from tensorboard<2.13,>=2.12->tensorflow-cpu->t5x==0.0.0) (2.3.0)\n",
            "Requirement already satisfied: zipp in /usr/local/lib/python3.10/dist-packages (from etils[epath]->clu@ git+https://github.com/google/CommonLoopUtils#egg=clu->t5x==0.0.0) (3.15.0)\n",
            "Collecting typing-inspect>=0.4.0 (from libcst->fiddle>=0.2.5->t5x==0.0.0)\n",
            "  Downloading typing_inspect-0.8.0-py3-none-any.whl (8.7 kB)\n",
            "Requirement already satisfied: contextlib2 in /usr/local/lib/python3.10/dist-packages (from ml_collections->clu@ git+https://github.com/google/CommonLoopUtils#egg=clu->t5x==0.0.0) (0.6.0.post1)\n",
            "Requirement already satisfied: tensorflow-hub>=0.8.0 in /usr/local/lib/python3.10/dist-packages (from tensorflow-text->seqio@ git+https://github.com/google/seqio#egg=seqio->t5x==0.0.0) (0.13.0)\n",
            "Requirement already satisfied: tensorflow<2.13,>=2.12.0 in /usr/local/lib/python3.10/dist-packages (from tensorflow-text->seqio@ git+https://github.com/google/seqio#egg=seqio->t5x==0.0.0) (2.12.0)\n",
            "Requirement already satisfied: array-record in /usr/local/lib/python3.10/dist-packages (from tfds-nightly->seqio@ git+https://github.com/google/seqio#egg=seqio->t5x==0.0.0) (0.2.0)\n",
            "Requirement already satisfied: click in /usr/local/lib/python3.10/dist-packages (from tfds-nightly->seqio@ git+https://github.com/google/seqio#egg=seqio->t5x==0.0.0) (8.1.3)\n",
            "Requirement already satisfied: promise in /usr/local/lib/python3.10/dist-packages (from tfds-nightly->seqio@ git+https://github.com/google/seqio#egg=seqio->t5x==0.0.0) (2.3)\n",
            "Requirement already satisfied: psutil in /usr/local/lib/python3.10/dist-packages (from tfds-nightly->seqio@ git+https://github.com/google/seqio#egg=seqio->t5x==0.0.0) (5.9.5)\n",
            "Requirement already satisfied: tensorflow-metadata in /usr/local/lib/python3.10/dist-packages (from tfds-nightly->seqio@ git+https://github.com/google/seqio#egg=seqio->t5x==0.0.0) (1.13.1)\n",
            "Requirement already satisfied: toml in /usr/local/lib/python3.10/dist-packages (from tfds-nightly->seqio@ git+https://github.com/google/seqio#egg=seqio->t5x==0.0.0) (0.10.2)\n",
            "Requirement already satisfied: tqdm in /usr/local/lib/python3.10/dist-packages (from tfds-nightly->seqio@ git+https://github.com/google/seqio#egg=seqio->t5x==0.0.0) (4.65.0)\n",
            "Requirement already satisfied: cachetools<6.0,>=2.0.0 in /usr/local/lib/python3.10/dist-packages (from google-auth<3,>=1.6.3->tensorboard<2.13,>=2.12->tensorflow-cpu->t5x==0.0.0) (5.3.0)\n",
            "Requirement already satisfied: pyasn1-modules>=0.2.1 in /usr/local/lib/python3.10/dist-packages (from google-auth<3,>=1.6.3->tensorboard<2.13,>=2.12->tensorflow-cpu->t5x==0.0.0) (0.3.0)\n",
            "Requirement already satisfied: rsa<5,>=3.1.4 in /usr/local/lib/python3.10/dist-packages (from google-auth<3,>=1.6.3->tensorboard<2.13,>=2.12->tensorflow-cpu->t5x==0.0.0) (4.9)\n",
            "Requirement already satisfied: requests-oauthlib>=0.7.0 in /usr/local/lib/python3.10/dist-packages (from google-auth-oauthlib<1.1,>=0.5->tensorboard<2.13,>=2.12->tensorflow-cpu->t5x==0.0.0) (1.3.1)\n",
            "Requirement already satisfied: mdurl~=0.1 in /usr/local/lib/python3.10/dist-packages (from markdown-it-py<3.0.0,>=2.2.0->rich>=11.1->flax@ git+https://github.com/google/flax#egg=flax->t5x==0.0.0) (0.1.2)\n",
            "Requirement already satisfied: urllib3<1.27,>=1.21.1 in /usr/local/lib/python3.10/dist-packages (from requests<3,>=2.21.0->tensorboard<2.13,>=2.12->tensorflow-cpu->t5x==0.0.0) (1.26.15)\n",
            "Requirement already satisfied: certifi>=2017.4.17 in /usr/local/lib/python3.10/dist-packages (from requests<3,>=2.21.0->tensorboard<2.13,>=2.12->tensorflow-cpu->t5x==0.0.0) (2022.12.7)\n",
            "Requirement already satisfied: charset-normalizer~=2.0.0 in /usr/local/lib/python3.10/dist-packages (from requests<3,>=2.21.0->tensorboard<2.13,>=2.12->tensorflow-cpu->t5x==0.0.0) (2.0.12)\n",
            "Requirement already satisfied: idna<4,>=2.5 in /usr/local/lib/python3.10/dist-packages (from requests<3,>=2.21.0->tensorboard<2.13,>=2.12->tensorflow-cpu->t5x==0.0.0) (3.4)\n",
            "Collecting mypy-extensions>=0.3.0 (from typing-inspect>=0.4.0->libcst->fiddle>=0.2.5->t5x==0.0.0)\n",
            "  Downloading mypy_extensions-1.0.0-py3-none-any.whl (4.7 kB)\n",
            "Requirement already satisfied: MarkupSafe>=2.1.1 in /usr/local/lib/python3.10/dist-packages (from werkzeug>=1.0.1->tensorboard<2.13,>=2.12->tensorflow-cpu->t5x==0.0.0) (2.1.2)\n",
            "Requirement already satisfied: googleapis-common-protos<2,>=1.52.0 in /usr/local/lib/python3.10/dist-packages (from tensorflow-metadata->tfds-nightly->seqio@ git+https://github.com/google/seqio#egg=seqio->t5x==0.0.0) (1.59.0)\n",
            "Requirement already satisfied: pyasn1<0.6.0,>=0.4.6 in /usr/local/lib/python3.10/dist-packages (from pyasn1-modules>=0.2.1->google-auth<3,>=1.6.3->tensorboard<2.13,>=2.12->tensorflow-cpu->t5x==0.0.0) (0.5.0)\n",
            "Requirement already satisfied: oauthlib>=3.0.0 in /usr/local/lib/python3.10/dist-packages (from requests-oauthlib>=0.7.0->google-auth-oauthlib<1.1,>=0.5->tensorboard<2.13,>=2.12->tensorflow-cpu->t5x==0.0.0) (3.2.2)\n",
            "Building wheels for collected packages: t5x, flax, seqio\n",
            "  Building wheel for t5x (setup.py) ... \u001b[?25l\u001b[?25hdone\n",
            "  Created wheel for t5x: filename=t5x-0.0.0-py3-none-any.whl size=534226 sha256=9b238673cc698ac44aa6737f8824122f7288e69ac25f1e907f932c08458090dc\n",
            "  Stored in directory: /tmp/pip-ephem-wheel-cache-nhioqffd/wheels/7c/dd/d2/272939df9f5817daf0687c31889cd71ed08b43c36fd6f396ee\n",
            "  Building wheel for flax (pyproject.toml) ... \u001b[?25l\u001b[?25hdone\n",
            "  Created wheel for flax: filename=flax-0.6.10-py3-none-any.whl size=226120 sha256=8c8dd33b3db8131bd4176a5df36d4b1746c467438bde974b091f27e3a8dabc96\n",
            "  Stored in directory: /tmp/pip-ephem-wheel-cache-nhioqffd/wheels/c2/b5/6c/e10d1bcdb3a30e0ffa048cf3a43762bb6f93c8262a27dd9a5d\n",
            "  Building wheel for seqio (setup.py) ... \u001b[?25l\u001b[?25hdone\n",
            "  Created wheel for seqio: filename=seqio-0.0.15-py3-none-any.whl size=342488 sha256=e2d77e1017485897410409790464b1bb09255fa2d930d00d2075469fb76b09c0\n",
            "  Stored in directory: /tmp/pip-ephem-wheel-cache-nhioqffd/wheels/f3/82/f4/d9062a177e9f3274845c1f495e749c4f943f963ab5ca5836c0\n",
            "Successfully built t5x flax seqio\n",
            "Installing collected packages: sentencepiece, pyglove, mypy-extensions, typing-inspect, libcst, tfds-nightly, fiddle, tensorflow-cpu, flax, tensorflow-text, jestimator, seqio, t5x\n",
            "  Attempting uninstall: flax\n",
            "    Found existing installation: flax 0.6.9\n",
            "    Uninstalling flax-0.6.9:\n",
            "      Successfully uninstalled flax-0.6.9\n",
            "Successfully installed fiddle-0.2.6 flax-0.6.10 jestimator-0.3.3 libcst-0.4.9 mypy-extensions-1.0.0 pyglove-0.3.0 sentencepiece-0.1.99 seqio-0.0.15 t5x-0.0.0 tensorflow-cpu-2.12.0 tensorflow-text-2.12.1 tfds-nightly-4.9.2.dev202305230044 typing-inspect-0.8.0\n"
          ]
        }
      ]
    },
    {
      "cell_type": "code",
      "source": [
        "!pip uninstall flax\n",
        "!pip install flax==0.5"
      ],
      "metadata": {
        "colab": {
          "base_uri": "https://localhost:8080/"
        },
        "id": "u97T5CNYm3ne",
        "outputId": "c88113dd-c3b1-4a4a-88d9-a70804563772"
      },
      "execution_count": 9,
      "outputs": [
        {
          "output_type": "stream",
          "name": "stdout",
          "text": [
            "Found existing installation: flax 0.6.10\n",
            "Uninstalling flax-0.6.10:\n",
            "  Would remove:\n",
            "    /usr/local/lib/python3.10/dist-packages/flax-0.6.10.dist-info/*\n",
            "    /usr/local/lib/python3.10/dist-packages/flax/*\n",
            "Proceed (Y/n)? y\n",
            "  Successfully uninstalled flax-0.6.10\n",
            "Looking in indexes: https://pypi.org/simple, https://us-python.pkg.dev/colab-wheels/public/simple/\n",
            "Collecting flax==0.5\n",
            "  Using cached flax-0.5.0-py3-none-any.whl (190 kB)\n",
            "Requirement already satisfied: numpy>=1.12 in /usr/local/lib/python3.10/dist-packages (from flax==0.5) (1.23.5)\n",
            "Requirement already satisfied: jax>=0.3 in /usr/local/lib/python3.10/dist-packages (from flax==0.5) (0.4.10)\n",
            "Requirement already satisfied: matplotlib in /usr/local/lib/python3.10/dist-packages (from flax==0.5) (3.7.1)\n",
            "Requirement already satisfied: msgpack in /usr/local/lib/python3.10/dist-packages (from flax==0.5) (1.0.5)\n",
            "Requirement already satisfied: optax in /usr/local/lib/python3.10/dist-packages (from flax==0.5) (0.1.5)\n",
            "Requirement already satisfied: typing-extensions>=4.1.1 in /usr/local/lib/python3.10/dist-packages (from flax==0.5) (4.6.0)\n",
            "Requirement already satisfied: ml-dtypes>=0.1.0 in /usr/local/lib/python3.10/dist-packages (from jax>=0.3->flax==0.5) (0.1.0)\n",
            "Requirement already satisfied: opt-einsum in /usr/local/lib/python3.10/dist-packages (from jax>=0.3->flax==0.5) (3.3.0)\n",
            "Requirement already satisfied: scipy>=1.7 in /usr/local/lib/python3.10/dist-packages (from jax>=0.3->flax==0.5) (1.10.1)\n",
            "Requirement already satisfied: contourpy>=1.0.1 in /usr/local/lib/python3.10/dist-packages (from matplotlib->flax==0.5) (1.0.7)\n",
            "Requirement already satisfied: cycler>=0.10 in /usr/local/lib/python3.10/dist-packages (from matplotlib->flax==0.5) (0.11.0)\n",
            "Requirement already satisfied: fonttools>=4.22.0 in /usr/local/lib/python3.10/dist-packages (from matplotlib->flax==0.5) (4.39.3)\n",
            "Requirement already satisfied: kiwisolver>=1.0.1 in /usr/local/lib/python3.10/dist-packages (from matplotlib->flax==0.5) (1.4.4)\n",
            "Requirement already satisfied: packaging>=20.0 in /usr/local/lib/python3.10/dist-packages (from matplotlib->flax==0.5) (23.1)\n",
            "Requirement already satisfied: pillow>=6.2.0 in /usr/local/lib/python3.10/dist-packages (from matplotlib->flax==0.5) (8.4.0)\n",
            "Requirement already satisfied: pyparsing>=2.3.1 in /usr/local/lib/python3.10/dist-packages (from matplotlib->flax==0.5) (3.0.9)\n",
            "Requirement already satisfied: python-dateutil>=2.7 in /usr/local/lib/python3.10/dist-packages (from matplotlib->flax==0.5) (2.8.2)\n",
            "Requirement already satisfied: absl-py>=0.7.1 in /usr/local/lib/python3.10/dist-packages (from optax->flax==0.5) (1.4.0)\n",
            "Requirement already satisfied: chex>=0.1.5 in /usr/local/lib/python3.10/dist-packages (from optax->flax==0.5) (0.1.7)\n",
            "Requirement already satisfied: jaxlib>=0.1.37 in /usr/local/lib/python3.10/dist-packages (from optax->flax==0.5) (0.4.10)\n",
            "Requirement already satisfied: dm-tree>=0.1.5 in /usr/local/lib/python3.10/dist-packages (from chex>=0.1.5->optax->flax==0.5) (0.1.8)\n",
            "Requirement already satisfied: toolz>=0.9.0 in /usr/local/lib/python3.10/dist-packages (from chex>=0.1.5->optax->flax==0.5) (0.12.0)\n",
            "Requirement already satisfied: six>=1.5 in /usr/local/lib/python3.10/dist-packages (from python-dateutil>=2.7->matplotlib->flax==0.5) (1.16.0)\n",
            "Installing collected packages: flax\n",
            "Successfully installed flax-0.5.0\n"
          ]
        }
      ]
    },
    {
      "cell_type": "code",
      "source": [
        "import t5x\n",
        "print(t5x.__version__)"
      ],
      "metadata": {
        "colab": {
          "base_uri": "https://localhost:8080/"
        },
        "id": "z3gTx7svKUIS",
        "outputId": "4bbc8191-91ce-482d-d707-7b06c016fb56"
      },
      "execution_count": 12,
      "outputs": [
        {
          "output_type": "stream",
          "name": "stderr",
          "text": [
            "/usr/local/lib/python3.10/dist-packages/flax/struct.py:133: FutureWarning: jax.tree_util.register_keypaths is deprecated, and will be removed in a future release. Please use `register_pytree_with_keys()` instead.\n",
            "  jax.tree_util.register_keypaths(data_clz, keypaths)\n",
            "/usr/local/lib/python3.10/dist-packages/flax/struct.py:133: FutureWarning: jax.tree_util.register_keypaths is deprecated, and will be removed in a future release. Please use `register_pytree_with_keys()` instead.\n",
            "  jax.tree_util.register_keypaths(data_clz, keypaths)\n",
            "/usr/local/lib/python3.10/dist-packages/flax/struct.py:133: FutureWarning: jax.tree_util.register_keypaths is deprecated, and will be removed in a future release. Please use `register_pytree_with_keys()` instead.\n",
            "  jax.tree_util.register_keypaths(data_clz, keypaths)\n",
            "/usr/local/lib/python3.10/dist-packages/flax/struct.py:133: FutureWarning: jax.tree_util.register_keypaths is deprecated, and will be removed in a future release. Please use `register_pytree_with_keys()` instead.\n",
            "  jax.tree_util.register_keypaths(data_clz, keypaths)\n"
          ]
        },
        {
          "output_type": "stream",
          "name": "stdout",
          "text": [
            "0.0.0\n"
          ]
        }
      ]
    },
    {
      "cell_type": "code",
      "source": [
        "import flax\n",
        "print(flax.__version__)"
      ],
      "metadata": {
        "colab": {
          "base_uri": "https://localhost:8080/"
        },
        "id": "ZGKme_7qJYWk",
        "outputId": "3e253cc7-a636-416d-cdc4-83ac58d067a6"
      },
      "execution_count": 13,
      "outputs": [
        {
          "output_type": "stream",
          "name": "stdout",
          "text": [
            "0.5.0\n"
          ]
        }
      ]
    },
    {
      "cell_type": "code",
      "source": [
        "!pwd"
      ],
      "metadata": {
        "colab": {
          "base_uri": "https://localhost:8080/"
        },
        "id": "EVlHd7YEnkdE",
        "outputId": "36775998-ee08-41d9-cd8e-cae22c554ff0"
      },
      "execution_count": 10,
      "outputs": [
        {
          "output_type": "stream",
          "name": "stdout",
          "text": [
            "/content/drive/MyDrive/scenic\n"
          ]
        }
      ]
    },
    {
      "cell_type": "code",
      "source": [
        "cd /content/drive/MyDrive/scenic"
      ],
      "metadata": {
        "colab": {
          "base_uri": "https://localhost:8080/"
        },
        "id": "SR5SD4CMnm_6",
        "outputId": "4b9b94e1-d764-4793-897a-6db47bc7540d"
      },
      "execution_count": 14,
      "outputs": [
        {
          "output_type": "stream",
          "name": "stdout",
          "text": [
            "/content/drive/MyDrive/scenic\n"
          ]
        }
      ]
    },
    {
      "cell_type": "code",
      "source": [
        "!python -m scenic.projects.vid2seq.main \\\n",
        "  --config=scenic/projects/vid2seq/configs/youcook2.py \\\n",
        "  --workdir=vid2seq_base/"
      ],
      "metadata": {
        "colab": {
          "base_uri": "https://localhost:8080/"
        },
        "id": "wg3idsyC7ub4",
        "outputId": "fb03ad7a-75b0-4c32-fcaf-dda70435a4dc"
      },
      "execution_count": 20,
      "outputs": [
        {
          "output_type": "stream",
          "name": "stdout",
          "text": [
            "/usr/local/lib/python3.10/dist-packages/flax/struct.py:133: FutureWarning: jax.tree_util.register_keypaths is deprecated, and will be removed in a future release. Please use `register_pytree_with_keys()` instead.\n",
            "  jax.tree_util.register_keypaths(data_clz, keypaths)\n",
            "/usr/local/lib/python3.10/dist-packages/flax/struct.py:133: FutureWarning: jax.tree_util.register_keypaths is deprecated, and will be removed in a future release. Please use `register_pytree_with_keys()` instead.\n",
            "  jax.tree_util.register_keypaths(data_clz, keypaths)\n",
            "/usr/local/lib/python3.10/dist-packages/flax/struct.py:133: FutureWarning: jax.tree_util.register_keypaths is deprecated, and will be removed in a future release. Please use `register_pytree_with_keys()` instead.\n",
            "  jax.tree_util.register_keypaths(data_clz, keypaths)\n",
            "/usr/local/lib/python3.10/dist-packages/flax/struct.py:133: FutureWarning: jax.tree_util.register_keypaths is deprecated, and will be removed in a future release. Please use `register_pytree_with_keys()` instead.\n",
            "  jax.tree_util.register_keypaths(data_clz, keypaths)\n",
            "/usr/local/lib/python3.10/dist-packages/flax/struct.py:133: FutureWarning: jax.tree_util.register_keypaths is deprecated, and will be removed in a future release. Please use `register_pytree_with_keys()` instead.\n",
            "  jax.tree_util.register_keypaths(data_clz, keypaths)\n",
            "I0523 03:57:20.335103 140016490858304 xla_bridge.py:455] Unable to initialize backend 'cuda': module 'jaxlib.xla_extension' has no attribute 'GpuAllocatorConfig'\n",
            "I0523 03:57:20.335742 140016490858304 xla_bridge.py:455] Unable to initialize backend 'rocm': module 'jaxlib.xla_extension' has no attribute 'GpuAllocatorConfig'\n",
            "I0523 03:57:20.373417 140016490858304 xla_bridge.py:455] Unable to initialize backend 'tpu': INVALID_ARGUMENT: TpuPlatform is not available.\n",
            "I0523 03:57:20.373727 140016490858304 xla_bridge.py:455] Unable to initialize backend 'plugin': xla_extension has no attributes named get_plugin_device_client. Compile TensorFlow with //tensorflow/compiler/xla/python:enable_plugin_device set to true (defaults to false) to enable this.\n",
            "W0523 03:57:20.373871 140016490858304 xla_bridge.py:463] No GPU/TPU found, falling back to CPU. (Set TF_CPP_MIN_LOG_LEVEL=0 and rerun for more info.)\n",
            "I0523 03:57:20.374076 140016490858304 app.py:84] JAX host: 0 / 1\n",
            "I0523 03:57:20.374299 140016490858304 app.py:85] JAX devices: [CpuDevice(id=0)]\n",
            "I0523 03:57:20.377081 140016490858304 local.py:45] Setting task status: host_id: 0, host_count: 1\n",
            "I0523 03:57:20.377810 140016490858304 local.py:50] Created artifact Workdir of type ArtifactType.DIRECTORY and value vid2seq_base/.\n",
            "I0523 03:57:21.854654 140016490858304 app.py:96] RNG: [0 0]\n",
            "I0523 03:57:22.254910 140016490858304 dense_video_captioning_tfrecord_dataset.py:553] device_count: 1\n",
            "I0523 03:57:22.256068 140016490858304 dense_video_captioning_tfrecord_dataset.py:554] num_hosts : 1\n",
            "I0523 03:57:22.256310 140016490858304 dense_video_captioning_tfrecord_dataset.py:555] host_id : 0\n",
            "I0523 03:57:22.258495 140016490858304 dense_video_captioning_tfrecord_dataset.py:583] local_batch_size of youcook : 32\n",
            "I0523 03:57:22.258704 140016490858304 dense_video_captioning_tfrecord_dataset.py:584] device_batch_size of youcook : 32\n",
            "I0523 03:57:22.262576 140016490858304 dense_video_captioning_tfrecord_dataset.py:445] Loading split train\n",
            "I0523 03:57:22.437518 140016490858304 dense_video_captioning_tfrecord_dataset.py:321] Preprocessing graph: [FunctionDescription(fn_name='text_indices_tokenization', fn=<function add_text_with_timestamps.<locals>.<lambda> at 0x7f57243b6950>, feature_name=None, stateful=False), FunctionDescription(fn_name='asr_indices_tokenization', fn=<function add_text_with_timestamps.<locals>.<lambda> at 0x7f57243b6a70>, feature_name=None, stateful=False), FunctionDescription(fn_name='text_indices_timify', fn=<function add_text_with_timestamps.<locals>.add_timestamp at 0x7f57243b6b90>, feature_name=None, stateful=False), FunctionDescription(fn_name='text_indices_reshape', fn=<function add_text_with_timestamps.<locals>.<lambda> at 0x7f57243b7880>, feature_name='text_indices', stateful=False), FunctionDescription(fn_name='text_indices_unpad', fn=<function add_text_with_timestamps.<locals>.<lambda> at 0x7f57243b7520>, feature_name='text_indices', stateful=False), FunctionDescription(fn_name='text_indices_uneos', fn=<function add_text_with_timestamps.<locals>.<lambda> at 0x7f57243b75b0>, feature_name='text_indices', stateful=False), FunctionDescription(fn_name='text_indices_corrupt', fn=<function add_text_with_timestamps.<locals>.corruption at 0x7f57243b76d0>, feature_name=None, stateful=False), FunctionDescription(fn_name='text_indices_repad', fn=<function add_text_with_timestamps.<locals>.<lambda> at 0x7f57243b77f0>, feature_name='text_indices', stateful=False), FunctionDescription(fn_name='asr_indices_reshape', fn=<function add_text_with_timestamps.<locals>.<lambda> at 0x7f57243b7910>, feature_name='asr_indices', stateful=False), FunctionDescription(fn_name='asr_indices_unpad', fn=<function add_text_with_timestamps.<locals>.<lambda> at 0x7f57243b79a0>, feature_name='asr_indices', stateful=False), FunctionDescription(fn_name='asr_indices_uneos', fn=<function add_text_with_timestamps.<locals>.<lambda> at 0x7f57243b7a30>, feature_name='asr_indices', stateful=False), FunctionDescription(fn_name='asr_indices_repad', fn=<function add_text_with_timestamps.<locals>.<lambda> at 0x7f57243b7ac0>, feature_name='asr_indices', stateful=False)]\n",
            "I0523 03:57:22.437803 140016490858304 dense_video_captioning_tfrecord_dataset.py:323] Postprocessing graph: []\n",
            "I0523 03:57:31.905749 140016490858304 video_dataset.py:487] Dataset created successfully\n",
            "W0523 03:57:31.906007 140016490858304 options.py:599] options.experimental_threading is deprecated. Use options.threading instead.\n",
            "I0523 03:57:34.677527 140016490858304 dense_video_captioning_tfrecord_dataset.py:445] Loading split validation\n",
            "I0523 03:57:34.830411 140016490858304 dense_video_captioning_tfrecord_dataset.py:321] Preprocessing graph: [FunctionDescription(fn_name='text_indices_tokenization', fn=<function add_text_with_timestamps.<locals>.<lambda> at 0x7f572441e200>, feature_name=None, stateful=False), FunctionDescription(fn_name='asr_indices_tokenization', fn=<function add_text_with_timestamps.<locals>.<lambda> at 0x7f572441f130>, feature_name=None, stateful=False), FunctionDescription(fn_name='text_indices_timify', fn=<function add_text_with_timestamps.<locals>.add_timestamp at 0x7f572441d750>, feature_name=None, stateful=False), FunctionDescription(fn_name='text_indices_reshape', fn=<function add_text_with_timestamps.<locals>.<lambda> at 0x7f572416ec20>, feature_name='text_indices', stateful=False), FunctionDescription(fn_name='text_indices_unpad', fn=<function add_text_with_timestamps.<locals>.<lambda> at 0x7f572416ecb0>, feature_name='text_indices', stateful=False), FunctionDescription(fn_name='text_indices_uneos', fn=<function add_text_with_timestamps.<locals>.<lambda> at 0x7f572416e050>, feature_name='text_indices', stateful=False), FunctionDescription(fn_name='text_indices_corrupt', fn=<function add_text_with_timestamps.<locals>.corruption at 0x7f572416de10>, feature_name=None, stateful=False), FunctionDescription(fn_name='text_indices_repad', fn=<function add_text_with_timestamps.<locals>.<lambda> at 0x7f572416e9e0>, feature_name='text_indices', stateful=False), FunctionDescription(fn_name='asr_indices_reshape', fn=<function add_text_with_timestamps.<locals>.<lambda> at 0x7f572416e4d0>, feature_name='asr_indices', stateful=False), FunctionDescription(fn_name='asr_indices_unpad', fn=<function add_text_with_timestamps.<locals>.<lambda> at 0x7f57241ebb50>, feature_name='asr_indices', stateful=False), FunctionDescription(fn_name='asr_indices_uneos', fn=<function add_text_with_timestamps.<locals>.<lambda> at 0x7f572426ef80>, feature_name='asr_indices', stateful=False), FunctionDescription(fn_name='asr_indices_repad', fn=<function add_text_with_timestamps.<locals>.<lambda> at 0x7f572426db40>, feature_name='asr_indices', stateful=False)]\n",
            "I0523 03:57:34.830867 140016490858304 dense_video_captioning_tfrecord_dataset.py:323] Postprocessing graph: []\n",
            "I0523 03:57:40.034809 140016490858304 video_dataset.py:487] Dataset created successfully\n",
            "W0523 03:57:40.038836 140016490858304 options.py:599] options.experimental_threading is deprecated. Use options.threading instead.\n",
            "I0523 03:57:42.729200 140016490858304 dense_video_captioning_tfrecord_dataset.py:542] Dataset metadata:\n",
            "{'num_train_examples': 1333, 'num_eval_examples': {'validation': 457}, 'encoder_input_dtype': <class 'jax.numpy.float32'>, 'encoder_input_text_dtype': <class 'jax.numpy.int32'>, 'decoder_input_shape': {'decoder_input_tokens': (-1, 256), 'decoder_target_tokens': (-1, 256)}, 'decoder_input_dtype': <class 'jax.numpy.int32'>, 'encoder_input_shape': {'features': (-1, 100, 768), 'text': (-1, 1000)}}\n",
            "/usr/local/lib/python3.10/dist-packages/jax/_src/xla_bridge.py:658: UserWarning: jax.host_id has been renamed to jax.process_index. This alias will eventually be removed; please update your code.\n",
            "  warnings.warn(\n",
            "I0523 03:57:42.769839 140016490858304 trainer.py:451] Modality features is present for this dataset\n",
            "I0523 03:57:42.770144 140016490858304 trainer.py:451] Modality text is present for this dataset\n",
            "/usr/local/lib/python3.10/dist-packages/flax/core/lift.py:112: FutureWarning: jax.tree_flatten is deprecated, and will be removed in a future release. Use jax.tree_util.tree_flatten instead.\n",
            "  scopes, treedef = jax.tree_flatten(scope_tree)\n",
            "/usr/local/lib/python3.10/dist-packages/flax/linen/transforms.py:247: FutureWarning: jax.tree_leaves is deprecated, and will be removed in a future release. Use jax.tree_util.tree_leaves instead.\n",
            "  jax.tree_leaves(tree)))\n",
            "/usr/local/lib/python3.10/dist-packages/flax/core/scope.py:740: FutureWarning: jax.tree_leaves is deprecated, and will be removed in a future release. Use jax.tree_util.tree_leaves instead.\n",
            "  abs_value_flat = jax.tree_leaves(abs_value)\n",
            "/usr/local/lib/python3.10/dist-packages/flax/core/scope.py:741: FutureWarning: jax.tree_leaves is deprecated, and will be removed in a future release. Use jax.tree_util.tree_leaves instead.\n",
            "  value_flat = jax.tree_leaves(value)\n",
            "2023-05-23 04:00:58.914019: E external/xla/xla/service/slow_operation_alarm.cc:65] \n",
            "********************************\n",
            "[Compiling module jit__initialize_model] Very slow compile? If you want to file a bug, run with envvar XLA_FLAGS=--xla_dump_to=/tmp/foo and attach the results.\n",
            "********************************\n",
            "2023-05-23 04:01:54.950717: E external/xla/xla/service/slow_operation_alarm.cc:133] The operation took 2m56.034646368s\n",
            "\n",
            "********************************\n",
            "[Compiling module jit__initialize_model] Very slow compile? If you want to file a bug, run with envvar XLA_FLAGS=--xla_dump_to=/tmp/foo and attach the results.\n",
            "********************************\n",
            "I0523 04:02:05.305230 140016490858304 parameter_overview.py:264] \n",
            "+------------------------------------------------------------------------------------+---------------+------------+-----------+----------+\n",
            "| Name                                                                               | Shape         | Size       | Mean      | Std      |\n",
            "+------------------------------------------------------------------------------------+---------------+------------+-----------+----------+\n",
            "| encoder/video_encoder/encoder_module/encoder_norm/scale                            | (768,)        | 768        | 1.0       | 0.0      |\n",
            "| encoder/video_encoder/encoder_module/layers_0/attention/key/kernel                 | (768, 768)    | 589,824    | 2.76e-05  | 0.0361   |\n",
            "| encoder/video_encoder/encoder_module/layers_0/attention/out/kernel                 | (768, 768)    | 589,824    | -1.76e-05 | 0.0361   |\n",
            "| encoder/video_encoder/encoder_module/layers_0/attention/query/kernel               | (768, 768)    | 589,824    | -2.81e-06 | 0.00452  |\n",
            "| encoder/video_encoder/encoder_module/layers_0/attention/value/kernel               | (768, 768)    | 589,824    | 2.07e-05  | 0.0361   |\n",
            "| encoder/video_encoder/encoder_module/layers_0/mlp/wi_0/kernel                      | (768, 2048)   | 1,572,864  | 1.58e-05  | 0.0361   |\n",
            "| encoder/video_encoder/encoder_module/layers_0/mlp/wi_1/kernel                      | (768, 2048)   | 1,572,864  | -5.55e-05 | 0.0361   |\n",
            "| encoder/video_encoder/encoder_module/layers_0/mlp/wo/kernel                        | (2048, 768)   | 1,572,864  | 2.14e-05  | 0.0221   |\n",
            "| encoder/video_encoder/encoder_module/layers_0/pre_attention_layer_norm/scale       | (768,)        | 768        | 1.0       | 0.0      |\n",
            "| encoder/video_encoder/encoder_module/layers_0/pre_mlp_layer_norm/scale             | (768,)        | 768        | 1.0       | 0.0      |\n",
            "| encoder/video_encoder/encoder_module/layers_1/attention/key/kernel                 | (768, 768)    | 589,824    | -1.12e-05 | 0.0361   |\n",
            "| encoder/video_encoder/encoder_module/layers_1/attention/out/kernel                 | (768, 768)    | 589,824    | -6e-05    | 0.0361   |\n",
            "| encoder/video_encoder/encoder_module/layers_1/attention/query/kernel               | (768, 768)    | 589,824    | -1.93e-06 | 0.00451  |\n",
            "| encoder/video_encoder/encoder_module/layers_1/attention/value/kernel               | (768, 768)    | 589,824    | -0.000101 | 0.036    |\n",
            "| encoder/video_encoder/encoder_module/layers_1/mlp/wi_0/kernel                      | (768, 2048)   | 1,572,864  | 2.79e-05  | 0.0361   |\n",
            "| encoder/video_encoder/encoder_module/layers_1/mlp/wi_1/kernel                      | (768, 2048)   | 1,572,864  | 2.14e-05  | 0.0361   |\n",
            "| encoder/video_encoder/encoder_module/layers_1/mlp/wo/kernel                        | (2048, 768)   | 1,572,864  | 1.94e-05  | 0.0221   |\n",
            "| encoder/video_encoder/encoder_module/layers_1/pre_attention_layer_norm/scale       | (768,)        | 768        | 1.0       | 0.0      |\n",
            "| encoder/video_encoder/encoder_module/layers_1/pre_mlp_layer_norm/scale             | (768,)        | 768        | 1.0       | 0.0      |\n",
            "| encoder/video_encoder/encoder_module/layers_10/attention/key/kernel                | (768, 768)    | 589,824    | -5.62e-05 | 0.0362   |\n",
            "| encoder/video_encoder/encoder_module/layers_10/attention/out/kernel                | (768, 768)    | 589,824    | -7.13e-05 | 0.0361   |\n",
            "| encoder/video_encoder/encoder_module/layers_10/attention/query/kernel              | (768, 768)    | 589,824    | 9.29e-06  | 0.00451  |\n",
            "| encoder/video_encoder/encoder_module/layers_10/attention/value/kernel              | (768, 768)    | 589,824    | -8.5e-05  | 0.0361   |\n",
            "| encoder/video_encoder/encoder_module/layers_10/mlp/wi_0/kernel                     | (768, 2048)   | 1,572,864  | 9.75e-06  | 0.0361   |\n",
            "| encoder/video_encoder/encoder_module/layers_10/mlp/wi_1/kernel                     | (768, 2048)   | 1,572,864  | -2.49e-05 | 0.0361   |\n",
            "| encoder/video_encoder/encoder_module/layers_10/mlp/wo/kernel                       | (2048, 768)   | 1,572,864  | -1.68e-05 | 0.0221   |\n",
            "| encoder/video_encoder/encoder_module/layers_10/pre_attention_layer_norm/scale      | (768,)        | 768        | 1.0       | 0.0      |\n",
            "| encoder/video_encoder/encoder_module/layers_10/pre_mlp_layer_norm/scale            | (768,)        | 768        | 1.0       | 0.0      |\n",
            "| encoder/video_encoder/encoder_module/layers_11/attention/key/kernel                | (768, 768)    | 589,824    | 6.89e-05  | 0.0361   |\n",
            "| encoder/video_encoder/encoder_module/layers_11/attention/out/kernel                | (768, 768)    | 589,824    | 8.4e-07   | 0.036    |\n",
            "| encoder/video_encoder/encoder_module/layers_11/attention/query/kernel              | (768, 768)    | 589,824    | -3.58e-06 | 0.00451  |\n",
            "| encoder/video_encoder/encoder_module/layers_11/attention/value/kernel              | (768, 768)    | 589,824    | 4.93e-05  | 0.036    |\n",
            "| encoder/video_encoder/encoder_module/layers_11/mlp/wi_0/kernel                     | (768, 2048)   | 1,572,864  | -1.34e-05 | 0.0361   |\n",
            "| encoder/video_encoder/encoder_module/layers_11/mlp/wi_1/kernel                     | (768, 2048)   | 1,572,864  | -2.39e-05 | 0.0361   |\n",
            "| encoder/video_encoder/encoder_module/layers_11/mlp/wo/kernel                       | (2048, 768)   | 1,572,864  | 1.31e-05  | 0.0221   |\n",
            "| encoder/video_encoder/encoder_module/layers_11/pre_attention_layer_norm/scale      | (768,)        | 768        | 1.0       | 0.0      |\n",
            "| encoder/video_encoder/encoder_module/layers_11/pre_mlp_layer_norm/scale            | (768,)        | 768        | 1.0       | 0.0      |\n",
            "| encoder/video_encoder/encoder_module/layers_2/attention/key/kernel                 | (768, 768)    | 589,824    | 3.48e-05  | 0.0361   |\n",
            "| encoder/video_encoder/encoder_module/layers_2/attention/out/kernel                 | (768, 768)    | 589,824    | 3.53e-05  | 0.0361   |\n",
            "| encoder/video_encoder/encoder_module/layers_2/attention/query/kernel               | (768, 768)    | 589,824    | -1.95e-06 | 0.00451  |\n",
            "| encoder/video_encoder/encoder_module/layers_2/attention/value/kernel               | (768, 768)    | 589,824    | -3.23e-05 | 0.0361   |\n",
            "| encoder/video_encoder/encoder_module/layers_2/mlp/wi_0/kernel                      | (768, 2048)   | 1,572,864  | -2.61e-05 | 0.0361   |\n",
            "| encoder/video_encoder/encoder_module/layers_2/mlp/wi_1/kernel                      | (768, 2048)   | 1,572,864  | -3.7e-05  | 0.0361   |\n",
            "| encoder/video_encoder/encoder_module/layers_2/mlp/wo/kernel                        | (2048, 768)   | 1,572,864  | -1.94e-05 | 0.0221   |\n",
            "| encoder/video_encoder/encoder_module/layers_2/pre_attention_layer_norm/scale       | (768,)        | 768        | 1.0       | 0.0      |\n",
            "| encoder/video_encoder/encoder_module/layers_2/pre_mlp_layer_norm/scale             | (768,)        | 768        | 1.0       | 0.0      |\n",
            "| encoder/video_encoder/encoder_module/layers_3/attention/key/kernel                 | (768, 768)    | 589,824    | 2.28e-05  | 0.0361   |\n",
            "| encoder/video_encoder/encoder_module/layers_3/attention/out/kernel                 | (768, 768)    | 589,824    | 2.23e-06  | 0.0361   |\n",
            "| encoder/video_encoder/encoder_module/layers_3/attention/query/kernel               | (768, 768)    | 589,824    | 9.1e-07   | 0.00451  |\n",
            "| encoder/video_encoder/encoder_module/layers_3/attention/value/kernel               | (768, 768)    | 589,824    | 1.66e-05  | 0.0361   |\n",
            "| encoder/video_encoder/encoder_module/layers_3/mlp/wi_0/kernel                      | (768, 2048)   | 1,572,864  | -1.87e-05 | 0.0361   |\n",
            "| encoder/video_encoder/encoder_module/layers_3/mlp/wi_1/kernel                      | (768, 2048)   | 1,572,864  | 1.35e-05  | 0.0361   |\n",
            "| encoder/video_encoder/encoder_module/layers_3/mlp/wo/kernel                        | (2048, 768)   | 1,572,864  | -1.11e-05 | 0.0221   |\n",
            "| encoder/video_encoder/encoder_module/layers_3/pre_attention_layer_norm/scale       | (768,)        | 768        | 1.0       | 0.0      |\n",
            "| encoder/video_encoder/encoder_module/layers_3/pre_mlp_layer_norm/scale             | (768,)        | 768        | 1.0       | 0.0      |\n",
            "| encoder/video_encoder/encoder_module/layers_4/attention/key/kernel                 | (768, 768)    | 589,824    | -2.33e-05 | 0.0361   |\n",
            "| encoder/video_encoder/encoder_module/layers_4/attention/out/kernel                 | (768, 768)    | 589,824    | -7.58e-05 | 0.0361   |\n",
            "| encoder/video_encoder/encoder_module/layers_4/attention/query/kernel               | (768, 768)    | 589,824    | 1.52e-06  | 0.00451  |\n",
            "| encoder/video_encoder/encoder_module/layers_4/attention/value/kernel               | (768, 768)    | 589,824    | 3.94e-05  | 0.0361   |\n",
            "| encoder/video_encoder/encoder_module/layers_4/mlp/wi_0/kernel                      | (768, 2048)   | 1,572,864  | -4.51e-05 | 0.0361   |\n",
            "| encoder/video_encoder/encoder_module/layers_4/mlp/wi_1/kernel                      | (768, 2048)   | 1,572,864  | -2.4e-05  | 0.0361   |\n",
            "| encoder/video_encoder/encoder_module/layers_4/mlp/wo/kernel                        | (2048, 768)   | 1,572,864  | -1.11e-05 | 0.0221   |\n",
            "| encoder/video_encoder/encoder_module/layers_4/pre_attention_layer_norm/scale       | (768,)        | 768        | 1.0       | 0.0      |\n",
            "| encoder/video_encoder/encoder_module/layers_4/pre_mlp_layer_norm/scale             | (768,)        | 768        | 1.0       | 0.0      |\n",
            "| encoder/video_encoder/encoder_module/layers_5/attention/key/kernel                 | (768, 768)    | 589,824    | 4.18e-05  | 0.0361   |\n",
            "| encoder/video_encoder/encoder_module/layers_5/attention/out/kernel                 | (768, 768)    | 589,824    | -8.19e-05 | 0.036    |\n",
            "| encoder/video_encoder/encoder_module/layers_5/attention/query/kernel               | (768, 768)    | 589,824    | -4.42e-06 | 0.00451  |\n",
            "| encoder/video_encoder/encoder_module/layers_5/attention/value/kernel               | (768, 768)    | 589,824    | -2.79e-05 | 0.0361   |\n",
            "| encoder/video_encoder/encoder_module/layers_5/mlp/wi_0/kernel                      | (768, 2048)   | 1,572,864  | 1.58e-05  | 0.0361   |\n",
            "| encoder/video_encoder/encoder_module/layers_5/mlp/wi_1/kernel                      | (768, 2048)   | 1,572,864  | -1.93e-05 | 0.0361   |\n",
            "| encoder/video_encoder/encoder_module/layers_5/mlp/wo/kernel                        | (2048, 768)   | 1,572,864  | 8.76e-06  | 0.0221   |\n",
            "| encoder/video_encoder/encoder_module/layers_5/pre_attention_layer_norm/scale       | (768,)        | 768        | 1.0       | 0.0      |\n",
            "| encoder/video_encoder/encoder_module/layers_5/pre_mlp_layer_norm/scale             | (768,)        | 768        | 1.0       | 0.0      |\n",
            "| encoder/video_encoder/encoder_module/layers_6/attention/key/kernel                 | (768, 768)    | 589,824    | 6.57e-05  | 0.0361   |\n",
            "| encoder/video_encoder/encoder_module/layers_6/attention/out/kernel                 | (768, 768)    | 589,824    | -4.99e-05 | 0.0361   |\n",
            "| encoder/video_encoder/encoder_module/layers_6/attention/query/kernel               | (768, 768)    | 589,824    | 3.33e-06  | 0.00451  |\n",
            "| encoder/video_encoder/encoder_module/layers_6/attention/value/kernel               | (768, 768)    | 589,824    | -1.2e-05  | 0.0361   |\n",
            "I0523 04:02:05.305968 140016490858304 parameter_overview.py:264] \n",
            "| encoder/video_encoder/encoder_module/layers_6/mlp/wi_0/kernel                      | (768, 2048)   | 1,572,864  | 2.03e-05  | 0.0361   |\n",
            "| encoder/video_encoder/encoder_module/layers_6/mlp/wi_1/kernel                      | (768, 2048)   | 1,572,864  | -4.92e-05 | 0.0361   |\n",
            "| encoder/video_encoder/encoder_module/layers_6/mlp/wo/kernel                        | (2048, 768)   | 1,572,864  | -4.61e-06 | 0.0221   |\n",
            "| encoder/video_encoder/encoder_module/layers_6/pre_attention_layer_norm/scale       | (768,)        | 768        | 1.0       | 0.0      |\n",
            "| encoder/video_encoder/encoder_module/layers_6/pre_mlp_layer_norm/scale             | (768,)        | 768        | 1.0       | 0.0      |\n",
            "| encoder/video_encoder/encoder_module/layers_7/attention/key/kernel                 | (768, 768)    | 589,824    | 2.44e-05  | 0.0361   |\n",
            "| encoder/video_encoder/encoder_module/layers_7/attention/out/kernel                 | (768, 768)    | 589,824    | -0.000114 | 0.0361   |\n",
            "| encoder/video_encoder/encoder_module/layers_7/attention/query/kernel               | (768, 768)    | 589,824    | 1.09e-06  | 0.00451  |\n",
            "| encoder/video_encoder/encoder_module/layers_7/attention/value/kernel               | (768, 768)    | 589,824    | -2.72e-05 | 0.0361   |\n",
            "| encoder/video_encoder/encoder_module/layers_7/mlp/wi_0/kernel                      | (768, 2048)   | 1,572,864  | -4.07e-05 | 0.0361   |\n",
            "| encoder/video_encoder/encoder_module/layers_7/mlp/wi_1/kernel                      | (768, 2048)   | 1,572,864  | -1.86e-06 | 0.0361   |\n",
            "| encoder/video_encoder/encoder_module/layers_7/mlp/wo/kernel                        | (2048, 768)   | 1,572,864  | 1.22e-05  | 0.0221   |\n",
            "| encoder/video_encoder/encoder_module/layers_7/pre_attention_layer_norm/scale       | (768,)        | 768        | 1.0       | 0.0      |\n",
            "| encoder/video_encoder/encoder_module/layers_7/pre_mlp_layer_norm/scale             | (768,)        | 768        | 1.0       | 0.0      |\n",
            "| encoder/video_encoder/encoder_module/layers_8/attention/key/kernel                 | (768, 768)    | 589,824    | -4.4e-05  | 0.0361   |\n",
            "| encoder/video_encoder/encoder_module/layers_8/attention/out/kernel                 | (768, 768)    | 589,824    | -8.16e-06 | 0.0361   |\n",
            "| encoder/video_encoder/encoder_module/layers_8/attention/query/kernel               | (768, 768)    | 589,824    | -1.89e-06 | 0.00451  |\n",
            "| encoder/video_encoder/encoder_module/layers_8/attention/value/kernel               | (768, 768)    | 589,824    | 1.32e-05  | 0.0361   |\n",
            "| encoder/video_encoder/encoder_module/layers_8/mlp/wi_0/kernel                      | (768, 2048)   | 1,572,864  | 9.58e-06  | 0.0361   |\n",
            "| encoder/video_encoder/encoder_module/layers_8/mlp/wi_1/kernel                      | (768, 2048)   | 1,572,864  | -3.21e-05 | 0.0361   |\n",
            "| encoder/video_encoder/encoder_module/layers_8/mlp/wo/kernel                        | (2048, 768)   | 1,572,864  | -2.15e-05 | 0.0221   |\n",
            "| encoder/video_encoder/encoder_module/layers_8/pre_attention_layer_norm/scale       | (768,)        | 768        | 1.0       | 0.0      |\n",
            "| encoder/video_encoder/encoder_module/layers_8/pre_mlp_layer_norm/scale             | (768,)        | 768        | 1.0       | 0.0      |\n",
            "| encoder/video_encoder/encoder_module/layers_9/attention/key/kernel                 | (768, 768)    | 589,824    | -1.71e-05 | 0.0361   |\n",
            "| encoder/video_encoder/encoder_module/layers_9/attention/out/kernel                 | (768, 768)    | 589,824    | 3.37e-06  | 0.0361   |\n",
            "| encoder/video_encoder/encoder_module/layers_9/attention/query/kernel               | (768, 768)    | 589,824    | 9.34e-06  | 0.00451  |\n",
            "| encoder/video_encoder/encoder_module/layers_9/attention/value/kernel               | (768, 768)    | 589,824    | 8.43e-06  | 0.036    |\n",
            "| encoder/video_encoder/encoder_module/layers_9/mlp/wi_0/kernel                      | (768, 2048)   | 1,572,864  | -6.47e-06 | 0.0361   |\n",
            "| encoder/video_encoder/encoder_module/layers_9/mlp/wi_1/kernel                      | (768, 2048)   | 1,572,864  | -1.38e-05 | 0.0361   |\n",
            "| encoder/video_encoder/encoder_module/layers_9/mlp/wo/kernel                        | (2048, 768)   | 1,572,864  | 1.98e-05  | 0.0221   |\n",
            "| encoder/video_encoder/encoder_module/layers_9/pre_attention_layer_norm/scale       | (768,)        | 768        | 1.0       | 0.0      |\n",
            "| encoder/video_encoder/encoder_module/layers_9/pre_mlp_layer_norm/scale             | (768,)        | 768        | 1.0       | 0.0      |\n",
            "| encoder/video_encoder/encoder_module/relpos_bias/rel_embedding                     | (12, 32)      | 384        | 0.0229    | 0.216    |\n",
            "| encoder/visual_encoder/encoder_norm/bias                                           | (768,)        | 768        | 0.0       | 0.0      |\n",
            "| encoder/visual_encoder/encoder_norm/scale                                          | (768,)        | 768        | 1.0       | 0.0      |\n",
            "| encoder/visual_encoder/encoderblock_0/LayerNorm_0/bias                             | (768,)        | 768        | 0.0       | 0.0      |\n",
            "| encoder/visual_encoder/encoderblock_0/LayerNorm_0/scale                            | (768,)        | 768        | 1.0       | 0.0      |\n",
            "| encoder/visual_encoder/encoderblock_0/LayerNorm_1/bias                             | (768,)        | 768        | 0.0       | 0.0      |\n",
            "| encoder/visual_encoder/encoderblock_0/LayerNorm_1/scale                            | (768,)        | 768        | 1.0       | 0.0      |\n",
            "| encoder/visual_encoder/encoderblock_0/MlpBlock_0/Dense_0/bias                      | (2048,)       | 2,048      | -1.13e-08 | 9.9e-07  |\n",
            "| encoder/visual_encoder/encoderblock_0/MlpBlock_0/Dense_0/kernel                    | (768, 2048)   | 1,572,864  | -1.62e-06 | 0.0267   |\n",
            "| encoder/visual_encoder/encoderblock_0/MlpBlock_0/Dense_1/bias                      | (768,)        | 768        | 1.57e-08  | 9.93e-07 |\n",
            "| encoder/visual_encoder/encoderblock_0/MlpBlock_0/Dense_1/kernel                    | (2048, 768)   | 1,572,864  | 1.41e-05  | 0.0266   |\n",
            "| encoder/visual_encoder/encoderblock_0/MultiHeadDotProductAttention_0/key/bias      | (12, 64)      | 768        | 0.0       | 0.0      |\n",
            "| encoder/visual_encoder/encoderblock_0/MultiHeadDotProductAttention_0/key/kernel    | (768, 12, 64) | 589,824    | 1.48e-05  | 0.0361   |\n",
            "| encoder/visual_encoder/encoderblock_0/MultiHeadDotProductAttention_0/out/bias      | (768,)        | 768        | 0.0       | 0.0      |\n",
            "| encoder/visual_encoder/encoderblock_0/MultiHeadDotProductAttention_0/out/kernel    | (12, 64, 768) | 589,824    | -6.24e-06 | 0.0361   |\n",
            "| encoder/visual_encoder/encoderblock_0/MultiHeadDotProductAttention_0/query/bias    | (12, 64)      | 768        | 0.0       | 0.0      |\n",
            "| encoder/visual_encoder/encoderblock_0/MultiHeadDotProductAttention_0/query/kernel  | (768, 12, 64) | 589,824    | 1.52e-05  | 0.0361   |\n",
            "| encoder/visual_encoder/encoderblock_0/MultiHeadDotProductAttention_0/value/bias    | (12, 64)      | 768        | 0.0       | 0.0      |\n",
            "| encoder/visual_encoder/encoderblock_0/MultiHeadDotProductAttention_0/value/kernel  | (768, 12, 64) | 589,824    | 1.85e-05  | 0.0361   |\n",
            "| encoder/visual_encoder/encoderblock_1/LayerNorm_0/bias                             | (768,)        | 768        | 0.0       | 0.0      |\n",
            "| encoder/visual_encoder/encoderblock_1/LayerNorm_0/scale                            | (768,)        | 768        | 1.0       | 0.0      |\n",
            "| encoder/visual_encoder/encoderblock_1/LayerNorm_1/bias                             | (768,)        | 768        | 0.0       | 0.0      |\n",
            "| encoder/visual_encoder/encoderblock_1/LayerNorm_1/scale                            | (768,)        | 768        | 1.0       | 0.0      |\n",
            "| encoder/visual_encoder/encoderblock_1/MlpBlock_0/Dense_0/bias                      | (2048,)       | 2,048      | 1.38e-08  | 1.03e-06 |\n",
            "| encoder/visual_encoder/encoderblock_1/MlpBlock_0/Dense_0/kernel                    | (768, 2048)   | 1,572,864  | -5.22e-06 | 0.0267   |\n",
            "| encoder/visual_encoder/encoderblock_1/MlpBlock_0/Dense_1/bias                      | (768,)        | 768        | 3.81e-08  | 9.93e-07 |\n",
            "| encoder/visual_encoder/encoderblock_1/MlpBlock_0/Dense_1/kernel                    | (2048, 768)   | 1,572,864  | 5.44e-06  | 0.0267   |\n",
            "| encoder/visual_encoder/encoderblock_1/MultiHeadDotProductAttention_0/key/bias      | (12, 64)      | 768        | 0.0       | 0.0      |\n",
            "| encoder/visual_encoder/encoderblock_1/MultiHeadDotProductAttention_0/key/kernel    | (768, 12, 64) | 589,824    | -5.91e-05 | 0.0361   |\n",
            "| encoder/visual_encoder/encoderblock_1/MultiHeadDotProductAttention_0/out/bias      | (768,)        | 768        | 0.0       | 0.0      |\n",
            "| encoder/visual_encoder/encoderblock_1/MultiHeadDotProductAttention_0/out/kernel    | (12, 64, 768) | 589,824    | 7.53e-05  | 0.0361   |\n",
            "| encoder/visual_encoder/encoderblock_1/MultiHeadDotProductAttention_0/query/bias    | (12, 64)      | 768        | 0.0       | 0.0      |\n",
            "| encoder/visual_encoder/encoderblock_1/MultiHeadDotProductAttention_0/query/kernel  | (768, 12, 64) | 589,824    | 2.57e-05  | 0.0361   |\n",
            "| encoder/visual_encoder/encoderblock_1/MultiHeadDotProductAttention_0/value/bias    | (12, 64)      | 768        | 0.0       | 0.0      |\n",
            "| encoder/visual_encoder/encoderblock_1/MultiHeadDotProductAttention_0/value/kernel  | (768, 12, 64) | 589,824    | -7.77e-05 | 0.0361   |\n",
            "| encoder/visual_encoder/encoderblock_10/LayerNorm_0/bias                            | (768,)        | 768        | 0.0       | 0.0      |\n",
            "| encoder/visual_encoder/encoderblock_10/LayerNorm_0/scale                           | (768,)        | 768        | 1.0       | 0.0      |\n",
            "| encoder/visual_encoder/encoderblock_10/LayerNorm_1/bias                            | (768,)        | 768        | 0.0       | 0.0      |\n",
            "| encoder/visual_encoder/encoderblock_10/LayerNorm_1/scale                           | (768,)        | 768        | 1.0       | 0.0      |\n",
            "| encoder/visual_encoder/encoderblock_10/MlpBlock_0/Dense_0/bias                     | (2048,)       | 2,048      | -4.95e-09 | 9.87e-07 |\n",
            "| encoder/visual_encoder/encoderblock_10/MlpBlock_0/Dense_0/kernel                   | (768, 2048)   | 1,572,864  | 1.48e-06  | 0.0266   |\n",
            "| encoder/visual_encoder/encoderblock_10/MlpBlock_0/Dense_1/bias                     | (768,)        | 768        | 3.05e-09  | 1.03e-06 |\n",
            "| encoder/visual_encoder/encoderblock_10/MlpBlock_0/Dense_1/kernel                   | (2048, 768)   | 1,572,864  | 2.12e-05  | 0.0267   |\n",
            "| encoder/visual_encoder/encoderblock_10/MultiHeadDotProductAttention_0/key/bias     | (12, 64)      | 768        | 0.0       | 0.0      |\n",
            "| encoder/visual_encoder/encoderblock_10/MultiHeadDotProductAttention_0/key/kernel   | (768, 12, 64) | 589,824    | -1.6e-06  | 0.0361   |\n",
            "| encoder/visual_encoder/encoderblock_10/MultiHeadDotProductAttention_0/out/bias     | (768,)        | 768        | 0.0       | 0.0      |\n",
            "| encoder/visual_encoder/encoderblock_10/MultiHeadDotProductAttention_0/out/kernel   | (12, 64, 768) | 589,824    | -7.98e-05 | 0.0361   |\n",
            "| encoder/visual_encoder/encoderblock_10/MultiHeadDotProductAttention_0/query/bias   | (12, 64)      | 768        | 0.0       | 0.0      |\n",
            "I0523 04:02:05.318527 140016490858304 parameter_overview.py:264] \n",
            "| encoder/visual_encoder/encoderblock_10/MultiHeadDotProductAttention_0/query/kernel | (768, 12, 64) | 589,824    | -5.33e-05 | 0.0361   |\n",
            "| encoder/visual_encoder/encoderblock_10/MultiHeadDotProductAttention_0/value/bias   | (12, 64)      | 768        | 0.0       | 0.0      |\n",
            "| encoder/visual_encoder/encoderblock_10/MultiHeadDotProductAttention_0/value/kernel | (768, 12, 64) | 589,824    | -4.66e-05 | 0.0361   |\n",
            "| encoder/visual_encoder/encoderblock_11/LayerNorm_0/bias                            | (768,)        | 768        | 0.0       | 0.0      |\n",
            "| encoder/visual_encoder/encoderblock_11/LayerNorm_0/scale                           | (768,)        | 768        | 1.0       | 0.0      |\n",
            "| encoder/visual_encoder/encoderblock_11/LayerNorm_1/bias                            | (768,)        | 768        | 0.0       | 0.0      |\n",
            "| encoder/visual_encoder/encoderblock_11/LayerNorm_1/scale                           | (768,)        | 768        | 1.0       | 0.0      |\n",
            "| encoder/visual_encoder/encoderblock_11/MlpBlock_0/Dense_0/bias                     | (2048,)       | 2,048      | -1.53e-08 | 1.01e-06 |\n",
            "| encoder/visual_encoder/encoderblock_11/MlpBlock_0/Dense_0/kernel                   | (768, 2048)   | 1,572,864  | 5.79e-06  | 0.0266   |\n",
            "| encoder/visual_encoder/encoderblock_11/MlpBlock_0/Dense_1/bias                     | (768,)        | 768        | 1.01e-08  | 9.79e-07 |\n",
            "| encoder/visual_encoder/encoderblock_11/MlpBlock_0/Dense_1/kernel                   | (2048, 768)   | 1,572,864  | 7.1e-06   | 0.0267   |\n",
            "| encoder/visual_encoder/encoderblock_11/MultiHeadDotProductAttention_0/key/bias     | (12, 64)      | 768        | 0.0       | 0.0      |\n",
            "| encoder/visual_encoder/encoderblock_11/MultiHeadDotProductAttention_0/key/kernel   | (768, 12, 64) | 589,824    | 3.53e-05  | 0.0361   |\n",
            "| encoder/visual_encoder/encoderblock_11/MultiHeadDotProductAttention_0/out/bias     | (768,)        | 768        | 0.0       | 0.0      |\n",
            "| encoder/visual_encoder/encoderblock_11/MultiHeadDotProductAttention_0/out/kernel   | (12, 64, 768) | 589,824    | 3.27e-05  | 0.0361   |\n",
            "| encoder/visual_encoder/encoderblock_11/MultiHeadDotProductAttention_0/query/bias   | (12, 64)      | 768        | 0.0       | 0.0      |\n",
            "| encoder/visual_encoder/encoderblock_11/MultiHeadDotProductAttention_0/query/kernel | (768, 12, 64) | 589,824    | 0.000104  | 0.0361   |\n",
            "| encoder/visual_encoder/encoderblock_11/MultiHeadDotProductAttention_0/value/bias   | (12, 64)      | 768        | 0.0       | 0.0      |\n",
            "| encoder/visual_encoder/encoderblock_11/MultiHeadDotProductAttention_0/value/kernel | (768, 12, 64) | 589,824    | -3.05e-05 | 0.0361   |\n",
            "| encoder/visual_encoder/encoderblock_2/LayerNorm_0/bias                             | (768,)        | 768        | 0.0       | 0.0      |\n",
            "| encoder/visual_encoder/encoderblock_2/LayerNorm_0/scale                            | (768,)        | 768        | 1.0       | 0.0      |\n",
            "| encoder/visual_encoder/encoderblock_2/LayerNorm_1/bias                             | (768,)        | 768        | 0.0       | 0.0      |\n",
            "| encoder/visual_encoder/encoderblock_2/LayerNorm_1/scale                            | (768,)        | 768        | 1.0       | 0.0      |\n",
            "| encoder/visual_encoder/encoderblock_2/MlpBlock_0/Dense_0/bias                      | (2048,)       | 2,048      | 1.95e-08  | 9.81e-07 |\n",
            "| encoder/visual_encoder/encoderblock_2/MlpBlock_0/Dense_0/kernel                    | (768, 2048)   | 1,572,864  | 7.97e-06  | 0.0267   |\n",
            "| encoder/visual_encoder/encoderblock_2/MlpBlock_0/Dense_1/bias                      | (768,)        | 768        | 1.26e-08  | 9.86e-07 |\n",
            "| encoder/visual_encoder/encoderblock_2/MlpBlock_0/Dense_1/kernel                    | (2048, 768)   | 1,572,864  | 3.85e-06  | 0.0266   |\n",
            "| encoder/visual_encoder/encoderblock_2/MultiHeadDotProductAttention_0/key/bias      | (12, 64)      | 768        | 0.0       | 0.0      |\n",
            "| encoder/visual_encoder/encoderblock_2/MultiHeadDotProductAttention_0/key/kernel    | (768, 12, 64) | 589,824    | 6.55e-05  | 0.0361   |\n",
            "| encoder/visual_encoder/encoderblock_2/MultiHeadDotProductAttention_0/out/bias      | (768,)        | 768        | 0.0       | 0.0      |\n",
            "| encoder/visual_encoder/encoderblock_2/MultiHeadDotProductAttention_0/out/kernel    | (12, 64, 768) | 589,824    | -0.000174 | 0.0361   |\n",
            "| encoder/visual_encoder/encoderblock_2/MultiHeadDotProductAttention_0/query/bias    | (12, 64)      | 768        | 0.0       | 0.0      |\n",
            "| encoder/visual_encoder/encoderblock_2/MultiHeadDotProductAttention_0/query/kernel  | (768, 12, 64) | 589,824    | -1.78e-05 | 0.0361   |\n",
            "| encoder/visual_encoder/encoderblock_2/MultiHeadDotProductAttention_0/value/bias    | (12, 64)      | 768        | 0.0       | 0.0      |\n",
            "| encoder/visual_encoder/encoderblock_2/MultiHeadDotProductAttention_0/value/kernel  | (768, 12, 64) | 589,824    | 1.4e-05   | 0.0361   |\n",
            "| encoder/visual_encoder/encoderblock_3/LayerNorm_0/bias                             | (768,)        | 768        | 0.0       | 0.0      |\n",
            "| encoder/visual_encoder/encoderblock_3/LayerNorm_0/scale                            | (768,)        | 768        | 1.0       | 0.0      |\n",
            "| encoder/visual_encoder/encoderblock_3/LayerNorm_1/bias                             | (768,)        | 768        | 0.0       | 0.0      |\n",
            "| encoder/visual_encoder/encoderblock_3/LayerNorm_1/scale                            | (768,)        | 768        | 1.0       | 0.0      |\n",
            "| encoder/visual_encoder/encoderblock_3/MlpBlock_0/Dense_0/bias                      | (2048,)       | 2,048      | 7.05e-09  | 1e-06    |\n",
            "| encoder/visual_encoder/encoderblock_3/MlpBlock_0/Dense_0/kernel                    | (768, 2048)   | 1,572,864  | -8e-06    | 0.0266   |\n",
            "| encoder/visual_encoder/encoderblock_3/MlpBlock_0/Dense_1/bias                      | (768,)        | 768        | -2.15e-08 | 9.99e-07 |\n",
            "| encoder/visual_encoder/encoderblock_3/MlpBlock_0/Dense_1/kernel                    | (2048, 768)   | 1,572,864  | -5.83e-06 | 0.0266   |\n",
            "| encoder/visual_encoder/encoderblock_3/MultiHeadDotProductAttention_0/key/bias      | (12, 64)      | 768        | 0.0       | 0.0      |\n",
            "| encoder/visual_encoder/encoderblock_3/MultiHeadDotProductAttention_0/key/kernel    | (768, 12, 64) | 589,824    | -1.75e-05 | 0.0361   |\n",
            "| encoder/visual_encoder/encoderblock_3/MultiHeadDotProductAttention_0/out/bias      | (768,)        | 768        | 0.0       | 0.0      |\n",
            "| encoder/visual_encoder/encoderblock_3/MultiHeadDotProductAttention_0/out/kernel    | (12, 64, 768) | 589,824    | -9.33e-06 | 0.0361   |\n",
            "| encoder/visual_encoder/encoderblock_3/MultiHeadDotProductAttention_0/query/bias    | (12, 64)      | 768        | 0.0       | 0.0      |\n",
            "| encoder/visual_encoder/encoderblock_3/MultiHeadDotProductAttention_0/query/kernel  | (768, 12, 64) | 589,824    | -9.61e-05 | 0.0361   |\n",
            "| encoder/visual_encoder/encoderblock_3/MultiHeadDotProductAttention_0/value/bias    | (12, 64)      | 768        | 0.0       | 0.0      |\n",
            "| encoder/visual_encoder/encoderblock_3/MultiHeadDotProductAttention_0/value/kernel  | (768, 12, 64) | 589,824    | -3.32e-05 | 0.0361   |\n",
            "| encoder/visual_encoder/encoderblock_4/LayerNorm_0/bias                             | (768,)        | 768        | 0.0       | 0.0      |\n",
            "| encoder/visual_encoder/encoderblock_4/LayerNorm_0/scale                            | (768,)        | 768        | 1.0       | 0.0      |\n",
            "| encoder/visual_encoder/encoderblock_4/LayerNorm_1/bias                             | (768,)        | 768        | 0.0       | 0.0      |\n",
            "| encoder/visual_encoder/encoderblock_4/LayerNorm_1/scale                            | (768,)        | 768        | 1.0       | 0.0      |\n",
            "| encoder/visual_encoder/encoderblock_4/MlpBlock_0/Dense_0/bias                      | (2048,)       | 2,048      | -2.14e-08 | 9.78e-07 |\n",
            "| encoder/visual_encoder/encoderblock_4/MlpBlock_0/Dense_0/kernel                    | (768, 2048)   | 1,572,864  | -1.25e-05 | 0.0267   |\n",
            "| encoder/visual_encoder/encoderblock_4/MlpBlock_0/Dense_1/bias                      | (768,)        | 768        | 4.67e-09  | 1e-06    |\n",
            "| encoder/visual_encoder/encoderblock_4/MlpBlock_0/Dense_1/kernel                    | (2048, 768)   | 1,572,864  | -2.7e-06  | 0.0267   |\n",
            "| encoder/visual_encoder/encoderblock_4/MultiHeadDotProductAttention_0/key/bias      | (12, 64)      | 768        | 0.0       | 0.0      |\n",
            "| encoder/visual_encoder/encoderblock_4/MultiHeadDotProductAttention_0/key/kernel    | (768, 12, 64) | 589,824    | 1.65e-05  | 0.0361   |\n",
            "| encoder/visual_encoder/encoderblock_4/MultiHeadDotProductAttention_0/out/bias      | (768,)        | 768        | 0.0       | 0.0      |\n",
            "| encoder/visual_encoder/encoderblock_4/MultiHeadDotProductAttention_0/out/kernel    | (12, 64, 768) | 589,824    | 6.38e-05  | 0.0361   |\n",
            "| encoder/visual_encoder/encoderblock_4/MultiHeadDotProductAttention_0/query/bias    | (12, 64)      | 768        | 0.0       | 0.0      |\n",
            "| encoder/visual_encoder/encoderblock_4/MultiHeadDotProductAttention_0/query/kernel  | (768, 12, 64) | 589,824    | 6.06e-06  | 0.0361   |\n",
            "| encoder/visual_encoder/encoderblock_4/MultiHeadDotProductAttention_0/value/bias    | (12, 64)      | 768        | 0.0       | 0.0      |\n",
            "| encoder/visual_encoder/encoderblock_4/MultiHeadDotProductAttention_0/value/kernel  | (768, 12, 64) | 589,824    | 9.55e-06  | 0.036    |\n",
            "| encoder/visual_encoder/encoderblock_5/LayerNorm_0/bias                             | (768,)        | 768        | 0.0       | 0.0      |\n",
            "| encoder/visual_encoder/encoderblock_5/LayerNorm_0/scale                            | (768,)        | 768        | 1.0       | 0.0      |\n",
            "| encoder/visual_encoder/encoderblock_5/LayerNorm_1/bias                             | (768,)        | 768        | 0.0       | 0.0      |\n",
            "| encoder/visual_encoder/encoderblock_5/LayerNorm_1/scale                            | (768,)        | 768        | 1.0       | 0.0      |\n",
            "| encoder/visual_encoder/encoderblock_5/MlpBlock_0/Dense_0/bias                      | (2048,)       | 2,048      | -5.52e-09 | 1e-06    |\n",
            "| encoder/visual_encoder/encoderblock_5/MlpBlock_0/Dense_0/kernel                    | (768, 2048)   | 1,572,864  | -1.31e-05 | 0.0267   |\n",
            "| encoder/visual_encoder/encoderblock_5/MlpBlock_0/Dense_1/bias                      | (768,)        | 768        | 4.6e-08   | 1.03e-06 |\n",
            "| encoder/visual_encoder/encoderblock_5/MlpBlock_0/Dense_1/kernel                    | (2048, 768)   | 1,572,864  | -2.85e-05 | 0.0267   |\n",
            "| encoder/visual_encoder/encoderblock_5/MultiHeadDotProductAttention_0/key/bias      | (12, 64)      | 768        | 0.0       | 0.0      |\n",
            "| encoder/visual_encoder/encoderblock_5/MultiHeadDotProductAttention_0/key/kernel    | (768, 12, 64) | 589,824    | 2.77e-05  | 0.0361   |\n",
            "| encoder/visual_encoder/encoderblock_5/MultiHeadDotProductAttention_0/out/bias      | (768,)        | 768        | 0.0       | 0.0      |\n",
            "| encoder/visual_encoder/encoderblock_5/MultiHeadDotProductAttention_0/out/kernel    | (12, 64, 768) | 589,824    | 2.05e-05  | 0.0361   |\n",
            "| encoder/visual_encoder/encoderblock_5/MultiHeadDotProductAttention_0/query/bias    | (12, 64)      | 768        | 0.0       | 0.0      |\n",
            "I0523 04:02:05.418455 140016490858304 parameter_overview.py:264] \n",
            "| encoder/visual_encoder/encoderblock_5/MultiHeadDotProductAttention_0/query/kernel  | (768, 12, 64) | 589,824    | 3.55e-05  | 0.0361   |\n",
            "| encoder/visual_encoder/encoderblock_5/MultiHeadDotProductAttention_0/value/bias    | (12, 64)      | 768        | 0.0       | 0.0      |\n",
            "| encoder/visual_encoder/encoderblock_5/MultiHeadDotProductAttention_0/value/kernel  | (768, 12, 64) | 589,824    | -5.84e-05 | 0.0361   |\n",
            "| encoder/visual_encoder/encoderblock_6/LayerNorm_0/bias                             | (768,)        | 768        | 0.0       | 0.0      |\n",
            "| encoder/visual_encoder/encoderblock_6/LayerNorm_0/scale                            | (768,)        | 768        | 1.0       | 0.0      |\n",
            "| encoder/visual_encoder/encoderblock_6/LayerNorm_1/bias                             | (768,)        | 768        | 0.0       | 0.0      |\n",
            "| encoder/visual_encoder/encoderblock_6/LayerNorm_1/scale                            | (768,)        | 768        | 1.0       | 0.0      |\n",
            "| encoder/visual_encoder/encoderblock_6/MlpBlock_0/Dense_0/bias                      | (2048,)       | 2,048      | 2.88e-08  | 1.02e-06 |\n",
            "| encoder/visual_encoder/encoderblock_6/MlpBlock_0/Dense_0/kernel                    | (768, 2048)   | 1,572,864  | 3.24e-05  | 0.0266   |\n",
            "| encoder/visual_encoder/encoderblock_6/MlpBlock_0/Dense_1/bias                      | (768,)        | 768        | -1.71e-08 | 9.97e-07 |\n",
            "| encoder/visual_encoder/encoderblock_6/MlpBlock_0/Dense_1/kernel                    | (2048, 768)   | 1,572,864  | -1.26e-05 | 0.0267   |\n",
            "| encoder/visual_encoder/encoderblock_6/MultiHeadDotProductAttention_0/key/bias      | (12, 64)      | 768        | 0.0       | 0.0      |\n",
            "| encoder/visual_encoder/encoderblock_6/MultiHeadDotProductAttention_0/key/kernel    | (768, 12, 64) | 589,824    | -2.08e-05 | 0.0361   |\n",
            "| encoder/visual_encoder/encoderblock_6/MultiHeadDotProductAttention_0/out/bias      | (768,)        | 768        | 0.0       | 0.0      |\n",
            "| encoder/visual_encoder/encoderblock_6/MultiHeadDotProductAttention_0/out/kernel    | (12, 64, 768) | 589,824    | -7.26e-06 | 0.036    |\n",
            "| encoder/visual_encoder/encoderblock_6/MultiHeadDotProductAttention_0/query/bias    | (12, 64)      | 768        | 0.0       | 0.0      |\n",
            "| encoder/visual_encoder/encoderblock_6/MultiHeadDotProductAttention_0/query/kernel  | (768, 12, 64) | 589,824    | 2.08e-05  | 0.0361   |\n",
            "| encoder/visual_encoder/encoderblock_6/MultiHeadDotProductAttention_0/value/bias    | (12, 64)      | 768        | 0.0       | 0.0      |\n",
            "| encoder/visual_encoder/encoderblock_6/MultiHeadDotProductAttention_0/value/kernel  | (768, 12, 64) | 589,824    | -8.49e-05 | 0.0361   |\n",
            "| encoder/visual_encoder/encoderblock_7/LayerNorm_0/bias                             | (768,)        | 768        | 0.0       | 0.0      |\n",
            "| encoder/visual_encoder/encoderblock_7/LayerNorm_0/scale                            | (768,)        | 768        | 1.0       | 0.0      |\n",
            "| encoder/visual_encoder/encoderblock_7/LayerNorm_1/bias                             | (768,)        | 768        | 0.0       | 0.0      |\n",
            "| encoder/visual_encoder/encoderblock_7/LayerNorm_1/scale                            | (768,)        | 768        | 1.0       | 0.0      |\n",
            "| encoder/visual_encoder/encoderblock_7/MlpBlock_0/Dense_0/bias                      | (2048,)       | 2,048      | -6.52e-09 | 1.02e-06 |\n",
            "| encoder/visual_encoder/encoderblock_7/MlpBlock_0/Dense_0/kernel                    | (768, 2048)   | 1,572,864  | -8.31e-06 | 0.0267   |\n",
            "| encoder/visual_encoder/encoderblock_7/MlpBlock_0/Dense_1/bias                      | (768,)        | 768        | -2.69e-08 | 9.83e-07 |\n",
            "| encoder/visual_encoder/encoderblock_7/MlpBlock_0/Dense_1/kernel                    | (2048, 768)   | 1,572,864  | -3.39e-05 | 0.0266   |\n",
            "| encoder/visual_encoder/encoderblock_7/MultiHeadDotProductAttention_0/key/bias      | (12, 64)      | 768        | 0.0       | 0.0      |\n",
            "| encoder/visual_encoder/encoderblock_7/MultiHeadDotProductAttention_0/key/kernel    | (768, 12, 64) | 589,824    | -1.63e-05 | 0.0361   |\n",
            "| encoder/visual_encoder/encoderblock_7/MultiHeadDotProductAttention_0/out/bias      | (768,)        | 768        | 0.0       | 0.0      |\n",
            "| encoder/visual_encoder/encoderblock_7/MultiHeadDotProductAttention_0/out/kernel    | (12, 64, 768) | 589,824    | -0.000102 | 0.0361   |\n",
            "| encoder/visual_encoder/encoderblock_7/MultiHeadDotProductAttention_0/query/bias    | (12, 64)      | 768        | 0.0       | 0.0      |\n",
            "| encoder/visual_encoder/encoderblock_7/MultiHeadDotProductAttention_0/query/kernel  | (768, 12, 64) | 589,824    | -4.75e-05 | 0.0361   |\n",
            "| encoder/visual_encoder/encoderblock_7/MultiHeadDotProductAttention_0/value/bias    | (12, 64)      | 768        | 0.0       | 0.0      |\n",
            "| encoder/visual_encoder/encoderblock_7/MultiHeadDotProductAttention_0/value/kernel  | (768, 12, 64) | 589,824    | 3.87e-05  | 0.0361   |\n",
            "| encoder/visual_encoder/encoderblock_8/LayerNorm_0/bias                             | (768,)        | 768        | 0.0       | 0.0      |\n",
            "| encoder/visual_encoder/encoderblock_8/LayerNorm_0/scale                            | (768,)        | 768        | 1.0       | 0.0      |\n",
            "| encoder/visual_encoder/encoderblock_8/LayerNorm_1/bias                             | (768,)        | 768        | 0.0       | 0.0      |\n",
            "| encoder/visual_encoder/encoderblock_8/LayerNorm_1/scale                            | (768,)        | 768        | 1.0       | 0.0      |\n",
            "| encoder/visual_encoder/encoderblock_8/MlpBlock_0/Dense_0/bias                      | (2048,)       | 2,048      | -1.27e-08 | 9.86e-07 |\n",
            "| encoder/visual_encoder/encoderblock_8/MlpBlock_0/Dense_0/kernel                    | (768, 2048)   | 1,572,864  | -9.76e-06 | 0.0267   |\n",
            "| encoder/visual_encoder/encoderblock_8/MlpBlock_0/Dense_1/bias                      | (768,)        | 768        | 3.7e-09   | 9.8e-07  |\n",
            "| encoder/visual_encoder/encoderblock_8/MlpBlock_0/Dense_1/kernel                    | (2048, 768)   | 1,572,864  | -1.03e-05 | 0.0267   |\n",
            "| encoder/visual_encoder/encoderblock_8/MultiHeadDotProductAttention_0/key/bias      | (12, 64)      | 768        | 0.0       | 0.0      |\n",
            "| encoder/visual_encoder/encoderblock_8/MultiHeadDotProductAttention_0/key/kernel    | (768, 12, 64) | 589,824    | 2.93e-05  | 0.0361   |\n",
            "| encoder/visual_encoder/encoderblock_8/MultiHeadDotProductAttention_0/out/bias      | (768,)        | 768        | 0.0       | 0.0      |\n",
            "| encoder/visual_encoder/encoderblock_8/MultiHeadDotProductAttention_0/out/kernel    | (12, 64, 768) | 589,824    | 2.13e-06  | 0.0361   |\n",
            "| encoder/visual_encoder/encoderblock_8/MultiHeadDotProductAttention_0/query/bias    | (12, 64)      | 768        | 0.0       | 0.0      |\n",
            "| encoder/visual_encoder/encoderblock_8/MultiHeadDotProductAttention_0/query/kernel  | (768, 12, 64) | 589,824    | -2.46e-05 | 0.0361   |\n",
            "| encoder/visual_encoder/encoderblock_8/MultiHeadDotProductAttention_0/value/bias    | (12, 64)      | 768        | 0.0       | 0.0      |\n",
            "| encoder/visual_encoder/encoderblock_8/MultiHeadDotProductAttention_0/value/kernel  | (768, 12, 64) | 589,824    | -9.3e-05  | 0.0361   |\n",
            "| encoder/visual_encoder/encoderblock_9/LayerNorm_0/bias                             | (768,)        | 768        | 0.0       | 0.0      |\n",
            "| encoder/visual_encoder/encoderblock_9/LayerNorm_0/scale                            | (768,)        | 768        | 1.0       | 0.0      |\n",
            "| encoder/visual_encoder/encoderblock_9/LayerNorm_1/bias                             | (768,)        | 768        | 0.0       | 0.0      |\n",
            "| encoder/visual_encoder/encoderblock_9/LayerNorm_1/scale                            | (768,)        | 768        | 1.0       | 0.0      |\n",
            "| encoder/visual_encoder/encoderblock_9/MlpBlock_0/Dense_0/bias                      | (2048,)       | 2,048      | 1.2e-08   | 9.78e-07 |\n",
            "| encoder/visual_encoder/encoderblock_9/MlpBlock_0/Dense_0/kernel                    | (768, 2048)   | 1,572,864  | -4.41e-05 | 0.0267   |\n",
            "| encoder/visual_encoder/encoderblock_9/MlpBlock_0/Dense_1/bias                      | (768,)        | 768        | -1.87e-08 | 9.58e-07 |\n",
            "| encoder/visual_encoder/encoderblock_9/MlpBlock_0/Dense_1/kernel                    | (2048, 768)   | 1,572,864  | 1.89e-06  | 0.0266   |\n",
            "| encoder/visual_encoder/encoderblock_9/MultiHeadDotProductAttention_0/key/bias      | (12, 64)      | 768        | 0.0       | 0.0      |\n",
            "| encoder/visual_encoder/encoderblock_9/MultiHeadDotProductAttention_0/key/kernel    | (768, 12, 64) | 589,824    | 7.76e-05  | 0.0361   |\n",
            "| encoder/visual_encoder/encoderblock_9/MultiHeadDotProductAttention_0/out/bias      | (768,)        | 768        | 0.0       | 0.0      |\n",
            "| encoder/visual_encoder/encoderblock_9/MultiHeadDotProductAttention_0/out/kernel    | (12, 64, 768) | 589,824    | 5.73e-05  | 0.0361   |\n",
            "| encoder/visual_encoder/encoderblock_9/MultiHeadDotProductAttention_0/query/bias    | (12, 64)      | 768        | 0.0       | 0.0      |\n",
            "| encoder/visual_encoder/encoderblock_9/MultiHeadDotProductAttention_0/query/kernel  | (768, 12, 64) | 589,824    | -1.94e-05 | 0.0361   |\n",
            "| encoder/visual_encoder/encoderblock_9/MultiHeadDotProductAttention_0/value/bias    | (12, 64)      | 768        | 0.0       | 0.0      |\n",
            "| encoder/visual_encoder/encoderblock_9/MultiHeadDotProductAttention_0/value/kernel  | (768, 12, 64) | 589,824    | -6.58e-05 | 0.0361   |\n",
            "| encoder/visual_encoder/posembed_input/pos_embedding                                | (1, 100, 768) | 76,800     | -6.21e-05 | 0.0201   |\n",
            "| shared_decoder_token_embedder/embedding                                            | (32228, 768)  | 24,751,104 | -2.4e-05  | 1.0      |\n",
            "| text_decoder/decoder_module/decoder_norm/scale                                     | (768,)        | 768        | 1.0       | 0.0      |\n",
            "| text_decoder/decoder_module/layers_0/encoder_decoder_attention/key/kernel          | (768, 768)    | 589,824    | -6.52e-05 | 0.036    |\n",
            "| text_decoder/decoder_module/layers_0/encoder_decoder_attention/out/kernel          | (768, 768)    | 589,824    | 3.88e-05  | 0.0361   |\n",
            "| text_decoder/decoder_module/layers_0/encoder_decoder_attention/query/kernel        | (768, 768)    | 589,824    | -3.01e-06 | 0.00451  |\n",
            "| text_decoder/decoder_module/layers_0/encoder_decoder_attention/value/kernel        | (768, 768)    | 589,824    | 2.19e-05  | 0.0362   |\n",
            "| text_decoder/decoder_module/layers_0/mlp/wi_0/kernel                               | (768, 2048)   | 1,572,864  | 3.37e-07  | 0.0361   |\n",
            "| text_decoder/decoder_module/layers_0/mlp/wi_1/kernel                               | (768, 2048)   | 1,572,864  | 1.43e-05  | 0.0361   |\n",
            "| text_decoder/decoder_module/layers_0/mlp/wo/kernel                                 | (2048, 768)   | 1,572,864  | -1.21e-05 | 0.0221   |\n",
            "| text_decoder/decoder_module/layers_0/pre_cross_attention_layer_norm/scale          | (768,)        | 768        | 1.0       | 0.0      |\n",
            "| text_decoder/decoder_module/layers_0/pre_mlp_layer_norm/scale                      | (768,)        | 768        | 1.0       | 0.0      |\n",
            "| text_decoder/decoder_module/layers_0/pre_self_attention_layer_norm/scale           | (768,)        | 768        | 1.0       | 0.0      |\n",
            "I0523 04:02:05.522552 140016490858304 parameter_overview.py:264] \n",
            "| text_decoder/decoder_module/layers_0/self_attention/key/kernel                     | (768, 768)    | 589,824    | 5.77e-05  | 0.0361   |\n",
            "| text_decoder/decoder_module/layers_0/self_attention/out/kernel                     | (768, 768)    | 589,824    | -6e-06    | 0.0361   |\n",
            "| text_decoder/decoder_module/layers_0/self_attention/query/kernel                   | (768, 768)    | 589,824    | 3.68e-07  | 0.0045   |\n",
            "| text_decoder/decoder_module/layers_0/self_attention/value/kernel                   | (768, 768)    | 589,824    | 2.19e-05  | 0.0361   |\n",
            "| text_decoder/decoder_module/layers_1/encoder_decoder_attention/key/kernel          | (768, 768)    | 589,824    | -5.28e-05 | 0.0361   |\n",
            "| text_decoder/decoder_module/layers_1/encoder_decoder_attention/out/kernel          | (768, 768)    | 589,824    | 4.7e-06   | 0.0361   |\n",
            "| text_decoder/decoder_module/layers_1/encoder_decoder_attention/query/kernel        | (768, 768)    | 589,824    | -4.77e-06 | 0.00451  |\n",
            "| text_decoder/decoder_module/layers_1/encoder_decoder_attention/value/kernel        | (768, 768)    | 589,824    | 7.52e-05  | 0.036    |\n",
            "| text_decoder/decoder_module/layers_1/mlp/wi_0/kernel                               | (768, 2048)   | 1,572,864  | 2.13e-05  | 0.0361   |\n",
            "| text_decoder/decoder_module/layers_1/mlp/wi_1/kernel                               | (768, 2048)   | 1,572,864  | -7.7e-06  | 0.0361   |\n",
            "| text_decoder/decoder_module/layers_1/mlp/wo/kernel                                 | (2048, 768)   | 1,572,864  | -1.68e-05 | 0.0221   |\n",
            "| text_decoder/decoder_module/layers_1/pre_cross_attention_layer_norm/scale          | (768,)        | 768        | 1.0       | 0.0      |\n",
            "| text_decoder/decoder_module/layers_1/pre_mlp_layer_norm/scale                      | (768,)        | 768        | 1.0       | 0.0      |\n",
            "| text_decoder/decoder_module/layers_1/pre_self_attention_layer_norm/scale           | (768,)        | 768        | 1.0       | 0.0      |\n",
            "| text_decoder/decoder_module/layers_1/self_attention/key/kernel                     | (768, 768)    | 589,824    | 1.42e-05  | 0.0361   |\n",
            "| text_decoder/decoder_module/layers_1/self_attention/out/kernel                     | (768, 768)    | 589,824    | 9.04e-06  | 0.0361   |\n",
            "| text_decoder/decoder_module/layers_1/self_attention/query/kernel                   | (768, 768)    | 589,824    | 4.54e-06  | 0.00451  |\n",
            "| text_decoder/decoder_module/layers_1/self_attention/value/kernel                   | (768, 768)    | 589,824    | -1.39e-05 | 0.0361   |\n",
            "| text_decoder/decoder_module/layers_10/encoder_decoder_attention/key/kernel         | (768, 768)    | 589,824    | -1.09e-05 | 0.0361   |\n",
            "| text_decoder/decoder_module/layers_10/encoder_decoder_attention/out/kernel         | (768, 768)    | 589,824    | 7.31e-05  | 0.036    |\n",
            "| text_decoder/decoder_module/layers_10/encoder_decoder_attention/query/kernel       | (768, 768)    | 589,824    | 6.65e-06  | 0.00451  |\n",
            "| text_decoder/decoder_module/layers_10/encoder_decoder_attention/value/kernel       | (768, 768)    | 589,824    | 1.71e-05  | 0.0361   |\n",
            "| text_decoder/decoder_module/layers_10/mlp/wi_0/kernel                              | (768, 2048)   | 1,572,864  | -2.28e-07 | 0.0361   |\n",
            "| text_decoder/decoder_module/layers_10/mlp/wi_1/kernel                              | (768, 2048)   | 1,572,864  | -2.31e-05 | 0.0361   |\n",
            "| text_decoder/decoder_module/layers_10/mlp/wo/kernel                                | (2048, 768)   | 1,572,864  | 3.61e-06  | 0.0221   |\n",
            "| text_decoder/decoder_module/layers_10/pre_cross_attention_layer_norm/scale         | (768,)        | 768        | 1.0       | 0.0      |\n",
            "| text_decoder/decoder_module/layers_10/pre_mlp_layer_norm/scale                     | (768,)        | 768        | 1.0       | 0.0      |\n",
            "| text_decoder/decoder_module/layers_10/pre_self_attention_layer_norm/scale          | (768,)        | 768        | 1.0       | 0.0      |\n",
            "| text_decoder/decoder_module/layers_10/self_attention/key/kernel                    | (768, 768)    | 589,824    | -4.41e-05 | 0.0361   |\n",
            "| text_decoder/decoder_module/layers_10/self_attention/out/kernel                    | (768, 768)    | 589,824    | 1.79e-05  | 0.0361   |\n",
            "| text_decoder/decoder_module/layers_10/self_attention/query/kernel                  | (768, 768)    | 589,824    | -2.34e-06 | 0.00451  |\n",
            "| text_decoder/decoder_module/layers_10/self_attention/value/kernel                  | (768, 768)    | 589,824    | -2.81e-05 | 0.0361   |\n",
            "| text_decoder/decoder_module/layers_11/encoder_decoder_attention/key/kernel         | (768, 768)    | 589,824    | -1.29e-05 | 0.036    |\n",
            "| text_decoder/decoder_module/layers_11/encoder_decoder_attention/out/kernel         | (768, 768)    | 589,824    | -2.61e-05 | 0.036    |\n",
            "| text_decoder/decoder_module/layers_11/encoder_decoder_attention/query/kernel       | (768, 768)    | 589,824    | -3.61e-06 | 0.00451  |\n",
            "| text_decoder/decoder_module/layers_11/encoder_decoder_attention/value/kernel       | (768, 768)    | 589,824    | 4.63e-06  | 0.0361   |\n",
            "| text_decoder/decoder_module/layers_11/mlp/wi_0/kernel                              | (768, 2048)   | 1,572,864  | -3.66e-05 | 0.0361   |\n",
            "| text_decoder/decoder_module/layers_11/mlp/wi_1/kernel                              | (768, 2048)   | 1,572,864  | -2.23e-05 | 0.0361   |\n",
            "| text_decoder/decoder_module/layers_11/mlp/wo/kernel                                | (2048, 768)   | 1,572,864  | -3.65e-07 | 0.0221   |\n",
            "| text_decoder/decoder_module/layers_11/pre_cross_attention_layer_norm/scale         | (768,)        | 768        | 1.0       | 0.0      |\n",
            "| text_decoder/decoder_module/layers_11/pre_mlp_layer_norm/scale                     | (768,)        | 768        | 1.0       | 0.0      |\n",
            "| text_decoder/decoder_module/layers_11/pre_self_attention_layer_norm/scale          | (768,)        | 768        | 1.0       | 0.0      |\n",
            "| text_decoder/decoder_module/layers_11/self_attention/key/kernel                    | (768, 768)    | 589,824    | 1.38e-05  | 0.0361   |\n",
            "| text_decoder/decoder_module/layers_11/self_attention/out/kernel                    | (768, 768)    | 589,824    | 6.03e-05  | 0.0361   |\n",
            "| text_decoder/decoder_module/layers_11/self_attention/query/kernel                  | (768, 768)    | 589,824    | -1.84e-05 | 0.00451  |\n",
            "| text_decoder/decoder_module/layers_11/self_attention/value/kernel                  | (768, 768)    | 589,824    | 1.49e-05  | 0.036    |\n",
            "| text_decoder/decoder_module/layers_2/encoder_decoder_attention/key/kernel          | (768, 768)    | 589,824    | -2.16e-05 | 0.036    |\n",
            "| text_decoder/decoder_module/layers_2/encoder_decoder_attention/out/kernel          | (768, 768)    | 589,824    | -8.52e-05 | 0.0361   |\n",
            "| text_decoder/decoder_module/layers_2/encoder_decoder_attention/query/kernel        | (768, 768)    | 589,824    | 9.99e-06  | 0.00451  |\n",
            "| text_decoder/decoder_module/layers_2/encoder_decoder_attention/value/kernel        | (768, 768)    | 589,824    | -6.22e-05 | 0.0361   |\n",
            "| text_decoder/decoder_module/layers_2/mlp/wi_0/kernel                               | (768, 2048)   | 1,572,864  | -1.52e-05 | 0.0361   |\n",
            "| text_decoder/decoder_module/layers_2/mlp/wi_1/kernel                               | (768, 2048)   | 1,572,864  | 3.46e-05  | 0.0361   |\n",
            "| text_decoder/decoder_module/layers_2/mlp/wo/kernel                                 | (2048, 768)   | 1,572,864  | -9.1e-06  | 0.0221   |\n",
            "| text_decoder/decoder_module/layers_2/pre_cross_attention_layer_norm/scale          | (768,)        | 768        | 1.0       | 0.0      |\n",
            "| text_decoder/decoder_module/layers_2/pre_mlp_layer_norm/scale                      | (768,)        | 768        | 1.0       | 0.0      |\n",
            "| text_decoder/decoder_module/layers_2/pre_self_attention_layer_norm/scale           | (768,)        | 768        | 1.0       | 0.0      |\n",
            "| text_decoder/decoder_module/layers_2/self_attention/key/kernel                     | (768, 768)    | 589,824    | -2.54e-05 | 0.0361   |\n",
            "| text_decoder/decoder_module/layers_2/self_attention/out/kernel                     | (768, 768)    | 589,824    | -1.26e-05 | 0.0361   |\n",
            "| text_decoder/decoder_module/layers_2/self_attention/query/kernel                   | (768, 768)    | 589,824    | -7e-06    | 0.00451  |\n",
            "| text_decoder/decoder_module/layers_2/self_attention/value/kernel                   | (768, 768)    | 589,824    | 1.17e-05  | 0.0361   |\n",
            "| text_decoder/decoder_module/layers_3/encoder_decoder_attention/key/kernel          | (768, 768)    | 589,824    | 4.62e-05  | 0.0361   |\n",
            "| text_decoder/decoder_module/layers_3/encoder_decoder_attention/out/kernel          | (768, 768)    | 589,824    | 5.21e-05  | 0.0361   |\n",
            "| text_decoder/decoder_module/layers_3/encoder_decoder_attention/query/kernel        | (768, 768)    | 589,824    | -7.38e-06 | 0.00451  |\n",
            "| text_decoder/decoder_module/layers_3/encoder_decoder_attention/value/kernel        | (768, 768)    | 589,824    | -8.94e-05 | 0.0361   |\n",
            "| text_decoder/decoder_module/layers_3/mlp/wi_0/kernel                               | (768, 2048)   | 1,572,864  | -9.86e-06 | 0.0361   |\n",
            "| text_decoder/decoder_module/layers_3/mlp/wi_1/kernel                               | (768, 2048)   | 1,572,864  | 1.07e-05  | 0.0361   |\n",
            "| text_decoder/decoder_module/layers_3/mlp/wo/kernel                                 | (2048, 768)   | 1,572,864  | -2.54e-05 | 0.0221   |\n",
            "| text_decoder/decoder_module/layers_3/pre_cross_attention_layer_norm/scale          | (768,)        | 768        | 1.0       | 0.0      |\n",
            "| text_decoder/decoder_module/layers_3/pre_mlp_layer_norm/scale                      | (768,)        | 768        | 1.0       | 0.0      |\n",
            "| text_decoder/decoder_module/layers_3/pre_self_attention_layer_norm/scale           | (768,)        | 768        | 1.0       | 0.0      |\n",
            "| text_decoder/decoder_module/layers_3/self_attention/key/kernel                     | (768, 768)    | 589,824    | -1.65e-06 | 0.0361   |\n",
            "| text_decoder/decoder_module/layers_3/self_attention/out/kernel                     | (768, 768)    | 589,824    | 1.01e-05  | 0.0361   |\n",
            "| text_decoder/decoder_module/layers_3/self_attention/query/kernel                   | (768, 768)    | 589,824    | -1.23e-06 | 0.00451  |\n",
            "| text_decoder/decoder_module/layers_3/self_attention/value/kernel                   | (768, 768)    | 589,824    | 5.79e-05  | 0.036    |\n",
            "| text_decoder/decoder_module/layers_4/encoder_decoder_attention/key/kernel          | (768, 768)    | 589,824    | 1.59e-05  | 0.036    |\n",
            "| text_decoder/decoder_module/layers_4/encoder_decoder_attention/out/kernel          | (768, 768)    | 589,824    | 2e-06     | 0.036    |\n",
            "| text_decoder/decoder_module/layers_4/encoder_decoder_attention/query/kernel        | (768, 768)    | 589,824    | -8.97e-06 | 0.00451  |\n",
            "| text_decoder/decoder_module/layers_4/encoder_decoder_attention/value/kernel        | (768, 768)    | 589,824    | 4.82e-05  | 0.0361   |\n",
            "| text_decoder/decoder_module/layers_4/mlp/wi_0/kernel                               | (768, 2048)   | 1,572,864  | -2.6e-05  | 0.0361   |\n",
            "| text_decoder/decoder_module/layers_4/mlp/wi_1/kernel                               | (768, 2048)   | 1,572,864  | -3.77e-05 | 0.0361   |\n",
            "I0523 04:02:05.524181 140016490858304 parameter_overview.py:264] \n",
            "| text_decoder/decoder_module/layers_4/mlp/wo/kernel                                 | (2048, 768)   | 1,572,864  | -2.18e-05 | 0.0221   |\n",
            "| text_decoder/decoder_module/layers_4/pre_cross_attention_layer_norm/scale          | (768,)        | 768        | 1.0       | 0.0      |\n",
            "| text_decoder/decoder_module/layers_4/pre_mlp_layer_norm/scale                      | (768,)        | 768        | 1.0       | 0.0      |\n",
            "| text_decoder/decoder_module/layers_4/pre_self_attention_layer_norm/scale           | (768,)        | 768        | 1.0       | 0.0      |\n",
            "| text_decoder/decoder_module/layers_4/self_attention/key/kernel                     | (768, 768)    | 589,824    | -5.78e-05 | 0.0361   |\n",
            "| text_decoder/decoder_module/layers_4/self_attention/out/kernel                     | (768, 768)    | 589,824    | -4.19e-06 | 0.0362   |\n",
            "| text_decoder/decoder_module/layers_4/self_attention/query/kernel                   | (768, 768)    | 589,824    | -4.31e-07 | 0.00451  |\n",
            "| text_decoder/decoder_module/layers_4/self_attention/value/kernel                   | (768, 768)    | 589,824    | -3.81e-05 | 0.0361   |\n",
            "| text_decoder/decoder_module/layers_5/encoder_decoder_attention/key/kernel          | (768, 768)    | 589,824    | -3.06e-05 | 0.0361   |\n",
            "| text_decoder/decoder_module/layers_5/encoder_decoder_attention/out/kernel          | (768, 768)    | 589,824    | 2.74e-05  | 0.0361   |\n",
            "| text_decoder/decoder_module/layers_5/encoder_decoder_attention/query/kernel        | (768, 768)    | 589,824    | 7.66e-07  | 0.00451  |\n",
            "| text_decoder/decoder_module/layers_5/encoder_decoder_attention/value/kernel        | (768, 768)    | 589,824    | 4.73e-05  | 0.0361   |\n",
            "| text_decoder/decoder_module/layers_5/mlp/wi_0/kernel                               | (768, 2048)   | 1,572,864  | -3.6e-05  | 0.0361   |\n",
            "| text_decoder/decoder_module/layers_5/mlp/wi_1/kernel                               | (768, 2048)   | 1,572,864  | -3.77e-05 | 0.0361   |\n",
            "| text_decoder/decoder_module/layers_5/mlp/wo/kernel                                 | (2048, 768)   | 1,572,864  | -4.17e-05 | 0.0221   |\n",
            "| text_decoder/decoder_module/layers_5/pre_cross_attention_layer_norm/scale          | (768,)        | 768        | 1.0       | 0.0      |\n",
            "| text_decoder/decoder_module/layers_5/pre_mlp_layer_norm/scale                      | (768,)        | 768        | 1.0       | 0.0      |\n",
            "| text_decoder/decoder_module/layers_5/pre_self_attention_layer_norm/scale           | (768,)        | 768        | 1.0       | 0.0      |\n",
            "| text_decoder/decoder_module/layers_5/self_attention/key/kernel                     | (768, 768)    | 589,824    | -2.04e-05 | 0.036    |\n",
            "| text_decoder/decoder_module/layers_5/self_attention/out/kernel                     | (768, 768)    | 589,824    | -6.16e-05 | 0.0361   |\n",
            "| text_decoder/decoder_module/layers_5/self_attention/query/kernel                   | (768, 768)    | 589,824    | -5.01e-07 | 0.0045   |\n",
            "| text_decoder/decoder_module/layers_5/self_attention/value/kernel                   | (768, 768)    | 589,824    | 2.64e-05  | 0.0361   |\n",
            "| text_decoder/decoder_module/layers_6/encoder_decoder_attention/key/kernel          | (768, 768)    | 589,824    | 3.04e-05  | 0.0361   |\n",
            "| text_decoder/decoder_module/layers_6/encoder_decoder_attention/out/kernel          | (768, 768)    | 589,824    | -1.07e-05 | 0.0361   |\n",
            "| text_decoder/decoder_module/layers_6/encoder_decoder_attention/query/kernel        | (768, 768)    | 589,824    | -1.59e-06 | 0.00451  |\n",
            "| text_decoder/decoder_module/layers_6/encoder_decoder_attention/value/kernel        | (768, 768)    | 589,824    | -1.76e-05 | 0.0361   |\n",
            "| text_decoder/decoder_module/layers_6/mlp/wi_0/kernel                               | (768, 2048)   | 1,572,864  | 1.83e-05  | 0.0361   |\n",
            "| text_decoder/decoder_module/layers_6/mlp/wi_1/kernel                               | (768, 2048)   | 1,572,864  | -4.84e-05 | 0.0361   |\n",
            "| text_decoder/decoder_module/layers_6/mlp/wo/kernel                                 | (2048, 768)   | 1,572,864  | -1.7e-05  | 0.0221   |\n",
            "| text_decoder/decoder_module/layers_6/pre_cross_attention_layer_norm/scale          | (768,)        | 768        | 1.0       | 0.0      |\n",
            "| text_decoder/decoder_module/layers_6/pre_mlp_layer_norm/scale                      | (768,)        | 768        | 1.0       | 0.0      |\n",
            "| text_decoder/decoder_module/layers_6/pre_self_attention_layer_norm/scale           | (768,)        | 768        | 1.0       | 0.0      |\n",
            "| text_decoder/decoder_module/layers_6/self_attention/key/kernel                     | (768, 768)    | 589,824    | -6.98e-05 | 0.0361   |\n",
            "| text_decoder/decoder_module/layers_6/self_attention/out/kernel                     | (768, 768)    | 589,824    | 2.72e-05  | 0.036    |\n",
            "| text_decoder/decoder_module/layers_6/self_attention/query/kernel                   | (768, 768)    | 589,824    | -1.22e-06 | 0.00451  |\n",
            "| text_decoder/decoder_module/layers_6/self_attention/value/kernel                   | (768, 768)    | 589,824    | -3.01e-05 | 0.036    |\n",
            "| text_decoder/decoder_module/layers_7/encoder_decoder_attention/key/kernel          | (768, 768)    | 589,824    | -7.45e-05 | 0.0361   |\n",
            "| text_decoder/decoder_module/layers_7/encoder_decoder_attention/out/kernel          | (768, 768)    | 589,824    | -2.47e-06 | 0.036    |\n",
            "| text_decoder/decoder_module/layers_7/encoder_decoder_attention/query/kernel        | (768, 768)    | 589,824    | 1.39e-05  | 0.00451  |\n",
            "| text_decoder/decoder_module/layers_7/encoder_decoder_attention/value/kernel        | (768, 768)    | 589,824    | 8.17e-06  | 0.0361   |\n",
            "| text_decoder/decoder_module/layers_7/mlp/wi_0/kernel                               | (768, 2048)   | 1,572,864  | -1.93e-05 | 0.0361   |\n",
            "| text_decoder/decoder_module/layers_7/mlp/wi_1/kernel                               | (768, 2048)   | 1,572,864  | -3.56e-06 | 0.0361   |\n",
            "| text_decoder/decoder_module/layers_7/mlp/wo/kernel                                 | (2048, 768)   | 1,572,864  | 6.16e-06  | 0.0221   |\n",
            "| text_decoder/decoder_module/layers_7/pre_cross_attention_layer_norm/scale          | (768,)        | 768        | 1.0       | 0.0      |\n",
            "| text_decoder/decoder_module/layers_7/pre_mlp_layer_norm/scale                      | (768,)        | 768        | 1.0       | 0.0      |\n",
            "| text_decoder/decoder_module/layers_7/pre_self_attention_layer_norm/scale           | (768,)        | 768        | 1.0       | 0.0      |\n",
            "| text_decoder/decoder_module/layers_7/self_attention/key/kernel                     | (768, 768)    | 589,824    | 1e-05     | 0.0361   |\n",
            "| text_decoder/decoder_module/layers_7/self_attention/out/kernel                     | (768, 768)    | 589,824    | 8.38e-06  | 0.0361   |\n",
            "| text_decoder/decoder_module/layers_7/self_attention/query/kernel                   | (768, 768)    | 589,824    | -9.84e-08 | 0.00451  |\n",
            "| text_decoder/decoder_module/layers_7/self_attention/value/kernel                   | (768, 768)    | 589,824    | 5.65e-05  | 0.0361   |\n",
            "| text_decoder/decoder_module/layers_8/encoder_decoder_attention/key/kernel          | (768, 768)    | 589,824    | -9.39e-05 | 0.0361   |\n",
            "| text_decoder/decoder_module/layers_8/encoder_decoder_attention/out/kernel          | (768, 768)    | 589,824    | -4.35e-05 | 0.0361   |\n",
            "| text_decoder/decoder_module/layers_8/encoder_decoder_attention/query/kernel        | (768, 768)    | 589,824    | -4.76e-06 | 0.00451  |\n",
            "| text_decoder/decoder_module/layers_8/encoder_decoder_attention/value/kernel        | (768, 768)    | 589,824    | 4.6e-05   | 0.036    |\n",
            "| text_decoder/decoder_module/layers_8/mlp/wi_0/kernel                               | (768, 2048)   | 1,572,864  | 3.68e-05  | 0.0361   |\n",
            "| text_decoder/decoder_module/layers_8/mlp/wi_1/kernel                               | (768, 2048)   | 1,572,864  | -2.84e-05 | 0.0361   |\n",
            "| text_decoder/decoder_module/layers_8/mlp/wo/kernel                                 | (2048, 768)   | 1,572,864  | 7.1e-06   | 0.0221   |\n",
            "| text_decoder/decoder_module/layers_8/pre_cross_attention_layer_norm/scale          | (768,)        | 768        | 1.0       | 0.0      |\n",
            "| text_decoder/decoder_module/layers_8/pre_mlp_layer_norm/scale                      | (768,)        | 768        | 1.0       | 0.0      |\n",
            "| text_decoder/decoder_module/layers_8/pre_self_attention_layer_norm/scale           | (768,)        | 768        | 1.0       | 0.0      |\n",
            "| text_decoder/decoder_module/layers_8/self_attention/key/kernel                     | (768, 768)    | 589,824    | -3.67e-05 | 0.036    |\n",
            "| text_decoder/decoder_module/layers_8/self_attention/out/kernel                     | (768, 768)    | 589,824    | 2.22e-05  | 0.0361   |\n",
            "| text_decoder/decoder_module/layers_8/self_attention/query/kernel                   | (768, 768)    | 589,824    | 4.39e-06  | 0.00451  |\n",
            "| text_decoder/decoder_module/layers_8/self_attention/value/kernel                   | (768, 768)    | 589,824    | 2.01e-06  | 0.0361   |\n",
            "| text_decoder/decoder_module/layers_9/encoder_decoder_attention/key/kernel          | (768, 768)    | 589,824    | -6.09e-05 | 0.036    |\n",
            "| text_decoder/decoder_module/layers_9/encoder_decoder_attention/out/kernel          | (768, 768)    | 589,824    | 1.84e-06  | 0.0361   |\n",
            "| text_decoder/decoder_module/layers_9/encoder_decoder_attention/query/kernel        | (768, 768)    | 589,824    | -1.55e-06 | 0.00451  |\n",
            "| text_decoder/decoder_module/layers_9/encoder_decoder_attention/value/kernel        | (768, 768)    | 589,824    | 7.5e-05   | 0.036    |\n",
            "| text_decoder/decoder_module/layers_9/mlp/wi_0/kernel                               | (768, 2048)   | 1,572,864  | -3.45e-05 | 0.0361   |\n",
            "| text_decoder/decoder_module/layers_9/mlp/wi_1/kernel                               | (768, 2048)   | 1,572,864  | -1.84e-05 | 0.0361   |\n",
            "| text_decoder/decoder_module/layers_9/mlp/wo/kernel                                 | (2048, 768)   | 1,572,864  | 2.03e-05  | 0.0221   |\n",
            "| text_decoder/decoder_module/layers_9/pre_cross_attention_layer_norm/scale          | (768,)        | 768        | 1.0       | 0.0      |\n",
            "| text_decoder/decoder_module/layers_9/pre_mlp_layer_norm/scale                      | (768,)        | 768        | 1.0       | 0.0      |\n",
            "| text_decoder/decoder_module/layers_9/pre_self_attention_layer_norm/scale           | (768,)        | 768        | 1.0       | 0.0      |\n",
            "| text_decoder/decoder_module/layers_9/self_attention/key/kernel                     | (768, 768)    | 589,824    | -6.55e-05 | 0.036    |\n",
            "| text_decoder/decoder_module/layers_9/self_attention/out/kernel                     | (768, 768)    | 589,824    | -8.64e-07 | 0.0361   |\n",
            "| text_decoder/decoder_module/layers_9/self_attention/query/kernel                   | (768, 768)    | 589,824    | 3.41e-06  | 0.00451  |\n",
            "| text_decoder/decoder_module/layers_9/self_attention/value/kernel                   | (768, 768)    | 589,824    | 1.8e-06   | 0.0361   |\n",
            "| text_decoder/decoder_module/logits_dense/kernel                                    | (768, 32228)  | 24,751,104 | -3.41e-06 | 0.0361   |\n",
            "| text_decoder/decoder_module/relpos_bias/rel_embedding                              | (12, 32)      | 384        | 0.000216  | 0.215    |\n",
            "I0523 04:02:05.525048 140016490858304 parameter_overview.py:264] \n",
            "+------------------------------------------------------------------------------------+---------------+------------+-----------+----------+\n",
            "Total: 313,977,600\n",
            "I0523 04:02:05.532826 140016490858304 debug_utils.py:73] Total params: 313977600\n",
            "I0523 04:02:07.450710 140016490858304 trainer.py:472] The model has 313977600 params, uses -1 gflops\n",
            "/usr/local/lib/python3.10/dist-packages/flax/optim/base.py:49: DeprecationWarning: Use `optax` instead of `flax.optim`. Refer to the update guide https://flax.readthedocs.io/en/latest/howtos/optax_update_guide.html for detailed instructions.\n",
            "  warnings.warn(\n",
            "I0523 04:02:17.003317 140016490858304 trainer.py:492] Continuing training from the checkpoint\n",
            "I0523 04:02:17.015026 140016490858304 checkpoints.py:253] Restoring checkpoint from vid2seq_base/checkpoint_yt-temporal-1b\n",
            "^C\n"
          ]
        }
      ]
    },
    {
      "cell_type": "code",
      "source": [
        "!pip install t5"
      ],
      "metadata": {
        "colab": {
          "base_uri": "https://localhost:8080/"
        },
        "id": "SVi57pntjmNE",
        "outputId": "a4dea091-8c6b-408d-c194-dd7532926e6a"
      },
      "execution_count": 11,
      "outputs": [
        {
          "output_type": "stream",
          "name": "stdout",
          "text": [
            "Looking in indexes: https://pypi.org/simple, https://us-python.pkg.dev/colab-wheels/public/simple/\n",
            "Collecting t5\n",
            "  Using cached t5-0.9.4-py2.py3-none-any.whl (164 kB)\n",
            "Requirement already satisfied: absl-py in /usr/local/lib/python3.10/dist-packages (from t5) (1.4.0)\n",
            "Requirement already satisfied: babel in /usr/local/lib/python3.10/dist-packages (from t5) (2.12.1)\n",
            "Requirement already satisfied: editdistance in /usr/local/lib/python3.10/dist-packages (from t5) (0.6.2)\n",
            "Requirement already satisfied: immutabledict in /usr/local/lib/python3.10/dist-packages (from t5) (2.2.4)\n",
            "Requirement already satisfied: gin-config in /usr/local/lib/python3.10/dist-packages (from t5) (0.5.0)\n",
            "Collecting mesh-tensorflow[transformer]>=0.1.13 (from t5)\n",
            "  Using cached mesh_tensorflow-0.1.21-py3-none-any.whl (385 kB)\n",
            "Requirement already satisfied: nltk in /usr/local/lib/python3.10/dist-packages (from t5) (3.8.1)\n",
            "Requirement already satisfied: numpy in /usr/local/lib/python3.10/dist-packages (from t5) (1.23.5)\n",
            "Requirement already satisfied: pandas in /usr/local/lib/python3.10/dist-packages (from t5) (1.5.3)\n",
            "Collecting rouge-score>=0.1.2 (from t5)\n",
            "  Using cached rouge_score-0.1.2.tar.gz (17 kB)\n",
            "  Preparing metadata (setup.py) ... \u001b[?25l\u001b[?25hdone\n",
            "Collecting sacrebleu (from t5)\n",
            "  Using cached sacrebleu-2.3.1-py3-none-any.whl (118 kB)\n",
            "Requirement already satisfied: scikit-learn in /usr/local/lib/python3.10/dist-packages (from t5) (1.2.2)\n",
            "Requirement already satisfied: scipy in /usr/local/lib/python3.10/dist-packages (from t5) (1.10.1)\n",
            "Requirement already satisfied: sentencepiece in /usr/local/lib/python3.10/dist-packages (from t5) (0.1.99)\n",
            "Collecting seqio-nightly (from t5)\n",
            "  Using cached seqio_nightly-0.0.15.dev20230522-py3-none-any.whl (342 kB)\n",
            "Requirement already satisfied: six>=1.14 in /usr/local/lib/python3.10/dist-packages (from t5) (1.16.0)\n",
            "Requirement already satisfied: tfds-nightly in /usr/local/lib/python3.10/dist-packages (from t5) (4.9.2.dev202305230044)\n",
            "Collecting transformers>=2.7.0 (from t5)\n",
            "  Using cached transformers-4.29.2-py3-none-any.whl (7.1 MB)\n",
            "Requirement already satisfied: future in /usr/local/lib/python3.10/dist-packages (from mesh-tensorflow[transformer]>=0.1.13->t5) (0.18.3)\n",
            "Requirement already satisfied: tensorflow-datasets in /usr/local/lib/python3.10/dist-packages (from mesh-tensorflow[transformer]>=0.1.13->t5) (4.9.2)\n",
            "Requirement already satisfied: filelock in /usr/local/lib/python3.10/dist-packages (from transformers>=2.7.0->t5) (3.12.0)\n",
            "Collecting huggingface-hub<1.0,>=0.14.1 (from transformers>=2.7.0->t5)\n",
            "  Downloading huggingface_hub-0.14.1-py3-none-any.whl (224 kB)\n",
            "\u001b[2K     \u001b[90m━━━━━━━━━━━━━━━━━━━━━━━━━━━━━━━━━━━━━━━\u001b[0m \u001b[32m224.5/224.5 kB\u001b[0m \u001b[31m4.8 MB/s\u001b[0m eta \u001b[36m0:00:00\u001b[0m\n",
            "\u001b[?25hRequirement already satisfied: packaging>=20.0 in /usr/local/lib/python3.10/dist-packages (from transformers>=2.7.0->t5) (23.1)\n",
            "Requirement already satisfied: pyyaml>=5.1 in /usr/local/lib/python3.10/dist-packages (from transformers>=2.7.0->t5) (6.0)\n",
            "Requirement already satisfied: regex!=2019.12.17 in /usr/local/lib/python3.10/dist-packages (from transformers>=2.7.0->t5) (2022.10.31)\n",
            "Requirement already satisfied: requests in /usr/local/lib/python3.10/dist-packages (from transformers>=2.7.0->t5) (2.27.1)\n",
            "Collecting tokenizers!=0.11.3,<0.14,>=0.11.1 (from transformers>=2.7.0->t5)\n",
            "  Downloading tokenizers-0.13.3-cp310-cp310-manylinux_2_17_x86_64.manylinux2014_x86_64.whl (7.8 MB)\n",
            "\u001b[2K     \u001b[90m━━━━━━━━━━━━━━━━━━━━━━━━━━━━━━━━━━━━━━━━\u001b[0m \u001b[32m7.8/7.8 MB\u001b[0m \u001b[31m11.5 MB/s\u001b[0m eta \u001b[36m0:00:00\u001b[0m\n",
            "\u001b[?25hRequirement already satisfied: tqdm>=4.27 in /usr/local/lib/python3.10/dist-packages (from transformers>=2.7.0->t5) (4.65.0)\n",
            "Requirement already satisfied: click in /usr/local/lib/python3.10/dist-packages (from nltk->t5) (8.1.3)\n",
            "Requirement already satisfied: joblib in /usr/local/lib/python3.10/dist-packages (from nltk->t5) (1.2.0)\n",
            "Requirement already satisfied: python-dateutil>=2.8.1 in /usr/local/lib/python3.10/dist-packages (from pandas->t5) (2.8.2)\n",
            "Requirement already satisfied: pytz>=2020.1 in /usr/local/lib/python3.10/dist-packages (from pandas->t5) (2022.7.1)\n",
            "Collecting portalocker (from sacrebleu->t5)\n",
            "  Downloading portalocker-2.7.0-py2.py3-none-any.whl (15 kB)\n",
            "Requirement already satisfied: tabulate>=0.8.9 in /usr/local/lib/python3.10/dist-packages (from sacrebleu->t5) (0.8.10)\n",
            "Collecting colorama (from sacrebleu->t5)\n",
            "  Downloading colorama-0.4.6-py2.py3-none-any.whl (25 kB)\n",
            "Requirement already satisfied: lxml in /usr/local/lib/python3.10/dist-packages (from sacrebleu->t5) (4.9.2)\n",
            "Requirement already satisfied: threadpoolctl>=2.0.0 in /usr/local/lib/python3.10/dist-packages (from scikit-learn->t5) (3.1.0)\n",
            "Requirement already satisfied: clu in /usr/local/lib/python3.10/dist-packages (from seqio-nightly->t5) (0.0.9)\n",
            "Requirement already satisfied: jax in /usr/local/lib/python3.10/dist-packages (from seqio-nightly->t5) (0.4.10)\n",
            "Requirement already satisfied: jaxlib in /usr/local/lib/python3.10/dist-packages (from seqio-nightly->t5) (0.4.10)\n",
            "Requirement already satisfied: pyglove in /usr/local/lib/python3.10/dist-packages (from seqio-nightly->t5) (0.3.0)\n",
            "Requirement already satisfied: tensorflow-text in /usr/local/lib/python3.10/dist-packages (from seqio-nightly->t5) (2.12.1)\n",
            "Requirement already satisfied: protobuf==3.20.3 in /usr/local/lib/python3.10/dist-packages (from seqio-nightly->t5) (3.20.3)\n",
            "Requirement already satisfied: array-record in /usr/local/lib/python3.10/dist-packages (from tfds-nightly->t5) (0.2.0)\n",
            "Requirement already satisfied: dm-tree in /usr/local/lib/python3.10/dist-packages (from tfds-nightly->t5) (0.1.8)\n",
            "Requirement already satisfied: etils[enp,epath]>=0.9.0 in /usr/local/lib/python3.10/dist-packages (from tfds-nightly->t5) (1.2.0)\n",
            "Requirement already satisfied: promise in /usr/local/lib/python3.10/dist-packages (from tfds-nightly->t5) (2.3)\n",
            "Requirement already satisfied: psutil in /usr/local/lib/python3.10/dist-packages (from tfds-nightly->t5) (5.9.5)\n",
            "Requirement already satisfied: tensorflow-metadata in /usr/local/lib/python3.10/dist-packages (from tfds-nightly->t5) (1.13.1)\n",
            "Requirement already satisfied: termcolor in /usr/local/lib/python3.10/dist-packages (from tfds-nightly->t5) (2.3.0)\n",
            "Requirement already satisfied: toml in /usr/local/lib/python3.10/dist-packages (from tfds-nightly->t5) (0.10.2)\n",
            "Requirement already satisfied: wrapt in /usr/local/lib/python3.10/dist-packages (from tfds-nightly->t5) (1.14.1)\n",
            "Requirement already satisfied: importlib_resources in /usr/local/lib/python3.10/dist-packages (from etils[enp,epath]>=0.9.0->tfds-nightly->t5) (5.12.0)\n",
            "Requirement already satisfied: typing_extensions in /usr/local/lib/python3.10/dist-packages (from etils[enp,epath]>=0.9.0->tfds-nightly->t5) (4.6.0)\n",
            "Requirement already satisfied: zipp in /usr/local/lib/python3.10/dist-packages (from etils[enp,epath]>=0.9.0->tfds-nightly->t5) (3.15.0)\n",
            "Requirement already satisfied: fsspec in /usr/local/lib/python3.10/dist-packages (from huggingface-hub<1.0,>=0.14.1->transformers>=2.7.0->t5) (2023.4.0)\n",
            "Requirement already satisfied: urllib3<1.27,>=1.21.1 in /usr/local/lib/python3.10/dist-packages (from requests->transformers>=2.7.0->t5) (1.26.15)\n",
            "Requirement already satisfied: certifi>=2017.4.17 in /usr/local/lib/python3.10/dist-packages (from requests->transformers>=2.7.0->t5) (2022.12.7)\n",
            "Requirement already satisfied: charset-normalizer~=2.0.0 in /usr/local/lib/python3.10/dist-packages (from requests->transformers>=2.7.0->t5) (2.0.12)\n",
            "Requirement already satisfied: idna<4,>=2.5 in /usr/local/lib/python3.10/dist-packages (from requests->transformers>=2.7.0->t5) (3.4)\n",
            "Requirement already satisfied: flax in /usr/local/lib/python3.10/dist-packages (from clu->seqio-nightly->t5) (0.5.0)\n",
            "Requirement already satisfied: ml-collections in /usr/local/lib/python3.10/dist-packages (from clu->seqio-nightly->t5) (0.1.1)\n",
            "Requirement already satisfied: ml-dtypes>=0.1.0 in /usr/local/lib/python3.10/dist-packages (from jax->seqio-nightly->t5) (0.1.0)\n",
            "Requirement already satisfied: opt-einsum in /usr/local/lib/python3.10/dist-packages (from jax->seqio-nightly->t5) (3.3.0)\n",
            "Requirement already satisfied: googleapis-common-protos<2,>=1.52.0 in /usr/local/lib/python3.10/dist-packages (from tensorflow-metadata->tfds-nightly->t5) (1.59.0)\n",
            "Requirement already satisfied: tensorflow-hub>=0.8.0 in /usr/local/lib/python3.10/dist-packages (from tensorflow-text->seqio-nightly->t5) (0.13.0)\n",
            "Requirement already satisfied: tensorflow<2.13,>=2.12.0 in /usr/local/lib/python3.10/dist-packages (from tensorflow-text->seqio-nightly->t5) (2.12.0)\n",
            "Requirement already satisfied: astunparse>=1.6.0 in /usr/local/lib/python3.10/dist-packages (from tensorflow<2.13,>=2.12.0->tensorflow-text->seqio-nightly->t5) (1.6.3)\n",
            "Requirement already satisfied: flatbuffers>=2.0 in /usr/local/lib/python3.10/dist-packages (from tensorflow<2.13,>=2.12.0->tensorflow-text->seqio-nightly->t5) (23.3.3)\n",
            "Requirement already satisfied: gast<=0.4.0,>=0.2.1 in /usr/local/lib/python3.10/dist-packages (from tensorflow<2.13,>=2.12.0->tensorflow-text->seqio-nightly->t5) (0.4.0)\n",
            "Requirement already satisfied: google-pasta>=0.1.1 in /usr/local/lib/python3.10/dist-packages (from tensorflow<2.13,>=2.12.0->tensorflow-text->seqio-nightly->t5) (0.2.0)\n",
            "Requirement already satisfied: grpcio<2.0,>=1.24.3 in /usr/local/lib/python3.10/dist-packages (from tensorflow<2.13,>=2.12.0->tensorflow-text->seqio-nightly->t5) (1.54.0)\n",
            "Requirement already satisfied: h5py>=2.9.0 in /usr/local/lib/python3.10/dist-packages (from tensorflow<2.13,>=2.12.0->tensorflow-text->seqio-nightly->t5) (3.8.0)\n",
            "Requirement already satisfied: keras<2.13,>=2.12.0 in /usr/local/lib/python3.10/dist-packages (from tensorflow<2.13,>=2.12.0->tensorflow-text->seqio-nightly->t5) (2.12.0)\n",
            "Requirement already satisfied: libclang>=13.0.0 in /usr/local/lib/python3.10/dist-packages (from tensorflow<2.13,>=2.12.0->tensorflow-text->seqio-nightly->t5) (16.0.0)\n",
            "Requirement already satisfied: setuptools in /usr/local/lib/python3.10/dist-packages (from tensorflow<2.13,>=2.12.0->tensorflow-text->seqio-nightly->t5) (67.7.2)\n",
            "Requirement already satisfied: tensorboard<2.13,>=2.12 in /usr/local/lib/python3.10/dist-packages (from tensorflow<2.13,>=2.12.0->tensorflow-text->seqio-nightly->t5) (2.12.2)\n",
            "Requirement already satisfied: tensorflow-estimator<2.13,>=2.12.0 in /usr/local/lib/python3.10/dist-packages (from tensorflow<2.13,>=2.12.0->tensorflow-text->seqio-nightly->t5) (2.12.0)\n",
            "Requirement already satisfied: tensorflow-io-gcs-filesystem>=0.23.1 in /usr/local/lib/python3.10/dist-packages (from tensorflow<2.13,>=2.12.0->tensorflow-text->seqio-nightly->t5) (0.32.0)\n",
            "Requirement already satisfied: matplotlib in /usr/local/lib/python3.10/dist-packages (from flax->clu->seqio-nightly->t5) (3.7.1)\n",
            "Requirement already satisfied: msgpack in /usr/local/lib/python3.10/dist-packages (from flax->clu->seqio-nightly->t5) (1.0.5)\n",
            "Requirement already satisfied: optax in /usr/local/lib/python3.10/dist-packages (from flax->clu->seqio-nightly->t5) (0.1.5)\n",
            "Requirement already satisfied: contextlib2 in /usr/local/lib/python3.10/dist-packages (from ml-collections->clu->seqio-nightly->t5) (0.6.0.post1)\n",
            "Requirement already satisfied: wheel<1.0,>=0.23.0 in /usr/local/lib/python3.10/dist-packages (from astunparse>=1.6.0->tensorflow<2.13,>=2.12.0->tensorflow-text->seqio-nightly->t5) (0.40.0)\n",
            "Requirement already satisfied: google-auth<3,>=1.6.3 in /usr/local/lib/python3.10/dist-packages (from tensorboard<2.13,>=2.12->tensorflow<2.13,>=2.12.0->tensorflow-text->seqio-nightly->t5) (2.17.3)\n",
            "Requirement already satisfied: google-auth-oauthlib<1.1,>=0.5 in /usr/local/lib/python3.10/dist-packages (from tensorboard<2.13,>=2.12->tensorflow<2.13,>=2.12.0->tensorflow-text->seqio-nightly->t5) (1.0.0)\n",
            "Requirement already satisfied: markdown>=2.6.8 in /usr/local/lib/python3.10/dist-packages (from tensorboard<2.13,>=2.12->tensorflow<2.13,>=2.12.0->tensorflow-text->seqio-nightly->t5) (3.4.3)\n",
            "Requirement already satisfied: tensorboard-data-server<0.8.0,>=0.7.0 in /usr/local/lib/python3.10/dist-packages (from tensorboard<2.13,>=2.12->tensorflow<2.13,>=2.12.0->tensorflow-text->seqio-nightly->t5) (0.7.0)\n",
            "Requirement already satisfied: tensorboard-plugin-wit>=1.6.0 in /usr/local/lib/python3.10/dist-packages (from tensorboard<2.13,>=2.12->tensorflow<2.13,>=2.12.0->tensorflow-text->seqio-nightly->t5) (1.8.1)\n",
            "Requirement already satisfied: werkzeug>=1.0.1 in /usr/local/lib/python3.10/dist-packages (from tensorboard<2.13,>=2.12->tensorflow<2.13,>=2.12.0->tensorflow-text->seqio-nightly->t5) (2.3.0)\n",
            "Requirement already satisfied: contourpy>=1.0.1 in /usr/local/lib/python3.10/dist-packages (from matplotlib->flax->clu->seqio-nightly->t5) (1.0.7)\n",
            "Requirement already satisfied: cycler>=0.10 in /usr/local/lib/python3.10/dist-packages (from matplotlib->flax->clu->seqio-nightly->t5) (0.11.0)\n",
            "Requirement already satisfied: fonttools>=4.22.0 in /usr/local/lib/python3.10/dist-packages (from matplotlib->flax->clu->seqio-nightly->t5) (4.39.3)\n",
            "Requirement already satisfied: kiwisolver>=1.0.1 in /usr/local/lib/python3.10/dist-packages (from matplotlib->flax->clu->seqio-nightly->t5) (1.4.4)\n",
            "Requirement already satisfied: pillow>=6.2.0 in /usr/local/lib/python3.10/dist-packages (from matplotlib->flax->clu->seqio-nightly->t5) (8.4.0)\n",
            "Requirement already satisfied: pyparsing>=2.3.1 in /usr/local/lib/python3.10/dist-packages (from matplotlib->flax->clu->seqio-nightly->t5) (3.0.9)\n",
            "Requirement already satisfied: chex>=0.1.5 in /usr/local/lib/python3.10/dist-packages (from optax->flax->clu->seqio-nightly->t5) (0.1.7)\n",
            "Requirement already satisfied: toolz>=0.9.0 in /usr/local/lib/python3.10/dist-packages (from chex>=0.1.5->optax->flax->clu->seqio-nightly->t5) (0.12.0)\n",
            "Requirement already satisfied: cachetools<6.0,>=2.0.0 in /usr/local/lib/python3.10/dist-packages (from google-auth<3,>=1.6.3->tensorboard<2.13,>=2.12->tensorflow<2.13,>=2.12.0->tensorflow-text->seqio-nightly->t5) (5.3.0)\n",
            "Requirement already satisfied: pyasn1-modules>=0.2.1 in /usr/local/lib/python3.10/dist-packages (from google-auth<3,>=1.6.3->tensorboard<2.13,>=2.12->tensorflow<2.13,>=2.12.0->tensorflow-text->seqio-nightly->t5) (0.3.0)\n",
            "Requirement already satisfied: rsa<5,>=3.1.4 in /usr/local/lib/python3.10/dist-packages (from google-auth<3,>=1.6.3->tensorboard<2.13,>=2.12->tensorflow<2.13,>=2.12.0->tensorflow-text->seqio-nightly->t5) (4.9)\n",
            "Requirement already satisfied: requests-oauthlib>=0.7.0 in /usr/local/lib/python3.10/dist-packages (from google-auth-oauthlib<1.1,>=0.5->tensorboard<2.13,>=2.12->tensorflow<2.13,>=2.12.0->tensorflow-text->seqio-nightly->t5) (1.3.1)\n",
            "Requirement already satisfied: MarkupSafe>=2.1.1 in /usr/local/lib/python3.10/dist-packages (from werkzeug>=1.0.1->tensorboard<2.13,>=2.12->tensorflow<2.13,>=2.12.0->tensorflow-text->seqio-nightly->t5) (2.1.2)\n",
            "Requirement already satisfied: pyasn1<0.6.0,>=0.4.6 in /usr/local/lib/python3.10/dist-packages (from pyasn1-modules>=0.2.1->google-auth<3,>=1.6.3->tensorboard<2.13,>=2.12->tensorflow<2.13,>=2.12.0->tensorflow-text->seqio-nightly->t5) (0.5.0)\n",
            "Requirement already satisfied: oauthlib>=3.0.0 in /usr/local/lib/python3.10/dist-packages (from requests-oauthlib>=0.7.0->google-auth-oauthlib<1.1,>=0.5->tensorboard<2.13,>=2.12->tensorflow<2.13,>=2.12.0->tensorflow-text->seqio-nightly->t5) (3.2.2)\n",
            "Building wheels for collected packages: rouge-score\n",
            "  Building wheel for rouge-score (setup.py) ... \u001b[?25l\u001b[?25hdone\n",
            "  Created wheel for rouge-score: filename=rouge_score-0.1.2-py3-none-any.whl size=24934 sha256=a89057aaaceae97c6090798a32647e3382222c59ce1870abc9224785124a2e64\n",
            "  Stored in directory: /root/.cache/pip/wheels/5f/dd/89/461065a73be61a532ff8599a28e9beef17985c9e9c31e541b4\n",
            "Successfully built rouge-score\n",
            "Installing collected packages: tokenizers, portalocker, mesh-tensorflow, colorama, sacrebleu, rouge-score, huggingface-hub, transformers, seqio-nightly, t5\n",
            "Successfully installed colorama-0.4.6 huggingface-hub-0.14.1 mesh-tensorflow-0.1.21 portalocker-2.7.0 rouge-score-0.1.2 sacrebleu-2.3.1 seqio-nightly-0.0.15.dev20230522 t5-0.9.4 tokenizers-0.13.3 transformers-4.29.2\n"
          ]
        }
      ]
    },
    {
      "cell_type": "code",
      "source": [
        "!pip install -U -q \"tf-models-official\""
      ],
      "metadata": {
        "colab": {
          "base_uri": "https://localhost:8080/"
        },
        "id": "NXB0EoJ4QAw0",
        "outputId": "01376812-08c5-4f2f-d724-039e04a02783"
      },
      "execution_count": 12,
      "outputs": [
        {
          "output_type": "stream",
          "name": "stdout",
          "text": [
            "\u001b[2K     \u001b[90m━━━━━━━━━━━━━━━━━━━━━━━━━━━━━━━━━━━━━━━━\u001b[0m \u001b[32m2.6/2.6 MB\u001b[0m \u001b[31m17.6 MB/s\u001b[0m eta \u001b[36m0:00:00\u001b[0m\n",
            "\u001b[2K     \u001b[90m━━━━━━━━━━━━━━━━━━━━━━━━━━━━━━━━━━━━━━━\u001b[0m \u001b[32m175.1/175.1 kB\u001b[0m \u001b[31m8.7 MB/s\u001b[0m eta \u001b[36m0:00:00\u001b[0m\n",
            "\u001b[?25h  Installing build dependencies ... \u001b[?25l\u001b[?25hdone\n",
            "  Getting requirements to build wheel ... \u001b[?25l\u001b[?25hdone\n",
            "  Preparing metadata (pyproject.toml) ... \u001b[?25l\u001b[?25hdone\n",
            "\u001b[2K     \u001b[90m━━━━━━━━━━━━━━━━━━━━━━━━━━━━━━━━━━━━━━━━\u001b[0m \u001b[32m43.6/43.6 kB\u001b[0m \u001b[31m2.0 MB/s\u001b[0m eta \u001b[36m0:00:00\u001b[0m\n",
            "\u001b[?25h  Preparing metadata (setup.py) ... \u001b[?25l\u001b[?25hdone\n",
            "\u001b[2K     \u001b[90m━━━━━━━━━━━━━━━━━━━━━━━━━━━━━━━━━━━━━━\u001b[0m \u001b[32m240.6/240.6 kB\u001b[0m \u001b[31m16.0 MB/s\u001b[0m eta \u001b[36m0:00:00\u001b[0m\n",
            "\u001b[?25h  Building wheel for pyyaml (pyproject.toml) ... \u001b[?25l\u001b[?25hdone\n",
            "  Building wheel for seqeval (setup.py) ... \u001b[?25l\u001b[?25hdone\n"
          ]
        }
      ]
    },
    {
      "cell_type": "code",
      "source": [
        "!pip uninstall simclr"
      ],
      "metadata": {
        "colab": {
          "base_uri": "https://localhost:8080/"
        },
        "id": "ESNxpubtpi-E",
        "outputId": "bb77b497-0301-4680-84bc-df054d4288ad"
      },
      "execution_count": 37,
      "outputs": [
        {
          "output_type": "stream",
          "name": "stdout",
          "text": [
            "Found existing installation: simclr 1.0.2\n",
            "Uninstalling simclr-1.0.2:\n",
            "  Would remove:\n",
            "    /usr/local/lib/python3.10/dist-packages/simclr-1.0.2.dist-info/*\n",
            "    /usr/local/lib/python3.10/dist-packages/simclr/*\n",
            "    /usr/local/lib/python3.10/dist-packages/utils/*\n",
            "Proceed (Y/n)? y\n",
            "  Successfully uninstalled simclr-1.0.2\n"
          ]
        }
      ]
    },
    {
      "cell_type": "code",
      "source": [
        "!pip uninstall t5\n",
        "!pip install t5"
      ],
      "metadata": {
        "colab": {
          "base_uri": "https://localhost:8080/"
        },
        "id": "ZVfTIL6bpX3D",
        "outputId": "352ad9b6-3666-4795-ac0b-70c439cfae11"
      },
      "execution_count": 11,
      "outputs": [
        {
          "output_type": "stream",
          "name": "stdout",
          "text": [
            "Found existing installation: t5 0.9.4\n",
            "Uninstalling t5-0.9.4:\n",
            "  Would remove:\n",
            "    /usr/local/bin/t5_cache_tasks\n",
            "    /usr/local/bin/t5_inspect_tasks\n",
            "    /usr/local/bin/t5_mesh_transformer\n",
            "    /usr/local/lib/python3.10/dist-packages/t5-0.9.4.dist-info/*\n",
            "    /usr/local/lib/python3.10/dist-packages/t5/*\n",
            "Proceed (Y/n)? Y\n",
            "  Successfully uninstalled t5-0.9.4\n",
            "Looking in indexes: https://pypi.org/simple, https://us-python.pkg.dev/colab-wheels/public/simple/\n",
            "Collecting t5\n",
            "  Using cached t5-0.9.4-py2.py3-none-any.whl (164 kB)\n",
            "Requirement already satisfied: absl-py in /usr/local/lib/python3.10/dist-packages (from t5) (1.4.0)\n",
            "Requirement already satisfied: babel in /usr/local/lib/python3.10/dist-packages (from t5) (2.12.1)\n",
            "Requirement already satisfied: editdistance in /usr/local/lib/python3.10/dist-packages (from t5) (0.6.2)\n",
            "Requirement already satisfied: immutabledict in /usr/local/lib/python3.10/dist-packages (from t5) (2.2.4)\n",
            "Requirement already satisfied: gin-config in /usr/local/lib/python3.10/dist-packages (from t5) (0.5.0)\n",
            "Requirement already satisfied: mesh-tensorflow[transformer]>=0.1.13 in /usr/local/lib/python3.10/dist-packages (from t5) (0.1.21)\n",
            "Requirement already satisfied: nltk in /usr/local/lib/python3.10/dist-packages (from t5) (3.8.1)\n",
            "Requirement already satisfied: numpy in /usr/local/lib/python3.10/dist-packages (from t5) (1.23.5)\n",
            "Requirement already satisfied: pandas in /usr/local/lib/python3.10/dist-packages (from t5) (1.5.3)\n",
            "Requirement already satisfied: rouge-score>=0.1.2 in /usr/local/lib/python3.10/dist-packages (from t5) (0.1.2)\n",
            "Requirement already satisfied: sacrebleu in /usr/local/lib/python3.10/dist-packages (from t5) (2.3.1)\n",
            "Requirement already satisfied: scikit-learn in /usr/local/lib/python3.10/dist-packages (from t5) (1.2.2)\n",
            "Requirement already satisfied: scipy in /usr/local/lib/python3.10/dist-packages (from t5) (1.10.1)\n",
            "Requirement already satisfied: sentencepiece in /usr/local/lib/python3.10/dist-packages (from t5) (0.1.99)\n",
            "Requirement already satisfied: seqio-nightly in /usr/local/lib/python3.10/dist-packages (from t5) (0.0.15.dev20230521)\n",
            "Requirement already satisfied: six>=1.14 in /usr/local/lib/python3.10/dist-packages (from t5) (1.16.0)\n",
            "Requirement already satisfied: tfds-nightly in /usr/local/lib/python3.10/dist-packages (from t5) (4.9.2.dev202305220044)\n",
            "Requirement already satisfied: transformers>=2.7.0 in /usr/local/lib/python3.10/dist-packages (from t5) (4.29.2)\n",
            "Requirement already satisfied: future in /usr/local/lib/python3.10/dist-packages (from mesh-tensorflow[transformer]>=0.1.13->t5) (0.18.3)\n",
            "Requirement already satisfied: tensorflow-datasets in /usr/local/lib/python3.10/dist-packages (from mesh-tensorflow[transformer]>=0.1.13->t5) (4.9.2)\n",
            "Requirement already satisfied: filelock in /usr/local/lib/python3.10/dist-packages (from transformers>=2.7.0->t5) (3.12.0)\n",
            "Requirement already satisfied: huggingface-hub<1.0,>=0.14.1 in /usr/local/lib/python3.10/dist-packages (from transformers>=2.7.0->t5) (0.14.1)\n",
            "Requirement already satisfied: packaging>=20.0 in /usr/local/lib/python3.10/dist-packages (from transformers>=2.7.0->t5) (23.1)\n",
            "Requirement already satisfied: pyyaml>=5.1 in /usr/local/lib/python3.10/dist-packages (from transformers>=2.7.0->t5) (5.4.1)\n",
            "Requirement already satisfied: regex!=2019.12.17 in /usr/local/lib/python3.10/dist-packages (from transformers>=2.7.0->t5) (2022.10.31)\n",
            "Requirement already satisfied: requests in /usr/local/lib/python3.10/dist-packages (from transformers>=2.7.0->t5) (2.27.1)\n",
            "Requirement already satisfied: tokenizers!=0.11.3,<0.14,>=0.11.1 in /usr/local/lib/python3.10/dist-packages (from transformers>=2.7.0->t5) (0.13.3)\n",
            "Requirement already satisfied: tqdm>=4.27 in /usr/local/lib/python3.10/dist-packages (from transformers>=2.7.0->t5) (4.65.0)\n",
            "Requirement already satisfied: click in /usr/local/lib/python3.10/dist-packages (from nltk->t5) (8.1.3)\n",
            "Requirement already satisfied: joblib in /usr/local/lib/python3.10/dist-packages (from nltk->t5) (1.2.0)\n",
            "Requirement already satisfied: python-dateutil>=2.8.1 in /usr/local/lib/python3.10/dist-packages (from pandas->t5) (2.8.2)\n",
            "Requirement already satisfied: pytz>=2020.1 in /usr/local/lib/python3.10/dist-packages (from pandas->t5) (2022.7.1)\n",
            "Requirement already satisfied: portalocker in /usr/local/lib/python3.10/dist-packages (from sacrebleu->t5) (2.7.0)\n",
            "Requirement already satisfied: tabulate>=0.8.9 in /usr/local/lib/python3.10/dist-packages (from sacrebleu->t5) (0.8.10)\n",
            "Requirement already satisfied: colorama in /usr/local/lib/python3.10/dist-packages (from sacrebleu->t5) (0.4.6)\n",
            "Requirement already satisfied: lxml in /usr/local/lib/python3.10/dist-packages (from sacrebleu->t5) (4.9.2)\n",
            "Requirement already satisfied: threadpoolctl>=2.0.0 in /usr/local/lib/python3.10/dist-packages (from scikit-learn->t5) (3.1.0)\n",
            "Requirement already satisfied: clu in /usr/local/lib/python3.10/dist-packages (from seqio-nightly->t5) (0.0.9)\n",
            "Requirement already satisfied: jax in /usr/local/lib/python3.10/dist-packages (from seqio-nightly->t5) (0.4.10)\n",
            "Requirement already satisfied: jaxlib in /usr/local/lib/python3.10/dist-packages (from seqio-nightly->t5) (0.4.10)\n",
            "Requirement already satisfied: pyglove in /usr/local/lib/python3.10/dist-packages (from seqio-nightly->t5) (0.3.0)\n",
            "Requirement already satisfied: tensorflow-text in /usr/local/lib/python3.10/dist-packages (from seqio-nightly->t5) (2.12.1)\n",
            "Requirement already satisfied: protobuf==3.20.3 in /usr/local/lib/python3.10/dist-packages (from seqio-nightly->t5) (3.20.3)\n",
            "Requirement already satisfied: array-record in /usr/local/lib/python3.10/dist-packages (from tfds-nightly->t5) (0.2.0)\n",
            "Requirement already satisfied: dm-tree in /usr/local/lib/python3.10/dist-packages (from tfds-nightly->t5) (0.1.8)\n",
            "Requirement already satisfied: etils[enp,epath]>=0.9.0 in /usr/local/lib/python3.10/dist-packages (from tfds-nightly->t5) (1.2.0)\n",
            "Requirement already satisfied: promise in /usr/local/lib/python3.10/dist-packages (from tfds-nightly->t5) (2.3)\n",
            "Requirement already satisfied: psutil in /usr/local/lib/python3.10/dist-packages (from tfds-nightly->t5) (5.9.5)\n",
            "Requirement already satisfied: tensorflow-metadata in /usr/local/lib/python3.10/dist-packages (from tfds-nightly->t5) (1.13.1)\n",
            "Requirement already satisfied: termcolor in /usr/local/lib/python3.10/dist-packages (from tfds-nightly->t5) (2.3.0)\n",
            "Requirement already satisfied: toml in /usr/local/lib/python3.10/dist-packages (from tfds-nightly->t5) (0.10.2)\n",
            "Requirement already satisfied: wrapt in /usr/local/lib/python3.10/dist-packages (from tfds-nightly->t5) (1.14.1)\n",
            "Requirement already satisfied: importlib_resources in /usr/local/lib/python3.10/dist-packages (from etils[enp,epath]>=0.9.0->tfds-nightly->t5) (5.12.0)\n",
            "Requirement already satisfied: typing_extensions in /usr/local/lib/python3.10/dist-packages (from etils[enp,epath]>=0.9.0->tfds-nightly->t5) (4.5.0)\n",
            "Requirement already satisfied: zipp in /usr/local/lib/python3.10/dist-packages (from etils[enp,epath]>=0.9.0->tfds-nightly->t5) (3.15.0)\n",
            "Requirement already satisfied: fsspec in /usr/local/lib/python3.10/dist-packages (from huggingface-hub<1.0,>=0.14.1->transformers>=2.7.0->t5) (2023.4.0)\n",
            "Requirement already satisfied: urllib3<1.27,>=1.21.1 in /usr/local/lib/python3.10/dist-packages (from requests->transformers>=2.7.0->t5) (1.26.15)\n",
            "Requirement already satisfied: certifi>=2017.4.17 in /usr/local/lib/python3.10/dist-packages (from requests->transformers>=2.7.0->t5) (2022.12.7)\n",
            "Requirement already satisfied: charset-normalizer~=2.0.0 in /usr/local/lib/python3.10/dist-packages (from requests->transformers>=2.7.0->t5) (2.0.12)\n",
            "Requirement already satisfied: idna<4,>=2.5 in /usr/local/lib/python3.10/dist-packages (from requests->transformers>=2.7.0->t5) (3.4)\n",
            "Requirement already satisfied: flax in /usr/local/lib/python3.10/dist-packages (from clu->seqio-nightly->t5) (0.5.0)\n",
            "Requirement already satisfied: ml-collections in /usr/local/lib/python3.10/dist-packages (from clu->seqio-nightly->t5) (0.1.1)\n",
            "Requirement already satisfied: ml-dtypes>=0.1.0 in /usr/local/lib/python3.10/dist-packages (from jax->seqio-nightly->t5) (0.1.0)\n",
            "Requirement already satisfied: opt-einsum in /usr/local/lib/python3.10/dist-packages (from jax->seqio-nightly->t5) (3.3.0)\n",
            "Requirement already satisfied: googleapis-common-protos<2,>=1.52.0 in /usr/local/lib/python3.10/dist-packages (from tensorflow-metadata->tfds-nightly->t5) (1.59.0)\n",
            "Requirement already satisfied: tensorflow-hub>=0.8.0 in /usr/local/lib/python3.10/dist-packages (from tensorflow-text->seqio-nightly->t5) (0.13.0)\n",
            "Requirement already satisfied: tensorflow<2.13,>=2.12.0 in /usr/local/lib/python3.10/dist-packages (from tensorflow-text->seqio-nightly->t5) (2.12.0)\n",
            "Requirement already satisfied: astunparse>=1.6.0 in /usr/local/lib/python3.10/dist-packages (from tensorflow<2.13,>=2.12.0->tensorflow-text->seqio-nightly->t5) (1.6.3)\n",
            "Requirement already satisfied: flatbuffers>=2.0 in /usr/local/lib/python3.10/dist-packages (from tensorflow<2.13,>=2.12.0->tensorflow-text->seqio-nightly->t5) (23.3.3)\n",
            "Requirement already satisfied: gast<=0.4.0,>=0.2.1 in /usr/local/lib/python3.10/dist-packages (from tensorflow<2.13,>=2.12.0->tensorflow-text->seqio-nightly->t5) (0.4.0)\n",
            "Requirement already satisfied: google-pasta>=0.1.1 in /usr/local/lib/python3.10/dist-packages (from tensorflow<2.13,>=2.12.0->tensorflow-text->seqio-nightly->t5) (0.2.0)\n",
            "Requirement already satisfied: grpcio<2.0,>=1.24.3 in /usr/local/lib/python3.10/dist-packages (from tensorflow<2.13,>=2.12.0->tensorflow-text->seqio-nightly->t5) (1.54.0)\n",
            "Requirement already satisfied: h5py>=2.9.0 in /usr/local/lib/python3.10/dist-packages (from tensorflow<2.13,>=2.12.0->tensorflow-text->seqio-nightly->t5) (3.8.0)\n",
            "Requirement already satisfied: keras<2.13,>=2.12.0 in /usr/local/lib/python3.10/dist-packages (from tensorflow<2.13,>=2.12.0->tensorflow-text->seqio-nightly->t5) (2.12.0)\n",
            "Requirement already satisfied: libclang>=13.0.0 in /usr/local/lib/python3.10/dist-packages (from tensorflow<2.13,>=2.12.0->tensorflow-text->seqio-nightly->t5) (16.0.0)\n",
            "Requirement already satisfied: setuptools in /usr/local/lib/python3.10/dist-packages (from tensorflow<2.13,>=2.12.0->tensorflow-text->seqio-nightly->t5) (67.7.2)\n",
            "Requirement already satisfied: tensorboard<2.13,>=2.12 in /usr/local/lib/python3.10/dist-packages (from tensorflow<2.13,>=2.12.0->tensorflow-text->seqio-nightly->t5) (2.12.2)\n",
            "Requirement already satisfied: tensorflow-estimator<2.13,>=2.12.0 in /usr/local/lib/python3.10/dist-packages (from tensorflow<2.13,>=2.12.0->tensorflow-text->seqio-nightly->t5) (2.12.0)\n",
            "Requirement already satisfied: tensorflow-io-gcs-filesystem>=0.23.1 in /usr/local/lib/python3.10/dist-packages (from tensorflow<2.13,>=2.12.0->tensorflow-text->seqio-nightly->t5) (0.32.0)\n",
            "Requirement already satisfied: matplotlib in /usr/local/lib/python3.10/dist-packages (from flax->clu->seqio-nightly->t5) (3.7.1)\n",
            "Requirement already satisfied: msgpack in /usr/local/lib/python3.10/dist-packages (from flax->clu->seqio-nightly->t5) (1.0.5)\n",
            "Requirement already satisfied: optax in /usr/local/lib/python3.10/dist-packages (from flax->clu->seqio-nightly->t5) (0.1.5)\n",
            "Requirement already satisfied: contextlib2 in /usr/local/lib/python3.10/dist-packages (from ml-collections->clu->seqio-nightly->t5) (0.6.0.post1)\n",
            "Requirement already satisfied: wheel<1.0,>=0.23.0 in /usr/local/lib/python3.10/dist-packages (from astunparse>=1.6.0->tensorflow<2.13,>=2.12.0->tensorflow-text->seqio-nightly->t5) (0.40.0)\n",
            "Requirement already satisfied: google-auth<3,>=1.6.3 in /usr/local/lib/python3.10/dist-packages (from tensorboard<2.13,>=2.12->tensorflow<2.13,>=2.12.0->tensorflow-text->seqio-nightly->t5) (2.17.3)\n",
            "Requirement already satisfied: google-auth-oauthlib<1.1,>=0.5 in /usr/local/lib/python3.10/dist-packages (from tensorboard<2.13,>=2.12->tensorflow<2.13,>=2.12.0->tensorflow-text->seqio-nightly->t5) (1.0.0)\n",
            "Requirement already satisfied: markdown>=2.6.8 in /usr/local/lib/python3.10/dist-packages (from tensorboard<2.13,>=2.12->tensorflow<2.13,>=2.12.0->tensorflow-text->seqio-nightly->t5) (3.4.3)\n",
            "Requirement already satisfied: tensorboard-data-server<0.8.0,>=0.7.0 in /usr/local/lib/python3.10/dist-packages (from tensorboard<2.13,>=2.12->tensorflow<2.13,>=2.12.0->tensorflow-text->seqio-nightly->t5) (0.7.0)\n",
            "Requirement already satisfied: tensorboard-plugin-wit>=1.6.0 in /usr/local/lib/python3.10/dist-packages (from tensorboard<2.13,>=2.12->tensorflow<2.13,>=2.12.0->tensorflow-text->seqio-nightly->t5) (1.8.1)\n",
            "Requirement already satisfied: werkzeug>=1.0.1 in /usr/local/lib/python3.10/dist-packages (from tensorboard<2.13,>=2.12->tensorflow<2.13,>=2.12.0->tensorflow-text->seqio-nightly->t5) (2.3.0)\n",
            "Requirement already satisfied: contourpy>=1.0.1 in /usr/local/lib/python3.10/dist-packages (from matplotlib->flax->clu->seqio-nightly->t5) (1.0.7)\n",
            "Requirement already satisfied: cycler>=0.10 in /usr/local/lib/python3.10/dist-packages (from matplotlib->flax->clu->seqio-nightly->t5) (0.11.0)\n",
            "Requirement already satisfied: fonttools>=4.22.0 in /usr/local/lib/python3.10/dist-packages (from matplotlib->flax->clu->seqio-nightly->t5) (4.39.3)\n",
            "Requirement already satisfied: kiwisolver>=1.0.1 in /usr/local/lib/python3.10/dist-packages (from matplotlib->flax->clu->seqio-nightly->t5) (1.4.4)\n",
            "Requirement already satisfied: pillow>=6.2.0 in /usr/local/lib/python3.10/dist-packages (from matplotlib->flax->clu->seqio-nightly->t5) (8.4.0)\n",
            "Requirement already satisfied: pyparsing>=2.3.1 in /usr/local/lib/python3.10/dist-packages (from matplotlib->flax->clu->seqio-nightly->t5) (3.0.9)\n",
            "Requirement already satisfied: chex>=0.1.5 in /usr/local/lib/python3.10/dist-packages (from optax->flax->clu->seqio-nightly->t5) (0.1.7)\n",
            "Requirement already satisfied: toolz>=0.9.0 in /usr/local/lib/python3.10/dist-packages (from chex>=0.1.5->optax->flax->clu->seqio-nightly->t5) (0.12.0)\n",
            "Requirement already satisfied: cachetools<6.0,>=2.0.0 in /usr/local/lib/python3.10/dist-packages (from google-auth<3,>=1.6.3->tensorboard<2.13,>=2.12->tensorflow<2.13,>=2.12.0->tensorflow-text->seqio-nightly->t5) (5.3.0)\n",
            "Requirement already satisfied: pyasn1-modules>=0.2.1 in /usr/local/lib/python3.10/dist-packages (from google-auth<3,>=1.6.3->tensorboard<2.13,>=2.12->tensorflow<2.13,>=2.12.0->tensorflow-text->seqio-nightly->t5) (0.3.0)\n",
            "Requirement already satisfied: rsa<5,>=3.1.4 in /usr/local/lib/python3.10/dist-packages (from google-auth<3,>=1.6.3->tensorboard<2.13,>=2.12->tensorflow<2.13,>=2.12.0->tensorflow-text->seqio-nightly->t5) (4.9)\n",
            "Requirement already satisfied: requests-oauthlib>=0.7.0 in /usr/local/lib/python3.10/dist-packages (from google-auth-oauthlib<1.1,>=0.5->tensorboard<2.13,>=2.12->tensorflow<2.13,>=2.12.0->tensorflow-text->seqio-nightly->t5) (1.3.1)\n",
            "Requirement already satisfied: MarkupSafe>=2.1.1 in /usr/local/lib/python3.10/dist-packages (from werkzeug>=1.0.1->tensorboard<2.13,>=2.12->tensorflow<2.13,>=2.12.0->tensorflow-text->seqio-nightly->t5) (2.1.2)\n",
            "Requirement already satisfied: pyasn1<0.6.0,>=0.4.6 in /usr/local/lib/python3.10/dist-packages (from pyasn1-modules>=0.2.1->google-auth<3,>=1.6.3->tensorboard<2.13,>=2.12->tensorflow<2.13,>=2.12.0->tensorflow-text->seqio-nightly->t5) (0.5.0)\n",
            "Requirement already satisfied: oauthlib>=3.0.0 in /usr/local/lib/python3.10/dist-packages (from requests-oauthlib>=0.7.0->google-auth-oauthlib<1.1,>=0.5->tensorboard<2.13,>=2.12->tensorflow<2.13,>=2.12.0->tensorflow-text->seqio-nightly->t5) (3.2.2)\n",
            "Installing collected packages: t5\n",
            "Successfully installed t5-0.9.4\n"
          ]
        }
      ]
    },
    {
      "cell_type": "code",
      "source": [
        "!pip install immutabledict"
      ],
      "metadata": {
        "colab": {
          "base_uri": "https://localhost:8080/"
        },
        "id": "-XyZ1dRAns0i",
        "outputId": "0264a82a-03fc-4c18-a45e-61dba2ceae87"
      },
      "execution_count": 13,
      "outputs": [
        {
          "output_type": "stream",
          "name": "stdout",
          "text": [
            "Looking in indexes: https://pypi.org/simple, https://us-python.pkg.dev/colab-wheels/public/simple/\n",
            "Requirement already satisfied: immutabledict in /usr/local/lib/python3.10/dist-packages (2.2.4)\n"
          ]
        }
      ]
    },
    {
      "cell_type": "code",
      "source": [
        "!pip install git+https://github.com/deepmind/dmvr.git"
      ],
      "metadata": {
        "colab": {
          "base_uri": "https://localhost:8080/"
        },
        "id": "tMeX-kjQn0T4",
        "outputId": "da0693b3-6970-4af8-f390-f25b99aa2126"
      },
      "execution_count": 14,
      "outputs": [
        {
          "output_type": "stream",
          "name": "stdout",
          "text": [
            "Looking in indexes: https://pypi.org/simple, https://us-python.pkg.dev/colab-wheels/public/simple/\n",
            "Collecting git+https://github.com/deepmind/dmvr.git\n",
            "  Cloning https://github.com/deepmind/dmvr.git to /tmp/pip-req-build-dablwdbm\n",
            "  Running command git clone --filter=blob:none --quiet https://github.com/deepmind/dmvr.git /tmp/pip-req-build-dablwdbm\n",
            "  Resolved https://github.com/deepmind/dmvr.git to commit 77ccedaa084d29239eaeafddb0b2e83843b613a1\n",
            "  Preparing metadata (setup.py) ... \u001b[?25l\u001b[?25hdone\n",
            "Requirement already satisfied: absl-py in /usr/local/lib/python3.10/dist-packages (from dmvr==0.0.1) (1.4.0)\n",
            "Requirement already satisfied: sentencepiece in /usr/local/lib/python3.10/dist-packages (from dmvr==0.0.1) (0.1.99)\n",
            "Requirement already satisfied: tensorflow>=2.0.0 in /usr/local/lib/python3.10/dist-packages (from dmvr==0.0.1) (2.12.0)\n",
            "Requirement already satisfied: tensorflow_text>=2.0.0 in /usr/local/lib/python3.10/dist-packages (from dmvr==0.0.1) (2.12.1)\n",
            "Requirement already satisfied: astunparse>=1.6.0 in /usr/local/lib/python3.10/dist-packages (from tensorflow>=2.0.0->dmvr==0.0.1) (1.6.3)\n",
            "Requirement already satisfied: flatbuffers>=2.0 in /usr/local/lib/python3.10/dist-packages (from tensorflow>=2.0.0->dmvr==0.0.1) (23.3.3)\n",
            "Requirement already satisfied: gast<=0.4.0,>=0.2.1 in /usr/local/lib/python3.10/dist-packages (from tensorflow>=2.0.0->dmvr==0.0.1) (0.4.0)\n",
            "Requirement already satisfied: google-pasta>=0.1.1 in /usr/local/lib/python3.10/dist-packages (from tensorflow>=2.0.0->dmvr==0.0.1) (0.2.0)\n",
            "Requirement already satisfied: grpcio<2.0,>=1.24.3 in /usr/local/lib/python3.10/dist-packages (from tensorflow>=2.0.0->dmvr==0.0.1) (1.54.0)\n",
            "Requirement already satisfied: h5py>=2.9.0 in /usr/local/lib/python3.10/dist-packages (from tensorflow>=2.0.0->dmvr==0.0.1) (3.8.0)\n",
            "Requirement already satisfied: jax>=0.3.15 in /usr/local/lib/python3.10/dist-packages (from tensorflow>=2.0.0->dmvr==0.0.1) (0.4.10)\n",
            "Requirement already satisfied: keras<2.13,>=2.12.0 in /usr/local/lib/python3.10/dist-packages (from tensorflow>=2.0.0->dmvr==0.0.1) (2.12.0)\n",
            "Requirement already satisfied: libclang>=13.0.0 in /usr/local/lib/python3.10/dist-packages (from tensorflow>=2.0.0->dmvr==0.0.1) (16.0.0)\n",
            "Requirement already satisfied: numpy<1.24,>=1.22 in /usr/local/lib/python3.10/dist-packages (from tensorflow>=2.0.0->dmvr==0.0.1) (1.23.5)\n",
            "Requirement already satisfied: opt-einsum>=2.3.2 in /usr/local/lib/python3.10/dist-packages (from tensorflow>=2.0.0->dmvr==0.0.1) (3.3.0)\n",
            "Requirement already satisfied: packaging in /usr/local/lib/python3.10/dist-packages (from tensorflow>=2.0.0->dmvr==0.0.1) (23.1)\n",
            "Requirement already satisfied: protobuf!=4.21.0,!=4.21.1,!=4.21.2,!=4.21.3,!=4.21.4,!=4.21.5,<5.0.0dev,>=3.20.3 in /usr/local/lib/python3.10/dist-packages (from tensorflow>=2.0.0->dmvr==0.0.1) (3.20.3)\n",
            "Requirement already satisfied: setuptools in /usr/local/lib/python3.10/dist-packages (from tensorflow>=2.0.0->dmvr==0.0.1) (67.7.2)\n",
            "Requirement already satisfied: six>=1.12.0 in /usr/local/lib/python3.10/dist-packages (from tensorflow>=2.0.0->dmvr==0.0.1) (1.16.0)\n",
            "Requirement already satisfied: tensorboard<2.13,>=2.12 in /usr/local/lib/python3.10/dist-packages (from tensorflow>=2.0.0->dmvr==0.0.1) (2.12.2)\n",
            "Requirement already satisfied: tensorflow-estimator<2.13,>=2.12.0 in /usr/local/lib/python3.10/dist-packages (from tensorflow>=2.0.0->dmvr==0.0.1) (2.12.0)\n",
            "Requirement already satisfied: termcolor>=1.1.0 in /usr/local/lib/python3.10/dist-packages (from tensorflow>=2.0.0->dmvr==0.0.1) (2.3.0)\n",
            "Requirement already satisfied: typing-extensions>=3.6.6 in /usr/local/lib/python3.10/dist-packages (from tensorflow>=2.0.0->dmvr==0.0.1) (4.6.0)\n",
            "Requirement already satisfied: wrapt<1.15,>=1.11.0 in /usr/local/lib/python3.10/dist-packages (from tensorflow>=2.0.0->dmvr==0.0.1) (1.14.1)\n",
            "Requirement already satisfied: tensorflow-io-gcs-filesystem>=0.23.1 in /usr/local/lib/python3.10/dist-packages (from tensorflow>=2.0.0->dmvr==0.0.1) (0.32.0)\n",
            "Requirement already satisfied: tensorflow-hub>=0.8.0 in /usr/local/lib/python3.10/dist-packages (from tensorflow_text>=2.0.0->dmvr==0.0.1) (0.13.0)\n",
            "Requirement already satisfied: wheel<1.0,>=0.23.0 in /usr/local/lib/python3.10/dist-packages (from astunparse>=1.6.0->tensorflow>=2.0.0->dmvr==0.0.1) (0.40.0)\n",
            "Requirement already satisfied: ml-dtypes>=0.1.0 in /usr/local/lib/python3.10/dist-packages (from jax>=0.3.15->tensorflow>=2.0.0->dmvr==0.0.1) (0.1.0)\n",
            "Requirement already satisfied: scipy>=1.7 in /usr/local/lib/python3.10/dist-packages (from jax>=0.3.15->tensorflow>=2.0.0->dmvr==0.0.1) (1.10.1)\n",
            "Requirement already satisfied: google-auth<3,>=1.6.3 in /usr/local/lib/python3.10/dist-packages (from tensorboard<2.13,>=2.12->tensorflow>=2.0.0->dmvr==0.0.1) (2.17.3)\n",
            "Requirement already satisfied: google-auth-oauthlib<1.1,>=0.5 in /usr/local/lib/python3.10/dist-packages (from tensorboard<2.13,>=2.12->tensorflow>=2.0.0->dmvr==0.0.1) (1.0.0)\n",
            "Requirement already satisfied: markdown>=2.6.8 in /usr/local/lib/python3.10/dist-packages (from tensorboard<2.13,>=2.12->tensorflow>=2.0.0->dmvr==0.0.1) (3.4.3)\n",
            "Requirement already satisfied: requests<3,>=2.21.0 in /usr/local/lib/python3.10/dist-packages (from tensorboard<2.13,>=2.12->tensorflow>=2.0.0->dmvr==0.0.1) (2.27.1)\n",
            "Requirement already satisfied: tensorboard-data-server<0.8.0,>=0.7.0 in /usr/local/lib/python3.10/dist-packages (from tensorboard<2.13,>=2.12->tensorflow>=2.0.0->dmvr==0.0.1) (0.7.0)\n",
            "Requirement already satisfied: tensorboard-plugin-wit>=1.6.0 in /usr/local/lib/python3.10/dist-packages (from tensorboard<2.13,>=2.12->tensorflow>=2.0.0->dmvr==0.0.1) (1.8.1)\n",
            "Requirement already satisfied: werkzeug>=1.0.1 in /usr/local/lib/python3.10/dist-packages (from tensorboard<2.13,>=2.12->tensorflow>=2.0.0->dmvr==0.0.1) (2.3.0)\n",
            "Requirement already satisfied: cachetools<6.0,>=2.0.0 in /usr/local/lib/python3.10/dist-packages (from google-auth<3,>=1.6.3->tensorboard<2.13,>=2.12->tensorflow>=2.0.0->dmvr==0.0.1) (5.3.0)\n",
            "Requirement already satisfied: pyasn1-modules>=0.2.1 in /usr/local/lib/python3.10/dist-packages (from google-auth<3,>=1.6.3->tensorboard<2.13,>=2.12->tensorflow>=2.0.0->dmvr==0.0.1) (0.3.0)\n",
            "Requirement already satisfied: rsa<5,>=3.1.4 in /usr/local/lib/python3.10/dist-packages (from google-auth<3,>=1.6.3->tensorboard<2.13,>=2.12->tensorflow>=2.0.0->dmvr==0.0.1) (4.9)\n",
            "Requirement already satisfied: requests-oauthlib>=0.7.0 in /usr/local/lib/python3.10/dist-packages (from google-auth-oauthlib<1.1,>=0.5->tensorboard<2.13,>=2.12->tensorflow>=2.0.0->dmvr==0.0.1) (1.3.1)\n",
            "Requirement already satisfied: urllib3<1.27,>=1.21.1 in /usr/local/lib/python3.10/dist-packages (from requests<3,>=2.21.0->tensorboard<2.13,>=2.12->tensorflow>=2.0.0->dmvr==0.0.1) (1.26.15)\n",
            "Requirement already satisfied: certifi>=2017.4.17 in /usr/local/lib/python3.10/dist-packages (from requests<3,>=2.21.0->tensorboard<2.13,>=2.12->tensorflow>=2.0.0->dmvr==0.0.1) (2022.12.7)\n",
            "Requirement already satisfied: charset-normalizer~=2.0.0 in /usr/local/lib/python3.10/dist-packages (from requests<3,>=2.21.0->tensorboard<2.13,>=2.12->tensorflow>=2.0.0->dmvr==0.0.1) (2.0.12)\n",
            "Requirement already satisfied: idna<4,>=2.5 in /usr/local/lib/python3.10/dist-packages (from requests<3,>=2.21.0->tensorboard<2.13,>=2.12->tensorflow>=2.0.0->dmvr==0.0.1) (3.4)\n",
            "Requirement already satisfied: MarkupSafe>=2.1.1 in /usr/local/lib/python3.10/dist-packages (from werkzeug>=1.0.1->tensorboard<2.13,>=2.12->tensorflow>=2.0.0->dmvr==0.0.1) (2.1.2)\n",
            "Requirement already satisfied: pyasn1<0.6.0,>=0.4.6 in /usr/local/lib/python3.10/dist-packages (from pyasn1-modules>=0.2.1->google-auth<3,>=1.6.3->tensorboard<2.13,>=2.12->tensorflow>=2.0.0->dmvr==0.0.1) (0.5.0)\n",
            "Requirement already satisfied: oauthlib>=3.0.0 in /usr/local/lib/python3.10/dist-packages (from requests-oauthlib>=0.7.0->google-auth-oauthlib<1.1,>=0.5->tensorboard<2.13,>=2.12->tensorflow>=2.0.0->dmvr==0.0.1) (3.2.2)\n",
            "Building wheels for collected packages: dmvr\n",
            "  Building wheel for dmvr (setup.py) ... \u001b[?25l\u001b[?25hdone\n",
            "  Created wheel for dmvr: filename=dmvr-0.0.1-py3-none-any.whl size=68061 sha256=9e9a73929570628905c7664f176d3d3a8fac8ca5510b7b61a4f163dad9e29bc9\n",
            "  Stored in directory: /tmp/pip-ephem-wheel-cache-1h6d72at/wheels/64/fe/17/fef3f809691e275f145c69bd3f845174d4f9a30d588b544ad7\n",
            "Successfully built dmvr\n",
            "Installing collected packages: dmvr\n",
            "Successfully installed dmvr-0.0.1\n"
          ]
        }
      ]
    },
    {
      "cell_type": "code",
      "source": [
        "!pip install git+https://github.com/openai/CLIP.git"
      ],
      "metadata": {
        "colab": {
          "base_uri": "https://localhost:8080/"
        },
        "id": "N8GDZdMV_KYl",
        "outputId": "14073cf6-39f3-4cb9-8847-8793ef418253"
      },
      "execution_count": 15,
      "outputs": [
        {
          "output_type": "stream",
          "name": "stdout",
          "text": [
            "Looking in indexes: https://pypi.org/simple, https://us-python.pkg.dev/colab-wheels/public/simple/\n",
            "Collecting git+https://github.com/openai/CLIP.git\n",
            "  Cloning https://github.com/openai/CLIP.git to /tmp/pip-req-build-so_zs9qi\n",
            "  Running command git clone --filter=blob:none --quiet https://github.com/openai/CLIP.git /tmp/pip-req-build-so_zs9qi\n",
            "  Resolved https://github.com/openai/CLIP.git to commit a9b1bf5920416aaeaec965c25dd9e8f98c864f16\n",
            "  Preparing metadata (setup.py) ... \u001b[?25l\u001b[?25hdone\n",
            "Collecting ftfy (from clip==1.0)\n",
            "  Downloading ftfy-6.1.1-py3-none-any.whl (53 kB)\n",
            "\u001b[2K     \u001b[90m━━━━━━━━━━━━━━━━━━━━━━━━━━━━━━━━━━━━━━━━\u001b[0m \u001b[32m53.1/53.1 kB\u001b[0m \u001b[31m4.5 MB/s\u001b[0m eta \u001b[36m0:00:00\u001b[0m\n",
            "\u001b[?25hRequirement already satisfied: regex in /usr/local/lib/python3.10/dist-packages (from clip==1.0) (2022.10.31)\n",
            "Requirement already satisfied: tqdm in /usr/local/lib/python3.10/dist-packages (from clip==1.0) (4.65.0)\n",
            "Requirement already satisfied: torch in /usr/local/lib/python3.10/dist-packages (from clip==1.0) (2.0.1+cu118)\n",
            "Requirement already satisfied: torchvision in /usr/local/lib/python3.10/dist-packages (from clip==1.0) (0.15.2+cu118)\n",
            "Requirement already satisfied: wcwidth>=0.2.5 in /usr/local/lib/python3.10/dist-packages (from ftfy->clip==1.0) (0.2.6)\n",
            "Requirement already satisfied: filelock in /usr/local/lib/python3.10/dist-packages (from torch->clip==1.0) (3.12.0)\n",
            "Requirement already satisfied: typing-extensions in /usr/local/lib/python3.10/dist-packages (from torch->clip==1.0) (4.6.0)\n",
            "Requirement already satisfied: sympy in /usr/local/lib/python3.10/dist-packages (from torch->clip==1.0) (1.11.1)\n",
            "Requirement already satisfied: networkx in /usr/local/lib/python3.10/dist-packages (from torch->clip==1.0) (3.1)\n",
            "Requirement already satisfied: jinja2 in /usr/local/lib/python3.10/dist-packages (from torch->clip==1.0) (3.1.2)\n",
            "Requirement already satisfied: triton==2.0.0 in /usr/local/lib/python3.10/dist-packages (from torch->clip==1.0) (2.0.0)\n",
            "Requirement already satisfied: cmake in /usr/local/lib/python3.10/dist-packages (from triton==2.0.0->torch->clip==1.0) (3.25.2)\n",
            "Requirement already satisfied: lit in /usr/local/lib/python3.10/dist-packages (from triton==2.0.0->torch->clip==1.0) (16.0.5)\n",
            "Requirement already satisfied: numpy in /usr/local/lib/python3.10/dist-packages (from torchvision->clip==1.0) (1.23.5)\n",
            "Requirement already satisfied: requests in /usr/local/lib/python3.10/dist-packages (from torchvision->clip==1.0) (2.27.1)\n",
            "Requirement already satisfied: pillow!=8.3.*,>=5.3.0 in /usr/local/lib/python3.10/dist-packages (from torchvision->clip==1.0) (8.4.0)\n",
            "Requirement already satisfied: MarkupSafe>=2.0 in /usr/local/lib/python3.10/dist-packages (from jinja2->torch->clip==1.0) (2.1.2)\n",
            "Requirement already satisfied: urllib3<1.27,>=1.21.1 in /usr/local/lib/python3.10/dist-packages (from requests->torchvision->clip==1.0) (1.26.15)\n",
            "Requirement already satisfied: certifi>=2017.4.17 in /usr/local/lib/python3.10/dist-packages (from requests->torchvision->clip==1.0) (2022.12.7)\n",
            "Requirement already satisfied: charset-normalizer~=2.0.0 in /usr/local/lib/python3.10/dist-packages (from requests->torchvision->clip==1.0) (2.0.12)\n",
            "Requirement already satisfied: idna<4,>=2.5 in /usr/local/lib/python3.10/dist-packages (from requests->torchvision->clip==1.0) (3.4)\n",
            "Requirement already satisfied: mpmath>=0.19 in /usr/local/lib/python3.10/dist-packages (from sympy->torch->clip==1.0) (1.3.0)\n",
            "Building wheels for collected packages: clip\n",
            "  Building wheel for clip (setup.py) ... \u001b[?25l\u001b[?25hdone\n",
            "  Created wheel for clip: filename=clip-1.0-py3-none-any.whl size=1369370 sha256=56caf91873e445ade998ca19e3417b27aab2953ff0fce2bd664a7365b3d4ddd4\n",
            "  Stored in directory: /tmp/pip-ephem-wheel-cache-o_650z_x/wheels/da/2b/4c/d6691fa9597aac8bb85d2ac13b112deb897d5b50f5ad9a37e4\n",
            "Successfully built clip\n",
            "Installing collected packages: ftfy, clip\n",
            "Successfully installed clip-1.0 ftfy-6.1.1\n"
          ]
        }
      ]
    },
    {
      "cell_type": "code",
      "source": [
        "# 자바 설치 관련 이슈 (런타임 초기화, 하드웨어 가속기 설정 None)"
      ],
      "metadata": {
        "id": "bibLv5nRAWo2"
      },
      "execution_count": 24,
      "outputs": []
    },
    {
      "cell_type": "code",
      "source": [
        "!pwd"
      ],
      "metadata": {
        "colab": {
          "base_uri": "https://localhost:8080/"
        },
        "id": "yHuKyfb8Vrvg",
        "outputId": "5e63ac8a-8ad5-4d0a-fea9-37ba3f7caf23"
      },
      "execution_count": 1,
      "outputs": [
        {
          "output_type": "stream",
          "name": "stdout",
          "text": [
            "/content\n"
          ]
        }
      ]
    },
    {
      "cell_type": "code",
      "source": [
        "#!apt-get install -y openjdk-11-jdk-headless"
      ],
      "metadata": {
        "colab": {
          "base_uri": "https://localhost:8080/"
        },
        "id": "F4ileVwWVaT7",
        "outputId": "d7c98b34-b931-407a-d279-1ec3abbf95b6"
      },
      "execution_count": 2,
      "outputs": [
        {
          "output_type": "stream",
          "name": "stdout",
          "text": [
            "Reading package lists... Done\n",
            "Building dependency tree       \n",
            "Reading state information... Done\n",
            "openjdk-11-jdk-headless is already the newest version (11.0.19+7~us1-0ubuntu1~20.04.1).\n",
            "0 upgraded, 0 newly installed, 0 to remove and 24 not upgraded.\n"
          ]
        }
      ]
    },
    {
      "cell_type": "code",
      "source": [
        "# import os\n",
        "# os.environ['JAVA_HOME'] = '/usr/lib/jvm/java-11-openjdk-amd64'"
      ],
      "metadata": {
        "colab": {
          "base_uri": "https://localhost:8080/",
          "height": 312
        },
        "id": "gr_ceu8UWBEO",
        "outputId": "147aa3f7-dafa-4130-9dfa-659d878ae99c"
      },
      "execution_count": 3,
      "outputs": [
        {
          "output_type": "error",
          "ename": "KeyError",
          "evalue": "ignored",
          "traceback": [
            "\u001b[0;31m---------------------------------------------------------------------------\u001b[0m",
            "\u001b[0;31mKeyError\u001b[0m                                  Traceback (most recent call last)",
            "\u001b[0;32m<ipython-input-3-71cc7a288b83>\u001b[0m in \u001b[0;36m<cell line: 2>\u001b[0;34m()\u001b[0m\n\u001b[1;32m      1\u001b[0m \u001b[0;32mimport\u001b[0m \u001b[0mos\u001b[0m\u001b[0;34m\u001b[0m\u001b[0;34m\u001b[0m\u001b[0m\n\u001b[0;32m----> 2\u001b[0;31m \u001b[0mos\u001b[0m\u001b[0;34m.\u001b[0m\u001b[0menviron\u001b[0m\u001b[0;34m[\u001b[0m\u001b[0;34m'JAVA_HOME'\u001b[0m\u001b[0;34m]\u001b[0m \u001b[0;31m#= '/usr/lib/jvm/java-11-openjdk-amd64'\u001b[0m\u001b[0;34m\u001b[0m\u001b[0;34m\u001b[0m\u001b[0m\n\u001b[0m",
            "\u001b[0;32m/usr/lib/python3.10/os.py\u001b[0m in \u001b[0;36m__getitem__\u001b[0;34m(self, key)\u001b[0m\n\u001b[1;32m    678\u001b[0m         \u001b[0;32mexcept\u001b[0m \u001b[0mKeyError\u001b[0m\u001b[0;34m:\u001b[0m\u001b[0;34m\u001b[0m\u001b[0;34m\u001b[0m\u001b[0m\n\u001b[1;32m    679\u001b[0m             \u001b[0;31m# raise KeyError with the original key value\u001b[0m\u001b[0;34m\u001b[0m\u001b[0;34m\u001b[0m\u001b[0m\n\u001b[0;32m--> 680\u001b[0;31m             \u001b[0;32mraise\u001b[0m \u001b[0mKeyError\u001b[0m\u001b[0;34m(\u001b[0m\u001b[0mkey\u001b[0m\u001b[0;34m)\u001b[0m \u001b[0;32mfrom\u001b[0m \u001b[0;32mNone\u001b[0m\u001b[0;34m\u001b[0m\u001b[0;34m\u001b[0m\u001b[0m\n\u001b[0m\u001b[1;32m    681\u001b[0m         \u001b[0;32mreturn\u001b[0m \u001b[0mself\u001b[0m\u001b[0;34m.\u001b[0m\u001b[0mdecodevalue\u001b[0m\u001b[0;34m(\u001b[0m\u001b[0mvalue\u001b[0m\u001b[0;34m)\u001b[0m\u001b[0;34m\u001b[0m\u001b[0;34m\u001b[0m\u001b[0m\n\u001b[1;32m    682\u001b[0m \u001b[0;34m\u001b[0m\u001b[0m\n",
            "\u001b[0;31mKeyError\u001b[0m: 'JAVA_HOME'"
          ]
        }
      ]
    },
    {
      "cell_type": "code",
      "source": [
        "import os       #importing os to set environment variable\n",
        "def install_java():\n",
        "  !apt-get install -y openjdk-11-jdk-headless -qq > /dev/null      #install openjdk\n",
        "  os.environ['JAVA_HOME'] = '/usr/lib/jvm/java-11-openjdk-amd64'     #set environment variable\n",
        "  !java -version       #check java version\n",
        "install_java()"
      ],
      "metadata": {
        "colab": {
          "base_uri": "https://localhost:8080/"
        },
        "id": "2z6rQXx5X8AM",
        "outputId": "4e7b04e0-346a-4bf9-a123-438527352559"
      },
      "execution_count": 2,
      "outputs": [
        {
          "output_type": "stream",
          "name": "stdout",
          "text": [
            "openjdk version \"11.0.19\" 2023-04-18\n",
            "OpenJDK Runtime Environment (build 11.0.19+7-post-Ubuntu-0ubuntu120.04.1)\n",
            "OpenJDK 64-Bit Server VM (build 11.0.19+7-post-Ubuntu-0ubuntu120.04.1, mixed mode, sharing)\n"
          ]
        }
      ]
    },
    {
      "cell_type": "code",
      "source": [
        "# FOLDERNAME = '/content/drive/MyDrive/scenic/scenic/projects/vid2seq'\n",
        "\n",
        "# assert FOLDERNAME is not None, \"[!] Enter the foldername.\"\n",
        "\n",
        "# %cd /content/drive/MyDrive/\n",
        "# %ls\n",
        "# %cp -r $FOLDERNAME ../../\n",
        "# %cd ../../"
      ],
      "metadata": {
        "colab": {
          "base_uri": "https://localhost:8080/"
        },
        "id": "CTTG03FHa86I",
        "outputId": "98ec996e-cea5-4e97-b450-b39663a061e5"
      },
      "execution_count": 12,
      "outputs": [
        {
          "output_type": "stream",
          "name": "stdout",
          "text": [
            "/content/drive/MyDrive\n",
            " 02_sample.txt               \u001b[0m\u001b[01;34m대학\u001b[0m/\n",
            "'1반 3팀 랜딩페이지.gsite'  '서비스 이용 의향에 대한 설문조사.gform'\n",
            " \u001b[01;34mcheckpoint_1000000\u001b[0m/        '언어와문명 기말 레포트.docx'\n",
            " \u001b[01;34mClassroom\u001b[0m/                 '예금 가입 여부 예측 프로젝트_이민재.gdoc'\n",
            "\u001b[01;34m'Colab Notebooks'\u001b[0m/          '인사윤 독서토론 ppt.pdf'\n",
            " \u001b[01;34mPDVC\u001b[0m/                      '인사윤 독서토론 ppt.pptx'\n",
            " \u001b[01;34mscenic\u001b[0m/                     프로젝트.gsite\n",
            " \u001b[01;34m기타\u001b[0m/\n",
            "/content\n"
          ]
        }
      ]
    },
    {
      "cell_type": "code",
      "source": [
        "# with open('content/drive/MyDrive/scenic/scenic/projects/vid2seq/main.py', 'w') as f:\n",
        "#   f.write(''.join(open(files).readlines()))"
      ],
      "metadata": {
        "colab": {
          "base_uri": "https://localhost:8080/",
          "height": 240
        },
        "id": "bIOTFLLSa-cm",
        "outputId": "14fd5507-1d7a-4316-e210-df9c60d756b3"
      },
      "execution_count": 16,
      "outputs": [
        {
          "output_type": "error",
          "ename": "FileNotFoundError",
          "evalue": "ignored",
          "traceback": [
            "\u001b[0;31m---------------------------------------------------------------------------\u001b[0m",
            "\u001b[0;31mFileNotFoundError\u001b[0m                         Traceback (most recent call last)",
            "\u001b[0;32m<ipython-input-16-4e0358dd45be>\u001b[0m in \u001b[0;36m<cell line: 5>\u001b[0;34m()\u001b[0m\n\u001b[1;32m      4\u001b[0m \u001b[0;34m\u001b[0m\u001b[0m\n\u001b[1;32m      5\u001b[0m \u001b[0;32mfor\u001b[0m \u001b[0mfiles\u001b[0m \u001b[0;32min\u001b[0m \u001b[0mFILES_TO_SAVE\u001b[0m\u001b[0;34m:\u001b[0m\u001b[0;34m\u001b[0m\u001b[0;34m\u001b[0m\u001b[0m\n\u001b[0;32m----> 6\u001b[0;31m   \u001b[0;32mwith\u001b[0m \u001b[0mopen\u001b[0m\u001b[0;34m(\u001b[0m\u001b[0mos\u001b[0m\u001b[0;34m.\u001b[0m\u001b[0mpath\u001b[0m\u001b[0;34m.\u001b[0m\u001b[0mjoin\u001b[0m\u001b[0;34m(\u001b[0m\u001b[0mFOLDER_TO_SAVE\u001b[0m\u001b[0;34m,\u001b[0m \u001b[0;34m'/'\u001b[0m\u001b[0;34m.\u001b[0m\u001b[0mjoin\u001b[0m\u001b[0;34m(\u001b[0m\u001b[0mfiles\u001b[0m\u001b[0;34m.\u001b[0m\u001b[0msplit\u001b[0m\u001b[0;34m(\u001b[0m\u001b[0;34m'/'\u001b[0m\u001b[0;34m)\u001b[0m\u001b[0;34m[\u001b[0m\u001b[0;36m1\u001b[0m\u001b[0;34m:\u001b[0m\u001b[0;34m]\u001b[0m\u001b[0;34m)\u001b[0m\u001b[0;34m)\u001b[0m\u001b[0;34m,\u001b[0m \u001b[0;34m'w'\u001b[0m\u001b[0;34m)\u001b[0m \u001b[0;32mas\u001b[0m \u001b[0mf\u001b[0m\u001b[0;34m:\u001b[0m\u001b[0;34m\u001b[0m\u001b[0;34m\u001b[0m\u001b[0m\n\u001b[0m\u001b[1;32m      7\u001b[0m     \u001b[0mf\u001b[0m\u001b[0;34m.\u001b[0m\u001b[0mwrite\u001b[0m\u001b[0;34m(\u001b[0m\u001b[0;34m''\u001b[0m\u001b[0;34m.\u001b[0m\u001b[0mjoin\u001b[0m\u001b[0;34m(\u001b[0m\u001b[0mopen\u001b[0m\u001b[0;34m(\u001b[0m\u001b[0mfiles\u001b[0m\u001b[0;34m)\u001b[0m\u001b[0;34m.\u001b[0m\u001b[0mreadlines\u001b[0m\u001b[0;34m(\u001b[0m\u001b[0;34m)\u001b[0m\u001b[0;34m)\u001b[0m\u001b[0;34m)\u001b[0m\u001b[0;34m\u001b[0m\u001b[0;34m\u001b[0m\u001b[0m\n",
            "\u001b[0;31mFileNotFoundError\u001b[0m: [Errno 2] No such file or directory: '/content/drive/MyDrive/scenic/scenic/projects/vid2seq/content/drive/MyDrive/scenic/scenic/projects/vid2seq/main.py'"
          ]
        }
      ]
    },
    {
      "cell_type": "code",
      "source": [],
      "metadata": {
        "id": "UHDJ-qhUciHF"
      },
      "execution_count": null,
      "outputs": []
    }
  ]
}